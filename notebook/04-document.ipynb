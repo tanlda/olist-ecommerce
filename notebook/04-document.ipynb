{
 "cells": [
  {
   "cell_type": "code",
   "execution_count": 1,
   "id": "4ed7ba6f-b1ed-4943-869c-8896c6f92a90",
   "metadata": {},
   "outputs": [],
   "source": [
    "%run utils.ipynb\n",
    "\n",
    "from datetime import datetime, timedelta"
   ]
  },
  {
   "cell_type": "code",
   "execution_count": 6,
   "id": "0c59c4f4-c5ec-43ed-9df3-d1a86b100061",
   "metadata": {},
   "outputs": [
    {
     "data": {
      "text/plain": [
       "[{'order_id': 'ec7a019261fce44180373d45b442d78f',\n",
       "  'review_id': '5f45d6aa32336fa26cbc254721c81880',\n",
       "  'review_answer_timestamp': datetime.datetime(2017, 1, 13, 20, 22, 46),\n",
       "  'review_comment_message': 'I really loved the product! Super recommend the store. I received much before deadline and everything came as expected. I really loved and recommend to everyone in stark.',\n",
       "  'review_comment_title': None,\n",
       "  'review_creation_date': datetime.datetime(2017, 1, 12, 0, 0),\n",
       "  'review_score': 5},\n",
       " {'order_id': 'e1fe072ef14b519af1f0a8ed997c1301',\n",
       "  'review_id': '49180505e856dbdac671d368b5135201',\n",
       "  'review_answer_timestamp': datetime.datetime(2017, 1, 13, 22, 36, 29),\n",
       "  'review_comment_message': 'Shop recommended, product was as advertised and delivery was very fast.',\n",
       "  'review_comment_title': None,\n",
       "  'review_creation_date': datetime.datetime(2017, 1, 13, 0, 0),\n",
       "  'review_score': 5},\n",
       " {'order_id': 'bf44408de1d05eef70fb026ba64a90ea',\n",
       "  'review_id': 'f23f447888d495a473a8e569ccd5b114',\n",
       "  'review_answer_timestamp': datetime.datetime(2017, 1, 13, 21, 7, 9),\n",
       "  'review_comment_message': None,\n",
       "  'review_comment_title': None,\n",
       "  'review_creation_date': datetime.datetime(2017, 1, 13, 0, 0),\n",
       "  'review_score': 5},\n",
       " {'order_id': 'f53b39c6c91ce86717c15d8e4e5da0c2',\n",
       "  'review_id': '002fbdbf4b1671be0127c601abb17f11',\n",
       "  'review_answer_timestamp': datetime.datetime(2017, 1, 14, 11, 20, 25),\n",
       "  'review_comment_message': 'The product arrived with quite antescedencia and I was very happy about it. Thank you',\n",
       "  'review_comment_title': None,\n",
       "  'review_creation_date': datetime.datetime(2017, 1, 13, 0, 0),\n",
       "  'review_score': 5},\n",
       " {'order_id': '765442de6466c0bb079c22b8b20e0eab',\n",
       "  'review_id': 'bcf66c6bd6f84ba225c62699ff374999',\n",
       "  'review_answer_timestamp': datetime.datetime(2017, 1, 14, 20, 7, 42),\n",
       "  'review_comment_message': None,\n",
       "  'review_comment_title': None,\n",
       "  'review_creation_date': datetime.datetime(2017, 1, 14, 0, 0),\n",
       "  'review_score': 5}]"
      ]
     },
     "execution_count": 6,
     "metadata": {},
     "output_type": "execute_result"
    }
   ],
   "source": [
    "client = get_document()\n",
    "database = client[\"ecommerce\"]\n",
    "collection = database[\"order_reviews\"]\n",
    "reviews = collection.find({}, {\"_id\": 0}).limit(5)\n",
    "reviews = list(reviews)\n",
    "reviews"
   ]
  },
  {
   "cell_type": "code",
   "execution_count": 7,
   "id": "0e86db47-1dc3-47b7-a031-d4baed44f52c",
   "metadata": {},
   "outputs": [
    {
     "data": {
      "text/html": [
       "<div><style>\n",
       ".dataframe > thead > tr,\n",
       ".dataframe > tbody > tr {\n",
       "  text-align: right;\n",
       "  white-space: pre-wrap;\n",
       "}\n",
       "</style>\n",
       "<small>shape: (5, 7)</small><table border=\"1\" class=\"dataframe\"><thead><tr><th>order_id</th><th>review_id</th><th>review_answer_timestamp</th><th>review_comment_message</th><th>review_comment_title</th><th>review_creation_date</th><th>review_score</th></tr><tr><td>str</td><td>str</td><td>datetime[μs]</td><td>str</td><td>null</td><td>datetime[μs]</td><td>i64</td></tr></thead><tbody><tr><td>&quot;ec7a019261fce44180373d45b442d7…</td><td>&quot;5f45d6aa32336fa26cbc254721c818…</td><td>2017-01-13 20:22:46</td><td>&quot;I really loved the product! Su…</td><td>null</td><td>2017-01-12 00:00:00</td><td>5</td></tr><tr><td>&quot;e1fe072ef14b519af1f0a8ed997c13…</td><td>&quot;49180505e856dbdac671d368b51352…</td><td>2017-01-13 22:36:29</td><td>&quot;Shop recommended, product was …</td><td>null</td><td>2017-01-13 00:00:00</td><td>5</td></tr><tr><td>&quot;bf44408de1d05eef70fb026ba64a90…</td><td>&quot;f23f447888d495a473a8e569ccd5b1…</td><td>2017-01-13 21:07:09</td><td>null</td><td>null</td><td>2017-01-13 00:00:00</td><td>5</td></tr><tr><td>&quot;f53b39c6c91ce86717c15d8e4e5da0…</td><td>&quot;002fbdbf4b1671be0127c601abb17f…</td><td>2017-01-14 11:20:25</td><td>&quot;The product arrived with quite…</td><td>null</td><td>2017-01-13 00:00:00</td><td>5</td></tr><tr><td>&quot;765442de6466c0bb079c22b8b20e0e…</td><td>&quot;bcf66c6bd6f84ba225c62699ff3749…</td><td>2017-01-14 20:07:42</td><td>null</td><td>null</td><td>2017-01-14 00:00:00</td><td>5</td></tr></tbody></table></div>"
      ],
      "text/plain": [
       "shape: (5, 7)\n",
       "┌──────────────┬─────────────┬─────────────┬─────────────┬─────────────┬─────────────┬─────────────┐\n",
       "│ order_id     ┆ review_id   ┆ review_answ ┆ review_comm ┆ review_comm ┆ review_crea ┆ review_scor │\n",
       "│ ---          ┆ ---         ┆ er_timestam ┆ ent_message ┆ ent_title   ┆ tion_date   ┆ e           │\n",
       "│ str          ┆ str         ┆ p           ┆ ---         ┆ ---         ┆ ---         ┆ ---         │\n",
       "│              ┆             ┆ ---         ┆ str         ┆ null        ┆ datetime[μs ┆ i64         │\n",
       "│              ┆             ┆ datetime[μs ┆             ┆             ┆ ]           ┆             │\n",
       "│              ┆             ┆ ]           ┆             ┆             ┆             ┆             │\n",
       "╞══════════════╪═════════════╪═════════════╪═════════════╪═════════════╪═════════════╪═════════════╡\n",
       "│ ec7a019261fc ┆ 5f45d6aa323 ┆ 2017-01-13  ┆ I really    ┆ null        ┆ 2017-01-12  ┆ 5           │\n",
       "│ e44180373d45 ┆ 36fa26cbc25 ┆ 20:22:46    ┆ loved the   ┆             ┆ 00:00:00    ┆             │\n",
       "│ b442d7…      ┆ 4721c818…   ┆             ┆ product!    ┆             ┆             ┆             │\n",
       "│              ┆             ┆             ┆ Su…         ┆             ┆             ┆             │\n",
       "│ e1fe072ef14b ┆ 49180505e85 ┆ 2017-01-13  ┆ Shop recomm ┆ null        ┆ 2017-01-13  ┆ 5           │\n",
       "│ 519af1f0a8ed ┆ 6dbdac671d3 ┆ 22:36:29    ┆ ended,      ┆             ┆ 00:00:00    ┆             │\n",
       "│ 997c13…      ┆ 68b51352…   ┆             ┆ product was ┆             ┆             ┆             │\n",
       "│              ┆             ┆             ┆ …           ┆             ┆             ┆             │\n",
       "│ bf44408de1d0 ┆ f23f447888d ┆ 2017-01-13  ┆ null        ┆ null        ┆ 2017-01-13  ┆ 5           │\n",
       "│ 5eef70fb026b ┆ 495a473a8e5 ┆ 21:07:09    ┆             ┆             ┆ 00:00:00    ┆             │\n",
       "│ a64a90…      ┆ 69ccd5b1…   ┆             ┆             ┆             ┆             ┆             │\n",
       "│ f53b39c6c91c ┆ 002fbdbf4b1 ┆ 2017-01-14  ┆ The product ┆ null        ┆ 2017-01-13  ┆ 5           │\n",
       "│ e86717c15d8e ┆ 671be0127c6 ┆ 11:20:25    ┆ arrived     ┆             ┆ 00:00:00    ┆             │\n",
       "│ 4e5da0…      ┆ 01abb17f…   ┆             ┆ with quite… ┆             ┆             ┆             │\n",
       "│ 765442de6466 ┆ bcf66c6bd6f ┆ 2017-01-14  ┆ null        ┆ null        ┆ 2017-01-14  ┆ 5           │\n",
       "│ c0bb079c22b8 ┆ 84ba225c626 ┆ 20:07:42    ┆             ┆             ┆ 00:00:00    ┆             │\n",
       "│ b20e0e…      ┆ 99ff3749…   ┆             ┆             ┆             ┆             ┆             │\n",
       "└──────────────┴─────────────┴─────────────┴─────────────┴─────────────┴─────────────┴─────────────┘"
      ]
     },
     "execution_count": 7,
     "metadata": {},
     "output_type": "execute_result"
    }
   ],
   "source": [
    "pl.DataFrame(reviews)"
   ]
  },
  {
   "cell_type": "code",
   "execution_count": 10,
   "id": "88e26007-33f1-448e-a1d5-cd9ece12ea00",
   "metadata": {},
   "outputs": [
    {
     "data": {
      "text/html": [
       "<div><style>\n",
       ".dataframe > thead > tr,\n",
       ".dataframe > tbody > tr {\n",
       "  text-align: right;\n",
       "  white-space: pre-wrap;\n",
       "}\n",
       "</style>\n",
       "<small>shape: (1, 8)</small><table border=\"1\" class=\"dataframe\"><thead><tr><th>_id</th><th>order_id</th><th>review_id</th><th>review_answer_timestamp</th><th>review_comment_message</th><th>review_comment_title</th><th>review_creation_date</th><th>review_score</th></tr><tr><td>object</td><td>str</td><td>str</td><td>datetime[μs]</td><td>str</td><td>null</td><td>datetime[μs]</td><td>i64</td></tr></thead><tbody><tr><td>66aa4bdfa54bc3009389becf</td><td>&quot;ec7a019261fce44180373d45b442d7…</td><td>&quot;5f45d6aa32336fa26cbc254721c818…</td><td>2017-01-13 20:22:46</td><td>&quot;I really loved the product! Su…</td><td>null</td><td>2017-01-12 00:00:00</td><td>5</td></tr></tbody></table></div>"
      ],
      "text/plain": [
       "shape: (1, 8)\n",
       "┌────────────┬────────────┬────────────┬───────────┬───────────┬───────────┬───────────┬───────────┐\n",
       "│ _id        ┆ order_id   ┆ review_id  ┆ review_an ┆ review_co ┆ review_co ┆ review_cr ┆ review_sc │\n",
       "│ ---        ┆ ---        ┆ ---        ┆ swer_time ┆ mment_mes ┆ mment_tit ┆ eation_da ┆ ore       │\n",
       "│ object     ┆ str        ┆ str        ┆ stamp     ┆ sage      ┆ le        ┆ te        ┆ ---       │\n",
       "│            ┆            ┆            ┆ ---       ┆ ---       ┆ ---       ┆ ---       ┆ i64       │\n",
       "│            ┆            ┆            ┆ datetime[ ┆ str       ┆ null      ┆ datetime[ ┆           │\n",
       "│            ┆            ┆            ┆ μs]       ┆           ┆           ┆ μs]       ┆           │\n",
       "╞════════════╪════════════╪════════════╪═══════════╪═══════════╪═══════════╪═══════════╪═══════════╡\n",
       "│ 66aa4bdfa5 ┆ ec7a019261 ┆ 5f45d6aa32 ┆ 2017-01-1 ┆ I really  ┆ null      ┆ 2017-01-1 ┆ 5         │\n",
       "│ 4bc3009389 ┆ fce4418037 ┆ 336fa26cbc ┆ 3         ┆ loved the ┆           ┆ 2         ┆           │\n",
       "│ becf       ┆ 3d45b442d7 ┆ 254721c818 ┆ 20:22:46  ┆ product!  ┆           ┆ 00:00:00  ┆           │\n",
       "│            ┆ …          ┆ …          ┆           ┆ Su…       ┆           ┆           ┆           │\n",
       "└────────────┴────────────┴────────────┴───────────┴───────────┴───────────┴───────────┴───────────┘"
      ]
     },
     "execution_count": 10,
     "metadata": {},
     "output_type": "execute_result"
    }
   ],
   "source": [
    "date_cursor = \"2017-01-12\"\n",
    "start = datetime.strptime(date_cursor, \"%Y-%m-%d\")\n",
    "records = collection.find({\"review_creation_date\": {\n",
    "    \"$gte\": start,\n",
    "    \"$lt\": start + timedelta(days=1),\n",
    "}})\n",
    "df = pl.DataFrame(records)\n",
    "df"
   ]
  },
  {
   "cell_type": "code",
   "execution_count": 11,
   "id": "826d5a3a-28d6-4c9f-9d0b-6718ff19aac3",
   "metadata": {},
   "outputs": [
    {
     "data": {
      "text/html": [
       "<div><style>\n",
       ".dataframe > thead > tr,\n",
       ".dataframe > tbody > tr {\n",
       "  text-align: right;\n",
       "  white-space: pre-wrap;\n",
       "}\n",
       "</style>\n",
       "<small>shape: (99_224, 7)</small><table border=\"1\" class=\"dataframe\"><thead><tr><th>review_id</th><th>order_id</th><th>review_score</th><th>review_comment_title</th><th>review_comment_message</th><th>review_creation_date</th><th>review_answer_timestamp</th></tr><tr><td>str</td><td>str</td><td>i64</td><td>str</td><td>str</td><td>str</td><td>str</td></tr></thead><tbody><tr><td>&quot;69ac6a27fde9855ebeaaecac0f7805…</td><td>&quot;809a282bbd5dbcabb6f2f724fca862…</td><td>1</td><td>null</td><td>&quot;MEU PEDIDO NÃO FOI ENTREGUE E …</td><td>&quot;2016-10-02 00:00:00&quot;</td><td>&quot;2016-10-26 12:31:00&quot;</td></tr><tr><td>&quot;6916ca4502d6d3bfd39818759d55d5…</td><td>&quot;bfbd0f9bdef84302105ad712db648a…</td><td>1</td><td>null</td><td>&quot;nao recebi o produto e nem res…</td><td>&quot;2016-10-06 00:00:00&quot;</td><td>&quot;2016-10-07 18:32:28&quot;</td></tr><tr><td>&quot;49f695dffa457eaba90d388a5c37e9…</td><td>&quot;e5215415bb6f76fe3b7cb68103a0d1…</td><td>1</td><td>null</td><td>&quot;PRODUTO NÃO CHEGOU,E JÁ PASSOU…</td><td>&quot;2016-10-09 00:00:00&quot;</td><td>&quot;2016-10-11 14:31:29&quot;</td></tr><tr><td>&quot;b2d5d8db2a841d27a72e4c06c62123…</td><td>&quot;9aa3197e4887919fde0307fc23601d…</td><td>4</td><td>null</td><td>&quot;Só chegou uma parte do pedido …</td><td>&quot;2016-10-15 00:00:00&quot;</td><td>&quot;2016-10-17 21:02:49&quot;</td></tr><tr><td>&quot;743d98b1a4782f0646898fc915ef00…</td><td>&quot;e2144124f98f3bf46939bc51831040…</td><td>4</td><td>null</td><td>null</td><td>&quot;2016-10-15 00:00:00&quot;</td><td>&quot;2016-10-16 03:20:17&quot;</td></tr><tr><td>&hellip;</td><td>&hellip;</td><td>&hellip;</td><td>&hellip;</td><td>&hellip;</td><td>&hellip;</td><td>&hellip;</td></tr><tr><td>&quot;fbed4ae473ee58739d32bb5816dcd2…</td><td>&quot;feeaaeb6a99fc794212a29c84e6d52…</td><td>5</td><td>null</td><td>null</td><td>&quot;2018-08-31 00:00:00&quot;</td><td>&quot;2018-09-01 13:01:12&quot;</td></tr><tr><td>&quot;85c176d4f5a1cd2e8b3a25af788ba6…</td><td>&quot;55bf02fa5414e7b29c5b651c33626e…</td><td>4</td><td>null</td><td>&quot;Ainda não foi instalado, mas a…</td><td>&quot;2018-08-31 00:00:00&quot;</td><td>&quot;2018-09-04 00:06:39&quot;</td></tr><tr><td>&quot;96a3f13b17820de33189923b61fbc9…</td><td>&quot;c7e9244a9fdf9ae33fd94f55e7e247…</td><td>5</td><td>&quot;super recomendo&quot;</td><td>&quot;AMEI PEDIDO ENTREGUE BEM ANTES…</td><td>&quot;2018-08-31 00:00:00&quot;</td><td>&quot;2018-09-07 15:53:48&quot;</td></tr><tr><td>&quot;373b7a9485709ae7e7f9bc6464fd5b…</td><td>&quot;feafc8e3422f6e1f4c00bd29dd9c29…</td><td>5</td><td>&quot;Ótimo &quot;</td><td>&quot;👍👍👍👍👍👍👍👍👏👏👏👏👏👏👏👏&quot;</td><td>&quot;2018-08-31 00:00:00&quot;</td><td>&quot;2018-09-04 17:03:28&quot;</td></tr><tr><td>&quot;432535f80139f69319254bda6e6053…</td><td>&quot;f92d5a62c7841e7f1a73ce4a68912c…</td><td>5</td><td>null</td><td>null</td><td>&quot;2018-08-31 00:00:00&quot;</td><td>&quot;2018-09-04 10:00:11&quot;</td></tr></tbody></table></div>"
      ],
      "text/plain": [
       "shape: (99_224, 7)\n",
       "┌──────────────┬─────────────┬─────────────┬─────────────┬─────────────┬─────────────┬─────────────┐\n",
       "│ review_id    ┆ order_id    ┆ review_scor ┆ review_comm ┆ review_comm ┆ review_crea ┆ review_answ │\n",
       "│ ---          ┆ ---         ┆ e           ┆ ent_title   ┆ ent_message ┆ tion_date   ┆ er_timestam │\n",
       "│ str          ┆ str         ┆ ---         ┆ ---         ┆ ---         ┆ ---         ┆ p           │\n",
       "│              ┆             ┆ i64         ┆ str         ┆ str         ┆ str         ┆ ---         │\n",
       "│              ┆             ┆             ┆             ┆             ┆             ┆ str         │\n",
       "╞══════════════╪═════════════╪═════════════╪═════════════╪═════════════╪═════════════╪═════════════╡\n",
       "│ 69ac6a27fde9 ┆ 809a282bbd5 ┆ 1           ┆ null        ┆ MEU PEDIDO  ┆ 2016-10-02  ┆ 2016-10-26  │\n",
       "│ 855ebeaaecac ┆ dbcabb6f2f7 ┆             ┆             ┆ NÃO FOI     ┆ 00:00:00    ┆ 12:31:00    │\n",
       "│ 0f7805…      ┆ 24fca862…   ┆             ┆             ┆ ENTREGUE E  ┆             ┆             │\n",
       "│              ┆             ┆             ┆             ┆ …           ┆             ┆             │\n",
       "│ 6916ca4502d6 ┆ bfbd0f9bdef ┆ 1           ┆ null        ┆ nao recebi  ┆ 2016-10-06  ┆ 2016-10-07  │\n",
       "│ d3bfd3981875 ┆ 84302105ad7 ┆             ┆             ┆ o produto e ┆ 00:00:00    ┆ 18:32:28    │\n",
       "│ 9d55d5…      ┆ 12db648a…   ┆             ┆             ┆ nem res…    ┆             ┆             │\n",
       "│ 49f695dffa45 ┆ e5215415bb6 ┆ 1           ┆ null        ┆ PRODUTO NÃO ┆ 2016-10-09  ┆ 2016-10-11  │\n",
       "│ 7eaba90d388a ┆ f76fe3b7cb6 ┆             ┆             ┆ CHEGOU,E JÁ ┆ 00:00:00    ┆ 14:31:29    │\n",
       "│ 5c37e9…      ┆ 8103a0d1…   ┆             ┆             ┆ PASSOU…     ┆             ┆             │\n",
       "│ b2d5d8db2a84 ┆ 9aa3197e488 ┆ 4           ┆ null        ┆ Só chegou   ┆ 2016-10-15  ┆ 2016-10-17  │\n",
       "│ 1d27a72e4c06 ┆ 7919fde0307 ┆             ┆             ┆ uma parte   ┆ 00:00:00    ┆ 21:02:49    │\n",
       "│ c62123…      ┆ fc23601d…   ┆             ┆             ┆ do pedido … ┆             ┆             │\n",
       "│ 743d98b1a478 ┆ e2144124f98 ┆ 4           ┆ null        ┆ null        ┆ 2016-10-15  ┆ 2016-10-16  │\n",
       "│ 2f0646898fc9 ┆ f3bf46939bc ┆             ┆             ┆             ┆ 00:00:00    ┆ 03:20:17    │\n",
       "│ 15ef00…      ┆ 51831040…   ┆             ┆             ┆             ┆             ┆             │\n",
       "│ …            ┆ …           ┆ …           ┆ …           ┆ …           ┆ …           ┆ …           │\n",
       "│ fbed4ae473ee ┆ feeaaeb6a99 ┆ 5           ┆ null        ┆ null        ┆ 2018-08-31  ┆ 2018-09-01  │\n",
       "│ 58739d32bb58 ┆ fc794212a29 ┆             ┆             ┆             ┆ 00:00:00    ┆ 13:01:12    │\n",
       "│ 16dcd2…      ┆ c84e6d52…   ┆             ┆             ┆             ┆             ┆             │\n",
       "│ 85c176d4f5a1 ┆ 55bf02fa541 ┆ 4           ┆ null        ┆ Ainda não   ┆ 2018-08-31  ┆ 2018-09-04  │\n",
       "│ cd2e8b3a25af ┆ 4e7b29c5b65 ┆             ┆             ┆ foi         ┆ 00:00:00    ┆ 00:06:39    │\n",
       "│ 788ba6…      ┆ 1c33626e…   ┆             ┆             ┆ instalado,  ┆             ┆             │\n",
       "│              ┆             ┆             ┆             ┆ mas a…      ┆             ┆             │\n",
       "│ 96a3f13b1782 ┆ c7e9244a9fd ┆ 5           ┆ super       ┆ AMEI PEDIDO ┆ 2018-08-31  ┆ 2018-09-07  │\n",
       "│ 0de33189923b ┆ f9ae33fd94f ┆             ┆ recomendo   ┆ ENTREGUE    ┆ 00:00:00    ┆ 15:53:48    │\n",
       "│ 61fbc9…      ┆ 55e7e247…   ┆             ┆             ┆ BEM ANTES…  ┆             ┆             │\n",
       "│ 373b7a948570 ┆ feafc8e3422 ┆ 5           ┆ Ótimo       ┆ 👍👍👍👍👍  ┆ 2018-08-31  ┆ 2018-09-04  │\n",
       "│ 9ae7e7f9bc64 ┆ f6e1f4c00bd ┆             ┆             ┆ 👍👍👍👏👏  ┆ 00:00:00    ┆ 17:03:28    │\n",
       "│ 64fd5b…      ┆ 29dd9c29…   ┆             ┆             ┆ 👏👏👏👏👏  ┆             ┆             │\n",
       "│              ┆             ┆             ┆             ┆ 👏          ┆             ┆             │\n",
       "│ 432535f80139 ┆ f92d5a62c78 ┆ 5           ┆ null        ┆ null        ┆ 2018-08-31  ┆ 2018-09-04  │\n",
       "│ f69319254bda ┆ 41e7f1a73ce ┆             ┆             ┆             ┆ 00:00:00    ┆ 10:00:11    │\n",
       "│ 6e6053…      ┆ 4a68912c…   ┆             ┆             ┆             ┆             ┆             │\n",
       "└──────────────┴─────────────┴─────────────┴─────────────┴─────────────┴─────────────┴─────────────┘"
      ]
     },
     "execution_count": 11,
     "metadata": {},
     "output_type": "execute_result"
    }
   ],
   "source": [
    "minio = get_storage(\"storage.io\")\n",
    "response = minio.get_object(\"ecommerce\", \"raw/order_reviews.csv\")\n",
    "df = pl.read_csv(response.read()).sort(\"review_creation_date\")\n",
    "df"
   ]
  },
  {
   "cell_type": "code",
   "execution_count": 21,
   "id": "2e4a72ca-b6db-4219-a1f5-940b75ddc5b9",
   "metadata": {},
   "outputs": [
    {
     "data": {
      "text/html": [
       "<div><style>\n",
       ".dataframe > thead > tr,\n",
       ".dataframe > tbody > tr {\n",
       "  text-align: right;\n",
       "  white-space: pre-wrap;\n",
       "}\n",
       "</style>\n",
       "<small>shape: (99_224, 7)</small><table border=\"1\" class=\"dataframe\"><thead><tr><th>review_id</th><th>order_id</th><th>review_score</th><th>review_comment_title</th><th>review_comment_message</th><th>review_creation_date</th><th>review_answer_timestamp</th></tr><tr><td>str</td><td>str</td><td>i64</td><td>str</td><td>str</td><td>str</td><td>str</td></tr></thead><tbody><tr><td>&quot;740b247eb84b081a1e3a89f33f897b…</td><td>&quot;a8f6d89fa954e7d94c69fd13b6a713…</td><td>5</td><td>&quot;Super Recomendo&quot;</td><td>&quot;Meu produto chegou bem embalad…</td><td>&quot;2018-05-12 00:00:00&quot;</td><td>&quot;2018-05-14 14:57:45&quot;</td></tr><tr><td>&quot;68943d08a20deb9b08c7de80a09272…</td><td>&quot;b27b73e4dc66dd3733d11cd49b3474…</td><td>1</td><td>null</td><td>&quot;Produto veio correto, só achei…</td><td>&quot;2017-06-14 00:00:00&quot;</td><td>&quot;2017-06-19 19:46:26&quot;</td></tr><tr><td>&quot;3a76b78fb885a107f69ea1e913e827…</td><td>&quot;9d70de973b8b083b57fc62f12634f9…</td><td>1</td><td>null</td><td>&quot;Ja fiz outras compras e sempre…</td><td>&quot;2017-02-22 00:00:00&quot;</td><td>&quot;2017-02-22 23:24:16&quot;</td></tr><tr><td>&quot;b630c4b303e0668944b8980b20182c…</td><td>&quot;7bb7bf45693873665dd4a3028c3d98…</td><td>5</td><td>null</td><td>&quot;Produto entregue dentro do pra…</td><td>&quot;2018-01-27 00:00:00&quot;</td><td>&quot;2018-01-28 00:12:36&quot;</td></tr><tr><td>&quot;2c87443974bb63cd6a63e056c789aa…</td><td>&quot;3b7ddbdc4ef4c59cee4047a5fc2e49…</td><td>4</td><td>null</td><td>null</td><td>&quot;2017-11-22 00:00:00&quot;</td><td>&quot;2017-11-23 00:23:25&quot;</td></tr><tr><td>&hellip;</td><td>&hellip;</td><td>&hellip;</td><td>&hellip;</td><td>&hellip;</td><td>&hellip;</td><td>&hellip;</td></tr><tr><td>&quot;49af8d8f5a31674c3474ab9ea125db…</td><td>&quot;c6d61340bd8baeedca7cc8e7f7ec07…</td><td>2</td><td>null</td><td>&quot;A loja recomendo mas não o pro…</td><td>&quot;2017-08-22 00:00:00&quot;</td><td>&quot;2017-08-23 04:25:38&quot;</td></tr><tr><td>&quot;b8571a2ef13afd294c8bdefcc67739…</td><td>&quot;9deec776b35252a1660b2439abeb9e…</td><td>2</td><td>&quot;PRODUTO RECUSADO &quot;</td><td>&quot;Pedi a devolução e já recusei …</td><td>&quot;2018-06-21 00:00:00&quot;</td><td>&quot;2018-06-21 22:32:55&quot;</td></tr><tr><td>&quot;6b94c4fa2b44775c175116d45c5c86…</td><td>&quot;9e0ca19fb3cd696e318f58f0613ee8…</td><td>3</td><td>null</td><td>&quot;Bom dia!\r\n",
       "já sou cliente da ba…</td><td>&quot;2017-02-09 00:00:00&quot;</td><td>&quot;2017-02-11 12:56:46&quot;</td></tr><tr><td>&quot;3848192d2a2992dfc8f8714de8cf1a…</td><td>&quot;405be8487a7fde1db0bc31ad6b0805…</td><td>5</td><td>null</td><td>&quot;gosto de comprar por este sait…</td><td>&quot;2017-09-07 00:00:00&quot;</td><td>&quot;2017-09-08 17:19:19&quot;</td></tr><tr><td>&quot;0591ed5e58ebd25cd849f804e01ec5…</td><td>&quot;38187389c2f33340aa62db07a30a5c…</td><td>5</td><td>null</td><td>null</td><td>&quot;2017-10-06 00:00:00&quot;</td><td>&quot;2017-10-06 23:01:50&quot;</td></tr></tbody></table></div>"
      ],
      "text/plain": [
       "shape: (99_224, 7)\n",
       "┌──────────────┬─────────────┬─────────────┬─────────────┬─────────────┬─────────────┬─────────────┐\n",
       "│ review_id    ┆ order_id    ┆ review_scor ┆ review_comm ┆ review_comm ┆ review_crea ┆ review_answ │\n",
       "│ ---          ┆ ---         ┆ e           ┆ ent_title   ┆ ent_message ┆ tion_date   ┆ er_timestam │\n",
       "│ str          ┆ str         ┆ ---         ┆ ---         ┆ ---         ┆ ---         ┆ p           │\n",
       "│              ┆             ┆ i64         ┆ str         ┆ str         ┆ str         ┆ ---         │\n",
       "│              ┆             ┆             ┆             ┆             ┆             ┆ str         │\n",
       "╞══════════════╪═════════════╪═════════════╪═════════════╪═════════════╪═════════════╪═════════════╡\n",
       "│ 740b247eb84b ┆ a8f6d89fa95 ┆ 5           ┆ Super       ┆ Meu produto ┆ 2018-05-12  ┆ 2018-05-14  │\n",
       "│ 081a1e3a89f3 ┆ 4e7d94c69fd ┆             ┆ Recomendo   ┆ chegou bem  ┆ 00:00:00    ┆ 14:57:45    │\n",
       "│ 3f897b…      ┆ 13b6a713…   ┆             ┆             ┆ embalad…    ┆             ┆             │\n",
       "│ 68943d08a20d ┆ b27b73e4dc6 ┆ 1           ┆ null        ┆ Produto     ┆ 2017-06-14  ┆ 2017-06-19  │\n",
       "│ eb9b08c7de80 ┆ 6dd3733d11c ┆             ┆             ┆ veio        ┆ 00:00:00    ┆ 19:46:26    │\n",
       "│ a09272…      ┆ d49b3474…   ┆             ┆             ┆ correto, só ┆             ┆             │\n",
       "│              ┆             ┆             ┆             ┆ achei…      ┆             ┆             │\n",
       "│ 3a76b78fb885 ┆ 9d70de973b8 ┆ 1           ┆ null        ┆ Ja fiz      ┆ 2017-02-22  ┆ 2017-02-22  │\n",
       "│ a107f69ea1e9 ┆ b083b57fc62 ┆             ┆             ┆ outras      ┆ 00:00:00    ┆ 23:24:16    │\n",
       "│ 13e827…      ┆ f12634f9…   ┆             ┆             ┆ compras e   ┆             ┆             │\n",
       "│              ┆             ┆             ┆             ┆ sempre…     ┆             ┆             │\n",
       "│ b630c4b303e0 ┆ 7bb7bf45693 ┆ 5           ┆ null        ┆ Produto     ┆ 2018-01-27  ┆ 2018-01-28  │\n",
       "│ 668944b8980b ┆ 873665dd4a3 ┆             ┆             ┆ entregue    ┆ 00:00:00    ┆ 00:12:36    │\n",
       "│ 20182c…      ┆ 028c3d98…   ┆             ┆             ┆ dentro do   ┆             ┆             │\n",
       "│              ┆             ┆             ┆             ┆ pra…        ┆             ┆             │\n",
       "│ 2c87443974bb ┆ 3b7ddbdc4ef ┆ 4           ┆ null        ┆ null        ┆ 2017-11-22  ┆ 2017-11-23  │\n",
       "│ 63cd6a63e056 ┆ 4c59cee4047 ┆             ┆             ┆             ┆ 00:00:00    ┆ 00:23:25    │\n",
       "│ c789aa…      ┆ a5fc2e49…   ┆             ┆             ┆             ┆             ┆             │\n",
       "│ …            ┆ …           ┆ …           ┆ …           ┆ …           ┆ …           ┆ …           │\n",
       "│ 49af8d8f5a31 ┆ c6d61340bd8 ┆ 2           ┆ null        ┆ A loja      ┆ 2017-08-22  ┆ 2017-08-23  │\n",
       "│ 674c3474ab9e ┆ baeedca7cc8 ┆             ┆             ┆ recomendo   ┆ 00:00:00    ┆ 04:25:38    │\n",
       "│ a125db…      ┆ e7f7ec07…   ┆             ┆             ┆ mas não o   ┆             ┆             │\n",
       "│              ┆             ┆             ┆             ┆ pro…        ┆             ┆             │\n",
       "│ b8571a2ef13a ┆ 9deec776b35 ┆ 2           ┆ PRODUTO     ┆ Pedi a      ┆ 2018-06-21  ┆ 2018-06-21  │\n",
       "│ fd294c8bdefc ┆ 252a1660b24 ┆             ┆ RECUSADO    ┆ devolução e ┆ 00:00:00    ┆ 22:32:55    │\n",
       "│ c67739…      ┆ 39abeb9e…   ┆             ┆             ┆ já recusei  ┆             ┆             │\n",
       "│              ┆             ┆             ┆             ┆ …           ┆             ┆             │\n",
       "│ 6b94c4fa2b44 ┆ 9e0ca19fb3c ┆ 3           ┆ null        ┆ Bom dia!\n",
       "   ┆ 2017-02-09  ┆ 2017-02-11  │\n",
       "│ 775c175116d4 ┆ d696e318f58 ┆             ┆             ┆ já sou      ┆ 00:00:00    ┆ 12:56:46    │\n",
       "│ 5c5c86…      ┆ f0613ee8…   ┆             ┆             ┆ cliente da  ┆             ┆             │\n",
       "│              ┆             ┆             ┆             ┆ ba…         ┆             ┆             │\n",
       "│ 3848192d2a29 ┆ 405be8487a7 ┆ 5           ┆ null        ┆ gosto de    ┆ 2017-09-07  ┆ 2017-09-08  │\n",
       "│ 92dfc8f8714d ┆ fde1db0bc31 ┆             ┆             ┆ comprar por ┆ 00:00:00    ┆ 17:19:19    │\n",
       "│ e8cf1a…      ┆ ad6b0805…   ┆             ┆             ┆ este sait…  ┆             ┆             │\n",
       "│ 0591ed5e58eb ┆ 38187389c2f ┆ 5           ┆ null        ┆ null        ┆ 2017-10-06  ┆ 2017-10-06  │\n",
       "│ d25cd849f804 ┆ 33340aa62db ┆             ┆             ┆             ┆ 00:00:00    ┆ 23:01:50    │\n",
       "│ e01ec5…      ┆ 07a30a5c…   ┆             ┆             ┆             ┆             ┆             │\n",
       "└──────────────┴─────────────┴─────────────┴─────────────┴─────────────┴─────────────┴─────────────┘"
      ]
     },
     "execution_count": 21,
     "metadata": {},
     "output_type": "execute_result"
    }
   ],
   "source": [
    "df.unique([\"review_id\", \"order_id\"])"
   ]
  },
  {
   "cell_type": "code",
   "execution_count": 13,
   "id": "784dba2e-0e58-48c5-ad3e-be01b844cfd5",
   "metadata": {},
   "outputs": [
    {
     "data": {
      "text/html": [
       "<div><style>\n",
       ".dataframe > thead > tr,\n",
       ".dataframe > tbody > tr {\n",
       "  text-align: right;\n",
       "  white-space: pre-wrap;\n",
       "}\n",
       "</style>\n",
       "<small>shape: (239, 7)</small><table border=\"1\" class=\"dataframe\"><thead><tr><th>review_id</th><th>order_id</th><th>review_score</th><th>review_comment_title</th><th>review_comment_message</th><th>review_creation_date</th><th>review_answer_timestamp</th></tr><tr><td>str</td><td>str</td><td>i64</td><td>str</td><td>str</td><td>str</td><td>str</td></tr></thead><tbody><tr><td>&quot;f7c4ece51a1f0f3ebf9a67db7df640…</td><td>&quot;56eb381fff8db8d351346930625140…</td><td>1</td><td>null</td><td>&quot;None of the products I bought …</td><td>&quot;2017-01-04T00:00:00.000000&quot;</td><td>&quot;2017-01-04 09:09:23&quot;</td></tr><tr><td>&quot;5f45d6aa32336fa26cbc254721c818…</td><td>&quot;ec7a019261fce44180373d45b442d7…</td><td>5</td><td>null</td><td>&quot;I really loved the product! Su…</td><td>&quot;2017-01-12T00:00:00.000000&quot;</td><td>&quot;2017-01-13 20:22:46&quot;</td></tr><tr><td>&quot;49180505e856dbdac671d368b51352…</td><td>&quot;e1fe072ef14b519af1f0a8ed997c13…</td><td>5</td><td>null</td><td>&quot;Shop recommended, product was …</td><td>&quot;2017-01-13T00:00:00.000000&quot;</td><td>&quot;2017-01-13 22:36:29&quot;</td></tr><tr><td>&quot;f23f447888d495a473a8e569ccd5b1…</td><td>&quot;bf44408de1d05eef70fb026ba64a90…</td><td>5</td><td>null</td><td>null</td><td>&quot;2017-01-13T00:00:00.000000&quot;</td><td>&quot;2017-01-13 21:07:09&quot;</td></tr><tr><td>&quot;002fbdbf4b1671be0127c601abb17f…</td><td>&quot;f53b39c6c91ce86717c15d8e4e5da0…</td><td>5</td><td>null</td><td>&quot;The product arrived with quite…</td><td>&quot;2017-01-13T00:00:00.000000&quot;</td><td>&quot;2017-01-14 11:20:25&quot;</td></tr><tr><td>&hellip;</td><td>&hellip;</td><td>&hellip;</td><td>&hellip;</td><td>&hellip;</td><td>&hellip;</td><td>&hellip;</td></tr><tr><td>&quot;3da1047b6fc7c0fa63ae23b1777488…</td><td>&quot;bec25025b8d0b7db00c51072005376…</td><td>3</td><td>null</td><td>&quot;Arrived together with the main…</td><td>&quot;2017-01-31T00:00:00.000000&quot;</td><td>&quot;2017-02-01 12:44:14&quot;</td></tr><tr><td>&quot;98d46adf4af42b9f840923efacd5ad…</td><td>&quot;4079df924e51e553825e62f9f8995d…</td><td>5</td><td>null</td><td>null</td><td>&quot;2017-01-31T00:00:00.000000&quot;</td><td>&quot;2017-01-31 22:35:01&quot;</td></tr><tr><td>&quot;39bfef38ccb8adc74a316d367a1aba…</td><td>&quot;4269e9f98b1e74f0732bc93de6aaca…</td><td>5</td><td>null</td><td>&quot;fast delivery congratulations!…</td><td>&quot;2017-01-31T00:00:00.000000&quot;</td><td>&quot;2017-02-07 19:09:53&quot;</td></tr><tr><td>&quot;c68ab10732712c84ea727750535b25…</td><td>&quot;7b4fb0197b18a0fd0e75f9e44b3fc7…</td><td>1</td><td>null</td><td>&quot;The heating belt when plugged …</td><td>&quot;2017-01-31T00:00:00.000000&quot;</td><td>&quot;2017-01-31 22:28:58&quot;</td></tr><tr><td>&quot;f20b46557caa7ac2cfa0792fead88f…</td><td>&quot;b79559dba6909e4d8ac0ddf501a99f…</td><td>4</td><td>null</td><td>null</td><td>&quot;2017-01-31T00:00:00.000000&quot;</td><td>&quot;2017-02-02 18:27:24&quot;</td></tr></tbody></table></div>"
      ],
      "text/plain": [
       "shape: (239, 7)\n",
       "┌──────────────┬─────────────┬─────────────┬─────────────┬─────────────┬─────────────┬─────────────┐\n",
       "│ review_id    ┆ order_id    ┆ review_scor ┆ review_comm ┆ review_comm ┆ review_crea ┆ review_answ │\n",
       "│ ---          ┆ ---         ┆ e           ┆ ent_title   ┆ ent_message ┆ tion_date   ┆ er_timestam │\n",
       "│ str          ┆ str         ┆ ---         ┆ ---         ┆ ---         ┆ ---         ┆ p           │\n",
       "│              ┆             ┆ i64         ┆ str         ┆ str         ┆ str         ┆ ---         │\n",
       "│              ┆             ┆             ┆             ┆             ┆             ┆ str         │\n",
       "╞══════════════╪═════════════╪═════════════╪═════════════╪═════════════╪═════════════╪═════════════╡\n",
       "│ f7c4ece51a1f ┆ 56eb381fff8 ┆ 1           ┆ null        ┆ None of the ┆ 2017-01-04T ┆ 2017-01-04  │\n",
       "│ 0f3ebf9a67db ┆ db8d3513469 ┆             ┆             ┆ products I  ┆ 00:00:00.00 ┆ 09:09:23    │\n",
       "│ 7df640…      ┆ 30625140…   ┆             ┆             ┆ bought …    ┆ 0000        ┆             │\n",
       "│ 5f45d6aa3233 ┆ ec7a019261f ┆ 5           ┆ null        ┆ I really    ┆ 2017-01-12T ┆ 2017-01-13  │\n",
       "│ 6fa26cbc2547 ┆ ce44180373d ┆             ┆             ┆ loved the   ┆ 00:00:00.00 ┆ 20:22:46    │\n",
       "│ 21c818…      ┆ 45b442d7…   ┆             ┆             ┆ product!    ┆ 0000        ┆             │\n",
       "│              ┆             ┆             ┆             ┆ Su…         ┆             ┆             │\n",
       "│ 49180505e856 ┆ e1fe072ef14 ┆ 5           ┆ null        ┆ Shop recomm ┆ 2017-01-13T ┆ 2017-01-13  │\n",
       "│ dbdac671d368 ┆ b519af1f0a8 ┆             ┆             ┆ ended,      ┆ 00:00:00.00 ┆ 22:36:29    │\n",
       "│ b51352…      ┆ ed997c13…   ┆             ┆             ┆ product was ┆ 0000        ┆             │\n",
       "│              ┆             ┆             ┆             ┆ …           ┆             ┆             │\n",
       "│ f23f447888d4 ┆ bf44408de1d ┆ 5           ┆ null        ┆ null        ┆ 2017-01-13T ┆ 2017-01-13  │\n",
       "│ 95a473a8e569 ┆ 05eef70fb02 ┆             ┆             ┆             ┆ 00:00:00.00 ┆ 21:07:09    │\n",
       "│ ccd5b1…      ┆ 6ba64a90…   ┆             ┆             ┆             ┆ 0000        ┆             │\n",
       "│ 002fbdbf4b16 ┆ f53b39c6c91 ┆ 5           ┆ null        ┆ The product ┆ 2017-01-13T ┆ 2017-01-14  │\n",
       "│ 71be0127c601 ┆ ce86717c15d ┆             ┆             ┆ arrived     ┆ 00:00:00.00 ┆ 11:20:25    │\n",
       "│ abb17f…      ┆ 8e4e5da0…   ┆             ┆             ┆ with quite… ┆ 0000        ┆             │\n",
       "│ …            ┆ …           ┆ …           ┆ …           ┆ …           ┆ …           ┆ …           │\n",
       "│ 3da1047b6fc7 ┆ bec25025b8d ┆ 3           ┆ null        ┆ Arrived     ┆ 2017-01-31T ┆ 2017-02-01  │\n",
       "│ c0fa63ae23b1 ┆ 0b7db00c510 ┆             ┆             ┆ together    ┆ 00:00:00.00 ┆ 12:44:14    │\n",
       "│ 777488…      ┆ 72005376…   ┆             ┆             ┆ with the    ┆ 0000        ┆             │\n",
       "│              ┆             ┆             ┆             ┆ main…       ┆             ┆             │\n",
       "│ 98d46adf4af4 ┆ 4079df924e5 ┆ 5           ┆ null        ┆ null        ┆ 2017-01-31T ┆ 2017-01-31  │\n",
       "│ 2b9f840923ef ┆ 1e553825e62 ┆             ┆             ┆             ┆ 00:00:00.00 ┆ 22:35:01    │\n",
       "│ acd5ad…      ┆ f9f8995d…   ┆             ┆             ┆             ┆ 0000        ┆             │\n",
       "│ 39bfef38ccb8 ┆ 4269e9f98b1 ┆ 5           ┆ null        ┆ fast        ┆ 2017-01-31T ┆ 2017-02-07  │\n",
       "│ adc74a316d36 ┆ e74f0732bc9 ┆             ┆             ┆ delivery    ┆ 00:00:00.00 ┆ 19:09:53    │\n",
       "│ 7a1aba…      ┆ 3de6aaca…   ┆             ┆             ┆ congratulat ┆ 0000        ┆             │\n",
       "│              ┆             ┆             ┆             ┆ ions!…      ┆             ┆             │\n",
       "│ c68ab1073271 ┆ 7b4fb0197b1 ┆ 1           ┆ null        ┆ The heating ┆ 2017-01-31T ┆ 2017-01-31  │\n",
       "│ 2c84ea727750 ┆ 8a0fd0e75f9 ┆             ┆             ┆ belt when   ┆ 00:00:00.00 ┆ 22:28:58    │\n",
       "│ 535b25…      ┆ e44b3fc7…   ┆             ┆             ┆ plugged …   ┆ 0000        ┆             │\n",
       "│ f20b46557caa ┆ b79559dba69 ┆ 4           ┆ null        ┆ null        ┆ 2017-01-31T ┆ 2017-02-02  │\n",
       "│ 7ac2cfa0792f ┆ 09e4d8ac0dd ┆             ┆             ┆             ┆ 00:00:00.00 ┆ 18:27:24    │\n",
       "│ ead88f…      ┆ f501a99f…   ┆             ┆             ┆             ┆ 0000        ┆             │\n",
       "└──────────────┴─────────────┴─────────────┴─────────────┴─────────────┴─────────────┴─────────────┘"
      ]
     },
     "execution_count": 13,
     "metadata": {},
     "output_type": "execute_result"
    }
   ],
   "source": [
    "minio = get_storage(\"storage.io\")\n",
    "response = minio.get_object(\"ecommerce\", \"translated/order_reviews.2017-01.csv\")\n",
    "df = pl.read_csv(response.read()).sort(\"review_creation_date\")\n",
    "df"
   ]
  },
  {
   "cell_type": "code",
   "execution_count": 17,
   "id": "e6cb6b5f-e7a3-40b6-85c0-6e795bb9fe8d",
   "metadata": {},
   "outputs": [
    {
     "data": {
      "text/html": [
       "\n",
       "            <div>\n",
       "                <p><b>SparkSession - in-memory</b></p>\n",
       "                \n",
       "        <div>\n",
       "            <p><b>SparkContext</b></p>\n",
       "\n",
       "            <p><a href=\"http://notebook-ffd68f9c5-vz7t4:4042\">Spark UI</a></p>\n",
       "\n",
       "            <dl>\n",
       "              <dt>Version</dt>\n",
       "                <dd><code>v3.5.1</code></dd>\n",
       "              <dt>Master</dt>\n",
       "                <dd><code>local[*]</code></dd>\n",
       "              <dt>AppName</dt>\n",
       "                <dd><code>notebook</code></dd>\n",
       "            </dl>\n",
       "        </div>\n",
       "        \n",
       "            </div>\n",
       "        "
      ],
      "text/plain": [
       "<pyspark.sql.session.SparkSession at 0x7fa5d7d74590>"
      ]
     },
     "execution_count": 17,
     "metadata": {},
     "output_type": "execute_result"
    }
   ],
   "source": [
    "spark = get_spark(catalog=\"iceberg\")\n",
    "\n",
    "spark"
   ]
  },
  {
   "cell_type": "code",
   "execution_count": null,
   "id": "d8dcee48-d7b7-4ce5-8203-46afdffa411f",
   "metadata": {},
   "outputs": [],
   "source": [
    "spark.sql(\"select * from iceberg.ecommerce.order_reviews\").show()"
   ]
  },
  {
   "cell_type": "code",
   "execution_count": 41,
   "id": "4e8b8936-b556-4e27-b281-82ac8262b4d4",
   "metadata": {},
   "outputs": [
    {
     "name": "stdout",
     "output_type": "stream",
     "text": [
      "+--------------------+--------------------+------------+--------------------+----------------------+--------------------+-----------------------+----+-----+---+\n",
      "|           review_id|            order_id|review_score|review_comment_title|review_comment_message|review_creation_date|review_answer_timestamp|year|month|day|\n",
      "+--------------------+--------------------+------------+--------------------+----------------------+--------------------+-----------------------+----+-----+---+\n",
      "|bcf66c6bd6f84ba22...|765442de6466c0bb0...|           5|                NULL|                  NULL| 2017-01-14 00:00:00|    2017-01-14 20:07:42|2017|    1| 14|\n",
      "|d80e6132380b0b06c...|e6db6e9529fecbe14...|           4|                NULL|  A entrega foi sup...| 2017-01-14 00:00:00|    2017-01-17 13:18:41|2017|    1| 14|\n",
      "|524b32c45c6e03c19...|f2dd5f15184c73c0d...|           3|                NULL|                  NULL| 2017-01-14 00:00:00|    2017-01-15 12:48:49|2017|    1| 14|\n",
      "|6bd763b0a18bc7c57...|157ec3dc3f38cdbd2...|           5|                NULL|  Comprei 2 produto...| 2017-01-14 00:00:00|    2017-01-14 19:55:44|2017|    1| 14|\n",
      "|ef468ee6d6910150d...|9021fdebb45ac827a...|           4|                NULL|  Pensava que era m...| 2017-01-14 00:00:00|    2017-01-16 00:02:47|2017|    1| 14|\n",
      "+--------------------+--------------------+------------+--------------------+----------------------+--------------------+-----------------------+----+-----+---+\n",
      "\n"
     ]
    }
   ],
   "source": [
    "spark.sql(\"select * from iceberg.ecommerce.order_reviews\").show()"
   ]
  },
  {
   "cell_type": "code",
   "execution_count": 45,
   "id": "bdb7732f-1763-4f0b-91a9-195e68e118b2",
   "metadata": {},
   "outputs": [
    {
     "name": "stdout",
     "output_type": "stream",
     "text": [
      "+--------------------+--------------------+------------+--------------------+----------------------+--------------------+-----------------------+----+-----+---+\n",
      "|           review_id|            order_id|review_score|review_comment_title|review_comment_message|review_creation_date|review_answer_timestamp|year|month|day|\n",
      "+--------------------+--------------------+------------+--------------------+----------------------+--------------------+-----------------------+----+-----+---+\n",
      "|bcf66c6bd6f84ba22...|765442de6466c0bb0...|           5|                NULL|                  NULL| 2017-01-14 00:00:00|    2017-01-14 20:07:42|2017|    1| 14|\n",
      "|d80e6132380b0b06c...|e6db6e9529fecbe14...|           4|                NULL|  A entrega foi sup...| 2017-01-14 00:00:00|    2017-01-17 13:18:41|2017|    1| 14|\n",
      "|524b32c45c6e03c19...|f2dd5f15184c73c0d...|           3|                NULL|                  NULL| 2017-01-14 00:00:00|    2017-01-15 12:48:49|2017|    1| 14|\n",
      "|6bd763b0a18bc7c57...|157ec3dc3f38cdbd2...|           5|                NULL|  Comprei 2 produto...| 2017-01-14 00:00:00|    2017-01-14 19:55:44|2017|    1| 14|\n",
      "|ef468ee6d6910150d...|9021fdebb45ac827a...|           4|                NULL|  Pensava que era m...| 2017-01-14 00:00:00|    2017-01-16 00:02:47|2017|    1| 14|\n",
      "|49180505e856dbdac...|e1fe072ef14b519af...|           5|                NULL|  Loja recomendada,...| 2017-01-13 00:00:00|    2017-01-13 22:36:29|2017|    1| 13|\n",
      "|002fbdbf4b1671be0...|f53b39c6c91ce8671...|           5|                NULL|  O produto chegou ...| 2017-01-13 00:00:00|    2017-01-14 11:20:25|2017|    1| 13|\n",
      "|f23f447888d495a47...|bf44408de1d05eef7...|           5|                NULL|                  NULL| 2017-01-13 00:00:00|    2017-01-13 21:07:09|2017|    1| 13|\n",
      "+--------------------+--------------------+------------+--------------------+----------------------+--------------------+-----------------------+----+-----+---+\n",
      "\n"
     ]
    }
   ],
   "source": [
    "spark.sql(\"select * from iceberg.ecommerce.order_reviews\").show()"
   ]
  },
  {
   "cell_type": "code",
   "execution_count": 46,
   "id": "21d09497-e07a-4ea1-82ba-ea1e767144f3",
   "metadata": {},
   "outputs": [
    {
     "data": {
      "text/html": [
       "<div><style>\n",
       ".dataframe > thead > tr,\n",
       ".dataframe > tbody > tr {\n",
       "  text-align: right;\n",
       "  white-space: pre-wrap;\n",
       "}\n",
       "</style>\n",
       "<small>shape: (8, 10)</small><table border=\"1\" class=\"dataframe\"><thead><tr><th>review_id</th><th>order_id</th><th>review_score</th><th>review_comment_title</th><th>review_comment_message</th><th>review_creation_date</th><th>review_answer_timestamp</th><th>year</th><th>month</th><th>day</th></tr><tr><td>str</td><td>str</td><td>i64</td><td>null</td><td>str</td><td>datetime[μs]</td><td>datetime[μs]</td><td>i64</td><td>i64</td><td>i64</td></tr></thead><tbody><tr><td>&quot;524b32c45c6e03c198984e38522f55…</td><td>&quot;f2dd5f15184c73c0d45c02941c7c23…</td><td>3</td><td>null</td><td>null</td><td>2017-01-14 00:00:00</td><td>2017-01-15 12:48:49</td><td>2017</td><td>1</td><td>14</td></tr><tr><td>&quot;6bd763b0a18bc7c57cf36289e49465…</td><td>&quot;157ec3dc3f38cdbd2706bd216edfe8…</td><td>5</td><td>null</td><td>&quot;Comprei 2 produtos no mesmo pe…</td><td>2017-01-14 00:00:00</td><td>2017-01-14 19:55:44</td><td>2017</td><td>1</td><td>14</td></tr><tr><td>&quot;bcf66c6bd6f84ba225c62699ff3749…</td><td>&quot;765442de6466c0bb079c22b8b20e0e…</td><td>5</td><td>null</td><td>null</td><td>2017-01-14 00:00:00</td><td>2017-01-14 20:07:42</td><td>2017</td><td>1</td><td>14</td></tr><tr><td>&quot;d80e6132380b0b06c79fd7daa32701…</td><td>&quot;e6db6e9529fecbe14cd05dd3498166…</td><td>4</td><td>null</td><td>&quot;A entrega foi super rápida e o…</td><td>2017-01-14 00:00:00</td><td>2017-01-17 13:18:41</td><td>2017</td><td>1</td><td>14</td></tr><tr><td>&quot;ef468ee6d6910150dc4ea20c19ad11…</td><td>&quot;9021fdebb45ac827a6033d6969d5c2…</td><td>4</td><td>null</td><td>&quot;Pensava que era maior, mas tbm…</td><td>2017-01-14 00:00:00</td><td>2017-01-16 00:02:47</td><td>2017</td><td>1</td><td>14</td></tr><tr><td>&quot;002fbdbf4b1671be0127c601abb17f…</td><td>&quot;f53b39c6c91ce86717c15d8e4e5da0…</td><td>5</td><td>null</td><td>&quot;O produto chegou com bastante …</td><td>2017-01-13 00:00:00</td><td>2017-01-14 11:20:25</td><td>2017</td><td>1</td><td>13</td></tr><tr><td>&quot;49180505e856dbdac671d368b51352…</td><td>&quot;e1fe072ef14b519af1f0a8ed997c13…</td><td>5</td><td>null</td><td>&quot;Loja recomendada, produto era …</td><td>2017-01-13 00:00:00</td><td>2017-01-13 22:36:29</td><td>2017</td><td>1</td><td>13</td></tr><tr><td>&quot;f23f447888d495a473a8e569ccd5b1…</td><td>&quot;bf44408de1d05eef70fb026ba64a90…</td><td>5</td><td>null</td><td>null</td><td>2017-01-13 00:00:00</td><td>2017-01-13 21:07:09</td><td>2017</td><td>1</td><td>13</td></tr></tbody></table></div>"
      ],
      "text/plain": [
       "shape: (8, 10)\n",
       "┌──────────────┬──────────────┬──────────────┬──────────────┬───┬─────────────┬──────┬───────┬─────┐\n",
       "│ review_id    ┆ order_id     ┆ review_score ┆ review_comme ┆ … ┆ review_answ ┆ year ┆ month ┆ day │\n",
       "│ ---          ┆ ---          ┆ ---          ┆ nt_title     ┆   ┆ er_timestam ┆ ---  ┆ ---   ┆ --- │\n",
       "│ str          ┆ str          ┆ i64          ┆ ---          ┆   ┆ p           ┆ i64  ┆ i64   ┆ i64 │\n",
       "│              ┆              ┆              ┆ null         ┆   ┆ ---         ┆      ┆       ┆     │\n",
       "│              ┆              ┆              ┆              ┆   ┆ datetime[μs ┆      ┆       ┆     │\n",
       "│              ┆              ┆              ┆              ┆   ┆ ]           ┆      ┆       ┆     │\n",
       "╞══════════════╪══════════════╪══════════════╪══════════════╪═══╪═════════════╪══════╪═══════╪═════╡\n",
       "│ 524b32c45c6e ┆ f2dd5f15184c ┆ 3            ┆ null         ┆ … ┆ 2017-01-15  ┆ 2017 ┆ 1     ┆ 14  │\n",
       "│ 03c198984e38 ┆ 73c0d45c0294 ┆              ┆              ┆   ┆ 12:48:49    ┆      ┆       ┆     │\n",
       "│ 522f55…      ┆ 1c7c23…      ┆              ┆              ┆   ┆             ┆      ┆       ┆     │\n",
       "│ 6bd763b0a18b ┆ 157ec3dc3f38 ┆ 5            ┆ null         ┆ … ┆ 2017-01-14  ┆ 2017 ┆ 1     ┆ 14  │\n",
       "│ c7c57cf36289 ┆ cdbd2706bd21 ┆              ┆              ┆   ┆ 19:55:44    ┆      ┆       ┆     │\n",
       "│ e49465…      ┆ 6edfe8…      ┆              ┆              ┆   ┆             ┆      ┆       ┆     │\n",
       "│ bcf66c6bd6f8 ┆ 765442de6466 ┆ 5            ┆ null         ┆ … ┆ 2017-01-14  ┆ 2017 ┆ 1     ┆ 14  │\n",
       "│ 4ba225c62699 ┆ c0bb079c22b8 ┆              ┆              ┆   ┆ 20:07:42    ┆      ┆       ┆     │\n",
       "│ ff3749…      ┆ b20e0e…      ┆              ┆              ┆   ┆             ┆      ┆       ┆     │\n",
       "│ d80e6132380b ┆ e6db6e9529fe ┆ 4            ┆ null         ┆ … ┆ 2017-01-17  ┆ 2017 ┆ 1     ┆ 14  │\n",
       "│ 0b06c79fd7da ┆ cbe14cd05dd3 ┆              ┆              ┆   ┆ 13:18:41    ┆      ┆       ┆     │\n",
       "│ a32701…      ┆ 498166…      ┆              ┆              ┆   ┆             ┆      ┆       ┆     │\n",
       "│ ef468ee6d691 ┆ 9021fdebb45a ┆ 4            ┆ null         ┆ … ┆ 2017-01-16  ┆ 2017 ┆ 1     ┆ 14  │\n",
       "│ 0150dc4ea20c ┆ c827a6033d69 ┆              ┆              ┆   ┆ 00:02:47    ┆      ┆       ┆     │\n",
       "│ 19ad11…      ┆ 69d5c2…      ┆              ┆              ┆   ┆             ┆      ┆       ┆     │\n",
       "│ 002fbdbf4b16 ┆ f53b39c6c91c ┆ 5            ┆ null         ┆ … ┆ 2017-01-14  ┆ 2017 ┆ 1     ┆ 13  │\n",
       "│ 71be0127c601 ┆ e86717c15d8e ┆              ┆              ┆   ┆ 11:20:25    ┆      ┆       ┆     │\n",
       "│ abb17f…      ┆ 4e5da0…      ┆              ┆              ┆   ┆             ┆      ┆       ┆     │\n",
       "│ 49180505e856 ┆ e1fe072ef14b ┆ 5            ┆ null         ┆ … ┆ 2017-01-13  ┆ 2017 ┆ 1     ┆ 13  │\n",
       "│ dbdac671d368 ┆ 519af1f0a8ed ┆              ┆              ┆   ┆ 22:36:29    ┆      ┆       ┆     │\n",
       "│ b51352…      ┆ 997c13…      ┆              ┆              ┆   ┆             ┆      ┆       ┆     │\n",
       "│ f23f447888d4 ┆ bf44408de1d0 ┆ 5            ┆ null         ┆ … ┆ 2017-01-13  ┆ 2017 ┆ 1     ┆ 13  │\n",
       "│ 95a473a8e569 ┆ 5eef70fb026b ┆              ┆              ┆   ┆ 21:07:09    ┆      ┆       ┆     │\n",
       "│ ccd5b1…      ┆ a64a90…      ┆              ┆              ┆   ┆             ┆      ┆       ┆     │\n",
       "└──────────────┴──────────────┴──────────────┴──────────────┴───┴─────────────┴──────┴───────┴─────┘"
      ]
     },
     "execution_count": 46,
     "metadata": {},
     "output_type": "execute_result"
    }
   ],
   "source": [
    "warehouse = get_database(\"warehouse.io\")\n",
    "\n",
    "pl.read_database(\"select * from order_reviews\", connection=warehouse)"
   ]
  }
 ],
 "metadata": {
  "kernelspec": {
   "display_name": "Python 3 (ipykernel)",
   "language": "python",
   "name": "python3"
  },
  "language_info": {
   "codemirror_mode": {
    "name": "ipython",
    "version": 3
   },
   "file_extension": ".py",
   "mimetype": "text/x-python",
   "name": "python",
   "nbconvert_exporter": "python",
   "pygments_lexer": "ipython3",
   "version": "3.11.9"
  }
 },
 "nbformat": 4,
 "nbformat_minor": 5
}
