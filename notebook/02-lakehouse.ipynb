{
 "cells": [
  {
   "cell_type": "code",
   "execution_count": 1,
   "id": "c2d1c47a-7c04-44fd-a920-da0c82b2b375",
   "metadata": {},
   "outputs": [],
   "source": [
    "%run utils.ipynb"
   ]
  },
  {
   "cell_type": "code",
   "execution_count": 3,
   "id": "ed0b8058-62b6-4b2f-a7fa-d38e92f8bbf2",
   "metadata": {},
   "outputs": [
    {
     "data": {
      "text/html": [
       "\n",
       "            <div>\n",
       "                <p><b>SparkSession - in-memory</b></p>\n",
       "                \n",
       "        <div>\n",
       "            <p><b>SparkContext</b></p>\n",
       "\n",
       "            <p><a href=\"http://notebook-ffd68f9c5-gqdwb:4041\">Spark UI</a></p>\n",
       "\n",
       "            <dl>\n",
       "              <dt>Version</dt>\n",
       "                <dd><code>v3.5.1</code></dd>\n",
       "              <dt>Master</dt>\n",
       "                <dd><code>local[*]</code></dd>\n",
       "              <dt>AppName</dt>\n",
       "                <dd><code>notebook</code></dd>\n",
       "            </dl>\n",
       "        </div>\n",
       "        \n",
       "            </div>\n",
       "        "
      ],
      "text/plain": [
       "<pyspark.sql.session.SparkSession at 0x7f4108b96990>"
      ]
     },
     "execution_count": 3,
     "metadata": {},
     "output_type": "execute_result"
    }
   ],
   "source": [
    "spark = get_spark(catalog=\"iceberg\", storage=\"lakehouse.io\")\n",
    "spark"
   ]
  },
  {
   "cell_type": "code",
   "execution_count": 11,
   "id": "8766d957-7848-468f-ad71-1d68d22428c2",
   "metadata": {},
   "outputs": [
    {
     "data": {
      "text/plain": [
       "True"
      ]
     },
     "execution_count": 11,
     "metadata": {},
     "output_type": "execute_result"
    }
   ],
   "source": [
    "spark.catalog.tableExists(\"iceberg.ecommerce.orders\")"
   ]
  },
  {
   "cell_type": "code",
   "execution_count": 12,
   "id": "92d2acb1-d49b-4066-9dbf-4f6f8886f824",
   "metadata": {},
   "outputs": [
    {
     "data": {
      "text/plain": [
       "DataFrame[]"
      ]
     },
     "execution_count": 12,
     "metadata": {},
     "output_type": "execute_result"
    }
   ],
   "source": [
    "spark.sql(\"drop table if exists iceberg.ecommerce.orders\")"
   ]
  },
  {
   "cell_type": "code",
   "execution_count": 13,
   "id": "7fcf442b-9dbb-4b68-9581-48b2cd28aa8b",
   "metadata": {},
   "outputs": [
    {
     "data": {
      "text/plain": [
       "False"
      ]
     },
     "execution_count": 13,
     "metadata": {},
     "output_type": "execute_result"
    }
   ],
   "source": [
    "df.isEmpty()"
   ]
  },
  {
   "cell_type": "code",
   "execution_count": 14,
   "id": "93748bf8-b208-4b9c-a9f7-0e2acb47d37b",
   "metadata": {},
   "outputs": [
    {
     "data": {
      "text/plain": [
       "DataFrame[]"
      ]
     },
     "execution_count": 14,
     "metadata": {},
     "output_type": "execute_result"
    }
   ],
   "source": [
    "from pyspark.sql.functions import year, month, dayofmonth\n",
    "\n",
    "df = df.withColumn(\"year\", year(df[\"order_purchase_timestamp\"])) \\\n",
    "       .withColumn(\"month\", month(df[\"order_purchase_timestamp\"])) \\\n",
    "       .withColumn(\"day\", dayofmonth(df[\"order_purchase_timestamp\"])) \\\n",
    "\n",
    "df.writeTo(\"iceberg.ecommerce.orders\") \\\n",
    "    .using(\"iceberg\").partitionedBy(\"year\", \"month\") \\\n",
    "    .option(\"write.parquet.compression-codec\", \"snappy\") \\\n",
    "    .createOrReplace()\n",
    "\n",
    "df.createOrReplaceTempView(\"orders\")\n",
    "\n",
    "spark.sql(\"\"\"\n",
    "    MERGE INTO iceberg.ecommerce.orders AS target\n",
    "    USING orders AS source\n",
    "    ON target.order_id = source.order_id\n",
    "    WHEN MATCHED THEN UPDATE SET\n",
    "        target.order_status = source.order_status,\n",
    "        target.order_approved_at = source.order_approved_at,\n",
    "        target.order_delivered_carrier_date = source.order_delivered_carrier_date,\n",
    "        target.order_delivered_customer_date = source.order_delivered_customer_date\n",
    "    WHEN NOT MATCHED THEN INSERT *\n",
    "\"\"\")"
   ]
  },
  {
   "cell_type": "code",
   "execution_count": 15,
   "id": "38716c57-07d2-4e3b-86bf-f616788bde5c",
   "metadata": {},
   "outputs": [
    {
     "name": "stdout",
     "output_type": "stream",
     "text": [
      "+--------------------+--------------------+------------+------------------------+-------------------+----------------------------+-----------------------------+-----------------------------+----+-----+---+\n",
      "|            order_id|         customer_id|order_status|order_purchase_timestamp|  order_approved_at|order_delivered_carrier_date|order_delivered_customer_date|order_estimated_delivery_date|year|month|day|\n",
      "+--------------------+--------------------+------------+------------------------+-------------------+----------------------------+-----------------------------+-----------------------------+----+-----+---+\n",
      "|09f58c00f941827ab...|7c94da97db6fe83e1...|   delivered|     2017-01-05 16:05:07|2017-01-07 03:35:34|         2017-01-11 15:47:40|          2017-01-16 15:43:31|          2017-02-13 00:00:00|2017|    1|  5|\n",
      "|0bda8164c1a12b6a3...|3f402674c608ea670...|   delivered|     2017-01-05 13:36:07|2017-01-07 03:45:47|         2017-01-11 16:09:00|          2017-01-16 17:27:34|          2017-02-13 00:00:00|2017|    1|  5|\n",
      "|17fed53ba6dfef9b5...|c0352e94059e3e5a7...|   delivered|     2017-01-05 14:50:54|2017-01-07 03:35:35|         2017-01-11 15:59:08|          2017-01-16 15:24:03|          2017-02-13 00:00:00|2017|    1|  5|\n",
      "|1b694ef5b28d3e949...|cba12036a88407a37...|   delivered|     2017-01-05 13:43:17|2017-01-07 03:35:38|         2017-01-11 16:08:55|          2017-01-16 16:54:04|          2017-02-13 00:00:00|2017|    1|  5|\n",
      "|205d7052a6505124d...|d020d4abe6475a838...|   delivered|     2017-01-05 13:59:30|2017-01-07 03:44:23|         2017-01-11 16:09:00|          2017-01-17 17:52:31|          2017-02-13 00:00:00|2017|    1|  5|\n",
      "+--------------------+--------------------+------------+------------------------+-------------------+----------------------------+-----------------------------+-----------------------------+----+-----+---+\n",
      "only showing top 5 rows\n",
      "\n"
     ]
    }
   ],
   "source": [
    "spark.sql(\"select * from iceberg.ecommerce.orders\").show(5)"
   ]
  },
  {
   "cell_type": "code",
   "execution_count": 77,
   "id": "758e078f-82f4-4987-b663-9c3a59a8794d",
   "metadata": {},
   "outputs": [],
   "source": [
    "properties = {\n",
    "    \"user\": \"admin\",\n",
    "    \"password\": \"password\",\n",
    "    \"driver\": \"org.postgresql.Driver\"\n",
    "}\n",
    "\n",
    "url = \"jdbc:postgresql://warehouse.io:5432/ecommerce\"\n",
    "\n",
    "df.write.jdbc(url=url, table=\"orders\", mode=\"append\", properties=properties)"
   ]
  },
  {
   "cell_type": "code",
   "execution_count": 31,
   "id": "87cd1e9a-29a9-49a1-a926-5061eabd4dd3",
   "metadata": {},
   "outputs": [
    {
     "name": "stdout",
     "output_type": "stream",
     "text": [
      "+--------------------+-------------+-------+\n",
      "|            col_name|    data_type|comment|\n",
      "+--------------------+-------------+-------+\n",
      "|            order_id|       string|   NULL|\n",
      "|         customer_id|       string|   NULL|\n",
      "|        order_status|       string|   NULL|\n",
      "|order_purchase_ti...|timestamp_ntz|   NULL|\n",
      "|   order_approved_at|timestamp_ntz|   NULL|\n",
      "|order_delivered_c...|timestamp_ntz|   NULL|\n",
      "|order_delivered_c...|timestamp_ntz|   NULL|\n",
      "|order_estimated_d...|timestamp_ntz|   NULL|\n",
      "|                year|          int|   NULL|\n",
      "|               month|          int|   NULL|\n",
      "|                 day|          int|   NULL|\n",
      "|# Partition Infor...|             |       |\n",
      "|          # col_name|    data_type|comment|\n",
      "|                year|          int|   NULL|\n",
      "|               month|          int|   NULL|\n",
      "+--------------------+-------------+-------+\n",
      "\n"
     ]
    }
   ],
   "source": [
    "spark.sql(\"describe iceberg.ecommerce.orders\").show()"
   ]
  },
  {
   "cell_type": "code",
   "execution_count": 10,
   "id": "846ea880-b5bc-4971-afc8-58773f5af54a",
   "metadata": {},
   "outputs": [
    {
     "data": {
      "text/html": [
       "<div><style>\n",
       ".dataframe > thead > tr,\n",
       ".dataframe > tbody > tr {\n",
       "  text-align: right;\n",
       "  white-space: pre-wrap;\n",
       "}\n",
       "</style>\n",
       "<small>shape: (32, 8)</small><table border=\"1\" class=\"dataframe\"><thead><tr><th>order_id</th><th>customer_id</th><th>order_status</th><th>order_purchase_timestamp</th><th>order_approved_at</th><th>order_delivered_carrier_date</th><th>order_delivered_customer_date</th><th>order_estimated_delivery_date</th></tr><tr><td>str</td><td>str</td><td>str</td><td>datetime[μs]</td><td>datetime[μs]</td><td>datetime[μs]</td><td>datetime[μs]</td><td>datetime[μs]</td></tr></thead><tbody><tr><td>&quot;1b694ef5b28d3e949a4f0ffeb2c9fc…</td><td>&quot;cba12036a88407a37770dc8ab725de…</td><td>&quot;delivered&quot;</td><td>2017-01-05 13:43:17</td><td>2017-01-07 03:35:38</td><td>2017-01-11 16:08:55</td><td>2017-01-16 16:54:04</td><td>2017-02-13 00:00:00</td></tr><tr><td>&quot;17fed53ba6dfef9b594ee2268642e2…</td><td>&quot;c0352e94059e3e5a714c9ad0c8306a…</td><td>&quot;delivered&quot;</td><td>2017-01-05 14:50:54</td><td>2017-01-07 03:35:35</td><td>2017-01-11 15:59:08</td><td>2017-01-16 15:24:03</td><td>2017-02-13 00:00:00</td></tr><tr><td>&quot;ca5a215980675471f0cf8199c04190…</td><td>&quot;588047d7101d88c333691e47659d70…</td><td>&quot;delivered&quot;</td><td>2017-01-05 14:23:54</td><td>2017-01-07 03:44:16</td><td>2017-01-11 15:37:55</td><td>2017-01-17 15:14:20</td><td>2017-02-01 00:00:00</td></tr><tr><td>&quot;ce86fa5a5108884726a2244bcae51a…</td><td>&quot;8fa33a3159dfc303b8aeccf859b9be…</td><td>&quot;delivered&quot;</td><td>2017-01-05 13:29:03</td><td>2017-01-07 03:45:23</td><td>2017-01-11 15:35:54</td><td>2017-01-16 16:05:21</td><td>2017-02-01 00:00:00</td></tr><tr><td>&quot;40599d3d28b75746952ded75566637…</td><td>&quot;efdf4a7c78d7c364046efb69035d1d…</td><td>&quot;delivered&quot;</td><td>2017-01-05 13:01:48</td><td>2017-01-07 03:45:49</td><td>2017-01-11 16:08:53</td><td>2017-01-16 15:43:21</td><td>2017-02-13 00:00:00</td></tr><tr><td>&hellip;</td><td>&hellip;</td><td>&hellip;</td><td>&hellip;</td><td>&hellip;</td><td>&hellip;</td><td>&hellip;</td><td>&hellip;</td></tr><tr><td>&quot;38bcb524e1c38c2c1b60600a80fc89…</td><td>&quot;d2c63ad286e3ca9dd69218008d61ff…</td><td>&quot;delivered&quot;</td><td>2017-01-05 12:06:36</td><td>2017-01-07 03:45:22</td><td>2017-01-11 15:35:54</td><td>2017-01-16 16:05:22</td><td>2017-02-13 00:00:00</td></tr><tr><td>&quot;205d7052a6505124d200f6fea6b423…</td><td>&quot;d020d4abe6475a8382f53d763fe24a…</td><td>&quot;delivered&quot;</td><td>2017-01-05 13:59:30</td><td>2017-01-07 03:44:23</td><td>2017-01-11 16:09:00</td><td>2017-01-17 17:52:31</td><td>2017-02-13 00:00:00</td></tr><tr><td>&quot;ec7a019261fce44180373d45b442d7…</td><td>&quot;c24fc5f9a446b4d8262041b9c64de7…</td><td>&quot;delivered&quot;</td><td>2017-01-05 11:56:06</td><td>2017-01-05 12:10:17</td><td>2017-01-06 12:43:41</td><td>2017-01-11 13:14:05</td><td>2017-02-01 00:00:00</td></tr><tr><td>&quot;c96209cd1d43d071d3bdf48d299b7a…</td><td>&quot;06cd112a475fd4d834eff329681470…</td><td>&quot;delivered&quot;</td><td>2017-01-05 15:37:58</td><td>2017-01-07 03:45:27</td><td>2017-01-11 15:47:40</td><td>2017-01-16 15:18:08</td><td>2017-02-13 00:00:00</td></tr><tr><td>&quot;464de32dc84484c1d26df3e8e38e70…</td><td>&quot;27129ce1ebca4ffa23a049c51cc8ec…</td><td>&quot;delivered&quot;</td><td>2017-01-05 15:25:04</td><td>2017-01-07 03:35:36</td><td>2017-01-11 15:59:08</td><td>2017-01-17 16:09:40</td><td>2017-02-13 00:00:00</td></tr></tbody></table></div>"
      ],
      "text/plain": [
       "shape: (32, 8)\n",
       "┌────────────┬────────────┬────────────┬───────────┬───────────┬───────────┬───────────┬───────────┐\n",
       "│ order_id   ┆ customer_i ┆ order_stat ┆ order_pur ┆ order_app ┆ order_del ┆ order_del ┆ order_est │\n",
       "│ ---        ┆ d          ┆ us         ┆ chase_tim ┆ roved_at  ┆ ivered_ca ┆ ivered_cu ┆ imated_de │\n",
       "│ str        ┆ ---        ┆ ---        ┆ estamp    ┆ ---       ┆ rrier_dat ┆ stomer_da ┆ livery_da │\n",
       "│            ┆ str        ┆ str        ┆ ---       ┆ datetime[ ┆ e         ┆ te        ┆ te        │\n",
       "│            ┆            ┆            ┆ datetime[ ┆ μs]       ┆ ---       ┆ ---       ┆ ---       │\n",
       "│            ┆            ┆            ┆ μs]       ┆           ┆ datetime[ ┆ datetime[ ┆ datetime[ │\n",
       "│            ┆            ┆            ┆           ┆           ┆ μs]       ┆ μs]       ┆ μs]       │\n",
       "╞════════════╪════════════╪════════════╪═══════════╪═══════════╪═══════════╪═══════════╪═══════════╡\n",
       "│ 1b694ef5b2 ┆ cba12036a8 ┆ delivered  ┆ 2017-01-0 ┆ 2017-01-0 ┆ 2017-01-1 ┆ 2017-01-1 ┆ 2017-02-1 │\n",
       "│ 8d3e949a4f ┆ 8407a37770 ┆            ┆ 5         ┆ 7         ┆ 1         ┆ 6         ┆ 3         │\n",
       "│ 0ffeb2c9fc ┆ dc8ab725de ┆            ┆ 13:43:17  ┆ 03:35:38  ┆ 16:08:55  ┆ 16:54:04  ┆ 00:00:00  │\n",
       "│ …          ┆ …          ┆            ┆           ┆           ┆           ┆           ┆           │\n",
       "│ 17fed53ba6 ┆ c0352e9405 ┆ delivered  ┆ 2017-01-0 ┆ 2017-01-0 ┆ 2017-01-1 ┆ 2017-01-1 ┆ 2017-02-1 │\n",
       "│ dfef9b594e ┆ 9e3e5a714c ┆            ┆ 5         ┆ 7         ┆ 1         ┆ 6         ┆ 3         │\n",
       "│ e2268642e2 ┆ 9ad0c8306a ┆            ┆ 14:50:54  ┆ 03:35:35  ┆ 15:59:08  ┆ 15:24:03  ┆ 00:00:00  │\n",
       "│ …          ┆ …          ┆            ┆           ┆           ┆           ┆           ┆           │\n",
       "│ ca5a215980 ┆ 588047d710 ┆ delivered  ┆ 2017-01-0 ┆ 2017-01-0 ┆ 2017-01-1 ┆ 2017-01-1 ┆ 2017-02-0 │\n",
       "│ 675471f0cf ┆ 1d88c33369 ┆            ┆ 5         ┆ 7         ┆ 1         ┆ 7         ┆ 1         │\n",
       "│ 8199c04190 ┆ 1e47659d70 ┆            ┆ 14:23:54  ┆ 03:44:16  ┆ 15:37:55  ┆ 15:14:20  ┆ 00:00:00  │\n",
       "│ …          ┆ …          ┆            ┆           ┆           ┆           ┆           ┆           │\n",
       "│ ce86fa5a51 ┆ 8fa33a3159 ┆ delivered  ┆ 2017-01-0 ┆ 2017-01-0 ┆ 2017-01-1 ┆ 2017-01-1 ┆ 2017-02-0 │\n",
       "│ 08884726a2 ┆ dfc303b8ae ┆            ┆ 5         ┆ 7         ┆ 1         ┆ 6         ┆ 1         │\n",
       "│ 244bcae51a ┆ ccf859b9be ┆            ┆ 13:29:03  ┆ 03:45:23  ┆ 15:35:54  ┆ 16:05:21  ┆ 00:00:00  │\n",
       "│ …          ┆ …          ┆            ┆           ┆           ┆           ┆           ┆           │\n",
       "│ 40599d3d28 ┆ efdf4a7c78 ┆ delivered  ┆ 2017-01-0 ┆ 2017-01-0 ┆ 2017-01-1 ┆ 2017-01-1 ┆ 2017-02-1 │\n",
       "│ b75746952d ┆ d7c364046e ┆            ┆ 5         ┆ 7         ┆ 1         ┆ 6         ┆ 3         │\n",
       "│ ed75566637 ┆ fb69035d1d ┆            ┆ 13:01:48  ┆ 03:45:49  ┆ 16:08:53  ┆ 15:43:21  ┆ 00:00:00  │\n",
       "│ …          ┆ …          ┆            ┆           ┆           ┆           ┆           ┆           │\n",
       "│ …          ┆ …          ┆ …          ┆ …         ┆ …         ┆ …         ┆ …         ┆ …         │\n",
       "│ 38bcb524e1 ┆ d2c63ad286 ┆ delivered  ┆ 2017-01-0 ┆ 2017-01-0 ┆ 2017-01-1 ┆ 2017-01-1 ┆ 2017-02-1 │\n",
       "│ c38c2c1b60 ┆ e3ca9dd692 ┆            ┆ 5         ┆ 7         ┆ 1         ┆ 6         ┆ 3         │\n",
       "│ 600a80fc89 ┆ 18008d61ff ┆            ┆ 12:06:36  ┆ 03:45:22  ┆ 15:35:54  ┆ 16:05:22  ┆ 00:00:00  │\n",
       "│ …          ┆ …          ┆            ┆           ┆           ┆           ┆           ┆           │\n",
       "│ 205d7052a6 ┆ d020d4abe6 ┆ delivered  ┆ 2017-01-0 ┆ 2017-01-0 ┆ 2017-01-1 ┆ 2017-01-1 ┆ 2017-02-1 │\n",
       "│ 505124d200 ┆ 475a8382f5 ┆            ┆ 5         ┆ 7         ┆ 1         ┆ 7         ┆ 3         │\n",
       "│ f6fea6b423 ┆ 3d763fe24a ┆            ┆ 13:59:30  ┆ 03:44:23  ┆ 16:09:00  ┆ 17:52:31  ┆ 00:00:00  │\n",
       "│ …          ┆ …          ┆            ┆           ┆           ┆           ┆           ┆           │\n",
       "│ ec7a019261 ┆ c24fc5f9a4 ┆ delivered  ┆ 2017-01-0 ┆ 2017-01-0 ┆ 2017-01-0 ┆ 2017-01-1 ┆ 2017-02-0 │\n",
       "│ fce4418037 ┆ 46b4d82620 ┆            ┆ 5         ┆ 5         ┆ 6         ┆ 1         ┆ 1         │\n",
       "│ 3d45b442d7 ┆ 41b9c64de7 ┆            ┆ 11:56:06  ┆ 12:10:17  ┆ 12:43:41  ┆ 13:14:05  ┆ 00:00:00  │\n",
       "│ …          ┆ …          ┆            ┆           ┆           ┆           ┆           ┆           │\n",
       "│ c96209cd1d ┆ 06cd112a47 ┆ delivered  ┆ 2017-01-0 ┆ 2017-01-0 ┆ 2017-01-1 ┆ 2017-01-1 ┆ 2017-02-1 │\n",
       "│ 43d071d3bd ┆ 5fd4d834ef ┆            ┆ 5         ┆ 7         ┆ 1         ┆ 6         ┆ 3         │\n",
       "│ f48d299b7a ┆ f329681470 ┆            ┆ 15:37:58  ┆ 03:45:27  ┆ 15:47:40  ┆ 15:18:08  ┆ 00:00:00  │\n",
       "│ …          ┆ …          ┆            ┆           ┆           ┆           ┆           ┆           │\n",
       "│ 464de32dc8 ┆ 27129ce1eb ┆ delivered  ┆ 2017-01-0 ┆ 2017-01-0 ┆ 2017-01-1 ┆ 2017-01-1 ┆ 2017-02-1 │\n",
       "│ 4484c1d26d ┆ ca4ffa23a0 ┆            ┆ 5         ┆ 7         ┆ 1         ┆ 7         ┆ 3         │\n",
       "│ f3e8e38e70 ┆ 49c51cc8ec ┆            ┆ 15:25:04  ┆ 03:35:36  ┆ 15:59:08  ┆ 16:09:40  ┆ 00:00:00  │\n",
       "│ …          ┆ …          ┆            ┆           ┆           ┆           ┆           ┆           │\n",
       "└────────────┴────────────┴────────────┴───────────┴───────────┴───────────┴───────────┴───────────┘"
      ]
     },
     "execution_count": 10,
     "metadata": {},
     "output_type": "execute_result"
    }
   ],
   "source": [
    "properties = {\n",
    "    \"uri\": \"http://iceberg.io\",\n",
    "    \"s3.endpoint\": \"http://lakehouse.io\",\n",
    "    \"s3.access-key-id\": \"admin\",\n",
    "    \"s3.secret-access-key\": \"password\",\n",
    "    \"py-io-impl\": \"pyiceberg.io.pyarrow.PyArrowFileIO\"\n",
    "}\n",
    "\n",
    "catalog = load_catalog(\"iceberg\", **properties)\n",
    "table = catalog.load_table(\"ecommerce.orders\")\n",
    "pl.DataFrame(table.scan().to_pandas())"
   ]
  },
  {
   "cell_type": "code",
   "execution_count": 120,
   "id": "c22ef49c-dac5-4680-a883-9123a787a124",
   "metadata": {},
   "outputs": [
    {
     "name": "stdout",
     "output_type": "stream",
     "text": [
      "24/07/25 03:47:20 WARN NativeCodeLoader: Unable to load native-hadoop library for your platform... using builtin-java classes where applicable\n",
      "24/07/25 03:47:20 INFO SparkKubernetesClientFactory: Auto-configuring K8S client using current context from users K8S config file\n",
      "24/07/25 03:47:20 INFO KerberosConfDriverFeatureStep: You have not specified a krb5.conf file locally or via a ConfigMap. Make sure that you have the krb5.conf locally on the driver image.\n",
      "24/07/25 03:47:21 INFO LoggingPodStatusWatcherImpl: State changed, new state: \n",
      "\t pod name: ecommerce-orders-a182d490e8001ebe-driver\n",
      "\t namespace: spark\n",
      "\t labels: spark-app-name -> ecommerce-orders, spark-app-selector -> spark-2c21ba7ca31047be8ea17d6b35dc613b, spark-role -> driver, spark-version -> 3.5.1\n",
      "\t pod uid: 88be27ad-73df-4ba5-be13-9d78177175a8\n",
      "\t creation time: 2024-07-25T03:47:21Z\n",
      "\t service account name: default\n",
      "\t volumes: spark-local-dir-1, spark-conf-volume-driver, kube-api-access-fhwqm\n",
      "\t node name: master\n",
      "\t start time: 2024-07-25T03:47:21Z\n",
      "\t phase: Pending\n",
      "\t container status: \n",
      "\t\t container name: spark-kubernetes-driver\n",
      "\t\t container image: registry.io/spark\n",
      "\t\t container state: waiting\n",
      "\t\t pending reason: ContainerCreating\n",
      "24/07/25 03:47:21 INFO LoggingPodStatusWatcherImpl: Waiting for application ecommerce-orders with application ID spark-2c21ba7ca31047be8ea17d6b35dc613b and submission ID spark:ecommerce-orders-a182d490e8001ebe-driver to finish...\n",
      "24/07/25 03:47:21 INFO LoggingPodStatusWatcherImpl: State changed, new state: \n",
      "\t pod name: ecommerce-orders-a182d490e8001ebe-driver\n",
      "\t namespace: spark\n",
      "\t labels: spark-app-name -> ecommerce-orders, spark-app-selector -> spark-2c21ba7ca31047be8ea17d6b35dc613b, spark-role -> driver, spark-version -> 3.5.1\n",
      "\t pod uid: 88be27ad-73df-4ba5-be13-9d78177175a8\n",
      "\t creation time: 2024-07-25T03:47:21Z\n",
      "\t service account name: default\n",
      "\t volumes: spark-local-dir-1, spark-conf-volume-driver, kube-api-access-fhwqm\n",
      "\t node name: master\n",
      "\t start time: 2024-07-25T03:47:21Z\n",
      "\t phase: Pending\n",
      "\t container status: \n",
      "\t\t container name: spark-kubernetes-driver\n",
      "\t\t container image: registry.io/spark\n",
      "\t\t container state: waiting\n",
      "\t\t pending reason: ContainerCreating\n",
      "24/07/25 03:47:21 INFO LoggingPodStatusWatcherImpl: State changed, new state: \n",
      "\t pod name: ecommerce-orders-a182d490e8001ebe-driver\n",
      "\t namespace: spark\n",
      "\t labels: spark-app-name -> ecommerce-orders, spark-app-selector -> spark-2c21ba7ca31047be8ea17d6b35dc613b, spark-role -> driver, spark-version -> 3.5.1\n",
      "\t pod uid: 88be27ad-73df-4ba5-be13-9d78177175a8\n",
      "\t creation time: 2024-07-25T03:47:21Z\n",
      "\t service account name: default\n",
      "\t volumes: spark-local-dir-1, spark-conf-volume-driver, kube-api-access-fhwqm\n",
      "\t node name: master\n",
      "\t start time: 2024-07-25T03:47:21Z\n",
      "\t phase: Pending\n",
      "\t container status: \n",
      "\t\t container name: spark-kubernetes-driver\n",
      "\t\t container image: registry.io/spark\n",
      "\t\t container state: waiting\n",
      "\t\t pending reason: ContainerCreating\n",
      "24/07/25 03:47:22 INFO LoggingPodStatusWatcherImpl: Application status for spark-2c21ba7ca31047be8ea17d6b35dc613b (phase: Pending)\n",
      "24/07/25 03:47:22 INFO LoggingPodStatusWatcherImpl: State changed, new state: \n",
      "\t pod name: ecommerce-orders-a182d490e8001ebe-driver\n",
      "\t namespace: spark\n",
      "\t labels: spark-app-name -> ecommerce-orders, spark-app-selector -> spark-2c21ba7ca31047be8ea17d6b35dc613b, spark-role -> driver, spark-version -> 3.5.1\n",
      "\t pod uid: 88be27ad-73df-4ba5-be13-9d78177175a8\n",
      "\t creation time: 2024-07-25T03:47:21Z\n",
      "\t service account name: default\n",
      "\t volumes: spark-local-dir-1, spark-conf-volume-driver, kube-api-access-fhwqm\n",
      "\t node name: master\n",
      "\t start time: 2024-07-25T03:47:21Z\n",
      "\t phase: Running\n",
      "\t container status: \n",
      "\t\t container name: spark-kubernetes-driver\n",
      "\t\t container image: registry.io/spark:latest\n",
      "\t\t container state: running\n",
      "\t\t container started at: 2024-07-25T03:47:21Z\n",
      "24/07/25 03:47:23 INFO LoggingPodStatusWatcherImpl: Application status for spark-2c21ba7ca31047be8ea17d6b35dc613b (phase: Running)\n",
      "24/07/25 03:47:24 INFO LoggingPodStatusWatcherImpl: Application status for spark-2c21ba7ca31047be8ea17d6b35dc613b (phase: Running)\n",
      "24/07/25 03:47:25 INFO LoggingPodStatusWatcherImpl: Application status for spark-2c21ba7ca31047be8ea17d6b35dc613b (phase: Running)\n",
      "24/07/25 03:47:26 INFO LoggingPodStatusWatcherImpl: Application status for spark-2c21ba7ca31047be8ea17d6b35dc613b (phase: Running)\n",
      "24/07/25 03:47:27 INFO LoggingPodStatusWatcherImpl: Application status for spark-2c21ba7ca31047be8ea17d6b35dc613b (phase: Running)\n",
      "24/07/25 03:47:28 INFO LoggingPodStatusWatcherImpl: Application status for spark-2c21ba7ca31047be8ea17d6b35dc613b (phase: Running)\n",
      "24/07/25 03:47:29 INFO LoggingPodStatusWatcherImpl: Application status for spark-2c21ba7ca31047be8ea17d6b35dc613b (phase: Running)\n",
      "24/07/25 03:47:29 INFO LoggingPodStatusWatcherImpl: State changed, new state: \n",
      "\t pod name: ecommerce-orders-a182d490e8001ebe-driver\n",
      "\t namespace: spark\n",
      "\t labels: spark-app-name -> ecommerce-orders, spark-app-selector -> spark-2c21ba7ca31047be8ea17d6b35dc613b, spark-role -> driver, spark-version -> 3.5.1\n",
      "\t pod uid: 88be27ad-73df-4ba5-be13-9d78177175a8\n",
      "\t creation time: 2024-07-25T03:47:21Z\n",
      "\t service account name: default\n",
      "\t volumes: spark-local-dir-1, spark-conf-volume-driver, kube-api-access-fhwqm\n",
      "\t node name: master\n",
      "\t start time: 2024-07-25T03:47:21Z\n",
      "\t phase: Running\n",
      "\t container status: \n",
      "\t\t container name: spark-kubernetes-driver\n",
      "\t\t container image: registry.io/spark:latest\n",
      "\t\t container state: terminated\n",
      "\t\t container started at: 2024-07-25T03:47:21Z\n",
      "\t\t container finished at: 2024-07-25T03:47:28Z\n",
      "\t\t exit code: 1\n",
      "\t\t termination reason: Error\n",
      "24/07/25 03:47:30 INFO LoggingPodStatusWatcherImpl: Application status for spark-2c21ba7ca31047be8ea17d6b35dc613b (phase: Running)\n",
      "24/07/25 03:47:30 INFO LoggingPodStatusWatcherImpl: State changed, new state: \n",
      "\t pod name: ecommerce-orders-a182d490e8001ebe-driver\n",
      "\t namespace: spark\n",
      "\t labels: spark-app-name -> ecommerce-orders, spark-app-selector -> spark-2c21ba7ca31047be8ea17d6b35dc613b, spark-role -> driver, spark-version -> 3.5.1\n",
      "\t pod uid: 88be27ad-73df-4ba5-be13-9d78177175a8\n",
      "\t creation time: 2024-07-25T03:47:21Z\n",
      "\t service account name: default\n",
      "\t volumes: spark-local-dir-1, spark-conf-volume-driver, kube-api-access-fhwqm\n",
      "\t node name: master\n",
      "\t start time: 2024-07-25T03:47:21Z\n",
      "\t phase: Running\n",
      "\t container status: \n",
      "\t\t container name: spark-kubernetes-driver\n",
      "\t\t container image: registry.io/spark:latest\n",
      "\t\t container state: terminated\n",
      "\t\t container started at: 2024-07-25T03:47:21Z\n",
      "\t\t container finished at: 2024-07-25T03:47:28Z\n",
      "\t\t exit code: 1\n",
      "\t\t termination reason: Error\n",
      "24/07/25 03:47:30 INFO LoggingPodStatusWatcherImpl: State changed, new state: \n",
      "\t pod name: ecommerce-orders-a182d490e8001ebe-driver\n",
      "\t namespace: spark\n",
      "\t labels: spark-app-name -> ecommerce-orders, spark-app-selector -> spark-2c21ba7ca31047be8ea17d6b35dc613b, spark-role -> driver, spark-version -> 3.5.1\n",
      "\t pod uid: 88be27ad-73df-4ba5-be13-9d78177175a8\n",
      "\t creation time: 2024-07-25T03:47:21Z\n",
      "\t service account name: default\n",
      "\t volumes: spark-local-dir-1, spark-conf-volume-driver, kube-api-access-fhwqm\n",
      "\t node name: master\n",
      "\t start time: 2024-07-25T03:47:21Z\n",
      "\t phase: Failed\n",
      "\t container status: \n",
      "\t\t container name: spark-kubernetes-driver\n",
      "\t\t container image: registry.io/spark:latest\n",
      "\t\t container state: terminated\n",
      "\t\t container started at: 2024-07-25T03:47:21Z\n",
      "\t\t container finished at: 2024-07-25T03:47:28Z\n",
      "\t\t exit code: 1\n",
      "\t\t termination reason: Error\n",
      "24/07/25 03:47:30 INFO LoggingPodStatusWatcherImpl: Application status for spark-2c21ba7ca31047be8ea17d6b35dc613b (phase: Failed)\n",
      "24/07/25 03:47:30 INFO LoggingPodStatusWatcherImpl: Container final statuses:\n",
      "\n",
      "\n",
      "\t container name: spark-kubernetes-driver\n",
      "\t container image: registry.io/spark:latest\n",
      "\t container state: terminated\n",
      "\t container started at: 2024-07-25T03:47:21Z\n",
      "\t container finished at: 2024-07-25T03:47:28Z\n",
      "\t exit code: 1\n",
      "\t termination reason: Error\n",
      "24/07/25 03:47:30 INFO LoggingPodStatusWatcherImpl: Application ecommerce-orders with application ID spark-2c21ba7ca31047be8ea17d6b35dc613b and submission ID spark:ecommerce-orders-a182d490e8001ebe-driver finished\n",
      "24/07/25 03:47:30 INFO ShutdownHookManager: Shutdown hook called\n",
      "24/07/25 03:47:30 INFO ShutdownHookManager: Deleting directory /tmp/spark-c85fdfa5-eee5-4301-9bf7-2fceb55aa35b\n"
     ]
    }
   ],
   "source": [
    "!spark-submit \\\n",
    "    --master k8s://https://kubernetes.default.svc.cluster.local:443 \\\n",
    "    --deploy-mode cluster \\\n",
    "    --name ecommerce-orders \\\n",
    "    --conf spark.executor.instances=1 \\\n",
    "    --conf spark.kubernetes.namespace=spark \\\n",
    "    --conf spark.kubernetes.container.image.pullPolicy=Always \\\n",
    "    --conf spark.kubernetes.container.image=registry.io/spark \\\n",
    "    local:///opt/spark/work-dir/tasks/sync_lakehouse.py --table-name orders --date-cursor 2017-01-05"
   ]
  }
 ],
 "metadata": {
  "kernelspec": {
   "display_name": "Python 3 (ipykernel)",
   "language": "python",
   "name": "python3"
  },
  "language_info": {
   "codemirror_mode": {
    "name": "ipython",
    "version": 3
   },
   "file_extension": ".py",
   "mimetype": "text/x-python",
   "name": "python",
   "nbconvert_exporter": "python",
   "pygments_lexer": "ipython3",
   "version": "3.11.9"
  }
 },
 "nbformat": 4,
 "nbformat_minor": 5
}
