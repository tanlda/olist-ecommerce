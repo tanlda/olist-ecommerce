{
 "cells": [
  {
   "cell_type": "code",
   "execution_count": 1,
   "id": "f808f817-90dc-4b0e-b29c-a9f8d85b6c71",
   "metadata": {},
   "outputs": [],
   "source": [
    "%run utils.ipynb"
   ]
  },
  {
   "cell_type": "code",
   "execution_count": 2,
   "id": "5a1f718e-5f62-4f8e-b64d-46e02d3ebd54",
   "metadata": {},
   "outputs": [
    {
     "data": {
      "text/html": [
       "<div><style>\n",
       ".dataframe > thead > tr,\n",
       ".dataframe > tbody > tr {\n",
       "  text-align: right;\n",
       "  white-space: pre-wrap;\n",
       "}\n",
       "</style>\n",
       "<small>shape: (613, 8)</small><table border=\"1\" class=\"dataframe\"><thead><tr><th>order_id</th><th>customer_id</th><th>order_status</th><th>order_purchase_timestamp</th><th>order_approved_at</th><th>order_delivered_carrier_date</th><th>order_delivered_customer_date</th><th>order_estimated_delivery_date</th></tr><tr><td>str</td><td>str</td><td>str</td><td>datetime[μs]</td><td>datetime[μs]</td><td>datetime[μs]</td><td>datetime[μs]</td><td>datetime[μs]</td></tr></thead><tbody><tr><td>&quot;e6db6e9529fecbe14cd05dd3498166…</td><td>&quot;6b3efc29f67766dd725bb29e857614…</td><td>&quot;delivered&quot;</td><td>2017-01-06 21:27:49</td><td>2017-01-06 21:35:20</td><td>2017-01-09 12:08:34</td><td>2017-01-13 13:57:29</td><td>2017-02-20 00:00:00</td></tr><tr><td>&quot;f53b39c6c91ce86717c15d8e4e5da0…</td><td>&quot;42d1b4eb863054dcb04a019944ecd2…</td><td>&quot;delivered&quot;</td><td>2017-01-08 09:35:07</td><td>2017-01-10 03:10:46</td><td>2017-01-10 11:53:06</td><td>2017-01-12 09:22:12</td><td>2017-02-17 00:00:00</td></tr><tr><td>&quot;bf44408de1d05eef70fb026ba64a90…</td><td>&quot;96054b94409f7712eeffe8edfa6959…</td><td>&quot;delivered&quot;</td><td>2017-01-06 21:30:38</td><td>2017-01-10 03:10:35</td><td>2017-01-10 11:53:06</td><td>2017-01-12 09:43:56</td><td>2017-02-14 00:00:00</td></tr><tr><td>&quot;452b706af12e25e6c8c740b4dc493a…</td><td>&quot;bfc9371f9268216725254f85678032…</td><td>&quot;delivered&quot;</td><td>2017-01-08 09:35:14</td><td>2017-01-08 09:45:12</td><td>2017-01-09 15:12:35</td><td>2017-01-17 13:22:19</td><td>2017-02-17 00:00:00</td></tr><tr><td>&quot;16fe5fdb7f5aa0c9e841387dfec298…</td><td>&quot;4fc51fa588914fea8f3fa681f148db…</td><td>&quot;approved&quot;</td><td>2017-01-25 10:11:38</td><td>2017-01-25 10:25:14</td><td>null</td><td>null</td><td>2017-03-06 00:00:00</td></tr><tr><td>&hellip;</td><td>&hellip;</td><td>&hellip;</td><td>&hellip;</td><td>&hellip;</td><td>&hellip;</td><td>&hellip;</td><td>&hellip;</td></tr><tr><td>&quot;cce1b8a1c5f8b1d224e19628299c8f…</td><td>&quot;63433f6eb6f0a79cbb24e940d0ab17…</td><td>&quot;delivered&quot;</td><td>2017-01-05 13:33:45</td><td>2017-01-07 03:44:27</td><td>2017-01-11 15:35:53</td><td>2017-01-17 16:51:39</td><td>2017-02-01 00:00:00</td></tr><tr><td>&quot;2f9d791088532b218b41f892cc1607…</td><td>&quot;937bb74713a47912471275b2342367…</td><td>&quot;delivered&quot;</td><td>2017-01-05 13:48:48</td><td>2017-01-07 03:35:21</td><td>2017-01-11 16:08:53</td><td>2017-01-17 16:57:46</td><td>2017-02-13 00:00:00</td></tr><tr><td>&quot;205d7052a6505124d200f6fea6b423…</td><td>&quot;d020d4abe6475a8382f53d763fe24a…</td><td>&quot;delivered&quot;</td><td>2017-01-05 13:59:30</td><td>2017-01-07 03:44:23</td><td>2017-01-11 16:09:00</td><td>2017-01-17 17:52:31</td><td>2017-02-13 00:00:00</td></tr><tr><td>&quot;9b91ddcbd6cbceb83d4fd2462ca1f9…</td><td>&quot;6152d0774bbbf74f7140541c0569da…</td><td>&quot;delivered&quot;</td><td>2017-01-05 14:22:02</td><td>2017-01-07 03:44:09</td><td>2017-01-11 16:25:57</td><td>2017-01-16 16:32:52</td><td>2017-02-01 00:00:00</td></tr><tr><td>&quot;d82cef48824870df9946d57e827ed7…</td><td>&quot;500bbe66867d0f0bdb3531af1e052b…</td><td>&quot;delivered&quot;</td><td>2017-01-05 14:33:39</td><td>2017-01-07 03:44:20</td><td>2017-01-11 16:09:06</td><td>2017-01-16 16:44:55</td><td>2017-02-13 00:00:00</td></tr></tbody></table></div>"
      ],
      "text/plain": [
       "shape: (613, 8)\n",
       "┌────────────┬────────────┬────────────┬───────────┬───────────┬───────────┬───────────┬───────────┐\n",
       "│ order_id   ┆ customer_i ┆ order_stat ┆ order_pur ┆ order_app ┆ order_del ┆ order_del ┆ order_est │\n",
       "│ ---        ┆ d          ┆ us         ┆ chase_tim ┆ roved_at  ┆ ivered_ca ┆ ivered_cu ┆ imated_de │\n",
       "│ str        ┆ ---        ┆ ---        ┆ estamp    ┆ ---       ┆ rrier_dat ┆ stomer_da ┆ livery_da │\n",
       "│            ┆ str        ┆ str        ┆ ---       ┆ datetime[ ┆ e         ┆ te        ┆ te        │\n",
       "│            ┆            ┆            ┆ datetime[ ┆ μs]       ┆ ---       ┆ ---       ┆ ---       │\n",
       "│            ┆            ┆            ┆ μs]       ┆           ┆ datetime[ ┆ datetime[ ┆ datetime[ │\n",
       "│            ┆            ┆            ┆           ┆           ┆ μs]       ┆ μs]       ┆ μs]       │\n",
       "╞════════════╪════════════╪════════════╪═══════════╪═══════════╪═══════════╪═══════════╪═══════════╡\n",
       "│ e6db6e9529 ┆ 6b3efc29f6 ┆ delivered  ┆ 2017-01-0 ┆ 2017-01-0 ┆ 2017-01-0 ┆ 2017-01-1 ┆ 2017-02-2 │\n",
       "│ fecbe14cd0 ┆ 7766dd725b ┆            ┆ 6         ┆ 6         ┆ 9         ┆ 3         ┆ 0         │\n",
       "│ 5dd3498166 ┆ b29e857614 ┆            ┆ 21:27:49  ┆ 21:35:20  ┆ 12:08:34  ┆ 13:57:29  ┆ 00:00:00  │\n",
       "│ …          ┆ …          ┆            ┆           ┆           ┆           ┆           ┆           │\n",
       "│ f53b39c6c9 ┆ 42d1b4eb86 ┆ delivered  ┆ 2017-01-0 ┆ 2017-01-1 ┆ 2017-01-1 ┆ 2017-01-1 ┆ 2017-02-1 │\n",
       "│ 1ce86717c1 ┆ 3054dcb04a ┆            ┆ 8         ┆ 0         ┆ 0         ┆ 2         ┆ 7         │\n",
       "│ 5d8e4e5da0 ┆ 019944ecd2 ┆            ┆ 09:35:07  ┆ 03:10:46  ┆ 11:53:06  ┆ 09:22:12  ┆ 00:00:00  │\n",
       "│ …          ┆ …          ┆            ┆           ┆           ┆           ┆           ┆           │\n",
       "│ bf44408de1 ┆ 96054b9440 ┆ delivered  ┆ 2017-01-0 ┆ 2017-01-1 ┆ 2017-01-1 ┆ 2017-01-1 ┆ 2017-02-1 │\n",
       "│ d05eef70fb ┆ 9f7712eeff ┆            ┆ 6         ┆ 0         ┆ 0         ┆ 2         ┆ 4         │\n",
       "│ 026ba64a90 ┆ e8edfa6959 ┆            ┆ 21:30:38  ┆ 03:10:35  ┆ 11:53:06  ┆ 09:43:56  ┆ 00:00:00  │\n",
       "│ …          ┆ …          ┆            ┆           ┆           ┆           ┆           ┆           │\n",
       "│ 452b706af1 ┆ bfc9371f92 ┆ delivered  ┆ 2017-01-0 ┆ 2017-01-0 ┆ 2017-01-0 ┆ 2017-01-1 ┆ 2017-02-1 │\n",
       "│ 2e25e6c8c7 ┆ 6821672525 ┆            ┆ 8         ┆ 8         ┆ 9         ┆ 7         ┆ 7         │\n",
       "│ 40b4dc493a ┆ 4f85678032 ┆            ┆ 09:35:14  ┆ 09:45:12  ┆ 15:12:35  ┆ 13:22:19  ┆ 00:00:00  │\n",
       "│ …          ┆ …          ┆            ┆           ┆           ┆           ┆           ┆           │\n",
       "│ 16fe5fdb7f ┆ 4fc51fa588 ┆ approved   ┆ 2017-01-2 ┆ 2017-01-2 ┆ null      ┆ null      ┆ 2017-03-0 │\n",
       "│ 5aa0c9e841 ┆ 914fea8f3f ┆            ┆ 5         ┆ 5         ┆           ┆           ┆ 6         │\n",
       "│ 387dfec298 ┆ a681f148db ┆            ┆ 10:11:38  ┆ 10:25:14  ┆           ┆           ┆ 00:00:00  │\n",
       "│ …          ┆ …          ┆            ┆           ┆           ┆           ┆           ┆           │\n",
       "│ …          ┆ …          ┆ …          ┆ …         ┆ …         ┆ …         ┆ …         ┆ …         │\n",
       "│ cce1b8a1c5 ┆ 63433f6eb6 ┆ delivered  ┆ 2017-01-0 ┆ 2017-01-0 ┆ 2017-01-1 ┆ 2017-01-1 ┆ 2017-02-0 │\n",
       "│ f8b1d224e1 ┆ f0a79cbb24 ┆            ┆ 5         ┆ 7         ┆ 1         ┆ 7         ┆ 1         │\n",
       "│ 9628299c8f ┆ e940d0ab17 ┆            ┆ 13:33:45  ┆ 03:44:27  ┆ 15:35:53  ┆ 16:51:39  ┆ 00:00:00  │\n",
       "│ …          ┆ …          ┆            ┆           ┆           ┆           ┆           ┆           │\n",
       "│ 2f9d791088 ┆ 937bb74713 ┆ delivered  ┆ 2017-01-0 ┆ 2017-01-0 ┆ 2017-01-1 ┆ 2017-01-1 ┆ 2017-02-1 │\n",
       "│ 532b218b41 ┆ a479124712 ┆            ┆ 5         ┆ 7         ┆ 1         ┆ 7         ┆ 3         │\n",
       "│ f892cc1607 ┆ 75b2342367 ┆            ┆ 13:48:48  ┆ 03:35:21  ┆ 16:08:53  ┆ 16:57:46  ┆ 00:00:00  │\n",
       "│ …          ┆ …          ┆            ┆           ┆           ┆           ┆           ┆           │\n",
       "│ 205d7052a6 ┆ d020d4abe6 ┆ delivered  ┆ 2017-01-0 ┆ 2017-01-0 ┆ 2017-01-1 ┆ 2017-01-1 ┆ 2017-02-1 │\n",
       "│ 505124d200 ┆ 475a8382f5 ┆            ┆ 5         ┆ 7         ┆ 1         ┆ 7         ┆ 3         │\n",
       "│ f6fea6b423 ┆ 3d763fe24a ┆            ┆ 13:59:30  ┆ 03:44:23  ┆ 16:09:00  ┆ 17:52:31  ┆ 00:00:00  │\n",
       "│ …          ┆ …          ┆            ┆           ┆           ┆           ┆           ┆           │\n",
       "│ 9b91ddcbd6 ┆ 6152d0774b ┆ delivered  ┆ 2017-01-0 ┆ 2017-01-0 ┆ 2017-01-1 ┆ 2017-01-1 ┆ 2017-02-0 │\n",
       "│ cbceb83d4f ┆ bbf74f7140 ┆            ┆ 5         ┆ 7         ┆ 1         ┆ 6         ┆ 1         │\n",
       "│ d2462ca1f9 ┆ 541c0569da ┆            ┆ 14:22:02  ┆ 03:44:09  ┆ 16:25:57  ┆ 16:32:52  ┆ 00:00:00  │\n",
       "│ …          ┆ …          ┆            ┆           ┆           ┆           ┆           ┆           │\n",
       "│ d82cef4882 ┆ 500bbe6686 ┆ delivered  ┆ 2017-01-0 ┆ 2017-01-0 ┆ 2017-01-1 ┆ 2017-01-1 ┆ 2017-02-1 │\n",
       "│ 4870df9946 ┆ 7d0f0bdb35 ┆            ┆ 5         ┆ 7         ┆ 1         ┆ 6         ┆ 3         │\n",
       "│ d57e827ed7 ┆ 31af1e052b ┆            ┆ 14:33:39  ┆ 03:44:20  ┆ 16:09:06  ┆ 16:44:55  ┆ 00:00:00  │\n",
       "│ …          ┆ …          ┆            ┆           ┆           ┆           ┆           ┆           │\n",
       "└────────────┴────────────┴────────────┴───────────┴───────────┴───────────┴───────────┴───────────┘"
      ]
     },
     "execution_count": 2,
     "metadata": {},
     "output_type": "execute_result"
    }
   ],
   "source": [
    "engine = get_database(\"database.io\")\n",
    "df = pl.read_database(\"select * from orders\", connection=engine)\n",
    "df"
   ]
  },
  {
   "cell_type": "code",
   "execution_count": 3,
   "id": "6743386f-5214-4910-aa78-2be1f54c864c",
   "metadata": {},
   "outputs": [
    {
     "data": {
      "text/html": [
       "<div><style>\n",
       ".dataframe > thead > tr,\n",
       ".dataframe > tbody > tr {\n",
       "  text-align: right;\n",
       "  white-space: pre-wrap;\n",
       "}\n",
       "</style>\n",
       "<small>shape: (613, 8)</small><table border=\"1\" class=\"dataframe\"><thead><tr><th>order_id</th><th>customer_id</th><th>order_status</th><th>order_purchase_timestamp</th><th>order_approved_at</th><th>order_delivered_carrier_date</th><th>order_delivered_customer_date</th><th>order_estimated_delivery_date</th></tr><tr><td>str</td><td>str</td><td>str</td><td>datetime[μs]</td><td>datetime[μs]</td><td>datetime[μs]</td><td>datetime[μs]</td><td>datetime[μs]</td></tr></thead><tbody><tr><td>&quot;76bd9ce8aa3ce93bd913f3ec17f667…</td><td>&quot;35f26e073ace0e3cd12f259eb5c75f…</td><td>&quot;approved&quot;</td><td>2017-01-24 15:37:05</td><td>2017-01-25 02:50:35</td><td>null</td><td>null</td><td>2017-04-24 00:00:00</td></tr><tr><td>&quot;17fed53ba6dfef9b594ee2268642e2…</td><td>&quot;c0352e94059e3e5a714c9ad0c8306a…</td><td>&quot;delivered&quot;</td><td>2017-01-05 14:50:54</td><td>2017-01-07 03:35:35</td><td>2017-01-11 15:59:08</td><td>2017-01-16 15:24:03</td><td>2017-02-13 00:00:00</td></tr><tr><td>&quot;5897449bce69856d88610b3c0f4f63…</td><td>&quot;2e19009aaf5ce281eadf19914ea75b…</td><td>&quot;shipped&quot;</td><td>2017-01-15 21:46:43</td><td>2017-01-17 03:10:19</td><td>2017-01-18 15:12:19</td><td>null</td><td>2017-02-14 00:00:00</td></tr><tr><td>&quot;facac214a771c262175219d6c5a3a4…</td><td>&quot;d577d6f224cc6476bfea34715dcb4a…</td><td>&quot;shipped&quot;</td><td>2017-01-19 00:08:11</td><td>2017-01-19 00:15:43</td><td>2017-01-20 13:41:44</td><td>null</td><td>2017-03-01 00:00:00</td></tr><tr><td>&quot;6789a1de9a37be580653e51fc64587…</td><td>&quot;d76512c766b6191a31760b27a3a671…</td><td>&quot;shipped&quot;</td><td>2017-01-20 14:43:44</td><td>2017-01-20 14:55:10</td><td>2017-01-23 11:19:06</td><td>null</td><td>2017-03-02 00:00:00</td></tr><tr><td>&hellip;</td><td>&hellip;</td><td>&hellip;</td><td>&hellip;</td><td>&hellip;</td><td>&hellip;</td><td>&hellip;</td><td>&hellip;</td></tr><tr><td>&quot;16976f8e43d0c9ee6079e3ed9eaa4f…</td><td>&quot;cfe4eb5b21969ebd94370819e38c07…</td><td>&quot;shipped&quot;</td><td>2017-01-26 18:48:30</td><td>2017-01-26 19:02:34</td><td>2017-01-27 16:36:28</td><td>null</td><td>2017-03-14 00:00:00</td></tr><tr><td>&quot;ff42eee9423ebc7d468a3709e1cbef…</td><td>&quot;e88a38745875de352d6a135b7d3f11…</td><td>&quot;delivered&quot;</td><td>2017-01-16 09:56:45</td><td>2017-01-17 19:45:18</td><td>2017-01-20 17:35:56</td><td>2017-01-26 16:01:40</td><td>2017-02-10 00:00:00</td></tr><tr><td>&quot;b6e5aa946acc4e29e7069510f28a0b…</td><td>&quot;6630c34d7fef13e0ec591d96f6c243…</td><td>&quot;shipped&quot;</td><td>2017-01-15 17:58:42</td><td>2017-01-17 03:21:45</td><td>2017-01-20 10:49:26</td><td>null</td><td>2017-03-01 00:00:00</td></tr><tr><td>&quot;9ee391a01004a9f330f16ebf9f7f09…</td><td>&quot;9c2344a071565e12fbf3fae2abc986…</td><td>&quot;created&quot;</td><td>2017-01-27 15:28:18</td><td>null</td><td>null</td><td>null</td><td>2017-03-15 00:00:00</td></tr><tr><td>&quot;7ab9c55c59eaeea579d047e2d8aaed…</td><td>&quot;feca0f935fcce79dd42d409d96af96…</td><td>&quot;shipped&quot;</td><td>2017-01-22 13:04:20</td><td>2017-01-25 02:55:21</td><td>2017-01-26 16:41:28</td><td>null</td><td>2017-03-16 00:00:00</td></tr></tbody></table></div>"
      ],
      "text/plain": [
       "shape: (613, 8)\n",
       "┌────────────┬────────────┬────────────┬───────────┬───────────┬───────────┬───────────┬───────────┐\n",
       "│ order_id   ┆ customer_i ┆ order_stat ┆ order_pur ┆ order_app ┆ order_del ┆ order_del ┆ order_est │\n",
       "│ ---        ┆ d          ┆ us         ┆ chase_tim ┆ roved_at  ┆ ivered_ca ┆ ivered_cu ┆ imated_de │\n",
       "│ str        ┆ ---        ┆ ---        ┆ estamp    ┆ ---       ┆ rrier_dat ┆ stomer_da ┆ livery_da │\n",
       "│            ┆ str        ┆ str        ┆ ---       ┆ datetime[ ┆ e         ┆ te        ┆ te        │\n",
       "│            ┆            ┆            ┆ datetime[ ┆ μs]       ┆ ---       ┆ ---       ┆ ---       │\n",
       "│            ┆            ┆            ┆ μs]       ┆           ┆ datetime[ ┆ datetime[ ┆ datetime[ │\n",
       "│            ┆            ┆            ┆           ┆           ┆ μs]       ┆ μs]       ┆ μs]       │\n",
       "╞════════════╪════════════╪════════════╪═══════════╪═══════════╪═══════════╪═══════════╪═══════════╡\n",
       "│ 76bd9ce8aa ┆ 35f26e073a ┆ approved   ┆ 2017-01-2 ┆ 2017-01-2 ┆ null      ┆ null      ┆ 2017-04-2 │\n",
       "│ 3ce93bd913 ┆ ce0e3cd12f ┆            ┆ 4         ┆ 5         ┆           ┆           ┆ 4         │\n",
       "│ f3ec17f667 ┆ 259eb5c75f ┆            ┆ 15:37:05  ┆ 02:50:35  ┆           ┆           ┆ 00:00:00  │\n",
       "│ …          ┆ …          ┆            ┆           ┆           ┆           ┆           ┆           │\n",
       "│ 17fed53ba6 ┆ c0352e9405 ┆ delivered  ┆ 2017-01-0 ┆ 2017-01-0 ┆ 2017-01-1 ┆ 2017-01-1 ┆ 2017-02-1 │\n",
       "│ dfef9b594e ┆ 9e3e5a714c ┆            ┆ 5         ┆ 7         ┆ 1         ┆ 6         ┆ 3         │\n",
       "│ e2268642e2 ┆ 9ad0c8306a ┆            ┆ 14:50:54  ┆ 03:35:35  ┆ 15:59:08  ┆ 15:24:03  ┆ 00:00:00  │\n",
       "│ …          ┆ …          ┆            ┆           ┆           ┆           ┆           ┆           │\n",
       "│ 5897449bce ┆ 2e19009aaf ┆ shipped    ┆ 2017-01-1 ┆ 2017-01-1 ┆ 2017-01-1 ┆ null      ┆ 2017-02-1 │\n",
       "│ 69856d8861 ┆ 5ce281eadf ┆            ┆ 5         ┆ 7         ┆ 8         ┆           ┆ 4         │\n",
       "│ 0b3c0f4f63 ┆ 19914ea75b ┆            ┆ 21:46:43  ┆ 03:10:19  ┆ 15:12:19  ┆           ┆ 00:00:00  │\n",
       "│ …          ┆ …          ┆            ┆           ┆           ┆           ┆           ┆           │\n",
       "│ facac214a7 ┆ d577d6f224 ┆ shipped    ┆ 2017-01-1 ┆ 2017-01-1 ┆ 2017-01-2 ┆ null      ┆ 2017-03-0 │\n",
       "│ 71c2621752 ┆ cc6476bfea ┆            ┆ 9         ┆ 9         ┆ 0         ┆           ┆ 1         │\n",
       "│ 19d6c5a3a4 ┆ 34715dcb4a ┆            ┆ 00:08:11  ┆ 00:15:43  ┆ 13:41:44  ┆           ┆ 00:00:00  │\n",
       "│ …          ┆ …          ┆            ┆           ┆           ┆           ┆           ┆           │\n",
       "│ 6789a1de9a ┆ d76512c766 ┆ shipped    ┆ 2017-01-2 ┆ 2017-01-2 ┆ 2017-01-2 ┆ null      ┆ 2017-03-0 │\n",
       "│ 37be580653 ┆ b6191a3176 ┆            ┆ 0         ┆ 0         ┆ 3         ┆           ┆ 2         │\n",
       "│ e51fc64587 ┆ 0b27a3a671 ┆            ┆ 14:43:44  ┆ 14:55:10  ┆ 11:19:06  ┆           ┆ 00:00:00  │\n",
       "│ …          ┆ …          ┆            ┆           ┆           ┆           ┆           ┆           │\n",
       "│ …          ┆ …          ┆ …          ┆ …         ┆ …         ┆ …         ┆ …         ┆ …         │\n",
       "│ 16976f8e43 ┆ cfe4eb5b21 ┆ shipped    ┆ 2017-01-2 ┆ 2017-01-2 ┆ 2017-01-2 ┆ null      ┆ 2017-03-1 │\n",
       "│ d0c9ee6079 ┆ 969ebd9437 ┆            ┆ 6         ┆ 6         ┆ 7         ┆           ┆ 4         │\n",
       "│ e3ed9eaa4f ┆ 0819e38c07 ┆            ┆ 18:48:30  ┆ 19:02:34  ┆ 16:36:28  ┆           ┆ 00:00:00  │\n",
       "│ …          ┆ …          ┆            ┆           ┆           ┆           ┆           ┆           │\n",
       "│ ff42eee942 ┆ e88a387458 ┆ delivered  ┆ 2017-01-1 ┆ 2017-01-1 ┆ 2017-01-2 ┆ 2017-01-2 ┆ 2017-02-1 │\n",
       "│ 3ebc7d468a ┆ 75de352d6a ┆            ┆ 6         ┆ 7         ┆ 0         ┆ 6         ┆ 0         │\n",
       "│ 3709e1cbef ┆ 135b7d3f11 ┆            ┆ 09:56:45  ┆ 19:45:18  ┆ 17:35:56  ┆ 16:01:40  ┆ 00:00:00  │\n",
       "│ …          ┆ …          ┆            ┆           ┆           ┆           ┆           ┆           │\n",
       "│ b6e5aa946a ┆ 6630c34d7f ┆ shipped    ┆ 2017-01-1 ┆ 2017-01-1 ┆ 2017-01-2 ┆ null      ┆ 2017-03-0 │\n",
       "│ cc4e29e706 ┆ ef13e0ec59 ┆            ┆ 5         ┆ 7         ┆ 0         ┆           ┆ 1         │\n",
       "│ 9510f28a0b ┆ 1d96f6c243 ┆            ┆ 17:58:42  ┆ 03:21:45  ┆ 10:49:26  ┆           ┆ 00:00:00  │\n",
       "│ …          ┆ …          ┆            ┆           ┆           ┆           ┆           ┆           │\n",
       "│ 9ee391a010 ┆ 9c2344a071 ┆ created    ┆ 2017-01-2 ┆ null      ┆ null      ┆ null      ┆ 2017-03-1 │\n",
       "│ 04a9f330f1 ┆ 565e12fbf3 ┆            ┆ 7         ┆           ┆           ┆           ┆ 5         │\n",
       "│ 6ebf9f7f09 ┆ fae2abc986 ┆            ┆ 15:28:18  ┆           ┆           ┆           ┆ 00:00:00  │\n",
       "│ …          ┆ …          ┆            ┆           ┆           ┆           ┆           ┆           │\n",
       "│ 7ab9c55c59 ┆ feca0f935f ┆ shipped    ┆ 2017-01-2 ┆ 2017-01-2 ┆ 2017-01-2 ┆ null      ┆ 2017-03-1 │\n",
       "│ eaeea579d0 ┆ cce79dd42d ┆            ┆ 2         ┆ 5         ┆ 6         ┆           ┆ 6         │\n",
       "│ 47e2d8aaed ┆ 409d96af96 ┆            ┆ 13:04:20  ┆ 02:55:21  ┆ 16:41:28  ┆           ┆ 00:00:00  │\n",
       "│ …          ┆ …          ┆            ┆           ┆           ┆           ┆           ┆           │\n",
       "└────────────┴────────────┴────────────┴───────────┴───────────┴───────────┴───────────┴───────────┘"
      ]
     },
     "execution_count": 3,
     "metadata": {},
     "output_type": "execute_result"
    }
   ],
   "source": [
    "df.unique(\"order_id\")"
   ]
  }
 ],
 "metadata": {
  "kernelspec": {
   "display_name": "Python 3 (ipykernel)",
   "language": "python",
   "name": "python3"
  },
  "language_info": {
   "codemirror_mode": {
    "name": "ipython",
    "version": 3
   },
   "file_extension": ".py",
   "mimetype": "text/x-python",
   "name": "python",
   "nbconvert_exporter": "python",
   "pygments_lexer": "ipython3",
   "version": "3.11.9"
  }
 },
 "nbformat": 4,
 "nbformat_minor": 5
}
