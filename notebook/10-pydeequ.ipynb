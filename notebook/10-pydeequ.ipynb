{
 "cells": [
  {
   "cell_type": "code",
   "execution_count": 1,
   "id": "0e7ad28b-f9e7-4c1e-ab38-09e08b807571",
   "metadata": {},
   "outputs": [],
   "source": [
    "%run utils.ipynb"
   ]
  },
  {
   "cell_type": "code",
   "execution_count": 2,
   "id": "455e9167-9b45-4e51-828e-52d4feaeed1b",
   "metadata": {},
   "outputs": [
    {
     "data": {
      "text/html": [
       "\n",
       "            <div>\n",
       "                <p><b>SparkSession - in-memory</b></p>\n",
       "                \n",
       "        <div>\n",
       "            <p><b>SparkContext</b></p>\n",
       "\n",
       "            <p><a href=\"http://notebook-7b88d879fc-lgw2g:4040\">Spark UI</a></p>\n",
       "\n",
       "            <dl>\n",
       "              <dt>Version</dt>\n",
       "                <dd><code>v3.5.1</code></dd>\n",
       "              <dt>Master</dt>\n",
       "                <dd><code>local[*]</code></dd>\n",
       "              <dt>AppName</dt>\n",
       "                <dd><code>notebook</code></dd>\n",
       "            </dl>\n",
       "        </div>\n",
       "        \n",
       "            </div>\n",
       "        "
      ],
      "text/plain": [
       "<pyspark.sql.session.SparkSession at 0x72fcbd4af510>"
      ]
     },
     "execution_count": 2,
     "metadata": {},
     "output_type": "execute_result"
    }
   ],
   "source": [
    "spark = get_spark(catalog=\"iceberg\", storage=\"storage.io\")\n",
    "spark"
   ]
  },
  {
   "cell_type": "code",
   "execution_count": 3,
   "id": "f10208ad-eb81-4cdc-aa78-8829cb4053cf",
   "metadata": {},
   "outputs": [
    {
     "name": "stdout",
     "output_type": "stream",
     "text": [
      "root\n",
      " |-- order_id: string (nullable = true)\n",
      " |-- customer_id: string (nullable = true)\n",
      " |-- order_status: string (nullable = true)\n",
      " |-- order_purchase_timestamp: timestamp (nullable = true)\n",
      " |-- order_approved_at: timestamp (nullable = true)\n",
      " |-- order_delivered_carrier_date: timestamp (nullable = true)\n",
      " |-- order_delivered_customer_date: timestamp (nullable = true)\n",
      " |-- order_estimated_delivery_date: timestamp (nullable = true)\n",
      "\n",
      "+--------------------+--------------------+------------+------------------------+-------------------+----------------------------+-----------------------------+-----------------------------+\n",
      "|            order_id|         customer_id|order_status|order_purchase_timestamp|  order_approved_at|order_delivered_carrier_date|order_delivered_customer_date|order_estimated_delivery_date|\n",
      "+--------------------+--------------------+------------+------------------------+-------------------+----------------------------+-----------------------------+-----------------------------+\n",
      "|e481f51cbdc54678b...|9ef432eb625129730...|   delivered|     2017-10-02 10:56:33|2017-10-02 11:07:15|         2017-10-04 19:55:00|          2017-10-10 21:25:13|          2017-10-18 00:00:00|\n",
      "|53cdb2fc8bc7dce0b...|b0830fb4747a6c6d2...|   delivered|     2018-07-24 20:41:37|2018-07-26 03:24:27|         2018-07-26 14:31:00|          2018-08-07 15:27:45|          2018-08-13 00:00:00|\n",
      "+--------------------+--------------------+------------+------------------------+-------------------+----------------------------+-----------------------------+-----------------------------+\n",
      "only showing top 2 rows\n",
      "\n"
     ]
    }
   ],
   "source": [
    "df = (\n",
    "    spark.read\n",
    "    .format(\"csv\")\n",
    "    .option(\"header\", \"true\")\n",
    "    .option(\"inferSchema\", \"true\")\n",
    "    .load(\"s3a://ecommerce/raw/orders.csv\")\n",
    ")\n",
    "\n",
    "df.printSchema()\n",
    "df.show(2)"
   ]
  },
  {
   "cell_type": "code",
   "execution_count": 3,
   "id": "bceff227-a0e8-44a9-9b4b-ebf9110b867f",
   "metadata": {},
   "outputs": [],
   "source": [
    "import os\n",
    "os.environ[\"SPARK_VERSION\"] = \"3.5\"\n",
    "\n",
    "from pydeequ.checks import *\n",
    "from pydeequ.profiles import *\n",
    "from pydeequ.analyzers import *\n",
    "from pydeequ.suggestions import *\n",
    "from pydeequ.verification import *\n",
    "from pydeequ.repository import *"
   ]
  },
  {
   "cell_type": "code",
   "execution_count": 8,
   "id": "6f9caade-dede-41cc-adf4-8427a94a6287",
   "metadata": {},
   "outputs": [
    {
     "name": "stdout",
     "output_type": "stream",
     "text": [
      "AnalyzerContext(Map(Size(None) -> DoubleMetric(Dataset,Size,*,Success(99441.0),None), Completeness(order_id,None,None) -> DoubleMetric(Column,Completeness,order_id,Success(1.0),Some((order_id IS NOT NULL)))))\n",
      "+-------+--------+------------+-------+\n",
      "| entity|instance|        name|  value|\n",
      "+-------+--------+------------+-------+\n",
      "|Dataset|       *|        Size|99441.0|\n",
      "| Column|order_id|Completeness|    1.0|\n",
      "+-------+--------+------------+-------+\n",
      "\n"
     ]
    },
    {
     "name": "stderr",
     "output_type": "stream",
     "text": [
      "/usr/local/spark/python/pyspark/sql/dataframe.py:147: UserWarning: DataFrame constructor is internal. Do not directly use it.\n",
      "  warnings.warn(\"DataFrame constructor is internal. Do not directly use it.\")\n"
     ]
    }
   ],
   "source": [
    "analysis = (\n",
    "    AnalysisRunner(spark)\n",
    "    .onData(df)\n",
    "    .addAnalyzer(Size())\n",
    "    .addAnalyzer(Completeness(\"order_id\"))\n",
    "    .run()\n",
    ")\n",
    "\n",
    "print(analysis)\n",
    "\n",
    "analysis_df = AnalyzerContext.successMetricsAsDataFrame(spark, analysis)\n",
    "analysis_df.show()"
   ]
  },
  {
   "cell_type": "code",
   "execution_count": 10,
   "id": "b571a8c3-8948-40f7-b909-d8e6430116d6",
   "metadata": {},
   "outputs": [
    {
     "name": "stdout",
     "output_type": "stream",
     "text": [
      "<pydeequ.profiles.ColumnProfilesBuilder object at 0x748649cbe1d0>\n",
      "StandardProfiles for column: order_id: {\n",
      "    \"completeness\": 1.0,\n",
      "    \"approximateNumDistinctValues\": 99770,\n",
      "    \"dataType\": \"String\",\n",
      "    \"isDataTypeInferred\": false,\n",
      "    \"typeCounts\": {\n",
      "        \"Boolean\": 0,\n",
      "        \"Fractional\": 0,\n",
      "        \"Integral\": 0,\n",
      "        \"Unknown\": 0,\n",
      "        \"String\": 99441\n",
      "    },\n",
      "    \"histogram\": null\n",
      "}\n",
      "StandardProfiles for column: order_delivered_customer_date: {\n",
      "    \"completeness\": 0.9701833247855512,\n",
      "    \"approximateNumDistinctValues\": 93654,\n",
      "    \"dataType\": \"String\",\n",
      "    \"isDataTypeInferred\": false,\n",
      "    \"typeCounts\": {},\n",
      "    \"histogram\": null\n",
      "}\n",
      "StandardProfiles for column: customer_id: {\n",
      "    \"completeness\": 1.0,\n",
      "    \"approximateNumDistinctValues\": 102585,\n",
      "    \"dataType\": \"String\",\n",
      "    \"isDataTypeInferred\": false,\n",
      "    \"typeCounts\": {\n",
      "        \"Boolean\": 0,\n",
      "        \"Fractional\": 0,\n",
      "        \"Integral\": 0,\n",
      "        \"Unknown\": 0,\n",
      "        \"String\": 99441\n",
      "    },\n",
      "    \"histogram\": null\n",
      "}\n",
      "StandardProfiles for column: order_estimated_delivery_date: {\n",
      "    \"completeness\": 1.0,\n",
      "    \"approximateNumDistinctValues\": 480,\n",
      "    \"dataType\": \"String\",\n",
      "    \"isDataTypeInferred\": false,\n",
      "    \"typeCounts\": {},\n",
      "    \"histogram\": null\n",
      "}\n",
      "StandardProfiles for column: order_approved_at: {\n",
      "    \"completeness\": 0.9983910057219859,\n",
      "    \"approximateNumDistinctValues\": 92017,\n",
      "    \"dataType\": \"String\",\n",
      "    \"isDataTypeInferred\": false,\n",
      "    \"typeCounts\": {},\n",
      "    \"histogram\": null\n",
      "}\n",
      "StandardProfiles for column: order_status: {\n",
      "    \"completeness\": 1.0,\n",
      "    \"approximateNumDistinctValues\": 8,\n",
      "    \"dataType\": \"String\",\n",
      "    \"isDataTypeInferred\": false,\n",
      "    \"typeCounts\": {\n",
      "        \"Boolean\": 0,\n",
      "        \"Fractional\": 0,\n",
      "        \"Integral\": 0,\n",
      "        \"Unknown\": 0,\n",
      "        \"String\": 99441\n",
      "    },\n",
      "    \"histogram\": [\n",
      "        [\n",
      "            \"unavailable\",\n",
      "            609,\n",
      "            0.006124234470691163\n",
      "        ],\n",
      "        [\n",
      "            \"delivered\",\n",
      "            96478,\n",
      "            0.9702034372140264\n",
      "        ],\n",
      "        [\n",
      "            \"processing\",\n",
      "            301,\n",
      "            0.0030269204855140233\n",
      "        ],\n",
      "        [\n",
      "            \"shipped\",\n",
      "            1107,\n",
      "            0.011132229161010046\n",
      "        ],\n",
      "        [\n",
      "            \"invoiced\",\n",
      "            314,\n",
      "            0.0031576512706026688\n",
      "        ],\n",
      "        [\n",
      "            \"canceled\",\n",
      "            625,\n",
      "            0.006285133898492574\n",
      "        ],\n",
      "        [\n",
      "            \"approved\",\n",
      "            2,\n",
      "            2.0112428475176234e-05\n",
      "        ],\n",
      "        [\n",
      "            \"created\",\n",
      "            5,\n",
      "            5.028107118794059e-05\n",
      "        ]\n",
      "    ]\n",
      "}\n",
      "StandardProfiles for column: order_delivered_carrier_date: {\n",
      "    \"completeness\": 0.9820697700143803,\n",
      "    \"approximateNumDistinctValues\": 80965,\n",
      "    \"dataType\": \"String\",\n",
      "    \"isDataTypeInferred\": false,\n",
      "    \"typeCounts\": {},\n",
      "    \"histogram\": null\n",
      "}\n",
      "StandardProfiles for column: order_purchase_timestamp: {\n",
      "    \"completeness\": 1.0,\n",
      "    \"approximateNumDistinctValues\": 96924,\n",
      "    \"dataType\": \"String\",\n",
      "    \"isDataTypeInferred\": false,\n",
      "    \"typeCounts\": {},\n",
      "    \"histogram\": null\n",
      "}\n"
     ]
    }
   ],
   "source": [
    "profiler = (\n",
    "    ColumnProfilerRunner(spark)\n",
    "    .onData(df)\n",
    "    .run()\n",
    ")\n",
    "\n",
    "print(profiler)\n",
    "\n",
    "for col, profile in profiler.profiles.items():\n",
    "    print(profile)"
   ]
  },
  {
   "cell_type": "code",
   "execution_count": 19,
   "id": "9c79a278-559c-4317-8428-f7c04e48f746",
   "metadata": {},
   "outputs": [
    {
     "data": {
      "text/html": [
       "<div><style>\n",
       ".dataframe > thead > tr,\n",
       ".dataframe > tbody > tr {\n",
       "  text-align: right;\n",
       "  white-space: pre-wrap;\n",
       "}\n",
       "</style>\n",
       "<small>shape: (13, 7)</small><table border=\"1\" class=\"dataframe\"><thead><tr><th>constraint_name</th><th>column_name</th><th>current_value</th><th>description</th><th>suggesting_rule</th><th>rule_description</th><th>code_for_constraint</th></tr><tr><td>str</td><td>str</td><td>str</td><td>str</td><td>str</td><td>str</td><td>str</td></tr></thead><tbody><tr><td>&quot;CompletenessConstraint(Complet…</td><td>&quot;order_id&quot;</td><td>&quot;Completeness: 1.0&quot;</td><td>&quot;&#x27;order_id&#x27; is not null&quot;</td><td>&quot;CompleteIfCompleteRule()&quot;</td><td>&quot;If a column is complete in the…</td><td>&quot;.isComplete(&quot;order_id&quot;)&quot;</td></tr><tr><td>&quot;UniquenessConstraint(Uniquenes…</td><td>&quot;order_id&quot;</td><td>&quot;ApproxDistinctness: 1.00330849…</td><td>&quot;&#x27;order_id&#x27; is unique&quot;</td><td>&quot;UniqueIfApproximatelyUniqueRul…</td><td>&quot;If the ratio of approximate nu…</td><td>&quot;.isUnique(&quot;order_id&quot;)&quot;</td></tr><tr><td>&quot;CompletenessConstraint(Complet…</td><td>&quot;order_delivered_customer_date&quot;</td><td>&quot;Completeness: 0.97018332478555…</td><td>&quot;&#x27;order_delivered_customer_date…</td><td>&quot;RetainCompletenessRule()&quot;</td><td>&quot;If a column is incomplete in t…</td><td>&quot;.hasCompleteness(&quot;order_delive…</td></tr><tr><td>&quot;CompletenessConstraint(Complet…</td><td>&quot;customer_id&quot;</td><td>&quot;Completeness: 1.0&quot;</td><td>&quot;&#x27;customer_id&#x27; is not null&quot;</td><td>&quot;CompleteIfCompleteRule()&quot;</td><td>&quot;If a column is complete in the…</td><td>&quot;.isComplete(&quot;customer_id&quot;)&quot;</td></tr><tr><td>&quot;UniquenessConstraint(Uniquenes…</td><td>&quot;customer_id&quot;</td><td>&quot;ApproxDistinctness: 1.03161673…</td><td>&quot;&#x27;customer_id&#x27; is unique&quot;</td><td>&quot;UniqueIfApproximatelyUniqueRul…</td><td>&quot;If the ratio of approximate nu…</td><td>&quot;.isUnique(&quot;customer_id&quot;)&quot;</td></tr><tr><td>&hellip;</td><td>&hellip;</td><td>&hellip;</td><td>&hellip;</td><td>&hellip;</td><td>&hellip;</td><td>&hellip;</td></tr><tr><td>&quot;CompletenessConstraint(Complet…</td><td>&quot;order_status&quot;</td><td>&quot;Completeness: 1.0&quot;</td><td>&quot;&#x27;order_status&#x27; is not null&quot;</td><td>&quot;CompleteIfCompleteRule()&quot;</td><td>&quot;If a column is complete in the…</td><td>&quot;.isComplete(&quot;order_status&quot;)&quot;</td></tr><tr><td>&quot;ComplianceConstraint(Complianc…</td><td>&quot;order_status&quot;</td><td>&quot;Compliance: 0.9702034372140264&quot;</td><td>&quot;&#x27;order_status&#x27; has value range…</td><td>&quot;FractionalCategoricalRangeRule…</td><td>&quot;If we see a categorical range …</td><td>&quot;.isContainedIn(&quot;order_status&quot;,…</td></tr><tr><td>&quot;CompletenessConstraint(Complet…</td><td>&quot;order_delivered_carrier_date&quot;</td><td>&quot;Completeness: 0.98206977001438…</td><td>&quot;&#x27;order_delivered_carrier_date&#x27;…</td><td>&quot;RetainCompletenessRule()&quot;</td><td>&quot;If a column is incomplete in t…</td><td>&quot;.hasCompleteness(&quot;order_delive…</td></tr><tr><td>&quot;CompletenessConstraint(Complet…</td><td>&quot;order_purchase_timestamp&quot;</td><td>&quot;Completeness: 1.0&quot;</td><td>&quot;&#x27;order_purchase_timestamp&#x27; is …</td><td>&quot;CompleteIfCompleteRule()&quot;</td><td>&quot;If a column is complete in the…</td><td>&quot;.isComplete(&quot;order_purchase_ti…</td></tr><tr><td>&quot;UniquenessConstraint(Uniquenes…</td><td>&quot;order_purchase_timestamp&quot;</td><td>&quot;ApproxDistinctness: 0.97468850…</td><td>&quot;&#x27;order_purchase_timestamp&#x27; is …</td><td>&quot;UniqueIfApproximatelyUniqueRul…</td><td>&quot;If the ratio of approximate nu…</td><td>&quot;.isUnique(&quot;order_purchase_time…</td></tr></tbody></table></div>"
      ],
      "text/plain": [
       "shape: (13, 7)\n",
       "┌──────────────┬─────────────┬─────────────┬─────────────┬─────────────┬─────────────┬─────────────┐\n",
       "│ constraint_n ┆ column_name ┆ current_val ┆ description ┆ suggesting_ ┆ rule_descri ┆ code_for_co │\n",
       "│ ame          ┆ ---         ┆ ue          ┆ ---         ┆ rule        ┆ ption       ┆ nstraint    │\n",
       "│ ---          ┆ str         ┆ ---         ┆ str         ┆ ---         ┆ ---         ┆ ---         │\n",
       "│ str          ┆             ┆ str         ┆             ┆ str         ┆ str         ┆ str         │\n",
       "╞══════════════╪═════════════╪═════════════╪═════════════╪═════════════╪═════════════╪═════════════╡\n",
       "│ Completeness ┆ order_id    ┆ Completenes ┆ 'order_id'  ┆ CompleteIfC ┆ If a column ┆ .isComplete │\n",
       "│ Constraint(C ┆             ┆ s: 1.0      ┆ is not null ┆ ompleteRule ┆ is complete ┆ (\"order_id\" │\n",
       "│ omplet…      ┆             ┆             ┆             ┆ ()          ┆ in the…     ┆ )           │\n",
       "│ UniquenessCo ┆ order_id    ┆ ApproxDisti ┆ 'order_id'  ┆ UniqueIfApp ┆ If the      ┆ .isUnique(\" │\n",
       "│ nstraint(Uni ┆             ┆ nctness:    ┆ is unique   ┆ roximatelyU ┆ ratio of    ┆ order_id\")  │\n",
       "│ quenes…      ┆             ┆ 1.00330849… ┆             ┆ niqueRul…   ┆ approximate ┆             │\n",
       "│              ┆             ┆             ┆             ┆             ┆ nu…         ┆             │\n",
       "│ Completeness ┆ order_deliv ┆ Completenes ┆ 'order_deli ┆ RetainCompl ┆ If a column ┆ .hasComplet │\n",
       "│ Constraint(C ┆ ered_custom ┆ s: 0.970183 ┆ vered_custo ┆ etenessRule ┆ is          ┆ eness(\"orde │\n",
       "│ omplet…      ┆ er_date     ┆ 32478555…   ┆ mer_date…   ┆ ()          ┆ incomplete  ┆ r_delive…   │\n",
       "│              ┆             ┆             ┆             ┆             ┆ in t…       ┆             │\n",
       "│ Completeness ┆ customer_id ┆ Completenes ┆ 'customer_i ┆ CompleteIfC ┆ If a column ┆ .isComplete │\n",
       "│ Constraint(C ┆             ┆ s: 1.0      ┆ d' is not   ┆ ompleteRule ┆ is complete ┆ (\"customer_ │\n",
       "│ omplet…      ┆             ┆             ┆ null        ┆ ()          ┆ in the…     ┆ id\")        │\n",
       "│ UniquenessCo ┆ customer_id ┆ ApproxDisti ┆ 'customer_i ┆ UniqueIfApp ┆ If the      ┆ .isUnique(\" │\n",
       "│ nstraint(Uni ┆             ┆ nctness:    ┆ d' is       ┆ roximatelyU ┆ ratio of    ┆ customer_id │\n",
       "│ quenes…      ┆             ┆ 1.03161673… ┆ unique      ┆ niqueRul…   ┆ approximate ┆ \")          │\n",
       "│              ┆             ┆             ┆             ┆             ┆ nu…         ┆             │\n",
       "│ …            ┆ …           ┆ …           ┆ …           ┆ …           ┆ …           ┆ …           │\n",
       "│ Completeness ┆ order_statu ┆ Completenes ┆ 'order_stat ┆ CompleteIfC ┆ If a column ┆ .isComplete │\n",
       "│ Constraint(C ┆ s           ┆ s: 1.0      ┆ us' is not  ┆ ompleteRule ┆ is complete ┆ (\"order_sta │\n",
       "│ omplet…      ┆             ┆             ┆ null        ┆ ()          ┆ in the…     ┆ tus\")       │\n",
       "│ ComplianceCo ┆ order_statu ┆ Compliance: ┆ 'order_stat ┆ FractionalC ┆ If we see a ┆ .isContaine │\n",
       "│ nstraint(Com ┆ s           ┆ 0.970203437 ┆ us' has     ┆ ategoricalR ┆ categorical ┆ dIn(\"order_ │\n",
       "│ plianc…      ┆             ┆ 2140264     ┆ value       ┆ angeRule…   ┆ range …     ┆ status\",…   │\n",
       "│              ┆             ┆             ┆ range…      ┆             ┆             ┆             │\n",
       "│ Completeness ┆ order_deliv ┆ Completenes ┆ 'order_deli ┆ RetainCompl ┆ If a column ┆ .hasComplet │\n",
       "│ Constraint(C ┆ ered_carrie ┆ s: 0.982069 ┆ vered_carri ┆ etenessRule ┆ is          ┆ eness(\"orde │\n",
       "│ omplet…      ┆ r_date      ┆ 77001438…   ┆ er_date'…   ┆ ()          ┆ incomplete  ┆ r_delive…   │\n",
       "│              ┆             ┆             ┆             ┆             ┆ in t…       ┆             │\n",
       "│ Completeness ┆ order_purch ┆ Completenes ┆ 'order_purc ┆ CompleteIfC ┆ If a column ┆ .isComplete │\n",
       "│ Constraint(C ┆ ase_timesta ┆ s: 1.0      ┆ hase_timest ┆ ompleteRule ┆ is complete ┆ (\"order_pur │\n",
       "│ omplet…      ┆ mp          ┆             ┆ amp' is …   ┆ ()          ┆ in the…     ┆ chase_ti…   │\n",
       "│ UniquenessCo ┆ order_purch ┆ ApproxDisti ┆ 'order_purc ┆ UniqueIfApp ┆ If the      ┆ .isUnique(\" │\n",
       "│ nstraint(Uni ┆ ase_timesta ┆ nctness:    ┆ hase_timest ┆ roximatelyU ┆ ratio of    ┆ order_purch │\n",
       "│ quenes…      ┆ mp          ┆ 0.97468850… ┆ amp' is …   ┆ niqueRul…   ┆ approximate ┆ ase_time…   │\n",
       "│              ┆             ┆             ┆             ┆             ┆ nu…         ┆             │\n",
       "└──────────────┴─────────────┴─────────────┴─────────────┴─────────────┴─────────────┴─────────────┘"
      ]
     },
     "execution_count": 19,
     "metadata": {},
     "output_type": "execute_result"
    }
   ],
   "source": [
    "constraint = (\n",
    "    ConstraintSuggestionRunner(spark)\n",
    "    .onData(df)\n",
    "    .addConstraintRule(DEFAULT())\n",
    "    .run()\n",
    ")\n",
    "\n",
    "pl.DataFrame(constraint[\"constraint_suggestions\"])"
   ]
  },
  {
   "cell_type": "code",
   "execution_count": 17,
   "id": "b0dd7db2-faca-436b-b14e-d266fd303319",
   "metadata": {},
   "outputs": [
    {
     "name": "stdout",
     "output_type": "stream",
     "text": [
      "+-----+-----------+------------+--------------------------------------------------------------------------------------------------------------------------------------------------------------------------------------------------------------------------------------------------------------------------------------------------------------+-----------------+------------------+\n",
      "|check|check_level|check_status|constraint                                                                                                                                                                                                                                                                                                    |constraint_status|constraint_message|\n",
      "+-----+-----------+------------+--------------------------------------------------------------------------------------------------------------------------------------------------------------------------------------------------------------------------------------------------------------------------------------------------------------+-----------------+------------------+\n",
      "|Check|Warning    |Success     |UniquenessConstraint(Uniqueness(List(order_id),None,None))                                                                                                                                                                                                                                                    |Success          |                  |\n",
      "|Check|Warning    |Success     |CompletenessConstraint(Completeness(order_id,None,None))                                                                                                                                                                                                                                                      |Success          |                  |\n",
      "|Check|Warning    |Success     |CompletenessConstraint(Completeness(customer_id,None,None))                                                                                                                                                                                                                                                   |Success          |                  |\n",
      "|Check|Warning    |Success     |CompletenessConstraint(Completeness(order_purchase_timestamp,None,None))                                                                                                                                                                                                                                      |Success          |                  |\n",
      "|Check|Warning    |Success     |CompletenessConstraint(Completeness(order_estimated_delivery_date,None,None))                                                                                                                                                                                                                                 |Success          |                  |\n",
      "|Check|Warning    |Success     |ComplianceConstraint(Compliance(order_status contained in approved,processing,invoiced,canceled,delivered,shipped,unavailable,created,`order_status` IS NULL OR `order_status` IN ('approved','processing','invoiced','canceled','delivered','shipped','unavailable','created'),None,List(order_status),None))|Success          |                  |\n",
      "+-----+-----------+------------+--------------------------------------------------------------------------------------------------------------------------------------------------------------------------------------------------------------------------------------------------------------------------------------------------------------+-----------------+------------------+\n",
      "\n"
     ]
    }
   ],
   "source": [
    "from pyspark.sql.functions import concat, substring, lit\n",
    "\n",
    "check = Check(spark, CheckLevel.Warning, \"Check\")\n",
    "\n",
    "verification = (\n",
    "    VerificationSuite(spark).onData(df)\n",
    "    .addCheck(\n",
    "        check\n",
    "        .isUnique(\"order_id\")\n",
    "        .isComplete(\"order_id\")\n",
    "        .isComplete(\"customer_id\")\n",
    "        .isComplete(\"order_purchase_timestamp\")\n",
    "        .isComplete(\"order_estimated_delivery_date\")\n",
    "        .isContainedIn(\"order_status\", [\"approved\" ,\"processing\" ,\"invoiced\" ,\"canceled\" ,\"delivered\" ,\"shipped\" ,\"unavailable\" ,\"created\"])\n",
    "    ).run()\n",
    ")\n",
    "\n",
    "verification_df = VerificationResult.checkResultsAsDataFrame(spark, verification)\n",
    "\n",
    "verification_df.show(truncate=False)"
   ]
  },
  {
   "cell_type": "code",
   "execution_count": 5,
   "id": "2a5794f6-4579-4fe1-9737-1bd0a86ef6d3",
   "metadata": {},
   "outputs": [
    {
     "name": "stdout",
     "output_type": "stream",
     "text": [
      "AnalyzerContext(Map(Size(None) -> DoubleMetric(Dataset,Size,*,Success(99441.0),None), Completeness(order_id,None,None) -> DoubleMetric(Column,Completeness,order_id,Success(1.0),Some((order_id IS NOT NULL)))))\n",
      "+-------+--------+------------+-------+\n",
      "| entity|instance|        name|  value|\n",
      "+-------+--------+------------+-------+\n",
      "|Dataset|       *|        Size|99441.0|\n",
      "| Column|order_id|Completeness|    1.0|\n",
      "+-------+--------+------------+-------+\n",
      "\n"
     ]
    },
    {
     "name": "stderr",
     "output_type": "stream",
     "text": [
      "/usr/local/spark/python/pyspark/sql/dataframe.py:147: UserWarning: DataFrame constructor is internal. Do not directly use it.\n",
      "  warnings.warn(\"DataFrame constructor is internal. Do not directly use it.\")\n"
     ]
    }
   ],
   "source": [
    "repository = FileSystemMetricsRepository(spark, \"s3a://ecommerce/metrics/metrics.orders.json\")\n",
    "result_key = ResultKey(spark, ResultKey.current_milli_time(), {\"tag\": \"orders\"})\n",
    "\n",
    "analysis = (\n",
    "    AnalysisRunner(spark)\n",
    "    .onData(df)\n",
    "    .addAnalyzer(Size())\n",
    "    .addAnalyzer(Completeness(\"order_id\"))\n",
    "    .useRepository(repository)\n",
    "    .saveOrAppendResult(result_key)\n",
    "    .run()\n",
    ")\n",
    "\n",
    "print(analysis)\n",
    "\n",
    "analysis_df = AnalyzerContext.successMetricsAsDataFrame(spark, analysis)\n",
    "analysis_df.show()"
   ]
  },
  {
   "cell_type": "code",
   "execution_count": 10,
   "id": "fd3614e9-b702-4230-94f5-4dd33d83be74",
   "metadata": {},
   "outputs": [
    {
     "data": {
      "text/plain": [
       "[{'resultKey': {'dataSetDate': 1722937954894, 'tags': {'tag': 'orders'}},\n",
       "  'analyzerContext': {'metricMap': [{'analyzer': {'analyzerName': 'Size'},\n",
       "     'metric': {'metricName': 'DoubleMetric',\n",
       "      'entity': 'Dataset',\n",
       "      'instance': '*',\n",
       "      'name': 'Size',\n",
       "      'value': 99441.0}},\n",
       "    {'analyzer': {'analyzerName': 'Completeness', 'column': 'order_id'},\n",
       "     'metric': {'metricName': 'DoubleMetric',\n",
       "      'entity': 'Column',\n",
       "      'instance': 'order_id',\n",
       "      'name': 'Completeness',\n",
       "      'value': 1.0}}]}}]"
      ]
     },
     "execution_count": 10,
     "metadata": {},
     "output_type": "execute_result"
    }
   ],
   "source": [
    "import json\n",
    "\n",
    "storage = get_storage(\"storage.io\")\n",
    "response = storage.get_object(\"ecommerce\", \"metrics/metrics.orders.json\")\n",
    "json.loads(response.read())"
   ]
  },
  {
   "cell_type": "code",
   "execution_count": 18,
   "id": "171d01bd-f4f1-46d3-a210-c1d78c860925",
   "metadata": {},
   "outputs": [
    {
     "name": "stdout",
     "output_type": "stream",
     "text": [
      "+-----+-----------+------------+--------------------------------------------------------------+-----------------+----------------------------------------------------+\n",
      "|check|check_level|check_status|constraint                                                    |constraint_status|constraint_message                                  |\n",
      "+-----+-----------+------------+--------------------------------------------------------------+-----------------+----------------------------------------------------+\n",
      "|Check|Error      |Error       |UniquenessConstraint(Uniqueness(List(order_status),None,None))|Failure          |Value: 0.0 does not meet the constraint requirement!|\n",
      "+-----+-----------+------------+--------------------------------------------------------------+-----------------+----------------------------------------------------+\n",
      "\n"
     ]
    }
   ],
   "source": [
    "check = Check(spark, CheckLevel.Error, \"Check\")\n",
    "\n",
    "verification = (\n",
    "    VerificationSuite(spark).onData(df)\n",
    "    .addCheck(check.isUnique(\"order_status\"))\n",
    "    .run()\n",
    ")\n",
    "\n",
    "verification_df = VerificationResult.checkResultsAsDataFrame(spark, verification)\n",
    "\n",
    "verification_df.show(truncate=False)"
   ]
  },
  {
   "cell_type": "code",
   "execution_count": 33,
   "id": "079c1f29-6087-4bae-a977-f295feeb4d85",
   "metadata": {},
   "outputs": [
    {
     "data": {
      "text/plain": [
       "1"
      ]
     },
     "execution_count": 33,
     "metadata": {},
     "output_type": "execute_result"
    }
   ],
   "source": [
    "verification_df.filter(verification_df.check_status == \"Error\").count()"
   ]
  },
  {
   "cell_type": "code",
   "execution_count": 2,
   "id": "64d9a30c-aa82-4311-bb03-fc7b123a6485",
   "metadata": {},
   "outputs": [
    {
     "name": "stdout",
     "output_type": "stream",
     "text": [
      "root\n",
      " |-- order_id: string (nullable = true)\n",
      " |-- customer_id: string (nullable = true)\n",
      " |-- order_status: string (nullable = true)\n",
      " |-- order_purchase_timestamp: timestamp (nullable = true)\n",
      " |-- order_approved_at: timestamp (nullable = true)\n",
      " |-- order_delivered_carrier_date: timestamp (nullable = true)\n",
      " |-- order_delivered_customer_date: timestamp (nullable = true)\n",
      " |-- order_estimated_delivery_date: timestamp (nullable = true)\n",
      "\n",
      "+--------------------+--------------------+------------+------------------------+-------------------+----------------------------+-----------------------------+-----------------------------+\n",
      "|            order_id|         customer_id|order_status|order_purchase_timestamp|  order_approved_at|order_delivered_carrier_date|order_delivered_customer_date|order_estimated_delivery_date|\n",
      "+--------------------+--------------------+------------+------------------------+-------------------+----------------------------+-----------------------------+-----------------------------+\n",
      "|ce86fa5a510888472...|8fa33a3159dfc303b...|   delivered|     2017-01-05 13:29:03|2017-01-07 03:45:23|         2017-01-11 15:35:54|          2017-01-16 16:05:21|          2017-02-01 00:00:00|\n",
      "|ca5a215980675471f...|588047d7101d88c33...|   delivered|     2017-01-05 14:23:54|2017-01-07 03:44:16|         2017-01-11 15:37:55|          2017-01-17 15:14:20|          2017-02-01 00:00:00|\n",
      "+--------------------+--------------------+------------+------------------------+-------------------+----------------------------+-----------------------------+-----------------------------+\n",
      "only showing top 2 rows\n",
      "\n"
     ]
    }
   ],
   "source": [
    "spark = get_spark(catalog=\"iceberg\", storage=\"lakehouse.io\")\n",
    "df = (\n",
    "    spark.read\n",
    "    .format(\"csv\")\n",
    "    .option(\"header\", \"true\")\n",
    "    .option(\"inferSchema\", \"true\")\n",
    "    .load(\"s3a://ecommerce/staging/orders/orders.2017-01-05.csv\")\n",
    ")\n",
    "\n",
    "df.printSchema()\n",
    "df.show(2)"
   ]
  },
  {
   "cell_type": "code",
   "execution_count": 4,
   "id": "0154356e-84ae-43f9-9dbd-ae8fa61c0667",
   "metadata": {},
   "outputs": [
    {
     "name": "stdout",
     "output_type": "stream",
     "text": [
      "+------+-----------+------------+--------------------------------------------------------------------------------------------------------------------------------------------------------------------------------------------------------------------------------------------------------------------------------------------------------------+-----------------+------------------------------------------------+\n",
      "|check |check_level|check_status|constraint                                                                                                                                                                                                                                                                                                    |constraint_status|constraint_message                              |\n",
      "+------+-----------+------------+--------------------------------------------------------------------------------------------------------------------------------------------------------------------------------------------------------------------------------------------------------------------------------------------------------------+-----------------+------------------------------------------------+\n",
      "|orders|Error      |Error       |UniquenessConstraint(Uniqueness(List(order_id),None,None))                                                                                                                                                                                                                                                    |Success          |                                                |\n",
      "|orders|Error      |Error       |CompletenessConstraint(Completeness(order_id,None,None))                                                                                                                                                                                                                                                      |Success          |                                                |\n",
      "|orders|Error      |Error       |CompletenessConstraint(Completeness(customer_Fid,None,None))                                                                                                                                                                                                                                                  |Failure          |Input data does not include column customer_Fid!|\n",
      "|orders|Error      |Error       |CompletenessConstraint(Completeness(order_purchase_timestamp,None,None))                                                                                                                                                                                                                                      |Success          |                                                |\n",
      "|orders|Error      |Error       |CompletenessConstraint(Completeness(order_estimated_delivery_date,None,None))                                                                                                                                                                                                                                 |Success          |                                                |\n",
      "|orders|Error      |Error       |ComplianceConstraint(Compliance(order_status contained in approved,processing,invoiced,canceled,delivered,shipped,unavailable,created,`order_status` IS NULL OR `order_status` IN ('approved','processing','invoiced','canceled','delivered','shipped','unavailable','created'),None,List(order_status),None))|Success          |                                                |\n",
      "+------+-----------+------------+--------------------------------------------------------------------------------------------------------------------------------------------------------------------------------------------------------------------------------------------------------------------------------------------------------------+-----------------+------------------------------------------------+\n",
      "\n"
     ]
    }
   ],
   "source": [
    "import os\n",
    "os.environ[\"SPARK_VERSION\"] = \"3.5\"\n",
    "\n",
    "from pydeequ.checks import *\n",
    "from pydeequ.profiles import *\n",
    "from pydeequ.analyzers import *\n",
    "from pydeequ.suggestions import *\n",
    "from pydeequ.verification import *\n",
    "from pydeequ.repository import *\n",
    "\n",
    "from pyspark.sql.functions import concat, substring, lit\n",
    "\n",
    "check = Check(spark, CheckLevel.Error, \"orders\")\n",
    "\n",
    "verification = (\n",
    "    VerificationSuite(spark).onData(df)\n",
    "    .addCheck(\n",
    "        check\n",
    "        .isUnique(\"order_id\")\n",
    "        .isComplete(\"order_id\")\n",
    "        .isComplete(\"customer_Fid\")\n",
    "        .isComplete(\"order_purchase_timestamp\")\n",
    "        .isComplete(\"order_estimated_delivery_date\")\n",
    "        .isContainedIn(\"order_status\", [\"approved\" ,\"processing\" ,\"invoiced\" ,\"canceled\" ,\"delivered\" ,\"shipped\" ,\"unavailable\" ,\"created\"])\n",
    "    ).run()\n",
    ")\n",
    "\n",
    "verification_df = VerificationResult.checkResultsAsDataFrame(spark, verification)\n",
    "\n",
    "verification_df.show(truncate=False)"
   ]
  },
  {
   "cell_type": "code",
   "execution_count": 6,
   "id": "10ccae3d-7376-467a-88d2-26da9869c4a3",
   "metadata": {},
   "outputs": [
    {
     "name": "stdout",
     "output_type": "stream",
     "text": [
      "+--------------------+--------------------+------------+------------------------+-------------------+----------------------------+-----------------------------+-----------------------------+----+-----+---+\n",
      "|            order_id|         customer_id|order_status|order_purchase_timestamp|  order_approved_at|order_delivered_carrier_date|order_delivered_customer_date|order_estimated_delivery_date|year|month|day|\n",
      "+--------------------+--------------------+------------+------------------------+-------------------+----------------------------+-----------------------------+-----------------------------+----+-----+---+\n",
      "|09f58c00f941827ab...|7c94da97db6fe83e1...|   delivered|     2017-01-05 16:05:07|2017-01-07 03:35:34|         2017-01-11 15:47:40|          2017-01-16 15:43:31|          2017-02-13 00:00:00|2017|    1|  5|\n",
      "|0bda8164c1a12b6a3...|3f402674c608ea670...|   delivered|     2017-01-05 13:36:07|2017-01-07 03:45:47|         2017-01-11 16:09:00|          2017-01-16 17:27:34|          2017-02-13 00:00:00|2017|    1|  5|\n",
      "|17fed53ba6dfef9b5...|c0352e94059e3e5a7...|   delivered|     2017-01-05 14:50:54|2017-01-07 03:35:35|         2017-01-11 15:59:08|          2017-01-16 15:24:03|          2017-02-13 00:00:00|2017|    1|  5|\n",
      "|1b694ef5b28d3e949...|cba12036a88407a37...|   delivered|     2017-01-05 13:43:17|2017-01-07 03:35:38|         2017-01-11 16:08:55|          2017-01-16 16:54:04|          2017-02-13 00:00:00|2017|    1|  5|\n",
      "|205d7052a6505124d...|d020d4abe6475a838...|   delivered|     2017-01-05 13:59:30|2017-01-07 03:44:23|         2017-01-11 16:09:00|          2017-01-17 17:52:31|          2017-02-13 00:00:00|2017|    1|  5|\n",
      "|2f9d791088532b218...|937bb74713a479124...|   delivered|     2017-01-05 13:48:48|2017-01-07 03:35:21|         2017-01-11 16:08:53|          2017-01-17 16:57:46|          2017-02-13 00:00:00|2017|    1|  5|\n",
      "|34bf4feda1e203af6...|64b56cb1662271f54...|   delivered|     2017-01-05 12:14:58|2017-01-07 03:35:24|         2017-01-11 16:09:04|          2017-01-16 16:13:55|          2017-02-01 00:00:00|2017|    1|  5|\n",
      "|38bcb524e1c38c2c1...|d2c63ad286e3ca9dd...|   delivered|     2017-01-05 12:06:36|2017-01-07 03:45:22|         2017-01-11 15:35:54|          2017-01-16 16:05:22|          2017-02-13 00:00:00|2017|    1|  5|\n",
      "|3ce4038922670fead...|5da810af4515e4470...|   delivered|     2017-01-05 13:52:39|2017-01-07 03:44:23|         2017-01-11 15:37:55|          2017-01-16 14:04:35|          2017-02-13 00:00:00|2017|    1|  5|\n",
      "|40599d3d28b757469...|efdf4a7c78d7c3640...|   delivered|     2017-01-05 13:01:48|2017-01-07 03:45:49|         2017-01-11 16:08:53|          2017-01-16 15:43:21|          2017-02-13 00:00:00|2017|    1|  5|\n",
      "|43d29c6fc78c31c80...|41fdaf0dcabfb53a5...|   delivered|     2017-01-05 14:36:18|2017-01-07 03:44:12|         2017-01-11 16:25:58|          2017-01-16 09:13:47|          2017-02-01 00:00:00|2017|    1|  5|\n",
      "|464de32dc84484c1d...|27129ce1ebca4ffa2...|   delivered|     2017-01-05 15:25:04|2017-01-07 03:35:36|         2017-01-11 15:59:08|          2017-01-17 16:09:40|          2017-02-13 00:00:00|2017|    1|  5|\n",
      "|5965b589a33443dd1...|e7e6da2ddce69ab0b...|   delivered|     2017-01-05 13:36:41|2017-01-07 03:44:29|         2017-01-11 16:08:52|          2017-01-16 15:53:34|          2017-02-01 00:00:00|2017|    1|  5|\n",
      "|6acecf438369055d9...|42d857e22f61f1047...|   delivered|     2017-01-05 12:11:23|2017-01-07 03:44:07|         2017-01-11 16:22:53|          2017-01-17 16:06:30|          2017-02-13 00:00:00|2017|    1|  5|\n",
      "|7004296aa0256632e...|3a7856f2a103364d2...|   delivered|     2017-01-05 13:31:22|2017-01-07 03:44:29|         2017-01-11 15:35:53|          2017-01-16 16:05:21|          2017-02-01 00:00:00|2017|    1|  5|\n",
      "|747996a66f5aa711d...|ed1793d2d1e4175d5...|   delivered|     2017-01-05 15:25:10|2017-01-07 03:44:28|         2017-01-11 15:59:08|          2017-01-16 15:18:08|          2017-02-13 00:00:00|2017|    1|  5|\n",
      "|7a18a504c1a4b32d8...|e6bee29442c761ff0...|   delivered|     2017-01-05 12:09:08|2017-01-07 03:44:08|         2017-01-11 15:35:53|          2017-01-16 15:43:29|          2017-02-13 00:00:00|2017|    1|  5|\n",
      "|8a784d47854e4cbc5...|a969b9f8d923bc7fd...|   delivered|     2017-01-05 14:18:03|2017-01-07 03:44:16|         2017-01-11 16:08:56|          2017-01-17 16:47:45|          2017-02-13 00:00:00|2017|    1|  5|\n",
      "|9021fdebb45ac827a...|7fdeb74955a334e7a...|   delivered|     2017-01-05 19:52:28|2017-01-07 03:35:30|         2017-01-09 16:55:33|          2017-01-13 12:27:45|          2017-02-07 00:00:00|2017|    1|  5|\n",
      "|9b91ddcbd6cbceb83...|6152d0774bbbf74f7...|   delivered|     2017-01-05 14:22:02|2017-01-07 03:44:09|         2017-01-11 16:25:57|          2017-01-16 16:32:52|          2017-02-01 00:00:00|2017|    1|  5|\n",
      "+--------------------+--------------------+------------+------------------------+-------------------+----------------------------+-----------------------------+-----------------------------+----+-----+---+\n",
      "only showing top 20 rows\n",
      "\n"
     ]
    }
   ],
   "source": [
    "spark.sql(\"select * from iceberg.ecommerce.orders\").show()"
   ]
  },
  {
   "cell_type": "code",
   "execution_count": 26,
   "id": "dd33f213-383a-4388-9025-9829f73866ed",
   "metadata": {},
   "outputs": [
    {
     "name": "stdout",
     "output_type": "stream",
     "text": [
      "root\n",
      " |-- review_id: string (nullable = true)\n",
      " |-- order_id: string (nullable = true)\n",
      " |-- review_score: string (nullable = true)\n",
      " |-- review_comment_title: string (nullable = true)\n",
      " |-- review_comment_message: string (nullable = true)\n",
      " |-- review_creation_date: string (nullable = true)\n",
      " |-- review_answer_timestamp: string (nullable = true)\n",
      "\n",
      "+--------------------+--------------------+------------+--------------------+----------------------+--------------------+-----------------------+\n",
      "|           review_id|            order_id|review_score|review_comment_title|review_comment_message|review_creation_date|review_answer_timestamp|\n",
      "+--------------------+--------------------+------------+--------------------+----------------------+--------------------+-----------------------+\n",
      "|7bc2406110b926393...|73fc7af87114b3971...|           4|                NULL|                  NULL| 2018-01-18 00:00:00|    2018-01-18 21:46:59|\n",
      "|80e641a11e56f04c1...|a548910a1c6147796...|           5|                NULL|                  NULL| 2018-03-10 00:00:00|    2018-03-11 03:05:13|\n",
      "+--------------------+--------------------+------------+--------------------+----------------------+--------------------+-----------------------+\n",
      "only showing top 2 rows\n",
      "\n"
     ]
    }
   ],
   "source": [
    "schema = (\n",
    "    \"review_id string,\"\n",
    "    \"order_id string,\"\n",
    "    \"review_score int,\"\n",
    "    \"review_comment_title string,\"\n",
    "    \"review_comment_message string,\"\n",
    "    \"review_creation_date timestamp,\"\n",
    "    \"review_answer_timestamp timestamp\"\n",
    ")\n",
    "\n",
    "df = (\n",
    "    spark.read\n",
    "    .format(\"csv\")\n",
    "    .schema(schema)\n",
    "    .option(\"header\", \"true\")\n",
    "    .load(\"s3a://ecommerce/raw/order_reviews.csv\")\n",
    ")\n",
    "\n",
    "df.printSchema()\n",
    "df.show(2)"
   ]
  },
  {
   "cell_type": "code",
   "execution_count": 44,
   "id": "8267ea77-cd3d-4511-9d53-9f997f206a60",
   "metadata": {},
   "outputs": [
    {
     "name": "stdout",
     "output_type": "stream",
     "text": [
      "root\n",
      " |-- review_id: string (nullable = true)\n",
      " |-- order_id: string (nullable = true)\n",
      " |-- review_score: integer (nullable = true)\n",
      " |-- review_comment_title: string (nullable = true)\n",
      " |-- review_comment_message: string (nullable = true)\n",
      " |-- review_creation_date: timestamp (nullable = true)\n",
      " |-- review_answer_timestamp: timestamp (nullable = true)\n",
      "\n",
      "+--------------------+--------------------+------------+--------------------+----------------------+--------------------+-----------------------+\n",
      "|           review_id|            order_id|review_score|review_comment_title|review_comment_message|review_creation_date|review_answer_timestamp|\n",
      "+--------------------+--------------------+------------+--------------------+----------------------+--------------------+-----------------------+\n",
      "|7bc2406110b926393...|73fc7af87114b3971...|           4|                NULL|                  NULL| 2018-01-18 00:00:00|    2018-01-18 21:46:59|\n",
      "|80e641a11e56f04c1...|a548910a1c6147796...|           5|                NULL|                  NULL| 2018-03-10 00:00:00|    2018-03-11 03:05:13|\n",
      "+--------------------+--------------------+------------+--------------------+----------------------+--------------------+-----------------------+\n",
      "only showing top 2 rows\n",
      "\n"
     ]
    }
   ],
   "source": [
    "schema = (\n",
    "    \"review_id string,\"\n",
    "    \"order_id string,\"\n",
    "    \"review_score int,\"\n",
    "    \"review_comment_title string,\"\n",
    "    \"review_comment_message string,\"\n",
    "    \"review_creation_date timestamp,\"\n",
    "    \"review_answer_timestamp timestamp\"\n",
    ")\n",
    "\n",
    "df = (\n",
    "    spark.read\n",
    "    .format(\"csv\")\n",
    "    .schema(schema)\n",
    "    .option(\"header\", \"true\")\n",
    "    .option(\"inferSchema\", \"false\")\n",
    "    .load(\"s3a://ecommerce/raw/order_reviews.csv\")\n",
    ")\n",
    "\n",
    "df.printSchema()\n",
    "df.show(2)"
   ]
  },
  {
   "cell_type": "code",
   "execution_count": 45,
   "id": "780ba2b5-5c26-426d-b743-c371ac49d405",
   "metadata": {},
   "outputs": [
    {
     "name": "stdout",
     "output_type": "stream",
     "text": [
      "+--------------------+--------------------+------------+--------------------+----------------------+--------------------+-----------------------+\n",
      "|           review_id|            order_id|review_score|review_comment_title|review_comment_message|review_creation_date|review_answer_timestamp|\n",
      "+--------------------+--------------------+------------+--------------------+----------------------+--------------------+-----------------------+\n",
      "|7bc2406110b926393...|73fc7af87114b3971...|           4|                NULL|                  NULL| 2018-01-18 00:00:00|    2018-01-18 21:46:59|\n",
      "|80e641a11e56f04c1...|a548910a1c6147796...|           5|                NULL|                  NULL| 2018-03-10 00:00:00|    2018-03-11 03:05:13|\n",
      "|228ce5500dc1d8e02...|f9e4b658b201a9f2e...|           5|                NULL|                  NULL| 2018-02-17 00:00:00|    2018-02-18 14:36:24|\n",
      "|e64fb393e7b32834b...|658677c97b385a9be...|           5|                NULL|  Recebi bem antes ...| 2017-04-21 00:00:00|    2017-04-21 22:02:06|\n",
      "|f7c4243c7fe1938f1...|8e6bfb81e283fa7e4...|           5|                NULL|  Parabéns lojas la...| 2018-03-01 00:00:00|    2018-03-02 10:26:53|\n",
      "|15197aa66ff4d0650...|b18dcdf73be663668...|           1|                NULL|                  NULL| 2018-04-13 00:00:00|    2018-04-16 00:39:37|\n",
      "|07f9bee5d1b850860...|e48aa0d2dcec3a2e8...|           5|                NULL|                  NULL| 2017-07-16 00:00:00|    2017-07-18 19:30:34|\n",
      "|7c6400515c67679fb...|c31a859e34e3adac2...|           5|                NULL|                  NULL| 2018-08-14 00:00:00|    2018-08-14 21:36:06|\n",
      "|a3f6f7f6f433de0ae...|9c214ac970e842735...|           5|                NULL|                  NULL| 2017-05-17 00:00:00|    2017-05-18 12:05:37|\n",
      "|8670d52e15e00043a...|b9bf720beb4ab3728...|           4|           recomendo|  aparelho eficient...| 2018-05-22 00:00:00|    2018-05-23 16:45:47|\n",
      "|c9cfd2d5ab5911836...|cdf9aa68e72324eeb...|           5|                NULL|                  NULL| 2017-12-23 00:00:00|    2017-12-26 14:36:03|\n",
      "|96052551d87e5f62e...|3d374c9e46530bb5e...|           5|                NULL|                  NULL| 2017-12-19 00:00:00|    2017-12-20 10:25:22|\n",
      "|4b49719c8a200003f...|9d6f15f95d01e79bd...|           4|                NULL|  Mas um pouco ,tra...|                NULL|                   NULL|\n",
      "|,2018-02-16 00:00...|                NULL|        NULL|                NULL|                  NULL|                NULL|                   NULL|\n",
      "|23f75a37effc35d9a...|2eaf8e099d871cd5c...|           4|                NULL|                  NULL| 2018-03-28 00:00:00|    2018-03-30 15:10:55|\n",
      "|9a0abbb668bafb95a...|d7bd0e4afdf94846e...|           3|                NULL|                  NULL| 2017-04-30 00:00:00|    2017-05-03 00:02:22|\n",
      "|3948b09f7c818e2d8...|e51478e7e277a8374...|           5|     Super recomendo|  Vendedor confiáve...| 2018-05-23 00:00:00|    2018-05-24 03:00:01|\n",
      "|9314d6f9799f5bfba...|0dacf04c5ad59fd5a...|           2|                NULL|  GOSTARIA DE SABER...| 2018-01-18 00:00:00|    2018-01-20 21:25:45|\n",
      "|8e15a274d95600fa1...|ff1581e08b3011021...|           5|                NULL|                  NULL| 2018-03-24 00:00:00|    2018-03-26 15:58:32|\n",
      "|fdbdb2629a7cde0f6...|70a752414a13d09cc...|           3|                NULL|                  NULL| 2017-09-29 00:00:00|    2017-10-02 01:12:49|\n",
      "+--------------------+--------------------+------------+--------------------+----------------------+--------------------+-----------------------+\n",
      "only showing top 20 rows\n",
      "\n"
     ]
    }
   ],
   "source": [
    "df.show()"
   ]
  },
  {
   "cell_type": "code",
   "execution_count": 24,
   "id": "f1352fed-3c2d-4e9f-966c-12899b2e66bc",
   "metadata": {},
   "outputs": [
    {
     "name": "stdout",
     "output_type": "stream",
     "text": [
      "+------------+\n",
      "|review_score|\n",
      "+------------+\n",
      "+------------+\n",
      "\n"
     ]
    }
   ],
   "source": [
    "df.select(\"review_score\").na.drop().show()"
   ]
  },
  {
   "cell_type": "code",
   "execution_count": 46,
   "id": "789f5ad9-f131-40bf-92d8-fa1103bed860",
   "metadata": {},
   "outputs": [
    {
     "name": "stdout",
     "output_type": "stream",
     "text": [
      "99225\n",
      "+--------------------+--------------------+------------+--------------------+----------------------+--------------------+-----------------------+\n",
      "|           review_id|            order_id|review_score|review_comment_title|review_comment_message|review_creation_date|review_answer_timestamp|\n",
      "+--------------------+--------------------+------------+--------------------+----------------------+--------------------+-----------------------+\n",
      "|7bc2406110b926393...|73fc7af87114b3971...|           4|                NULL|                  NULL| 2018-01-18 00:00:00|    2018-01-18 21:46:59|\n",
      "|80e641a11e56f04c1...|a548910a1c6147796...|           5|                NULL|                  NULL| 2018-03-10 00:00:00|    2018-03-11 03:05:13|\n",
      "|228ce5500dc1d8e02...|f9e4b658b201a9f2e...|           5|                NULL|                  NULL| 2018-02-17 00:00:00|    2018-02-18 14:36:24|\n",
      "|e64fb393e7b32834b...|658677c97b385a9be...|           5|                NULL|  Recebi bem antes ...| 2017-04-21 00:00:00|    2017-04-21 22:02:06|\n",
      "|f7c4243c7fe1938f1...|8e6bfb81e283fa7e4...|           5|                NULL|  Parabéns lojas la...| 2018-03-01 00:00:00|    2018-03-02 10:26:53|\n",
      "|15197aa66ff4d0650...|b18dcdf73be663668...|           1|                NULL|                  NULL| 2018-04-13 00:00:00|    2018-04-16 00:39:37|\n",
      "|07f9bee5d1b850860...|e48aa0d2dcec3a2e8...|           5|                NULL|                  NULL| 2017-07-16 00:00:00|    2017-07-18 19:30:34|\n",
      "|7c6400515c67679fb...|c31a859e34e3adac2...|           5|                NULL|                  NULL| 2018-08-14 00:00:00|    2018-08-14 21:36:06|\n",
      "|a3f6f7f6f433de0ae...|9c214ac970e842735...|           5|                NULL|                  NULL| 2017-05-17 00:00:00|    2017-05-18 12:05:37|\n",
      "|8670d52e15e00043a...|b9bf720beb4ab3728...|           4|           recomendo|  aparelho eficient...| 2018-05-22 00:00:00|    2018-05-23 16:45:47|\n",
      "|c9cfd2d5ab5911836...|cdf9aa68e72324eeb...|           5|                NULL|                  NULL| 2017-12-23 00:00:00|    2017-12-26 14:36:03|\n",
      "|96052551d87e5f62e...|3d374c9e46530bb5e...|           5|                NULL|                  NULL| 2017-12-19 00:00:00|    2017-12-20 10:25:22|\n",
      "|4b49719c8a200003f...|9d6f15f95d01e79bd...|           4|                NULL|  Mas um pouco ,tra...|                NULL|                   NULL|\n",
      "|23f75a37effc35d9a...|2eaf8e099d871cd5c...|           4|                NULL|                  NULL| 2018-03-28 00:00:00|    2018-03-30 15:10:55|\n",
      "|9a0abbb668bafb95a...|d7bd0e4afdf94846e...|           3|                NULL|                  NULL| 2017-04-30 00:00:00|    2017-05-03 00:02:22|\n",
      "|3948b09f7c818e2d8...|e51478e7e277a8374...|           5|     Super recomendo|  Vendedor confiáve...| 2018-05-23 00:00:00|    2018-05-24 03:00:01|\n",
      "|9314d6f9799f5bfba...|0dacf04c5ad59fd5a...|           2|                NULL|  GOSTARIA DE SABER...| 2018-01-18 00:00:00|    2018-01-20 21:25:45|\n",
      "|8e15a274d95600fa1...|ff1581e08b3011021...|           5|                NULL|                  NULL| 2018-03-24 00:00:00|    2018-03-26 15:58:32|\n",
      "|fdbdb2629a7cde0f6...|70a752414a13d09cc...|           3|                NULL|                  NULL| 2017-09-29 00:00:00|    2017-10-02 01:12:49|\n",
      "|373cbeecea8286a2b...|583174fbe37d3d5f0...|           1|Não chegou meu pr...|               Péssimo| 2018-08-15 00:00:00|    2018-08-15 04:10:37|\n",
      "+--------------------+--------------------+------------+--------------------+----------------------+--------------------+-----------------------+\n",
      "only showing top 20 rows\n",
      "\n"
     ]
    }
   ],
   "source": [
    "print(df.na.drop(subset=[\"review_score\"]).count())\n",
    "df.na.drop(subset=[\"review_score\"]).show()"
   ]
  },
  {
   "cell_type": "code",
   "execution_count": 47,
   "id": "c8e49d74-eb93-4dd7-b2b7-bfa31f97fe2c",
   "metadata": {},
   "outputs": [
    {
     "name": "stdout",
     "output_type": "stream",
     "text": [
      "323\n",
      "+--------------------+--------------------+------------+--------------------+----------------------+--------------------+-----------------------+\n",
      "|           review_id|            order_id|review_score|review_comment_title|review_comment_message|review_creation_date|review_answer_timestamp|\n",
      "+--------------------+--------------------+------------+--------------------+----------------------+--------------------+-----------------------+\n",
      "|14613df954694f243...|1e91914c9706a5d46...|           4|                  4 |   Se fosse vidro t...|                NULL|                   NULL|\n",
      "|382d855ffdd4f5e66...|f506fd1443d94ad16...|           5|                  10|  Cada vez que comp...| 2018-06-03 00:00:00|    2018-06-04 00:38:19|\n",
      "|0a9d200bdef258e70...|f9dba21dfbb520ed9...|           5|             1000000|             Muito bom| 2018-05-11 00:00:00|    2018-05-12 11:07:23|\n",
      "|3814f35a6ebd64d27...|19d1e5344936559f5...|           4|                   5|                  NULL| 2018-07-11 00:00:00|    2018-07-11 16:47:37|\n",
      "|057c9a1e8e767d8bf...|0adf68e8a310f18fc...|           4|                   4|                  NULL| 2018-07-13 00:00:00|    2018-07-14 17:25:04|\n",
      "|c68c027ea1d9979f1...|e87c331d21a3fb308...|           5|                  10|  Gostei muito , o ...| 2018-06-19 00:00:00|    2018-06-22 01:55:14|\n",
      "|bed9227c4306d8e60...|fce3db7092e1f432d...|           5|                  10|                  NULL| 2018-06-07 00:00:00|    2018-06-14 18:27:46|\n",
      "|259885b823838218a...|d836abb4444d85944...|           5|                   5|                  NULL| 2018-08-01 00:00:00|    2018-08-02 10:11:08|\n",
      "|e7b22b33f3399ab91...|4e08bdd0a71b43ba1...|           2|                   7|  Eu não recebi min...| 2018-08-14 00:00:00|    2018-08-16 23:23:35|\n",
      "|ba98b1f53fe3cc8e0...|cfa4fa27b417971e8...|           3|                   7|                  NULL| 2018-08-25 00:00:00|    2018-08-25 10:51:48|\n",
      "|54fb8457b4672719a...|3f003568147c78508...|           1|                   1|  MUITO MAU ACABADO...| 2018-07-03 00:00:00|    2018-07-04 05:54:35|\n",
      "|e40ec5125c4e5e9d4...|88d7788f2c5eb4f76...|           5|                   5|  que bom que tem e...|                NULL|                   NULL|\n",
      "|f84cf1ac03867081a...|22ea5431233830227...|           4|                  99|  Foi entregue ante...|                NULL|                   NULL|\n",
      "|3cedca345c6c59e06...|d0d2bc60ab96a5450...|           5|                  10|  Eu estou contente...| 2018-07-05 00:00:00|    2018-07-06 01:07:43|\n",
      "|f00ca078422e9228c...|ae375d6b88c375824...|           1|                   1|                  ruin| 2018-06-09 00:00:00|    2018-06-10 22:57:19|\n",
      "|ecc1a410b43636ab2...|a74a66237984e5fbc...|           5|                  10|  Ótimo produto e e...| 2018-07-04 00:00:00|    2018-07-05 11:58:54|\n",
      "|27e45799cc39e58e1...|b6d8b094c9a771ac0...|           5|                  10|  Gostei recomendo ...| 2018-07-05 00:00:00|    2018-07-06 22:56:03|\n",
      "|8c935cd624a8cd935...|20e297eefc937e9b7...|           1|                   5|  Só acho que devia...| 2018-05-31 00:00:00|    2018-06-04 20:29:35|\n",
      "|8c10512f634953339...|9ccb6719fa8bca71f...|           5|                  10|  eu daria nota 10 ...| 2018-06-20 00:00:00|    2018-06-21 11:04:40|\n",
      "|784fe363fc6a5af8d...|3f4cc91bbcf1a05db...|           4|                   9|                 otimo| 2018-07-07 00:00:00|    2018-07-09 14:42:06|\n",
      "+--------------------+--------------------+------------+--------------------+----------------------+--------------------+-----------------------+\n",
      "only showing top 20 rows\n",
      "\n"
     ]
    }
   ],
   "source": [
    "idf = df.filter(col(\"review_comment_title\").cast(\"integer\").isNotNull())\n",
    "print(idf.count())\n",
    "idf.show()"
   ]
  },
  {
   "cell_type": "code",
   "execution_count": 39,
   "id": "26dd3740-f0ae-4220-a860-c17169d6b205",
   "metadata": {},
   "outputs": [
    {
     "ename": "AttributeError",
     "evalue": "type object 'NumericType' has no attribute '_get_object_id'",
     "output_type": "error",
     "traceback": [
      "\u001b[0;31m---------------------------------------------------------------------------\u001b[0m",
      "\u001b[0;31mAttributeError\u001b[0m                            Traceback (most recent call last)",
      "Cell \u001b[0;32mIn[39], line 6\u001b[0m\n\u001b[1;32m      1\u001b[0m \u001b[38;5;28;01mfrom\u001b[39;00m \u001b[38;5;21;01mpyspark\u001b[39;00m\u001b[38;5;21;01m.\u001b[39;00m\u001b[38;5;21;01msql\u001b[39;00m\u001b[38;5;21;01m.\u001b[39;00m\u001b[38;5;21;01mfunctions\u001b[39;00m \u001b[38;5;28;01mimport\u001b[39;00m col\n\u001b[1;32m      2\u001b[0m \u001b[38;5;28;01mfrom\u001b[39;00m \u001b[38;5;21;01mpyspark\u001b[39;00m\u001b[38;5;21;01m.\u001b[39;00m\u001b[38;5;21;01msql\u001b[39;00m\u001b[38;5;21;01m.\u001b[39;00m\u001b[38;5;21;01mtypes\u001b[39;00m \u001b[38;5;28;01mimport\u001b[39;00m StringType, NumericType\n\u001b[1;32m      4\u001b[0m _df \u001b[38;5;241m=\u001b[39m (\n\u001b[1;32m      5\u001b[0m     df\n\u001b[0;32m----> 6\u001b[0m     \u001b[38;5;241m.\u001b[39mfilter(\u001b[43mcol\u001b[49m\u001b[43m(\u001b[49m\u001b[38;5;124;43m\"\u001b[39;49m\u001b[38;5;124;43mreview_comment_title\u001b[39;49m\u001b[38;5;124;43m\"\u001b[39;49m\u001b[43m)\u001b[49m\u001b[38;5;241;43m.\u001b[39;49m\u001b[43mdtype\u001b[49m\u001b[43m \u001b[49m\u001b[38;5;241;43m==\u001b[39;49m\u001b[43m \u001b[49m\u001b[43mNumericType\u001b[49m), \n\u001b[1;32m      7\u001b[0m )\n\u001b[1;32m      9\u001b[0m _df\u001b[38;5;241m.\u001b[39mshow()\n",
      "File \u001b[0;32m/usr/local/spark/python/pyspark/sql/column.py:268\u001b[0m, in \u001b[0;36mColumn.__eq__\u001b[0;34m(self, other)\u001b[0m\n\u001b[1;32m    263\u001b[0m \u001b[38;5;28;01mdef\u001b[39;00m \u001b[38;5;21m__eq__\u001b[39m(  \u001b[38;5;66;03m# type: ignore[override]\u001b[39;00m\n\u001b[1;32m    264\u001b[0m     \u001b[38;5;28mself\u001b[39m,\n\u001b[1;32m    265\u001b[0m     other: Union[\u001b[38;5;124m\"\u001b[39m\u001b[38;5;124mColumn\u001b[39m\u001b[38;5;124m\"\u001b[39m, \u001b[38;5;124m\"\u001b[39m\u001b[38;5;124mLiteralType\u001b[39m\u001b[38;5;124m\"\u001b[39m, \u001b[38;5;124m\"\u001b[39m\u001b[38;5;124mDecimalLiteral\u001b[39m\u001b[38;5;124m\"\u001b[39m, \u001b[38;5;124m\"\u001b[39m\u001b[38;5;124mDateTimeLiteral\u001b[39m\u001b[38;5;124m\"\u001b[39m],\n\u001b[1;32m    266\u001b[0m ) \u001b[38;5;241m-\u001b[39m\u001b[38;5;241m>\u001b[39m \u001b[38;5;124m\"\u001b[39m\u001b[38;5;124mColumn\u001b[39m\u001b[38;5;124m\"\u001b[39m:\n\u001b[1;32m    267\u001b[0m \u001b[38;5;250m    \u001b[39m\u001b[38;5;124;03m\"\"\"binary function\"\"\"\u001b[39;00m\n\u001b[0;32m--> 268\u001b[0m     \u001b[38;5;28;01mreturn\u001b[39;00m \u001b[43m_bin_op\u001b[49m\u001b[43m(\u001b[49m\u001b[38;5;124;43m\"\u001b[39;49m\u001b[38;5;124;43mequalTo\u001b[39;49m\u001b[38;5;124;43m\"\u001b[39;49m\u001b[43m)\u001b[49m\u001b[43m(\u001b[49m\u001b[38;5;28;43mself\u001b[39;49m\u001b[43m,\u001b[49m\u001b[43m \u001b[49m\u001b[43mother\u001b[49m\u001b[43m)\u001b[49m\n",
      "File \u001b[0;32m/usr/local/spark/python/pyspark/sql/column.py:163\u001b[0m, in \u001b[0;36m_bin_op.<locals>._\u001b[0;34m(self, other)\u001b[0m\n\u001b[1;32m    158\u001b[0m \u001b[38;5;28;01mdef\u001b[39;00m \u001b[38;5;21m_\u001b[39m(\n\u001b[1;32m    159\u001b[0m     \u001b[38;5;28mself\u001b[39m: \u001b[38;5;124m\"\u001b[39m\u001b[38;5;124mColumn\u001b[39m\u001b[38;5;124m\"\u001b[39m,\n\u001b[1;32m    160\u001b[0m     other: Union[\u001b[38;5;124m\"\u001b[39m\u001b[38;5;124mColumn\u001b[39m\u001b[38;5;124m\"\u001b[39m, \u001b[38;5;124m\"\u001b[39m\u001b[38;5;124mLiteralType\u001b[39m\u001b[38;5;124m\"\u001b[39m, \u001b[38;5;124m\"\u001b[39m\u001b[38;5;124mDecimalLiteral\u001b[39m\u001b[38;5;124m\"\u001b[39m, \u001b[38;5;124m\"\u001b[39m\u001b[38;5;124mDateTimeLiteral\u001b[39m\u001b[38;5;124m\"\u001b[39m],\n\u001b[1;32m    161\u001b[0m ) \u001b[38;5;241m-\u001b[39m\u001b[38;5;241m>\u001b[39m \u001b[38;5;124m\"\u001b[39m\u001b[38;5;124mColumn\u001b[39m\u001b[38;5;124m\"\u001b[39m:\n\u001b[1;32m    162\u001b[0m     jc \u001b[38;5;241m=\u001b[39m other\u001b[38;5;241m.\u001b[39m_jc \u001b[38;5;28;01mif\u001b[39;00m \u001b[38;5;28misinstance\u001b[39m(other, Column) \u001b[38;5;28;01melse\u001b[39;00m other\n\u001b[0;32m--> 163\u001b[0m     njc \u001b[38;5;241m=\u001b[39m \u001b[38;5;28;43mgetattr\u001b[39;49m\u001b[43m(\u001b[49m\u001b[38;5;28;43mself\u001b[39;49m\u001b[38;5;241;43m.\u001b[39;49m\u001b[43m_jc\u001b[49m\u001b[43m,\u001b[49m\u001b[43m \u001b[49m\u001b[43mname\u001b[49m\u001b[43m)\u001b[49m\u001b[43m(\u001b[49m\u001b[43mjc\u001b[49m\u001b[43m)\u001b[49m\n\u001b[1;32m    164\u001b[0m     \u001b[38;5;28;01mreturn\u001b[39;00m Column(njc)\n",
      "File \u001b[0;32m/usr/local/spark/python/lib/py4j-0.10.9.7-src.zip/py4j/java_gateway.py:1314\u001b[0m, in \u001b[0;36mJavaMember.__call__\u001b[0;34m(self, *args)\u001b[0m\n\u001b[1;32m   1313\u001b[0m \u001b[38;5;28;01mdef\u001b[39;00m \u001b[38;5;21m__call__\u001b[39m(\u001b[38;5;28mself\u001b[39m, \u001b[38;5;241m*\u001b[39margs):\n\u001b[0;32m-> 1314\u001b[0m     args_command, temp_args \u001b[38;5;241m=\u001b[39m \u001b[38;5;28;43mself\u001b[39;49m\u001b[38;5;241;43m.\u001b[39;49m\u001b[43m_build_args\u001b[49m\u001b[43m(\u001b[49m\u001b[38;5;241;43m*\u001b[39;49m\u001b[43margs\u001b[49m\u001b[43m)\u001b[49m\n\u001b[1;32m   1316\u001b[0m     command \u001b[38;5;241m=\u001b[39m proto\u001b[38;5;241m.\u001b[39mCALL_COMMAND_NAME \u001b[38;5;241m+\u001b[39m\\\n\u001b[1;32m   1317\u001b[0m         \u001b[38;5;28mself\u001b[39m\u001b[38;5;241m.\u001b[39mcommand_header \u001b[38;5;241m+\u001b[39m\\\n\u001b[1;32m   1318\u001b[0m         args_command \u001b[38;5;241m+\u001b[39m\\\n\u001b[1;32m   1319\u001b[0m         proto\u001b[38;5;241m.\u001b[39mEND_COMMAND_PART\n\u001b[1;32m   1321\u001b[0m     answer \u001b[38;5;241m=\u001b[39m \u001b[38;5;28mself\u001b[39m\u001b[38;5;241m.\u001b[39mgateway_client\u001b[38;5;241m.\u001b[39msend_command(command)\n",
      "File \u001b[0;32m/usr/local/spark/python/lib/py4j-0.10.9.7-src.zip/py4j/java_gateway.py:1283\u001b[0m, in \u001b[0;36mJavaMember._build_args\u001b[0;34m(self, *args)\u001b[0m\n\u001b[1;32m   1279\u001b[0m     new_args \u001b[38;5;241m=\u001b[39m args\n\u001b[1;32m   1280\u001b[0m     temp_args \u001b[38;5;241m=\u001b[39m []\n\u001b[1;32m   1282\u001b[0m args_command \u001b[38;5;241m=\u001b[39m \u001b[38;5;124m\"\u001b[39m\u001b[38;5;124m\"\u001b[39m\u001b[38;5;241m.\u001b[39mjoin(\n\u001b[0;32m-> 1283\u001b[0m     \u001b[43m[\u001b[49m\u001b[43mget_command_part\u001b[49m\u001b[43m(\u001b[49m\u001b[43marg\u001b[49m\u001b[43m,\u001b[49m\u001b[43m \u001b[49m\u001b[38;5;28;43mself\u001b[39;49m\u001b[38;5;241;43m.\u001b[39;49m\u001b[43mpool\u001b[49m\u001b[43m)\u001b[49m\u001b[43m \u001b[49m\u001b[38;5;28;43;01mfor\u001b[39;49;00m\u001b[43m \u001b[49m\u001b[43marg\u001b[49m\u001b[43m \u001b[49m\u001b[38;5;129;43;01min\u001b[39;49;00m\u001b[43m \u001b[49m\u001b[43mnew_args\u001b[49m\u001b[43m]\u001b[49m)\n\u001b[1;32m   1285\u001b[0m \u001b[38;5;28;01mreturn\u001b[39;00m args_command, temp_args\n",
      "File \u001b[0;32m/usr/local/spark/python/lib/py4j-0.10.9.7-src.zip/py4j/java_gateway.py:1283\u001b[0m, in \u001b[0;36m<listcomp>\u001b[0;34m(.0)\u001b[0m\n\u001b[1;32m   1279\u001b[0m     new_args \u001b[38;5;241m=\u001b[39m args\n\u001b[1;32m   1280\u001b[0m     temp_args \u001b[38;5;241m=\u001b[39m []\n\u001b[1;32m   1282\u001b[0m args_command \u001b[38;5;241m=\u001b[39m \u001b[38;5;124m\"\u001b[39m\u001b[38;5;124m\"\u001b[39m\u001b[38;5;241m.\u001b[39mjoin(\n\u001b[0;32m-> 1283\u001b[0m     [\u001b[43mget_command_part\u001b[49m\u001b[43m(\u001b[49m\u001b[43marg\u001b[49m\u001b[43m,\u001b[49m\u001b[43m \u001b[49m\u001b[38;5;28;43mself\u001b[39;49m\u001b[38;5;241;43m.\u001b[39;49m\u001b[43mpool\u001b[49m\u001b[43m)\u001b[49m \u001b[38;5;28;01mfor\u001b[39;00m arg \u001b[38;5;129;01min\u001b[39;00m new_args])\n\u001b[1;32m   1285\u001b[0m \u001b[38;5;28;01mreturn\u001b[39;00m args_command, temp_args\n",
      "File \u001b[0;32m/usr/local/spark/python/lib/py4j-0.10.9.7-src.zip/py4j/protocol.py:298\u001b[0m, in \u001b[0;36mget_command_part\u001b[0;34m(parameter, python_proxy_pool)\u001b[0m\n\u001b[1;32m    296\u001b[0m         command_part \u001b[38;5;241m+\u001b[39m\u001b[38;5;241m=\u001b[39m \u001b[38;5;124m\"\u001b[39m\u001b[38;5;124m;\u001b[39m\u001b[38;5;124m\"\u001b[39m \u001b[38;5;241m+\u001b[39m interface\n\u001b[1;32m    297\u001b[0m \u001b[38;5;28;01melse\u001b[39;00m:\n\u001b[0;32m--> 298\u001b[0m     command_part \u001b[38;5;241m=\u001b[39m REFERENCE_TYPE \u001b[38;5;241m+\u001b[39m \u001b[43mparameter\u001b[49m\u001b[38;5;241;43m.\u001b[39;49m\u001b[43m_get_object_id\u001b[49m()\n\u001b[1;32m    300\u001b[0m command_part \u001b[38;5;241m+\u001b[39m\u001b[38;5;241m=\u001b[39m \u001b[38;5;124m\"\u001b[39m\u001b[38;5;130;01m\\n\u001b[39;00m\u001b[38;5;124m\"\u001b[39m\n\u001b[1;32m    302\u001b[0m \u001b[38;5;28;01mreturn\u001b[39;00m command_part\n",
      "\u001b[0;31mAttributeError\u001b[0m: type object 'NumericType' has no attribute '_get_object_id'"
     ]
    }
   ],
   "source": [
    "from pyspark.sql.functions import col\n",
    "from pyspark.sql.types import StringType, NumericType\n",
    "\n",
    "_df = (\n",
    "    df\n",
    "    .filter(col(\"review_comment_title\").dtype == NumericType), \n",
    ")\n",
    "\n",
    "_df.show()"
   ]
  },
  {
   "cell_type": "code",
   "execution_count": 48,
   "id": "6e48ec4d-de71-4375-a52a-a402a7b20412",
   "metadata": {},
   "outputs": [
    {
     "name": "stdout",
     "output_type": "stream",
     "text": [
      "NumericProfiles for column: review_score: {\n",
      "    \"completeness\": 0.9526026765999117,\n",
      "    \"approximateNumDistinctValues\": 6,\n",
      "    \"dataType\": \"Integral\",\n",
      "    \"isDataTypeInferred\": false,\n",
      "    \"typeCounts\": {},\n",
      "    \"histogram\": [\n",
      "        [\n",
      "            \"4\",\n",
      "            19142,\n",
      "            0.18377143296019663\n",
      "        ],\n",
      "        [\n",
      "            \"NullValue\",\n",
      "            4937,\n",
      "            0.04739732340008832\n",
      "        ],\n",
      "        [\n",
      "            \"5\",\n",
      "            57328,\n",
      "            0.5503734567308616\n",
      "        ],\n",
      "        [\n",
      "            \"1\",\n",
      "            11424,\n",
      "            0.10967531345404274\n",
      "        ],\n",
      "        [\n",
      "            \"0\",\n",
      "            1,\n",
      "            9.600430099268447e-06\n",
      "        ],\n",
      "        [\n",
      "            \"2\",\n",
      "            3151,\n",
      "            0.030250955242794877\n",
      "        ],\n",
      "        [\n",
      "            \"3\",\n",
      "            8179,\n",
      "            0.07852191778191663\n",
      "        ]\n",
      "    ],\n",
      "    \"kll\": \"None\",\n",
      "    \"mean\": 4.086379440665155,\n",
      "    \"maximum\": 5.0,\n",
      "    \"minimum\": 0.0,\n",
      "    \"sum\": 405471.0,\n",
      "    \"stdDev\": 1.3476279911235343,\n",
      "    \"approxPercentiles\": []\n",
      "}\n",
      "StandardProfiles for column: order_id: {\n",
      "    \"completeness\": 0.9785334382980357,\n",
      "    \"approximateNumDistinctValues\": 99309,\n",
      "    \"dataType\": \"String\",\n",
      "    \"isDataTypeInferred\": false,\n",
      "    \"typeCounts\": {\n",
      "        \"Boolean\": 0,\n",
      "        \"Fractional\": 0,\n",
      "        \"Integral\": 2,\n",
      "        \"Unknown\": 2236,\n",
      "        \"String\": 101924\n",
      "    },\n",
      "    \"histogram\": null\n",
      "}\n",
      "StandardProfiles for column: review_id: {\n",
      "    \"completeness\": 0.9999903995699008,\n",
      "    \"approximateNumDistinctValues\": 99713,\n",
      "    \"dataType\": \"String\",\n",
      "    \"isDataTypeInferred\": false,\n",
      "    \"typeCounts\": {\n",
      "        \"Boolean\": 0,\n",
      "        \"Fractional\": 0,\n",
      "        \"Integral\": 2,\n",
      "        \"Unknown\": 1,\n",
      "        \"String\": 104159\n",
      "    },\n",
      "    \"histogram\": null\n",
      "}\n",
      "StandardProfiles for column: review_comment_title: {\n",
      "    \"completeness\": 0.11525316334171772,\n",
      "    \"approximateNumDistinctValues\": 5090,\n",
      "    \"dataType\": \"String\",\n",
      "    \"isDataTypeInferred\": false,\n",
      "    \"typeCounts\": {\n",
      "        \"Boolean\": 0,\n",
      "        \"Fractional\": 0,\n",
      "        \"Integral\": 308,\n",
      "        \"Unknown\": 92157,\n",
      "        \"String\": 11697\n",
      "    },\n",
      "    \"histogram\": null\n",
      "}\n",
      "StandardProfiles for column: review_answer_timestamp: {\n",
      "    \"completeness\": 0.9154874138361399,\n",
      "    \"approximateNumDistinctValues\": 96516,\n",
      "    \"dataType\": \"String\",\n",
      "    \"isDataTypeInferred\": false,\n",
      "    \"typeCounts\": {},\n",
      "    \"histogram\": null\n",
      "}\n",
      "StandardProfiles for column: review_creation_date: {\n",
      "    \"completeness\": 0.9152090013632611,\n",
      "    \"approximateNumDistinctValues\": 661,\n",
      "    \"dataType\": \"String\",\n",
      "    \"isDataTypeInferred\": false,\n",
      "    \"typeCounts\": {},\n",
      "    \"histogram\": null\n",
      "}\n",
      "StandardProfiles for column: review_comment_message: {\n",
      "    \"completeness\": 0.3944144697682456,\n",
      "    \"approximateNumDistinctValues\": 35536,\n",
      "    \"dataType\": \"String\",\n",
      "    \"isDataTypeInferred\": false,\n",
      "    \"typeCounts\": {\n",
      "        \"Boolean\": 0,\n",
      "        \"Fractional\": 0,\n",
      "        \"Integral\": 29,\n",
      "        \"Unknown\": 63079,\n",
      "        \"String\": 41054\n",
      "    },\n",
      "    \"histogram\": null\n",
      "}\n"
     ]
    }
   ],
   "source": [
    "profiler = (\n",
    "    ColumnProfilerRunner(spark)\n",
    "    .onData(df)\n",
    "    .run()\n",
    ")\n",
    "\n",
    "for col, profile in profiler.profiles.items():\n",
    "    print(profile)"
   ]
  },
  {
   "cell_type": "code",
   "execution_count": 56,
   "id": "0c139056-eaab-4a59-9c23-b534cfe23ef1",
   "metadata": {},
   "outputs": [
    {
     "name": "stdout",
     "output_type": "stream",
     "text": [
      "+--------------------+--------------------+------------+--------------------+----------------------+--------------------+-----------------------+\n",
      "|           review_id|            order_id|review_score|review_comment_title|review_comment_message|review_creation_date|review_answer_timestamp|\n",
      "+--------------------+--------------------+------------+--------------------+----------------------+--------------------+-----------------------+\n",
      "|7bc2406110b926393...|73fc7af87114b3971...|           4|                NULL|                  NULL| 2018-01-18 00:00:00|    2018-01-18 21:46:59|\n",
      "|80e641a11e56f04c1...|a548910a1c6147796...|           5|                NULL|                  NULL| 2018-03-10 00:00:00|    2018-03-11 03:05:13|\n",
      "|228ce5500dc1d8e02...|f9e4b658b201a9f2e...|           5|                NULL|                  NULL| 2018-02-17 00:00:00|    2018-02-18 14:36:24|\n",
      "|e64fb393e7b32834b...|658677c97b385a9be...|           5|                NULL|  Recebi bem antes ...| 2017-04-21 00:00:00|    2017-04-21 22:02:06|\n",
      "|f7c4243c7fe1938f1...|8e6bfb81e283fa7e4...|           5|                NULL|  Parabéns lojas la...| 2018-03-01 00:00:00|    2018-03-02 10:26:53|\n",
      "|15197aa66ff4d0650...|b18dcdf73be663668...|           1|                NULL|                  NULL| 2018-04-13 00:00:00|    2018-04-16 00:39:37|\n",
      "|07f9bee5d1b850860...|e48aa0d2dcec3a2e8...|           5|                NULL|                  NULL| 2017-07-16 00:00:00|    2017-07-18 19:30:34|\n",
      "|7c6400515c67679fb...|c31a859e34e3adac2...|           5|                NULL|                  NULL| 2018-08-14 00:00:00|    2018-08-14 21:36:06|\n",
      "|a3f6f7f6f433de0ae...|9c214ac970e842735...|           5|                NULL|                  NULL| 2017-05-17 00:00:00|    2017-05-18 12:05:37|\n",
      "|8670d52e15e00043a...|b9bf720beb4ab3728...|           4|                NULL|  aparelho eficient...| 2018-05-22 00:00:00|    2018-05-23 16:45:47|\n",
      "|c9cfd2d5ab5911836...|cdf9aa68e72324eeb...|           5|                NULL|                  NULL| 2017-12-23 00:00:00|    2017-12-26 14:36:03|\n",
      "|96052551d87e5f62e...|3d374c9e46530bb5e...|           5|                NULL|                  NULL| 2017-12-19 00:00:00|    2017-12-20 10:25:22|\n",
      "|4b49719c8a200003f...|9d6f15f95d01e79bd...|           4|                NULL|  Mas um pouco ,tra...|                NULL|                   NULL|\n",
      "|,2018-02-16 00:00...|                NULL|        NULL|                NULL|                  NULL|                NULL|                   NULL|\n",
      "|23f75a37effc35d9a...|2eaf8e099d871cd5c...|           4|                NULL|                  NULL| 2018-03-28 00:00:00|    2018-03-30 15:10:55|\n",
      "|9a0abbb668bafb95a...|d7bd0e4afdf94846e...|           3|                NULL|                  NULL| 2017-04-30 00:00:00|    2017-05-03 00:02:22|\n",
      "|3948b09f7c818e2d8...|e51478e7e277a8374...|           5|                NULL|  Vendedor confiáve...| 2018-05-23 00:00:00|    2018-05-24 03:00:01|\n",
      "|9314d6f9799f5bfba...|0dacf04c5ad59fd5a...|           2|                NULL|  GOSTARIA DE SABER...| 2018-01-18 00:00:00|    2018-01-20 21:25:45|\n",
      "|8e15a274d95600fa1...|ff1581e08b3011021...|           5|                NULL|                  NULL| 2018-03-24 00:00:00|    2018-03-26 15:58:32|\n",
      "|fdbdb2629a7cde0f6...|70a752414a13d09cc...|           3|                NULL|                  NULL| 2017-09-29 00:00:00|    2017-10-02 01:12:49|\n",
      "+--------------------+--------------------+------------+--------------------+----------------------+--------------------+-----------------------+\n",
      "only showing top 20 rows\n",
      "\n"
     ]
    }
   ],
   "source": [
    "from pyspark.sql.functions import col\n",
    "\n",
    "cdf = df.withColumn(\"review_comment_title\", col(\"review_comment_title\").cast(\"integer\"))\n",
    "\n",
    "cdf.show()"
   ]
  },
  {
   "cell_type": "code",
   "execution_count": 60,
   "id": "236b65d6-f22e-4975-9ca4-e7706d4e874b",
   "metadata": {},
   "outputs": [
    {
     "name": "stdout",
     "output_type": "stream",
     "text": [
      "NumericProfiles for column: review_score: {\n",
      "    \"completeness\": 0.9526026765999117,\n",
      "    \"approximateNumDistinctValues\": 6,\n",
      "    \"dataType\": \"Integral\",\n",
      "    \"isDataTypeInferred\": false,\n",
      "    \"typeCounts\": {},\n",
      "    \"histogram\": [\n",
      "        [\n",
      "            \"4\",\n",
      "            19142,\n",
      "            0.18377143296019663\n",
      "        ],\n",
      "        [\n",
      "            \"NullValue\",\n",
      "            4937,\n",
      "            0.04739732340008832\n",
      "        ],\n",
      "        [\n",
      "            \"5\",\n",
      "            57328,\n",
      "            0.5503734567308616\n",
      "        ],\n",
      "        [\n",
      "            \"1\",\n",
      "            11424,\n",
      "            0.10967531345404274\n",
      "        ],\n",
      "        [\n",
      "            \"0\",\n",
      "            1,\n",
      "            9.600430099268447e-06\n",
      "        ],\n",
      "        [\n",
      "            \"2\",\n",
      "            3151,\n",
      "            0.030250955242794877\n",
      "        ],\n",
      "        [\n",
      "            \"3\",\n",
      "            8179,\n",
      "            0.07852191778191663\n",
      "        ]\n",
      "    ],\n",
      "    \"kll\": \"None\",\n",
      "    \"mean\": 4.086379440665155,\n",
      "    \"maximum\": 5.0,\n",
      "    \"minimum\": 0.0,\n",
      "    \"sum\": 405471.0,\n",
      "    \"stdDev\": 1.3476279911235343,\n",
      "    \"approxPercentiles\": []\n",
      "}\n",
      "StandardProfiles for column: order_id: {\n",
      "    \"completeness\": 0.9785334382980357,\n",
      "    \"approximateNumDistinctValues\": 99309,\n",
      "    \"dataType\": \"String\",\n",
      "    \"isDataTypeInferred\": false,\n",
      "    \"typeCounts\": {\n",
      "        \"Boolean\": 0,\n",
      "        \"Fractional\": 0,\n",
      "        \"Integral\": 2,\n",
      "        \"Unknown\": 2236,\n",
      "        \"String\": 101924\n",
      "    },\n",
      "    \"histogram\": null\n",
      "}\n",
      "StandardProfiles for column: review_id: {\n",
      "    \"completeness\": 0.9999903995699008,\n",
      "    \"approximateNumDistinctValues\": 99713,\n",
      "    \"dataType\": \"String\",\n",
      "    \"isDataTypeInferred\": false,\n",
      "    \"typeCounts\": {\n",
      "        \"Boolean\": 0,\n",
      "        \"Fractional\": 0,\n",
      "        \"Integral\": 2,\n",
      "        \"Unknown\": 1,\n",
      "        \"String\": 104159\n",
      "    },\n",
      "    \"histogram\": null\n",
      "}\n",
      "NumericProfiles for column: review_comment_title: {\n",
      "    \"completeness\": 0.0031009389220637085,\n",
      "    \"approximateNumDistinctValues\": 17,\n",
      "    \"dataType\": \"Integral\",\n",
      "    \"isDataTypeInferred\": false,\n",
      "    \"typeCounts\": {},\n",
      "    \"histogram\": [\n",
      "        [\n",
      "            \"8\",\n",
      "            28,\n",
      "            0.00026881204277951653\n",
      "        ],\n",
      "        [\n",
      "            \"100\",\n",
      "            4,\n",
      "            3.840172039707379e-05\n",
      "        ],\n",
      "        [\n",
      "            \"4\",\n",
      "            10,\n",
      "            9.600430099268447e-05\n",
      "        ],\n",
      "        [\n",
      "            \"40\",\n",
      "            1,\n",
      "            9.600430099268447e-06\n",
      "        ],\n",
      "        [\n",
      "            \"9\",\n",
      "            18,\n",
      "            0.00017280774178683205\n",
      "        ],\n",
      "        [\n",
      "            \"NullValue\",\n",
      "            103839,\n",
      "            0.9968990610779362\n",
      "        ],\n",
      "        [\n",
      "            \"1000000\",\n",
      "            1,\n",
      "            9.600430099268447e-06\n",
      "        ],\n",
      "        [\n",
      "            \"99\",\n",
      "            1,\n",
      "            9.600430099268447e-06\n",
      "        ],\n",
      "        [\n",
      "            \"5\",\n",
      "            35,\n",
      "            0.00033601505347439565\n",
      "        ],\n",
      "        [\n",
      "            \"10\",\n",
      "            162,\n",
      "            0.0015552696760814885\n",
      "        ],\n",
      "        [\n",
      "            \"6\",\n",
      "            4,\n",
      "            3.840172039707379e-05\n",
      "        ],\n",
      "        [\n",
      "            \"1\",\n",
      "            10,\n",
      "            9.600430099268447e-05\n",
      "        ],\n",
      "        [\n",
      "            \"0\",\n",
      "            23,\n",
      "            0.00022080989228317427\n",
      "        ],\n",
      "        [\n",
      "            \"2\",\n",
      "            5,\n",
      "            4.8002150496342234e-05\n",
      "        ],\n",
      "        [\n",
      "            \"7\",\n",
      "            10,\n",
      "            9.600430099268447e-05\n",
      "        ],\n",
      "        [\n",
      "            \"3\",\n",
      "            9,\n",
      "            8.640387089341602e-05\n",
      "        ],\n",
      "        [\n",
      "            \"100000000\",\n",
      "            1,\n",
      "            9.600430099268447e-06\n",
      "        ],\n",
      "        [\n",
      "            \"1000\",\n",
      "            1,\n",
      "            9.600430099268447e-06\n",
      "        ]\n",
      "    ],\n",
      "    \"kll\": \"None\",\n",
      "    \"mean\": 312705.57585139317,\n",
      "    \"maximum\": 100000000.0,\n",
      "    \"minimum\": 0.0,\n",
      "    \"sum\": 101003901.0,\n",
      "    \"stdDev\": 5555633.49433401,\n",
      "    \"approxPercentiles\": []\n",
      "}\n",
      "StandardProfiles for column: review_answer_timestamp: {\n",
      "    \"completeness\": 0.9154874138361399,\n",
      "    \"approximateNumDistinctValues\": 96516,\n",
      "    \"dataType\": \"String\",\n",
      "    \"isDataTypeInferred\": false,\n",
      "    \"typeCounts\": {},\n",
      "    \"histogram\": null\n",
      "}\n",
      "StandardProfiles for column: review_creation_date: {\n",
      "    \"completeness\": 0.9152090013632611,\n",
      "    \"approximateNumDistinctValues\": 661,\n",
      "    \"dataType\": \"String\",\n",
      "    \"isDataTypeInferred\": false,\n",
      "    \"typeCounts\": {},\n",
      "    \"histogram\": null\n",
      "}\n",
      "StandardProfiles for column: review_comment_message: {\n",
      "    \"completeness\": 0.3944144697682456,\n",
      "    \"approximateNumDistinctValues\": 35536,\n",
      "    \"dataType\": \"String\",\n",
      "    \"isDataTypeInferred\": false,\n",
      "    \"typeCounts\": {\n",
      "        \"Boolean\": 0,\n",
      "        \"Fractional\": 0,\n",
      "        \"Integral\": 29,\n",
      "        \"Unknown\": 63079,\n",
      "        \"String\": 41054\n",
      "    },\n",
      "    \"histogram\": null\n",
      "}\n"
     ]
    }
   ],
   "source": [
    "profiler = (\n",
    "    ColumnProfilerRunner(spark)\n",
    "    .onData(cdf)\n",
    "    .run()\n",
    ")\n",
    "\n",
    "for _, profile in profiler.profiles.items():\n",
    "    print(profile)"
   ]
  },
  {
   "cell_type": "code",
   "execution_count": 62,
   "id": "387bc294-6769-4a41-8cd7-8b610cc9eaec",
   "metadata": {},
   "outputs": [
    {
     "name": "stdout",
     "output_type": "stream",
     "text": [
      "+--------------------+--------------------+------------+--------------------+----------------------+--------------------+-----------------------+\n",
      "|           review_id|            order_id|review_score|review_comment_title|review_comment_message|review_creation_date|review_answer_timestamp|\n",
      "+--------------------+--------------------+------------+--------------------+----------------------+--------------------+-----------------------+\n",
      "|,2018-02-16 00:00...|                NULL|        NULL|                NULL|                  NULL|                NULL|                   NULL|\n",
      "|A entrega foi efe...|                NULL|        NULL|                NULL|                  NULL|                NULL|                   NULL|\n",
      "|O produto já come...|                NULL|        NULL|                NULL|                  NULL|                NULL|                   NULL|\n",
      "|     sem problemas.\"| 2018-03-23 00:00:00|        NULL|                NULL|                  NULL|                NULL|                   NULL|\n",
      "|Faltou Controle R...| 2018-01-28 00:00:00|        NULL|                NULL|                  NULL|                NULL|                   NULL|\n",
      "|    Estou satisfeita|                NULL|        NULL|                NULL|                  NULL|                NULL|                   NULL|\n",
      "|,2017-06-02 00:00...|                NULL|        NULL|                NULL|                  NULL|                NULL|                   NULL|\n",
      "|,2017-08-09 00:00...|                NULL|        NULL|                NULL|                  NULL|                NULL|                   NULL|\n",
      "|,2017-11-22 00:00...|                NULL|        NULL|                NULL|                  NULL|                NULL|                   NULL|\n",
      "|Muito obrigada.... \"| 2017-06-24 00:00:00|        NULL|                NULL|                  NULL|                NULL|                   NULL|\n",
      "|Balde Com 128 Peç...|00 cada (NÃO FOI ...|        NULL|                NULL|                  NULL|                NULL|                   NULL|\n",
      "|Vendido e entregu...|                NULL|        NULL|                NULL|                  NULL|                NULL|                   NULL|\n",
      "|Tapete de Eva Nº ...|90 (ESTE FOI ENTREG\"|        NULL| 2018-01-10 09:52:57|                  NULL|                NULL|                   NULL|\n",
      "|           Parabéns\"| 2017-08-29 00:00:00|        NULL|                NULL|                  NULL|                NULL|                   NULL|\n",
      "|         Tudo certo!|                NULL|        NULL|                NULL|                  NULL|                NULL|                   NULL|\n",
      "|                Att |                NULL|        NULL|                NULL|                  NULL|                NULL|                   NULL|\n",
      "|           Elenice.\"| 2017-12-16 00:00:00|        NULL|                NULL|                  NULL|                NULL|                   NULL|\n",
      "|                  .\"| 2018-05-15 00:00:00|        NULL|                NULL|                  NULL|                NULL|                   NULL|\n",
      "|Precisa melhorar ...| 2017-04-06 00:00:00|        NULL|                NULL|                  NULL|                NULL|                   NULL|\n",
      "|,2018-05-10 00:00...|                NULL|        NULL|                NULL|                  NULL|                NULL|                   NULL|\n",
      "+--------------------+--------------------+------------+--------------------+----------------------+--------------------+-----------------------+\n",
      "only showing top 20 rows\n",
      "\n"
     ]
    }
   ],
   "source": [
    "df.filter(col(\"review_score\").isNull()).show()"
   ]
  },
  {
   "cell_type": "code",
   "execution_count": 63,
   "id": "a4708983-c92a-4102-a258-0c70ff8db5bc",
   "metadata": {},
   "outputs": [
    {
     "data": {
      "text/plain": [
       "4937"
      ]
     },
     "execution_count": 63,
     "metadata": {},
     "output_type": "execute_result"
    }
   ],
   "source": [
    "df.filter(col(\"review_score\").isNull()).count()"
   ]
  },
  {
   "cell_type": "code",
   "execution_count": 72,
   "id": "a0272d6e-8baf-4998-9d4e-f8c72204c8ea",
   "metadata": {},
   "outputs": [
    {
     "name": "stdout",
     "output_type": "stream",
     "text": [
      "+---------------------------------------------------+--------------------------------+------------+--------------------+----------------------------------------------------------------------+--------------------+-----------------------+\n",
      "|review_id                                          |order_id                        |review_score|review_comment_title|review_comment_message                                                |review_creation_date|review_answer_timestamp|\n",
      "+---------------------------------------------------+--------------------------------+------------+--------------------+----------------------------------------------------------------------+--------------------+-----------------------+\n",
      "|4b49719c8a200003f700d3d986ea1a19                   |9d6f15f95d01e79bd1349cc208361f09|4           |NULL                |Mas um pouco ,travando...pelo valor ta Boa.                           |NULL                |NULL                   |\n",
      "|,2018-02-16 00:00:00,2018-02-20 10:52:22           |NULL                            |NULL        |NULL                |NULL                                                                  |NULL                |NULL                   |\n",
      "|fe3db7c069d694bab50cc43463f91608                   |2ca73e2ff9e3a186ad1e1ffb9b1d9c10|5           |NULL                |A compra foi realizada facilmente.                                    |NULL                |NULL                   |\n",
      "|A entrega foi efetuada muito antes do prazo dado.  |NULL                            |NULL        |NULL                |NULL                                                                  |NULL                |NULL                   |\n",
      "|O produto já começou a ser usado e até o presente  |NULL                            |NULL        |NULL                |NULL                                                                  |NULL                |NULL                   |\n",
      "|sem problemas.\"                                    |2018-03-23 00:00:00             |NULL        |NULL                |NULL                                                                  |NULL                |NULL                   |\n",
      "|e233e51d11511bf30e568c76360ace52                   |548df2c6e5f089574614894bca78acf5|1           |NULL                |recebi somente 1 controle Midea Split ESTILO.                         |NULL                |NULL                   |\n",
      "|Faltou Controle Remoto para Ar Condicionado Consul\"|2018-01-28 00:00:00             |NULL        |NULL                |NULL                                                                  |NULL                |NULL                   |\n",
      "|6a0969d0769d2f3ff6438809a1cc455e                   |32638fbca8d1a197e649fd5138e12049|5           |NULL                |Ocorreu tudo como contratado sendo a entrega realizada antes do prazo |NULL                |NULL                   |\n",
      "| Estou satisfeita                                  |NULL                            |NULL        |NULL                |NULL                                                                  |NULL                |NULL                   |\n",
      "|,2017-06-02 00:00:00,2017-06-03 13:12:07           |NULL                            |NULL        |NULL                |NULL                                                                  |NULL                |NULL                   |\n",
      "|750d4311e8ddb6cba549ee86f06f0cca                   |4b32a4cdfc1b80066a8ee3a4b7a2094f|5           |NULL                |Produto entregue como solicitado, e com muita brevidade. Parabéns!    |NULL                |NULL                   |\n",
      "|,2017-08-09 00:00:00,2017-08-09 12:03:45           |NULL                            |NULL        |NULL                |NULL                                                                  |NULL                |NULL                   |\n",
      "|436f71c9cc0c1aab7f51dc0cd0820516                   |c676e726f8a14a9527b41b9dc50ca1bc|5           |NULL                |Satisfeito                                                            |NULL                |NULL                   |\n",
      "|,2017-11-22 00:00:00,2017-11-22 14:45:40           |NULL                            |NULL        |NULL                |NULL                                                                  |NULL                |NULL                   |\n",
      "|97d4feff1fd7129bee6cde095b9dac2a                   |b4039fffc67d7a5a75a3ba881d75e402|5           |NULL                |estao de parabens... sempre chega com muiiita antecedencia..          |NULL                |NULL                   |\n",
      "|Muito obrigada.... \"                               |2017-06-24 00:00:00             |NULL        |NULL                |NULL                                                                  |NULL                |NULL                   |\n",
      "|ae728c1061bf163b4bd256ad9ee0bb83                   |45c780334bc32cb77559a65c5f171160|1           |NULL                |Este foi o pedido                                                     |NULL                |NULL                   |\n",
      "|Balde Com 128 Peças - Blocos De Montar 2 un - R$ 25|00 cada (NÃO FOI ENTREGUE)      |NULL        |NULL                |NULL                                                                  |NULL                |NULL                   |\n",
      "|Vendido e entregue targaryen                       |NULL                            |NULL        |NULL                |NULL                                                                  |NULL                |NULL                   |\n",
      "+---------------------------------------------------+--------------------------------+------------+--------------------+----------------------------------------------------------------------+--------------------+-----------------------+\n",
      "only showing top 20 rows\n",
      "\n"
     ]
    }
   ],
   "source": [
    "df.filter(col(\"review_creation_date\").isNull()).show(truncate=False)"
   ]
  },
  {
   "cell_type": "code",
   "execution_count": 65,
   "id": "adb63943-da7e-41ea-b2f6-5c85fc1e75ea",
   "metadata": {},
   "outputs": [
    {
     "data": {
      "text/plain": [
       "8832"
      ]
     },
     "execution_count": 65,
     "metadata": {},
     "output_type": "execute_result"
    }
   ],
   "source": [
    "df.filter(col(\"review_creation_date\").isNull()).count()"
   ]
  },
  {
   "cell_type": "code",
   "execution_count": 66,
   "id": "1cc02afa-fd61-409b-bedf-47ef8bfef4d9",
   "metadata": {},
   "outputs": [
    {
     "name": "stdout",
     "output_type": "stream",
     "text": [
      "+--------------------+--------------------+------------+--------------------+----------------------+--------------------+-----------------------+\n",
      "|           review_id|            order_id|review_score|review_comment_title|review_comment_message|review_creation_date|review_answer_timestamp|\n",
      "+--------------------+--------------------+------------+--------------------+----------------------+--------------------+-----------------------+\n",
      "|7bc2406110b926393...|73fc7af87114b3971...|           4|                NULL|                  NULL| 2018-01-18 00:00:00|    2018-01-18 21:46:59|\n",
      "|80e641a11e56f04c1...|a548910a1c6147796...|           5|                NULL|                  NULL| 2018-03-10 00:00:00|    2018-03-11 03:05:13|\n",
      "|228ce5500dc1d8e02...|f9e4b658b201a9f2e...|           5|                NULL|                  NULL| 2018-02-17 00:00:00|    2018-02-18 14:36:24|\n",
      "|e64fb393e7b32834b...|658677c97b385a9be...|           5|                NULL|  Recebi bem antes ...| 2017-04-21 00:00:00|    2017-04-21 22:02:06|\n",
      "|f7c4243c7fe1938f1...|8e6bfb81e283fa7e4...|           5|                NULL|  Parabéns lojas la...| 2018-03-01 00:00:00|    2018-03-02 10:26:53|\n",
      "|15197aa66ff4d0650...|b18dcdf73be663668...|           1|                NULL|                  NULL| 2018-04-13 00:00:00|    2018-04-16 00:39:37|\n",
      "|07f9bee5d1b850860...|e48aa0d2dcec3a2e8...|           5|                NULL|                  NULL| 2017-07-16 00:00:00|    2017-07-18 19:30:34|\n",
      "|7c6400515c67679fb...|c31a859e34e3adac2...|           5|                NULL|                  NULL| 2018-08-14 00:00:00|    2018-08-14 21:36:06|\n",
      "|a3f6f7f6f433de0ae...|9c214ac970e842735...|           5|                NULL|                  NULL| 2017-05-17 00:00:00|    2017-05-18 12:05:37|\n",
      "|8670d52e15e00043a...|b9bf720beb4ab3728...|           4|           recomendo|  aparelho eficient...| 2018-05-22 00:00:00|    2018-05-23 16:45:47|\n",
      "|c9cfd2d5ab5911836...|cdf9aa68e72324eeb...|           5|                NULL|                  NULL| 2017-12-23 00:00:00|    2017-12-26 14:36:03|\n",
      "|96052551d87e5f62e...|3d374c9e46530bb5e...|           5|                NULL|                  NULL| 2017-12-19 00:00:00|    2017-12-20 10:25:22|\n",
      "|4b49719c8a200003f...|9d6f15f95d01e79bd...|           4|                NULL|  Mas um pouco ,tra...|                NULL|                   NULL|\n",
      "|,2018-02-16 00:00...|                NULL|        NULL|                NULL|                  NULL|                NULL|                   NULL|\n",
      "|23f75a37effc35d9a...|2eaf8e099d871cd5c...|           4|                NULL|                  NULL| 2018-03-28 00:00:00|    2018-03-30 15:10:55|\n",
      "|9a0abbb668bafb95a...|d7bd0e4afdf94846e...|           3|                NULL|                  NULL| 2017-04-30 00:00:00|    2017-05-03 00:02:22|\n",
      "|3948b09f7c818e2d8...|e51478e7e277a8374...|           5|     Super recomendo|  Vendedor confiáve...| 2018-05-23 00:00:00|    2018-05-24 03:00:01|\n",
      "|9314d6f9799f5bfba...|0dacf04c5ad59fd5a...|           2|                NULL|  GOSTARIA DE SABER...| 2018-01-18 00:00:00|    2018-01-20 21:25:45|\n",
      "|8e15a274d95600fa1...|ff1581e08b3011021...|           5|                NULL|                  NULL| 2018-03-24 00:00:00|    2018-03-26 15:58:32|\n",
      "|fdbdb2629a7cde0f6...|70a752414a13d09cc...|           3|                NULL|                  NULL| 2017-09-29 00:00:00|    2017-10-02 01:12:49|\n",
      "+--------------------+--------------------+------------+--------------------+----------------------+--------------------+-----------------------+\n",
      "only showing top 20 rows\n",
      "\n"
     ]
    }
   ],
   "source": [
    "df.show()"
   ]
  },
  {
   "cell_type": "code",
   "execution_count": 73,
   "id": "3ee88a70-d991-43cc-8d60-8e83a2e5e99d",
   "metadata": {},
   "outputs": [
    {
     "name": "stdout",
     "output_type": "stream",
     "text": [
      "4937\n",
      "+------------------------------------------------------+--------------------------+------------+--------------------+----------------------+--------------------+-----------------------+\n",
      "|review_id                                             |order_id                  |review_score|review_comment_title|review_comment_message|review_creation_date|review_answer_timestamp|\n",
      "+------------------------------------------------------+--------------------------+------------+--------------------+----------------------+--------------------+-----------------------+\n",
      "|,2018-02-16 00:00:00,2018-02-20 10:52:22              |NULL                      |NULL        |NULL                |NULL                  |NULL                |NULL                   |\n",
      "|A entrega foi efetuada muito antes do prazo dado.     |NULL                      |NULL        |NULL                |NULL                  |NULL                |NULL                   |\n",
      "|O produto já começou a ser usado e até o presente     |NULL                      |NULL        |NULL                |NULL                  |NULL                |NULL                   |\n",
      "|sem problemas.\"                                       |2018-03-23 00:00:00       |NULL        |NULL                |NULL                  |NULL                |NULL                   |\n",
      "|Faltou Controle Remoto para Ar Condicionado Consul\"   |2018-01-28 00:00:00       |NULL        |NULL                |NULL                  |NULL                |NULL                   |\n",
      "| Estou satisfeita                                     |NULL                      |NULL        |NULL                |NULL                  |NULL                |NULL                   |\n",
      "|,2017-06-02 00:00:00,2017-06-03 13:12:07              |NULL                      |NULL        |NULL                |NULL                  |NULL                |NULL                   |\n",
      "|,2017-08-09 00:00:00,2017-08-09 12:03:45              |NULL                      |NULL        |NULL                |NULL                  |NULL                |NULL                   |\n",
      "|,2017-11-22 00:00:00,2017-11-22 14:45:40              |NULL                      |NULL        |NULL                |NULL                  |NULL                |NULL                   |\n",
      "|Muito obrigada.... \"                                  |2017-06-24 00:00:00       |NULL        |NULL                |NULL                  |NULL                |NULL                   |\n",
      "|Balde Com 128 Peças - Blocos De Montar 2 un - R$ 25   |00 cada (NÃO FOI ENTREGUE)|NULL        |NULL                |NULL                  |NULL                |NULL                   |\n",
      "|Vendido e entregue targaryen                          |NULL                      |NULL        |NULL                |NULL                  |NULL                |NULL                   |\n",
      "|Tapete de Eva Nº Letras 36 Peças Crianças 1 un - R$ 35|90 (ESTE FOI ENTREG\"      |NULL        |2018-01-10 09:52:57 |NULL                  |NULL                |NULL                   |\n",
      "|Parabéns\"                                             |2017-08-29 00:00:00       |NULL        |NULL                |NULL                  |NULL                |NULL                   |\n",
      "|Tudo certo!                                           |NULL                      |NULL        |NULL                |NULL                  |NULL                |NULL                   |\n",
      "|Att                                                   |NULL                      |NULL        |NULL                |NULL                  |NULL                |NULL                   |\n",
      "|Elenice.\"                                             |2017-12-16 00:00:00       |NULL        |NULL                |NULL                  |NULL                |NULL                   |\n",
      "|.\"                                                    |2018-05-15 00:00:00       |NULL        |NULL                |NULL                  |NULL                |NULL                   |\n",
      "|Precisa melhorar nas entregas\"                        |2017-04-06 00:00:00       |NULL        |NULL                |NULL                  |NULL                |NULL                   |\n",
      "|,2018-05-10 00:00:00,2018-05-11 01:15:28              |NULL                      |NULL        |NULL                |NULL                  |NULL                |NULL                   |\n",
      "+------------------------------------------------------+--------------------------+------------+--------------------+----------------------+--------------------+-----------------------+\n",
      "only showing top 20 rows\n",
      "\n"
     ]
    }
   ],
   "source": [
    "print(df.filter(\"review_score is null or order_id is null\").count())\n",
    "df.filter(\"review_score is null or order_id is null or length(review_id) <> 32\").show(truncate=False)"
   ]
  },
  {
   "cell_type": "code",
   "execution_count": 78,
   "id": "34626cf6-0bb6-457e-89e2-a7f51f204a5d",
   "metadata": {},
   "outputs": [
    {
     "name": "stdout",
     "output_type": "stream",
     "text": [
      "99224\n",
      "+--------------------+--------------------+------------+--------------------+----------------------+--------------------+-----------------------+\n",
      "|           review_id|            order_id|review_score|review_comment_title|review_comment_message|review_creation_date|review_answer_timestamp|\n",
      "+--------------------+--------------------+------------+--------------------+----------------------+--------------------+-----------------------+\n",
      "|7bc2406110b926393...|73fc7af87114b3971...|           4|                NULL|                  NULL| 2018-01-18 00:00:00|    2018-01-18 21:46:59|\n",
      "|80e641a11e56f04c1...|a548910a1c6147796...|           5|                NULL|                  NULL| 2018-03-10 00:00:00|    2018-03-11 03:05:13|\n",
      "|228ce5500dc1d8e02...|f9e4b658b201a9f2e...|           5|                NULL|                  NULL| 2018-02-17 00:00:00|    2018-02-18 14:36:24|\n",
      "|e64fb393e7b32834b...|658677c97b385a9be...|           5|                NULL|  Recebi bem antes ...| 2017-04-21 00:00:00|    2017-04-21 22:02:06|\n",
      "|f7c4243c7fe1938f1...|8e6bfb81e283fa7e4...|           5|                NULL|  Parabéns lojas la...| 2018-03-01 00:00:00|    2018-03-02 10:26:53|\n",
      "|15197aa66ff4d0650...|b18dcdf73be663668...|           1|                NULL|                  NULL| 2018-04-13 00:00:00|    2018-04-16 00:39:37|\n",
      "|07f9bee5d1b850860...|e48aa0d2dcec3a2e8...|           5|                NULL|                  NULL| 2017-07-16 00:00:00|    2017-07-18 19:30:34|\n",
      "|7c6400515c67679fb...|c31a859e34e3adac2...|           5|                NULL|                  NULL| 2018-08-14 00:00:00|    2018-08-14 21:36:06|\n",
      "|a3f6f7f6f433de0ae...|9c214ac970e842735...|           5|                NULL|                  NULL| 2017-05-17 00:00:00|    2017-05-18 12:05:37|\n",
      "|8670d52e15e00043a...|b9bf720beb4ab3728...|           4|           recomendo|  aparelho eficient...| 2018-05-22 00:00:00|    2018-05-23 16:45:47|\n",
      "|c9cfd2d5ab5911836...|cdf9aa68e72324eeb...|           5|                NULL|                  NULL| 2017-12-23 00:00:00|    2017-12-26 14:36:03|\n",
      "|96052551d87e5f62e...|3d374c9e46530bb5e...|           5|                NULL|                  NULL| 2017-12-19 00:00:00|    2017-12-20 10:25:22|\n",
      "|4b49719c8a200003f...|9d6f15f95d01e79bd...|           4|                NULL|  Mas um pouco ,tra...|                NULL|                   NULL|\n",
      "|23f75a37effc35d9a...|2eaf8e099d871cd5c...|           4|                NULL|                  NULL| 2018-03-28 00:00:00|    2018-03-30 15:10:55|\n",
      "|9a0abbb668bafb95a...|d7bd0e4afdf94846e...|           3|                NULL|                  NULL| 2017-04-30 00:00:00|    2017-05-03 00:02:22|\n",
      "|3948b09f7c818e2d8...|e51478e7e277a8374...|           5|     Super recomendo|  Vendedor confiáve...| 2018-05-23 00:00:00|    2018-05-24 03:00:01|\n",
      "|9314d6f9799f5bfba...|0dacf04c5ad59fd5a...|           2|                NULL|  GOSTARIA DE SABER...| 2018-01-18 00:00:00|    2018-01-20 21:25:45|\n",
      "|8e15a274d95600fa1...|ff1581e08b3011021...|           5|                NULL|                  NULL| 2018-03-24 00:00:00|    2018-03-26 15:58:32|\n",
      "|fdbdb2629a7cde0f6...|70a752414a13d09cc...|           3|                NULL|                  NULL| 2017-09-29 00:00:00|    2017-10-02 01:12:49|\n",
      "|373cbeecea8286a2b...|583174fbe37d3d5f0...|           1|Não chegou meu pr...|               Péssimo| 2018-08-15 00:00:00|    2018-08-15 04:10:37|\n",
      "+--------------------+--------------------+------------+--------------------+----------------------+--------------------+-----------------------+\n",
      "only showing top 20 rows\n",
      "\n"
     ]
    }
   ],
   "source": [
    "cdf = df.filter(\n",
    "    \"order_id is not null and \"\n",
    "    \"review_id is not null and \"\n",
    "    \"review_score is not null and \"\n",
    "    \"length(review_id) = 32\"\n",
    ")\n",
    "\n",
    "print(cdf.count())\n",
    "cdf.show()"
   ]
  },
  {
   "cell_type": "code",
   "execution_count": 80,
   "id": "9cbbb236-5956-4f63-a65e-3b2ec6755682",
   "metadata": {},
   "outputs": [
    {
     "name": "stdout",
     "output_type": "stream",
     "text": [
      "95307\n",
      "+--------------------+--------------------+------------+--------------------+----------------------+--------------------+-----------------------+\n",
      "|           review_id|            order_id|review_score|review_comment_title|review_comment_message|review_creation_date|review_answer_timestamp|\n",
      "+--------------------+--------------------+------------+--------------------+----------------------+--------------------+-----------------------+\n",
      "|7bc2406110b926393...|73fc7af87114b3971...|           4|                NULL|                  NULL| 2018-01-18 00:00:00|    2018-01-18 21:46:59|\n",
      "|80e641a11e56f04c1...|a548910a1c6147796...|           5|                NULL|                  NULL| 2018-03-10 00:00:00|    2018-03-11 03:05:13|\n",
      "|228ce5500dc1d8e02...|f9e4b658b201a9f2e...|           5|                NULL|                  NULL| 2018-02-17 00:00:00|    2018-02-18 14:36:24|\n",
      "|e64fb393e7b32834b...|658677c97b385a9be...|           5|                NULL|  Recebi bem antes ...| 2017-04-21 00:00:00|    2017-04-21 22:02:06|\n",
      "|f7c4243c7fe1938f1...|8e6bfb81e283fa7e4...|           5|                NULL|  Parabéns lojas la...| 2018-03-01 00:00:00|    2018-03-02 10:26:53|\n",
      "|15197aa66ff4d0650...|b18dcdf73be663668...|           1|                NULL|                  NULL| 2018-04-13 00:00:00|    2018-04-16 00:39:37|\n",
      "|07f9bee5d1b850860...|e48aa0d2dcec3a2e8...|           5|                NULL|                  NULL| 2017-07-16 00:00:00|    2017-07-18 19:30:34|\n",
      "|7c6400515c67679fb...|c31a859e34e3adac2...|           5|                NULL|                  NULL| 2018-08-14 00:00:00|    2018-08-14 21:36:06|\n",
      "|a3f6f7f6f433de0ae...|9c214ac970e842735...|           5|                NULL|                  NULL| 2017-05-17 00:00:00|    2017-05-18 12:05:37|\n",
      "|8670d52e15e00043a...|b9bf720beb4ab3728...|           4|           recomendo|  aparelho eficient...| 2018-05-22 00:00:00|    2018-05-23 16:45:47|\n",
      "|c9cfd2d5ab5911836...|cdf9aa68e72324eeb...|           5|                NULL|                  NULL| 2017-12-23 00:00:00|    2017-12-26 14:36:03|\n",
      "|96052551d87e5f62e...|3d374c9e46530bb5e...|           5|                NULL|                  NULL| 2017-12-19 00:00:00|    2017-12-20 10:25:22|\n",
      "|23f75a37effc35d9a...|2eaf8e099d871cd5c...|           4|                NULL|                  NULL| 2018-03-28 00:00:00|    2018-03-30 15:10:55|\n",
      "|9a0abbb668bafb95a...|d7bd0e4afdf94846e...|           3|                NULL|                  NULL| 2017-04-30 00:00:00|    2017-05-03 00:02:22|\n",
      "|3948b09f7c818e2d8...|e51478e7e277a8374...|           5|     Super recomendo|  Vendedor confiáve...| 2018-05-23 00:00:00|    2018-05-24 03:00:01|\n",
      "|9314d6f9799f5bfba...|0dacf04c5ad59fd5a...|           2|                NULL|  GOSTARIA DE SABER...| 2018-01-18 00:00:00|    2018-01-20 21:25:45|\n",
      "|8e15a274d95600fa1...|ff1581e08b3011021...|           5|                NULL|                  NULL| 2018-03-24 00:00:00|    2018-03-26 15:58:32|\n",
      "|fdbdb2629a7cde0f6...|70a752414a13d09cc...|           3|                NULL|                  NULL| 2017-09-29 00:00:00|    2017-10-02 01:12:49|\n",
      "|373cbeecea8286a2b...|583174fbe37d3d5f0...|           1|Não chegou meu pr...|               Péssimo| 2018-08-15 00:00:00|    2018-08-15 04:10:37|\n",
      "|a2ff510ca4e059c3f...|a9953b2f0b1665ac7...|           4|                NULL|                  NULL| 2017-10-06 00:00:00|    2017-10-08 22:36:05|\n",
      "+--------------------+--------------------+------------+--------------------+----------------------+--------------------+-----------------------+\n",
      "only showing top 20 rows\n",
      "\n"
     ]
    }
   ],
   "source": [
    "cdf = df.filter(\n",
    "    \"order_id is not null and \"\n",
    "    \"review_id is not null and \"\n",
    "    \"review_score is not null and \"\n",
    "    \"review_creation_date is not null and \"\n",
    "    \"length(review_id) = 32\"\n",
    ")\n",
    "\n",
    "print(cdf.count())\n",
    "cdf.show()"
   ]
  },
  {
   "cell_type": "code",
   "execution_count": 79,
   "id": "2eb54f2a-fa9a-4cc4-957b-9ebe9046a320",
   "metadata": {},
   "outputs": [
    {
     "name": "stdout",
     "output_type": "stream",
     "text": [
      "+-------------+-----------+------------+---------------------------------------------------------------------------------------+-----------------+------------------------------------------------------------------+\n",
      "|check        |check_level|check_status|constraint                                                                             |constraint_status|constraint_message                                                |\n",
      "+-------------+-----------+------------+---------------------------------------------------------------------------------------+-----------------+------------------------------------------------------------------+\n",
      "|order_reviews|Warning    |Warning     |CompletenessConstraint(Completeness(order_id,None,None))                               |Success          |                                                                  |\n",
      "|order_reviews|Warning    |Warning     |CompletenessConstraint(Completeness(review_id,None,None))                              |Success          |                                                                  |\n",
      "|order_reviews|Warning    |Warning     |CompletenessConstraint(Completeness(review_creation_date,None,None))                   |Failure          |Value: 0.960523663629767 does not meet the constraint requirement!|\n",
      "|order_reviews|Warning    |Warning     |AnalysisBasedConstraint(DataType(review_score,None),<function1>,Some(<function1>),None)|Success          |                                                                  |\n",
      "+-------------+-----------+------------+---------------------------------------------------------------------------------------+-----------------+------------------------------------------------------------------+\n",
      "\n"
     ]
    }
   ],
   "source": [
    "cdf = df.filter(\n",
    "    \"order_id is not null and \"\n",
    "    \"review_id is not null and \"\n",
    "    \"review_score is not null and \"\n",
    "    \"length(review_id) = 32\"\n",
    ")\n",
    "\n",
    "check = Check(spark, CheckLevel.Warning, \"order_reviews\")\n",
    "\n",
    "check_results = (\n",
    "    VerificationSuite(spark)\n",
    "    .onData(cdf)\n",
    "    .addCheck(\n",
    "        check\n",
    "        .isComplete(\"order_id\")\n",
    "        .isComplete(\"review_id\")\n",
    "        .isComplete(\"review_creation_date\")\n",
    "        .hasDataType(\"review_score\", ConstrainableDataTypes.Integral)\n",
    "    )\n",
    "    .run()\n",
    ")\n",
    "\n",
    "verification_df = VerificationResult.checkResultsAsDataFrame(spark, check_results)\n",
    "\n",
    "verification_df.show(truncate=False)"
   ]
  },
  {
   "cell_type": "markdown",
   "id": "92ef9cc9-2102-4abe-9bef-bac1ddce3250",
   "metadata": {},
   "source": [
    "### order_payments"
   ]
  },
  {
   "cell_type": "code",
   "execution_count": 81,
   "id": "d8d12652-e442-4750-a886-e8e98073ce34",
   "metadata": {},
   "outputs": [
    {
     "name": "stdout",
     "output_type": "stream",
     "text": [
      "root\n",
      " |-- order_id: string (nullable = true)\n",
      " |-- payment_sequential: integer (nullable = true)\n",
      " |-- payment_type: string (nullable = true)\n",
      " |-- payment_installments: integer (nullable = true)\n",
      " |-- payment_value: double (nullable = true)\n",
      "\n",
      "+--------------------+------------------+------------+--------------------+-------------+\n",
      "|            order_id|payment_sequential|payment_type|payment_installments|payment_value|\n",
      "+--------------------+------------------+------------+--------------------+-------------+\n",
      "|b81ef226f3fe1789b...|                 1| credit_card|                   8|        99.33|\n",
      "|a9810da82917af2d9...|                 1| credit_card|                   1|        24.39|\n",
      "+--------------------+------------------+------------+--------------------+-------------+\n",
      "only showing top 2 rows\n",
      "\n"
     ]
    }
   ],
   "source": [
    "df = (\n",
    "    spark.read\n",
    "    .format(\"csv\")\n",
    "    .option(\"header\", \"true\")\n",
    "    .option(\"inferSchema\", \"true\")\n",
    "    .load(\"s3a://ecommerce/raw/order_payments.csv\")\n",
    ")\n",
    "\n",
    "df.printSchema()\n",
    "df.show(2)"
   ]
  },
  {
   "cell_type": "code",
   "execution_count": 88,
   "id": "f466d785-bd62-40fd-8497-90a32adce57b",
   "metadata": {},
   "outputs": [
    {
     "name": "stdout",
     "output_type": "stream",
     "text": [
      "+--------------+-----------+------------+----------------------------------------------------------------------------------------------------------------------------------------------------------------------------------------------------------------------------------------------------+-----------------+------------------+\n",
      "|check         |check_level|check_status|constraint                                                                                                                                                                                                                                          |constraint_status|constraint_message|\n",
      "+--------------+-----------+------------+----------------------------------------------------------------------------------------------------------------------------------------------------------------------------------------------------------------------------------------------------+-----------------+------------------+\n",
      "|order_payments|Warning    |Success     |CompletenessConstraint(Completeness(order_id,None,None))                                                                                                                                                                                            |Success          |                  |\n",
      "|order_payments|Warning    |Success     |AnalysisBasedConstraint(DataType(payment_value,None),<function1>,Some(<function1>),None)                                                                                                                                                            |Success          |                  |\n",
      "|order_payments|Warning    |Success     |AnalysisBasedConstraint(DataType(payment_sequential,None),<function1>,Some(<function1>),None)                                                                                                                                                       |Success          |                  |\n",
      "|order_payments|Warning    |Success     |AnalysisBasedConstraint(DataType(payment_installments,None),<function1>,Some(<function1>),None)                                                                                                                                                     |Success          |                  |\n",
      "|order_payments|Warning    |Success     |ComplianceConstraint(Compliance(payment_type contained in credit_card,debit_card,voucher,boleto,not_defined,`payment_type` IS NULL OR `payment_type` IN ('credit_card','debit_card','voucher','boleto','not_defined'),None,List(payment_type),None))|Success          |                  |\n",
      "+--------------+-----------+------------+----------------------------------------------------------------------------------------------------------------------------------------------------------------------------------------------------------------------------------------------------+-----------------+------------------+\n",
      "\n"
     ]
    }
   ],
   "source": [
    "cdf = df\n",
    "\n",
    "check = Check(spark, CheckLevel.Warning, \"order_payments\")\n",
    "\n",
    "check_results = (\n",
    "    VerificationSuite(spark)\n",
    "    .onData(cdf)\n",
    "    .addCheck(\n",
    "        check\n",
    "        .isComplete(\"order_id\")\n",
    "        .hasDataType(\"payment_value\", ConstrainableDataTypes.Fractional)\n",
    "        .hasDataType(\"payment_sequential\", ConstrainableDataTypes.Integral)\n",
    "        .hasDataType(\"payment_installments\", ConstrainableDataTypes.Integral)\n",
    "        .isContainedIn(\"payment_type\", [\"credit_card\", \"debit_card\", \"voucher\", \"boleto\", \"not_defined\"])\n",
    "    )\n",
    "    .run()\n",
    ")\n",
    "\n",
    "verification_df = VerificationResult.checkResultsAsDataFrame(spark, check_results)\n",
    "\n",
    "verification_df.show(truncate=False)"
   ]
  }
 ],
 "metadata": {
  "kernelspec": {
   "display_name": "Python 3 (ipykernel)",
   "language": "python",
   "name": "python3"
  },
  "language_info": {
   "codemirror_mode": {
    "name": "ipython",
    "version": 3
   },
   "file_extension": ".py",
   "mimetype": "text/x-python",
   "name": "python",
   "nbconvert_exporter": "python",
   "pygments_lexer": "ipython3",
   "version": "3.11.9"
  }
 },
 "nbformat": 4,
 "nbformat_minor": 5
}
