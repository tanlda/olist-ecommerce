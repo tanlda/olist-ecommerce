{
 "cells": [
  {
   "cell_type": "code",
   "execution_count": 46,
   "id": "a95e9f61-ab91-4d5f-b75b-c9c66b7375bd",
   "metadata": {},
   "outputs": [],
   "source": [
    "%run utils.ipynb"
   ]
  },
  {
   "cell_type": "code",
   "execution_count": 4,
   "id": "d232f17b-a2a8-4862-8b97-5de7a87840dc",
   "metadata": {},
   "outputs": [
    {
     "data": {
      "text/html": [
       "\n",
       "            <div>\n",
       "                <p><b>SparkSession - in-memory</b></p>\n",
       "                \n",
       "        <div>\n",
       "            <p><b>SparkContext</b></p>\n",
       "\n",
       "            <p><a href=\"http://notebook-headless.io:4040\">Spark UI</a></p>\n",
       "\n",
       "            <dl>\n",
       "              <dt>Version</dt>\n",
       "                <dd><code>v3.5.1</code></dd>\n",
       "              <dt>Master</dt>\n",
       "                <dd><code>k8s://https://kubernetes.default.svc.cluster.local:443</code></dd>\n",
       "              <dt>AppName</dt>\n",
       "                <dd><code>notebook</code></dd>\n",
       "            </dl>\n",
       "        </div>\n",
       "        \n",
       "            </div>\n",
       "        "
      ],
      "text/plain": [
       "<pyspark.sql.session.SparkSession at 0x7438664ba3d0>"
      ]
     },
     "execution_count": 4,
     "metadata": {},
     "output_type": "execute_result"
    }
   ],
   "source": [
    "spark = get_spark(mode=\"client\", storage=\"lakehouse.io\")\n",
    "spark"
   ]
  },
  {
   "cell_type": "code",
   "execution_count": 9,
   "id": "1e87d65e-2e44-4463-9337-29409855aec4",
   "metadata": {},
   "outputs": [
    {
     "data": {
      "text/plain": [
       "DataFrame[product_id: string, product_category_name: string, product_name_lenght: string, product_description_lenght: string, product_photos_qty: string, product_weight_g: string, product_length_cm: string, product_height_cm: string, product_width_cm: string]"
      ]
     },
     "execution_count": 9,
     "metadata": {},
     "output_type": "execute_result"
    }
   ],
   "source": [
    "df = spark.read.option(\"header\", \"true\").csv(\"s3a://ecommerce/staging/products.csv\")\n",
    "df"
   ]
  },
  {
   "cell_type": "code",
   "execution_count": 19,
   "id": "9d3d9d82-d4c3-4800-8cfd-74b273e4fd78",
   "metadata": {},
   "outputs": [
    {
     "name": "stdout",
     "output_type": "stream",
     "text": [
      "+--------------------+---------------------+-------------------+--------------------------+------------------+----------------+-----------------+-----------------+----------------+\n",
      "|          product_id|product_category_name|product_name_lenght|product_description_lenght|product_photos_qty|product_weight_g|product_length_cm|product_height_cm|product_width_cm|\n",
      "+--------------------+---------------------+-------------------+--------------------------+------------------+----------------+-----------------+-----------------+----------------+\n",
      "|1e9e8ef04dbcff454...|           perfumaria|                 40|                       287|                 1|             225|               16|               10|              14|\n",
      "|3aa071139cb16b67c...|                artes|                 44|                       276|                 1|            1000|               30|               18|              20|\n",
      "|96bd76ec8810374ed...|        esporte_lazer|                 46|                       250|                 1|             154|               18|                9|              15|\n",
      "|cef67bcfe19066a93...|                bebes|                 27|                       261|                 1|             371|               26|                4|              26|\n",
      "|9dc1a7de274444849...| utilidades_domest...|                 37|                       402|                 4|             625|               20|               17|              13|\n",
      "+--------------------+---------------------+-------------------+--------------------------+------------------+----------------+-----------------+-----------------+----------------+\n",
      "only showing top 5 rows\n",
      "\n"
     ]
    }
   ],
   "source": [
    "df.show(5)"
   ]
  },
  {
   "cell_type": "code",
   "execution_count": 18,
   "id": "b104097c-afc4-454f-96d1-2ce8fbe75628",
   "metadata": {},
   "outputs": [
    {
     "name": "stdout",
     "output_type": "stream",
     "text": [
      "root\n",
      " |-- product_id: string (nullable = true)\n",
      " |-- product_category_name: string (nullable = true)\n",
      " |-- product_name_lenght: string (nullable = true)\n",
      " |-- product_description_lenght: string (nullable = true)\n",
      " |-- product_photos_qty: string (nullable = true)\n",
      " |-- product_weight_g: string (nullable = true)\n",
      " |-- product_length_cm: string (nullable = true)\n",
      " |-- product_height_cm: string (nullable = true)\n",
      " |-- product_width_cm: string (nullable = true)\n",
      "\n"
     ]
    }
   ],
   "source": [
    "df.printSchema()"
   ]
  },
  {
   "cell_type": "code",
   "execution_count": null,
   "id": "f4cfd764-6f4f-40dc-9e61-de96c51e327d",
   "metadata": {},
   "outputs": [],
   "source": [
    "df = (\n",
    "    spark.read.option(\"header\", \"true\")\n",
    "    .csv(\"s3a://ecommerce/staging/orders.2017-01-01.csv\")\n",
    ")\n",
    "\n",
    "df.show()"
   ]
  },
  {
   "cell_type": "code",
   "execution_count": 43,
   "id": "4214ed3a-ec9b-4cc3-ae12-ddf87a226f19",
   "metadata": {},
   "outputs": [],
   "source": [
    "engine = get_database(\"database.io\")"
   ]
  },
  {
   "cell_type": "code",
   "execution_count": 44,
   "id": "9ec65b78-a0a4-4f23-84cb-861582d884fd",
   "metadata": {},
   "outputs": [
    {
     "data": {
      "text/html": [
       "<div><style>\n",
       ".dataframe > thead > tr,\n",
       ".dataframe > tbody > tr {\n",
       "  text-align: right;\n",
       "  white-space: pre-wrap;\n",
       "}\n",
       "</style>\n",
       "<small>shape: (33, 8)</small><table border=\"1\" class=\"dataframe\"><thead><tr><th>order_id</th><th>customer_id</th><th>order_status</th><th>order_purchase_timestamp</th><th>order_approved_at</th><th>order_delivered_carrier_date</th><th>order_delivered_customer_date</th><th>order_estimated_delivery_date</th></tr><tr><td>str</td><td>str</td><td>str</td><td>datetime[μs]</td><td>datetime[μs]</td><td>datetime[μs]</td><td>null</td><td>datetime[μs]</td></tr></thead><tbody><tr><td>&quot;157ec3dc3f38cdbd2706bd216edfe8…</td><td>&quot;7dfd10dcc726950fc6171cea838723…</td><td>&quot;approved&quot;</td><td>2017-01-06 13:43:16</td><td>2017-01-06 13:55:11</td><td>null</td><td>null</td><td>2017-02-16 00:00:00</td></tr><tr><td>&quot;ec7a019261fce44180373d45b442d7…</td><td>&quot;c24fc5f9a446b4d8262041b9c64de7…</td><td>&quot;shipped&quot;</td><td>2017-01-05 11:56:06</td><td>2017-01-05 12:10:17</td><td>2017-01-06 12:43:41</td><td>null</td><td>2017-02-01 00:00:00</td></tr><tr><td>&quot;e1fe072ef14b519af1f0a8ed997c13…</td><td>&quot;758b633d88b82063db189810084f4e…</td><td>&quot;shipped&quot;</td><td>2017-01-05 15:32:59</td><td>2017-01-05 16:15:16</td><td>2017-01-06 13:45:22</td><td>null</td><td>2017-02-15 00:00:00</td></tr><tr><td>&quot;f2dd5f15184c73c0d45c02941c7c23…</td><td>&quot;4b60b3ade055c6ad88a00758c8e8a1…</td><td>&quot;shipped&quot;</td><td>2017-01-05 22:52:33</td><td>2017-01-05 23:05:27</td><td>2017-01-06 16:08:45</td><td>null</td><td>2017-02-23 00:00:00</td></tr><tr><td>&quot;b95a0a8bd30aece4e94e81f0591249…</td><td>&quot;ff3c6d35b4927c9b965aa6a68dcf56…</td><td>&quot;created&quot;</td><td>2017-01-05 12:01:20</td><td>null</td><td>null</td><td>null</td><td>2017-02-13 00:00:00</td></tr><tr><td>&hellip;</td><td>&hellip;</td><td>&hellip;</td><td>&hellip;</td><td>&hellip;</td><td>&hellip;</td><td>&hellip;</td><td>&hellip;</td></tr><tr><td>&quot;464de32dc84484c1d26df3e8e38e70…</td><td>&quot;27129ce1ebca4ffa23a049c51cc8ec…</td><td>&quot;created&quot;</td><td>2017-01-05 15:25:04</td><td>null</td><td>null</td><td>null</td><td>2017-02-13 00:00:00</td></tr><tr><td>&quot;747996a66f5aa711deb8ae58f5ae46…</td><td>&quot;ed1793d2d1e4175d5846ce7ebb4a01…</td><td>&quot;created&quot;</td><td>2017-01-05 15:25:10</td><td>null</td><td>null</td><td>null</td><td>2017-02-13 00:00:00</td></tr><tr><td>&quot;c96209cd1d43d071d3bdf48d299b7a…</td><td>&quot;06cd112a475fd4d834eff329681470…</td><td>&quot;created&quot;</td><td>2017-01-05 15:37:58</td><td>null</td><td>null</td><td>null</td><td>2017-02-13 00:00:00</td></tr><tr><td>&quot;09f58c00f941827ab206de7796785e…</td><td>&quot;7c94da97db6fe83e123f80baab533a…</td><td>&quot;created&quot;</td><td>2017-01-05 16:05:07</td><td>null</td><td>null</td><td>null</td><td>2017-02-13 00:00:00</td></tr><tr><td>&quot;9021fdebb45ac827a6033d6969d5c2…</td><td>&quot;7fdeb74955a334e7a83f3bb365c077…</td><td>&quot;created&quot;</td><td>2017-01-05 19:52:28</td><td>null</td><td>null</td><td>null</td><td>2017-02-07 00:00:00</td></tr></tbody></table></div>"
      ],
      "text/plain": [
       "shape: (33, 8)\n",
       "┌────────────┬────────────┬────────────┬───────────┬───────────┬───────────┬───────────┬───────────┐\n",
       "│ order_id   ┆ customer_i ┆ order_stat ┆ order_pur ┆ order_app ┆ order_del ┆ order_del ┆ order_est │\n",
       "│ ---        ┆ d          ┆ us         ┆ chase_tim ┆ roved_at  ┆ ivered_ca ┆ ivered_cu ┆ imated_de │\n",
       "│ str        ┆ ---        ┆ ---        ┆ estamp    ┆ ---       ┆ rrier_dat ┆ stomer_da ┆ livery_da │\n",
       "│            ┆ str        ┆ str        ┆ ---       ┆ datetime[ ┆ e         ┆ te        ┆ te        │\n",
       "│            ┆            ┆            ┆ datetime[ ┆ μs]       ┆ ---       ┆ ---       ┆ ---       │\n",
       "│            ┆            ┆            ┆ μs]       ┆           ┆ datetime[ ┆ null      ┆ datetime[ │\n",
       "│            ┆            ┆            ┆           ┆           ┆ μs]       ┆           ┆ μs]       │\n",
       "╞════════════╪════════════╪════════════╪═══════════╪═══════════╪═══════════╪═══════════╪═══════════╡\n",
       "│ 157ec3dc3f ┆ 7dfd10dcc7 ┆ approved   ┆ 2017-01-0 ┆ 2017-01-0 ┆ null      ┆ null      ┆ 2017-02-1 │\n",
       "│ 38cdbd2706 ┆ 26950fc617 ┆            ┆ 6         ┆ 6         ┆           ┆           ┆ 6         │\n",
       "│ bd216edfe8 ┆ 1cea838723 ┆            ┆ 13:43:16  ┆ 13:55:11  ┆           ┆           ┆ 00:00:00  │\n",
       "│ …          ┆ …          ┆            ┆           ┆           ┆           ┆           ┆           │\n",
       "│ ec7a019261 ┆ c24fc5f9a4 ┆ shipped    ┆ 2017-01-0 ┆ 2017-01-0 ┆ 2017-01-0 ┆ null      ┆ 2017-02-0 │\n",
       "│ fce4418037 ┆ 46b4d82620 ┆            ┆ 5         ┆ 5         ┆ 6         ┆           ┆ 1         │\n",
       "│ 3d45b442d7 ┆ 41b9c64de7 ┆            ┆ 11:56:06  ┆ 12:10:17  ┆ 12:43:41  ┆           ┆ 00:00:00  │\n",
       "│ …          ┆ …          ┆            ┆           ┆           ┆           ┆           ┆           │\n",
       "│ e1fe072ef1 ┆ 758b633d88 ┆ shipped    ┆ 2017-01-0 ┆ 2017-01-0 ┆ 2017-01-0 ┆ null      ┆ 2017-02-1 │\n",
       "│ 4b519af1f0 ┆ b82063db18 ┆            ┆ 5         ┆ 5         ┆ 6         ┆           ┆ 5         │\n",
       "│ a8ed997c13 ┆ 9810084f4e ┆            ┆ 15:32:59  ┆ 16:15:16  ┆ 13:45:22  ┆           ┆ 00:00:00  │\n",
       "│ …          ┆ …          ┆            ┆           ┆           ┆           ┆           ┆           │\n",
       "│ f2dd5f1518 ┆ 4b60b3ade0 ┆ shipped    ┆ 2017-01-0 ┆ 2017-01-0 ┆ 2017-01-0 ┆ null      ┆ 2017-02-2 │\n",
       "│ 4c73c0d45c ┆ 55c6ad88a0 ┆            ┆ 5         ┆ 5         ┆ 6         ┆           ┆ 3         │\n",
       "│ 02941c7c23 ┆ 0758c8e8a1 ┆            ┆ 22:52:33  ┆ 23:05:27  ┆ 16:08:45  ┆           ┆ 00:00:00  │\n",
       "│ …          ┆ …          ┆            ┆           ┆           ┆           ┆           ┆           │\n",
       "│ b95a0a8bd3 ┆ ff3c6d35b4 ┆ created    ┆ 2017-01-0 ┆ null      ┆ null      ┆ null      ┆ 2017-02-1 │\n",
       "│ 0aece4e94e ┆ 927c9b965a ┆            ┆ 5         ┆           ┆           ┆           ┆ 3         │\n",
       "│ 81f0591249 ┆ a6a68dcf56 ┆            ┆ 12:01:20  ┆           ┆           ┆           ┆ 00:00:00  │\n",
       "│ …          ┆ …          ┆            ┆           ┆           ┆           ┆           ┆           │\n",
       "│ …          ┆ …          ┆ …          ┆ …         ┆ …         ┆ …         ┆ …         ┆ …         │\n",
       "│ 464de32dc8 ┆ 27129ce1eb ┆ created    ┆ 2017-01-0 ┆ null      ┆ null      ┆ null      ┆ 2017-02-1 │\n",
       "│ 4484c1d26d ┆ ca4ffa23a0 ┆            ┆ 5         ┆           ┆           ┆           ┆ 3         │\n",
       "│ f3e8e38e70 ┆ 49c51cc8ec ┆            ┆ 15:25:04  ┆           ┆           ┆           ┆ 00:00:00  │\n",
       "│ …          ┆ …          ┆            ┆           ┆           ┆           ┆           ┆           │\n",
       "│ 747996a66f ┆ ed1793d2d1 ┆ created    ┆ 2017-01-0 ┆ null      ┆ null      ┆ null      ┆ 2017-02-1 │\n",
       "│ 5aa711deb8 ┆ e4175d5846 ┆            ┆ 5         ┆           ┆           ┆           ┆ 3         │\n",
       "│ ae58f5ae46 ┆ ce7ebb4a01 ┆            ┆ 15:25:10  ┆           ┆           ┆           ┆ 00:00:00  │\n",
       "│ …          ┆ …          ┆            ┆           ┆           ┆           ┆           ┆           │\n",
       "│ c96209cd1d ┆ 06cd112a47 ┆ created    ┆ 2017-01-0 ┆ null      ┆ null      ┆ null      ┆ 2017-02-1 │\n",
       "│ 43d071d3bd ┆ 5fd4d834ef ┆            ┆ 5         ┆           ┆           ┆           ┆ 3         │\n",
       "│ f48d299b7a ┆ f329681470 ┆            ┆ 15:37:58  ┆           ┆           ┆           ┆ 00:00:00  │\n",
       "│ …          ┆ …          ┆            ┆           ┆           ┆           ┆           ┆           │\n",
       "│ 09f58c00f9 ┆ 7c94da97db ┆ created    ┆ 2017-01-0 ┆ null      ┆ null      ┆ null      ┆ 2017-02-1 │\n",
       "│ 41827ab206 ┆ 6fe83e123f ┆            ┆ 5         ┆           ┆           ┆           ┆ 3         │\n",
       "│ de7796785e ┆ 80baab533a ┆            ┆ 16:05:07  ┆           ┆           ┆           ┆ 00:00:00  │\n",
       "│ …          ┆ …          ┆            ┆           ┆           ┆           ┆           ┆           │\n",
       "│ 9021fdebb4 ┆ 7fdeb74955 ┆ created    ┆ 2017-01-0 ┆ null      ┆ null      ┆ null      ┆ 2017-02-0 │\n",
       "│ 5ac827a603 ┆ a334e7a83f ┆            ┆ 5         ┆           ┆           ┆           ┆ 7         │\n",
       "│ 3d6969d5c2 ┆ 3bb365c077 ┆            ┆ 19:52:28  ┆           ┆           ┆           ┆ 00:00:00  │\n",
       "│ …          ┆ …          ┆            ┆           ┆           ┆           ┆           ┆           │\n",
       "└────────────┴────────────┴────────────┴───────────┴───────────┴───────────┴───────────┴───────────┘"
      ]
     },
     "execution_count": 44,
     "metadata": {},
     "output_type": "execute_result"
    }
   ],
   "source": [
    "pl.read_database(\"select * from orders\", connection=engine)"
   ]
  },
  {
   "cell_type": "code",
   "execution_count": 45,
   "id": "f29cbc38-8e06-4364-aa90-1b12559e2328",
   "metadata": {},
   "outputs": [
    {
     "data": {
      "text/html": [
       "<div><style>\n",
       ".dataframe > thead > tr,\n",
       ".dataframe > tbody > tr {\n",
       "  text-align: right;\n",
       "  white-space: pre-wrap;\n",
       "}\n",
       "</style>\n",
       "<small>shape: (41, 5)</small><table border=\"1\" class=\"dataframe\"><thead><tr><th>order_id</th><th>payment_sequential</th><th>payment_type</th><th>payment_installments</th><th>payment_value</th></tr><tr><td>str</td><td>i64</td><td>str</td><td>i64</td><td>f64</td></tr></thead><tbody><tr><td>&quot;157ec3dc3f38cdbd2706bd216edfe8…</td><td>1</td><td>&quot;credit_card&quot;</td><td>1</td><td>175.28</td></tr><tr><td>&quot;17fed53ba6dfef9b594ee2268642e2…</td><td>1</td><td>&quot;boleto&quot;</td><td>1</td><td>18.62</td></tr><tr><td>&quot;3ce4038922670fead496aeae61a8a3…</td><td>1</td><td>&quot;boleto&quot;</td><td>1</td><td>19.62</td></tr><tr><td>&quot;40599d3d28b75746952ded75566637…</td><td>1</td><td>&quot;boleto&quot;</td><td>1</td><td>20.62</td></tr><tr><td>&quot;e6db6e9529fecbe14cd05dd3498166…</td><td>1</td><td>&quot;credit_card&quot;</td><td>1</td><td>124.84</td></tr><tr><td>&hellip;</td><td>&hellip;</td><td>&hellip;</td><td>&hellip;</td><td>&hellip;</td></tr><tr><td>&quot;e1fe072ef14b519af1f0a8ed997c13…</td><td>1</td><td>&quot;credit_card&quot;</td><td>1</td><td>24.42</td></tr><tr><td>&quot;f2dd5f15184c73c0d45c02941c7c23…</td><td>1</td><td>&quot;credit_card&quot;</td><td>1</td><td>91.92</td></tr><tr><td>&quot;09f58c00f941827ab206de7796785e…</td><td>1</td><td>&quot;boleto&quot;</td><td>1</td><td>17.62</td></tr><tr><td>&quot;d82cef48824870df9946d57e827ed7…</td><td>1</td><td>&quot;boleto&quot;</td><td>1</td><td>19.62</td></tr><tr><td>&quot;0bda8164c1a12b6a388ebec8559ee2…</td><td>1</td><td>&quot;boleto&quot;</td><td>1</td><td>15.62</td></tr></tbody></table></div>"
      ],
      "text/plain": [
       "shape: (41, 5)\n",
       "┌───────────────────────┬────────────────────┬──────────────┬──────────────────────┬───────────────┐\n",
       "│ order_id              ┆ payment_sequential ┆ payment_type ┆ payment_installments ┆ payment_value │\n",
       "│ ---                   ┆ ---                ┆ ---          ┆ ---                  ┆ ---           │\n",
       "│ str                   ┆ i64                ┆ str          ┆ i64                  ┆ f64           │\n",
       "╞═══════════════════════╪════════════════════╪══════════════╪══════════════════════╪═══════════════╡\n",
       "│ 157ec3dc3f38cdbd2706b ┆ 1                  ┆ credit_card  ┆ 1                    ┆ 175.28        │\n",
       "│ d216edfe8…            ┆                    ┆              ┆                      ┆               │\n",
       "│ 17fed53ba6dfef9b594ee ┆ 1                  ┆ boleto       ┆ 1                    ┆ 18.62         │\n",
       "│ 2268642e2…            ┆                    ┆              ┆                      ┆               │\n",
       "│ 3ce4038922670fead496a ┆ 1                  ┆ boleto       ┆ 1                    ┆ 19.62         │\n",
       "│ eae61a8a3…            ┆                    ┆              ┆                      ┆               │\n",
       "│ 40599d3d28b75746952de ┆ 1                  ┆ boleto       ┆ 1                    ┆ 20.62         │\n",
       "│ d75566637…            ┆                    ┆              ┆                      ┆               │\n",
       "│ e6db6e9529fecbe14cd05 ┆ 1                  ┆ credit_card  ┆ 1                    ┆ 124.84        │\n",
       "│ dd3498166…            ┆                    ┆              ┆                      ┆               │\n",
       "│ …                     ┆ …                  ┆ …            ┆ …                    ┆ …             │\n",
       "│ e1fe072ef14b519af1f0a ┆ 1                  ┆ credit_card  ┆ 1                    ┆ 24.42         │\n",
       "│ 8ed997c13…            ┆                    ┆              ┆                      ┆               │\n",
       "│ f2dd5f15184c73c0d45c0 ┆ 1                  ┆ credit_card  ┆ 1                    ┆ 91.92         │\n",
       "│ 2941c7c23…            ┆                    ┆              ┆                      ┆               │\n",
       "│ 09f58c00f941827ab206d ┆ 1                  ┆ boleto       ┆ 1                    ┆ 17.62         │\n",
       "│ e7796785e…            ┆                    ┆              ┆                      ┆               │\n",
       "│ d82cef48824870df9946d ┆ 1                  ┆ boleto       ┆ 1                    ┆ 19.62         │\n",
       "│ 57e827ed7…            ┆                    ┆              ┆                      ┆               │\n",
       "│ 0bda8164c1a12b6a388eb ┆ 1                  ┆ boleto       ┆ 1                    ┆ 15.62         │\n",
       "│ ec8559ee2…            ┆                    ┆              ┆                      ┆               │\n",
       "└───────────────────────┴────────────────────┴──────────────┴──────────────────────┴───────────────┘"
      ]
     },
     "execution_count": 45,
     "metadata": {},
     "output_type": "execute_result"
    }
   ],
   "source": [
    "pl.read_database(\"select * from order_payments\", connection=engine)"
   ]
  }
 ],
 "metadata": {
  "kernelspec": {
   "display_name": "Python 3 (ipykernel)",
   "language": "python",
   "name": "python3"
  },
  "language_info": {
   "codemirror_mode": {
    "name": "ipython",
    "version": 3
   },
   "file_extension": ".py",
   "mimetype": "text/x-python",
   "name": "python",
   "nbconvert_exporter": "python",
   "pygments_lexer": "ipython3",
   "version": "3.11.9"
  }
 },
 "nbformat": 4,
 "nbformat_minor": 5
}
