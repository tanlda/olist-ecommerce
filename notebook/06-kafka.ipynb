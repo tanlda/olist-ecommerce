{
 "cells": [
  {
   "cell_type": "code",
   "execution_count": 15,
   "id": "112ea1c6-08ae-4587-a33a-0464da909e77",
   "metadata": {},
   "outputs": [],
   "source": [
    "!pip install -q confluent-kafka[avro] avro-python3"
   ]
  },
  {
   "cell_type": "code",
   "execution_count": 25,
   "id": "a2513799-b28b-42fb-a330-8893daf74d9c",
   "metadata": {},
   "outputs": [
    {
     "data": {
      "text/plain": [
       "<confluent_kafka.deserializing_consumer.DeserializingConsumer at 0x74f0c2091f40>"
      ]
     },
     "execution_count": 25,
     "metadata": {},
     "output_type": "execute_result"
    }
   ],
   "source": [
    "from confluent_kafka import DeserializingConsumer\n",
    "from confluent_kafka.schema_registry import SchemaRegistryClient\n",
    "from confluent_kafka.schema_registry.avro import AvroDeserializer\n",
    "from confluent_kafka.serialization import StringDeserializer\n",
    "\n",
    "# Kafka configuration\n",
    "kafka_conf = {\n",
    "    'bootstrap.servers': 'cluster-kafka-brokers.kafka:9092',\n",
    "    'group.id': 'notebook-next',\n",
    "    'auto.offset.reset': 'earliest',\n",
    "}\n",
    "\n",
    "# Schema Registry configuration\n",
    "schema_registry_conf = {\n",
    "    'url': 'http://schema-registry.kafka:8081'\n",
    "}\n",
    "\n",
    "schema_registry_client = SchemaRegistryClient(schema_registry_conf)\n",
    "\n",
    "# Deserializers\n",
    "value_deserializer = AvroDeserializer(schema_registry_client)\n",
    "key_deserializer = AvroDeserializer(schema_registry_client)\n",
    "\n",
    "consumer_conf = {**kafka_conf,\n",
    "                 'key.deserializer': key_deserializer,\n",
    "                 'value.deserializer': value_deserializer}\n",
    "\n",
    "consumer = DeserializingConsumer(consumer_conf)\n",
    "\n",
    "# consumer.subscribe(['orders.public.orders'])\n",
    "\n",
    "consumer.subscribe(['order_reviews.ecommerce.order_reviews'])\n",
    "\n",
    "consumer"
   ]
  },
  {
   "cell_type": "code",
   "execution_count": 26,
   "id": "86541fcf-8d20-4f49-9cbc-da3f45f0280e",
   "metadata": {},
   "outputs": [
    {
     "data": {
      "text/plain": [
       "[{'key': '{\"_id\": \"66a7704facbba45dda61e406\"}',\n",
       "  'value': '{\"_id\": \"66a7704facbba45dda61e406\", \"order_id\": \"9021fdebb45ac827a6033d6969d5c2e3\", \"review_id\": \"ef468ee6d6910150dc4ea20c19ad116d\", \"review_answer_timestamp\": \"2017-01-16T00:02:47Z\", \"review_comment_message\": \"Pensava que era maior, mas tbm não tinha noção de 20 cm. Fora isso lindinha amei , tudo perfeitinho , estava pra chegar dia 09/02 mas veio dia 13/01 que bom pq eu queria pra 27/01 níver de minha filha\", \"review_comment_title\": null, \"review_creation_date\": \"2017-01-14T00:00:00Z\", \"review_score\": 4}'},\n",
       " {'key': '{\"_id\": \"66a7704facbba45dda61e40d\"}',\n",
       "  'value': '{\"_id\": \"66a7704facbba45dda61e40d\", \"order_id\": \"157ec3dc3f38cdbd2706bd216edfe8fb\", \"review_id\": \"6bd763b0a18bc7c57cf36289e4946548\", \"review_answer_timestamp\": \"2017-01-14T19:55:44Z\", \"review_comment_message\": \"Comprei 2 produtos no mesmo pedido com os srs 1 chegou falta mais 1 .Fiquei surpreso em ver à nota fiscal com um único produto já que jogar pedido tem 2 .\", \"review_comment_title\": null, \"review_creation_date\": \"2017-01-14T00:00:00Z\", \"review_score\": 5}'},\n",
       " {'key': '{\"_id\": \"66a7704facbba45dda61e414\"}',\n",
       "  'value': '{\"_id\": \"66a7704facbba45dda61e414\", \"order_id\": \"e6db6e9529fecbe14cd05dd349816656\", \"review_id\": \"d80e6132380b0b06c79fd7daa327012f\", \"review_answer_timestamp\": \"2017-01-17T13:18:41Z\", \"review_comment_message\": \"A entrega foi super rápida e o produto de ótima qualidade. \", \"review_comment_title\": null, \"review_creation_date\": \"2017-01-14T00:00:00Z\", \"review_score\": 4}'},\n",
       " {'key': '{\"_id\": \"66a7704facbba45dda61e41b\"}',\n",
       "  'value': '{\"_id\": \"66a7704facbba45dda61e41b\", \"order_id\": \"f2dd5f15184c73c0d45c02941c7c23d1\", \"review_id\": \"524b32c45c6e03c198984e38522f559f\", \"review_answer_timestamp\": \"2017-01-15T12:48:49Z\", \"review_comment_message\": null, \"review_comment_title\": null, \"review_creation_date\": \"2017-01-14T00:00:00Z\", \"review_score\": 3}'},\n",
       " {'key': '{\"_id\": \"66a77103acbba45dda61e742\"}',\n",
       "  'value': '{\"_id\": \"66a77103acbba45dda61e742\", \"order_id\": \"c96209cd1d43d071d3bdf48d299b7aa5\", \"review_id\": \"a6429b2898b165b81727dcbbb97c1f37\", \"review_answer_timestamp\": \"2017-01-20T13:43:14Z\", \"review_comment_message\": \"O produto era de ótima qualidade e a entrega foi super rápida.\", \"review_comment_title\": null, \"review_creation_date\": \"2017-01-17T00:00:00Z\", \"review_score\": 5}'}]"
      ]
     },
     "execution_count": 26,
     "metadata": {},
     "output_type": "execute_result"
    }
   ],
   "source": [
    "messages = []\n",
    "for i in range(5):\n",
    "    msg = consumer.poll()\n",
    "    # messages.append(msg.value())\n",
    "    messages.append({\"key\": msg.key(), \"value\": msg.value()})\n",
    "\n",
    "messages\n",
    "\n",
    "# TODO: opensearch kafka sink connector can't parse json with non UTF-32 characters"
   ]
  },
  {
   "cell_type": "code",
   "execution_count": 27,
   "id": "84da5fd5-80a6-4fa1-84fe-ad49221aab6c",
   "metadata": {},
   "outputs": [
    {
     "data": {
      "text/plain": [
       "[{'key': {'order_id': '2f9d791088532b218b41f892cc16073b'},\n",
       "  'value': {'order_id': '2f9d791088532b218b41f892cc16073b',\n",
       "   'customer_id': '937bb74713a47912471275b234236764',\n",
       "   'order_status': 'delivered',\n",
       "   'order_purchase_timestamp': 1483624128000000,\n",
       "   'order_approved_at': 1483760121000000,\n",
       "   'order_delivered_carrier_date': 1484150933000000,\n",
       "   'order_delivered_customer_date': 1484672266000000,\n",
       "   'order_estimated_delivery_date': 1486944000000000}},\n",
       " {'key': {'order_id': '7004296aa0256632eaddc171edaf727f'},\n",
       "  'value': {'order_id': '7004296aa0256632eaddc171edaf727f',\n",
       "   'customer_id': '3a7856f2a103364d279de7f72e18b7c4',\n",
       "   'order_status': 'delivered',\n",
       "   'order_purchase_timestamp': 1483623082000000,\n",
       "   'order_approved_at': 1483760669000000,\n",
       "   'order_delivered_carrier_date': 1484148953000000,\n",
       "   'order_delivered_customer_date': 1484582721000000,\n",
       "   'order_estimated_delivery_date': 1485907200000000}},\n",
       " {'key': {'order_id': '0bda8164c1a12b6a388ebec8559ee287'},\n",
       "  'value': {'order_id': '0bda8164c1a12b6a388ebec8559ee287',\n",
       "   'customer_id': '3f402674c608ea67085eb5e0ec4d96ef',\n",
       "   'order_status': 'delivered',\n",
       "   'order_purchase_timestamp': 1483623367000000,\n",
       "   'order_approved_at': 1483760747000000,\n",
       "   'order_delivered_carrier_date': 1484150940000000,\n",
       "   'order_delivered_customer_date': 1484587654000000,\n",
       "   'order_estimated_delivery_date': 1486944000000000}},\n",
       " {'key': {'order_id': 'db7576b1fe440f4c0a808855aacf0948'},\n",
       "  'value': {'order_id': 'db7576b1fe440f4c0a808855aacf0948',\n",
       "   'customer_id': 'fc30386d1f0ca6d7f48845275ac0cd23',\n",
       "   'order_status': 'delivered',\n",
       "   'order_purchase_timestamp': 1483623447000000,\n",
       "   'order_approved_at': 1483760667000000,\n",
       "   'order_delivered_carrier_date': 1484149075000000,\n",
       "   'order_delivered_customer_date': 1484576701000000,\n",
       "   'order_estimated_delivery_date': 1486944000000000}},\n",
       " {'key': {'order_id': '6acecf438369055d9243e121045cca74'},\n",
       "  'value': {'order_id': '6acecf438369055d9243e121045cca74',\n",
       "   'customer_id': '42d857e22f61f10476f0cda1aacc018a',\n",
       "   'order_status': 'delivered',\n",
       "   'order_purchase_timestamp': 1483618283000000,\n",
       "   'order_approved_at': 1483760647000000,\n",
       "   'order_delivered_carrier_date': 1484151773000000,\n",
       "   'order_delivered_customer_date': 1484669190000000,\n",
       "   'order_estimated_delivery_date': 1486944000000000}}]"
      ]
     },
     "execution_count": 27,
     "metadata": {},
     "output_type": "execute_result"
    }
   ],
   "source": [
    "messages = []\n",
    "for i in range(5):\n",
    "    msg = consumer.poll()\n",
    "    messages.append({\"key\": msg.key(), \"value\": msg.value()})\n",
    "\n",
    "messages"
   ]
  },
  {
   "cell_type": "code",
   "execution_count": 1,
   "id": "51db299e-34a5-40d3-bc22-e25a029b3aa2",
   "metadata": {},
   "outputs": [],
   "source": [
    "import polars as pl\n",
    "import sqlalchemy as sa\n",
    "from trino.dbapi import connect"
   ]
  },
  {
   "cell_type": "code",
   "execution_count": 2,
   "id": "2cf67647-027f-4c1c-b26d-5b6e615b4692",
   "metadata": {},
   "outputs": [],
   "source": [
    "stream = connect(host=\"trino.sql\", port=80, user=\"admin\", catalog=\"stream\", schema=\"default\")\n",
    "def execute(query: str): return pl.read_database(query, connection=stream)"
   ]
  },
  {
   "cell_type": "code",
   "execution_count": 3,
   "id": "ac435dd5-dac4-478f-bb64-de3d2e981533",
   "metadata": {},
   "outputs": [
    {
     "data": {
      "text/html": [
       "<div><style>\n",
       ".dataframe > thead > tr,\n",
       ".dataframe > tbody > tr {\n",
       "  text-align: right;\n",
       "  white-space: pre-wrap;\n",
       "}\n",
       "</style>\n",
       "<small>shape: (2, 1)</small><table border=\"1\" class=\"dataframe\"><thead><tr><th>Schema</th></tr><tr><td>str</td></tr></thead><tbody><tr><td>&quot;default&quot;</td></tr><tr><td>&quot;information_schema&quot;</td></tr></tbody></table></div>"
      ],
      "text/plain": [
       "shape: (2, 1)\n",
       "┌────────────────────┐\n",
       "│ Schema             │\n",
       "│ ---                │\n",
       "│ str                │\n",
       "╞════════════════════╡\n",
       "│ default            │\n",
       "│ information_schema │\n",
       "└────────────────────┘"
      ]
     },
     "execution_count": 3,
     "metadata": {},
     "output_type": "execute_result"
    }
   ],
   "source": [
    "execute(\"show schemas\")"
   ]
  },
  {
   "cell_type": "code",
   "execution_count": 4,
   "id": "81918475-a3ac-44b7-bf36-8e24164a9ef0",
   "metadata": {},
   "outputs": [
    {
     "data": {
      "text/html": [
       "<div><style>\n",
       ".dataframe > thead > tr,\n",
       ".dataframe > tbody > tr {\n",
       "  text-align: right;\n",
       "  white-space: pre-wrap;\n",
       "}\n",
       "</style>\n",
       "<small>shape: (4, 1)</small><table border=\"1\" class=\"dataframe\"><thead><tr><th>Table</th></tr><tr><td>str</td></tr></thead><tbody><tr><td>&quot;order_items.public.order_items&quot;</td></tr><tr><td>&quot;order_payments.public.order_pa…</td></tr><tr><td>&quot;order_reviews.ecommerce.order_…</td></tr><tr><td>&quot;orders.public.orders&quot;</td></tr></tbody></table></div>"
      ],
      "text/plain": [
       "shape: (4, 1)\n",
       "┌─────────────────────────────────┐\n",
       "│ Table                           │\n",
       "│ ---                             │\n",
       "│ str                             │\n",
       "╞═════════════════════════════════╡\n",
       "│ order_items.public.order_items  │\n",
       "│ order_payments.public.order_pa… │\n",
       "│ order_reviews.ecommerce.order_… │\n",
       "│ orders.public.orders            │\n",
       "└─────────────────────────────────┘"
      ]
     },
     "execution_count": 4,
     "metadata": {},
     "output_type": "execute_result"
    }
   ],
   "source": [
    "execute(\"show tables from default\")"
   ]
  },
  {
   "cell_type": "code",
   "execution_count": 21,
   "id": "aa1397a9-33dc-4b42-9d5f-43d280872355",
   "metadata": {},
   "outputs": [],
   "source": [
    "# TODO:\n",
    "# TrinoQueryError: TrinoQueryError(type=INTERNAL_ERROR, name=GENERIC_INTERNAL_ERROR, message=\"Multiple entries with same key:\n",
    "#     order_id=KafkaColumnHandle{name=order_id, type=varchar, mapping=order_id, dataFormat=null, formatHint=null, keyCodec=false, hidden=false, internal=false}\n",
    "# and order_id=KafkaColumnHandle{name=order_id, type=varchar, mapping=order_id, dataFormat=null, formatHint=null, keyCodec=true, hidden=false, internal=false}\",\n",
    "# query_id=20240727_111738_00013_rkr7m)\n",
    "execute('select order_purchase_timestamp from \"orders.public.orders\"')"
   ]
  },
  {
   "cell_type": "code",
   "execution_count": 10,
   "id": "32c6bba0-e6ff-4d7a-9e19-da894e7d7d33",
   "metadata": {},
   "outputs": [],
   "source": [
    "opensearch = connect(host=\"trino.sql\", port=80, user=\"admin\", catalog=\"opensearch\", schema=\"default\")\n",
    "def exc(query: str): return pl.read_database(query, connection=opensearch)"
   ]
  },
  {
   "cell_type": "code",
   "execution_count": 30,
   "id": "10d7b57b-dc31-4224-bc7d-5b073114065b",
   "metadata": {},
   "outputs": [
    {
     "data": {
      "text/html": [
       "<div><style>\n",
       ".dataframe > thead > tr,\n",
       ".dataframe > tbody > tr {\n",
       "  text-align: right;\n",
       "  white-space: pre-wrap;\n",
       "}\n",
       "</style>\n",
       "<small>shape: (3, 1)</small><table border=\"1\" class=\"dataframe\"><thead><tr><th>Schema</th></tr><tr><td>str</td></tr></thead><tbody><tr><td>&quot;default&quot;</td></tr><tr><td>&quot;information_schema&quot;</td></tr><tr><td>&quot;system&quot;</td></tr></tbody></table></div>"
      ],
      "text/plain": [
       "shape: (3, 1)\n",
       "┌────────────────────┐\n",
       "│ Schema             │\n",
       "│ ---                │\n",
       "│ str                │\n",
       "╞════════════════════╡\n",
       "│ default            │\n",
       "│ information_schema │\n",
       "│ system             │\n",
       "└────────────────────┘"
      ]
     },
     "execution_count": 30,
     "metadata": {},
     "output_type": "execute_result"
    }
   ],
   "source": [
    "exc(\"show schemas\")"
   ]
  },
  {
   "cell_type": "code",
   "execution_count": 31,
   "id": "fa8e7912-ccda-45d8-9028-e00c3e070064",
   "metadata": {},
   "outputs": [
    {
     "data": {
      "text/html": [
       "<div><style>\n",
       ".dataframe > thead > tr,\n",
       ".dataframe > tbody > tr {\n",
       "  text-align: right;\n",
       "  white-space: pre-wrap;\n",
       "}\n",
       "</style>\n",
       "<small>shape: (6, 1)</small><table border=\"1\" class=\"dataframe\"><thead><tr><th>Table</th></tr><tr><td>str</td></tr></thead><tbody><tr><td>&quot;.kibana&quot;</td></tr><tr><td>&quot;.kibana_1&quot;</td></tr><tr><td>&quot;.opensearch-observability&quot;</td></tr><tr><td>&quot;.plugins-ml-config&quot;</td></tr><tr><td>&quot;.ql-datasources&quot;</td></tr><tr><td>&quot;orders.public.orders&quot;</td></tr></tbody></table></div>"
      ],
      "text/plain": [
       "shape: (6, 1)\n",
       "┌───────────────────────────┐\n",
       "│ Table                     │\n",
       "│ ---                       │\n",
       "│ str                       │\n",
       "╞═══════════════════════════╡\n",
       "│ .kibana                   │\n",
       "│ .kibana_1                 │\n",
       "│ .opensearch-observability │\n",
       "│ .plugins-ml-config        │\n",
       "│ .ql-datasources           │\n",
       "│ orders.public.orders      │\n",
       "└───────────────────────────┘"
      ]
     },
     "execution_count": 31,
     "metadata": {},
     "output_type": "execute_result"
    }
   ],
   "source": [
    "exc(\"show tables from default\")"
   ]
  },
  {
   "cell_type": "code",
   "execution_count": 23,
   "id": "74971965-287d-4378-8ca9-798b8b37f53f",
   "metadata": {},
   "outputs": [
    {
     "data": {
      "text/html": [
       "<div><style>\n",
       ".dataframe > thead > tr,\n",
       ".dataframe > tbody > tr {\n",
       "  text-align: right;\n",
       "  white-space: pre-wrap;\n",
       "}\n",
       "</style>\n",
       "<small>shape: (5, 8)</small><table border=\"1\" class=\"dataframe\"><thead><tr><th>customer_id</th><th>order_approved_at</th><th>order_delivered_carrier_date</th><th>order_delivered_customer_date</th><th>order_estimated_delivery_date</th><th>order_id</th><th>order_purchase_timestamp</th><th>order_status</th></tr><tr><td>str</td><td>i64</td><td>i64</td><td>i64</td><td>i64</td><td>str</td><td>i64</td><td>str</td></tr></thead><tbody><tr><td>&quot;24cf4347382b8e190a512b2de912f8…</td><td>1485364523000000</td><td>1485526881000000</td><td>1485865358000000</td><td>1488412800000000</td><td>&quot;20de77e28f73070461781b0eb6228f…</td><td>1485364000000000</td><td>&quot;delivered&quot;</td></tr><tr><td>&quot;0792343f0465acf2c7aee7e4fce852…</td><td>1485797482000000</td><td>1485957468000000</td><td>1487248523000000</td><td>1488844800000000</td><td>&quot;c6522dab7d6b83ada4140b653c4db0…</td><td>1485792458000000</td><td>&quot;delivered&quot;</td></tr><tr><td>&quot;c3ab6358d2556844d38ed5dbab0b41…</td><td>1485869605000000</td><td>1486028254000000</td><td>null</td><td>1490054400000000</td><td>&quot;b5b103fe531168050d785d5b8de741…</td><td>1485782039000000</td><td>&quot;shipped&quot;</td></tr><tr><td>&quot;bf6418c67d6b29aada7d4a9a0cfb3e…</td><td>1485837082000000</td><td>null</td><td>null</td><td>1489104000000000</td><td>&quot;2e287cee637969033ec9ab49602e61…</td><td>1485791333000000</td><td>&quot;approved&quot;</td></tr><tr><td>&quot;91a10aff1998894aefda53b691a5d6…</td><td>1485837524000000</td><td>1485855501000000</td><td>1486965536000000</td><td>1489622400000000</td><td>&quot;24040647efd179bd506acacbbbabd8…</td><td>1485719960000000</td><td>&quot;delivered&quot;</td></tr></tbody></table></div>"
      ],
      "text/plain": [
       "shape: (5, 8)\n",
       "┌────────────┬────────────┬────────────┬───────────┬───────────┬───────────┬───────────┬───────────┐\n",
       "│ customer_i ┆ order_appr ┆ order_deli ┆ order_del ┆ order_est ┆ order_id  ┆ order_pur ┆ order_sta │\n",
       "│ d          ┆ oved_at    ┆ vered_carr ┆ ivered_cu ┆ imated_de ┆ ---       ┆ chase_tim ┆ tus       │\n",
       "│ ---        ┆ ---        ┆ ier_date   ┆ stomer_da ┆ livery_da ┆ str       ┆ estamp    ┆ ---       │\n",
       "│ str        ┆ i64        ┆ ---        ┆ te        ┆ te        ┆           ┆ ---       ┆ str       │\n",
       "│            ┆            ┆ i64        ┆ ---       ┆ ---       ┆           ┆ i64       ┆           │\n",
       "│            ┆            ┆            ┆ i64       ┆ i64       ┆           ┆           ┆           │\n",
       "╞════════════╪════════════╪════════════╪═══════════╪═══════════╪═══════════╪═══════════╪═══════════╡\n",
       "│ 24cf434738 ┆ 1485364523 ┆ 1485526881 ┆ 148586535 ┆ 148841280 ┆ 20de77e28 ┆ 148536400 ┆ delivered │\n",
       "│ 2b8e190a51 ┆ 000000     ┆ 000000     ┆ 8000000   ┆ 0000000   ┆ f73070461 ┆ 0000000   ┆           │\n",
       "│ 2b2de912f8 ┆            ┆            ┆           ┆           ┆ 781b0eb62 ┆           ┆           │\n",
       "│ …          ┆            ┆            ┆           ┆           ┆ 28f…      ┆           ┆           │\n",
       "│ 0792343f04 ┆ 1485797482 ┆ 1485957468 ┆ 148724852 ┆ 148884480 ┆ c6522dab7 ┆ 148579245 ┆ delivered │\n",
       "│ 65acf2c7ae ┆ 000000     ┆ 000000     ┆ 3000000   ┆ 0000000   ┆ d6b83ada4 ┆ 8000000   ┆           │\n",
       "│ e7e4fce852 ┆            ┆            ┆           ┆           ┆ 140b653c4 ┆           ┆           │\n",
       "│ …          ┆            ┆            ┆           ┆           ┆ db0…      ┆           ┆           │\n",
       "│ c3ab6358d2 ┆ 1485869605 ┆ 1486028254 ┆ null      ┆ 149005440 ┆ b5b103fe5 ┆ 148578203 ┆ shipped   │\n",
       "│ 556844d38e ┆ 000000     ┆ 000000     ┆           ┆ 0000000   ┆ 31168050d ┆ 9000000   ┆           │\n",
       "│ d5dbab0b41 ┆            ┆            ┆           ┆           ┆ 785d5b8de ┆           ┆           │\n",
       "│ …          ┆            ┆            ┆           ┆           ┆ 741…      ┆           ┆           │\n",
       "│ bf6418c67d ┆ 1485837082 ┆ null       ┆ null      ┆ 148910400 ┆ 2e287cee6 ┆ 148579133 ┆ approved  │\n",
       "│ 6b29aada7d ┆ 000000     ┆            ┆           ┆ 0000000   ┆ 37969033e ┆ 3000000   ┆           │\n",
       "│ 4a9a0cfb3e ┆            ┆            ┆           ┆           ┆ c9ab49602 ┆           ┆           │\n",
       "│ …          ┆            ┆            ┆           ┆           ┆ e61…      ┆           ┆           │\n",
       "│ 91a10aff19 ┆ 1485837524 ┆ 1485855501 ┆ 148696553 ┆ 148962240 ┆ 24040647e ┆ 148571996 ┆ delivered │\n",
       "│ 98894aefda ┆ 000000     ┆ 000000     ┆ 6000000   ┆ 0000000   ┆ fd179bd50 ┆ 0000000   ┆           │\n",
       "│ 53b691a5d6 ┆            ┆            ┆           ┆           ┆ 6acacbbba ┆           ┆           │\n",
       "│ …          ┆            ┆            ┆           ┆           ┆ bd8…      ┆           ┆           │\n",
       "└────────────┴────────────┴────────────┴───────────┴───────────┴───────────┴───────────┴───────────┘"
      ]
     },
     "execution_count": 23,
     "metadata": {},
     "output_type": "execute_result"
    }
   ],
   "source": [
    "df = exc('select * from \"orders.public.orders\"')\n",
    "df.head(5)"
   ]
  },
  {
   "cell_type": "code",
   "execution_count": 17,
   "id": "4d02564a-ce84-41d8-b326-0227e5e42342",
   "metadata": {},
   "outputs": [
    {
     "data": {
      "text/html": [
       "<div><style>\n",
       ".dataframe > thead > tr,\n",
       ".dataframe > tbody > tr {\n",
       "  text-align: right;\n",
       "  white-space: pre-wrap;\n",
       "}\n",
       "</style>\n",
       "<small>shape: (1, 1)</small><table border=\"1\" class=\"dataframe\"><thead><tr><th>_col0</th></tr><tr><td>i64</td></tr></thead><tbody><tr><td>2134</td></tr></tbody></table></div>"
      ],
      "text/plain": [
       "shape: (1, 1)\n",
       "┌───────┐\n",
       "│ _col0 │\n",
       "│ ---   │\n",
       "│ i64   │\n",
       "╞═══════╡\n",
       "│ 2134  │\n",
       "└───────┘"
      ]
     },
     "execution_count": 17,
     "metadata": {},
     "output_type": "execute_result"
    }
   ],
   "source": [
    "exc('select count(*) from \"orders.public.orders\"')"
   ]
  },
  {
   "cell_type": "code",
   "execution_count": 18,
   "id": "42813d29-c5d7-4b60-9474-777b24ee5ea8",
   "metadata": {},
   "outputs": [
    {
     "data": {
      "text/html": [
       "<div><style>\n",
       ".dataframe > thead > tr,\n",
       ".dataframe > tbody > tr {\n",
       "  text-align: right;\n",
       "  white-space: pre-wrap;\n",
       "}\n",
       "</style>\n",
       "<small>shape: (1, 1)</small><table border=\"1\" class=\"dataframe\"><thead><tr><th>_col0</th></tr><tr><td>i64</td></tr></thead><tbody><tr><td>2249</td></tr></tbody></table></div>"
      ],
      "text/plain": [
       "shape: (1, 1)\n",
       "┌───────┐\n",
       "│ _col0 │\n",
       "│ ---   │\n",
       "│ i64   │\n",
       "╞═══════╡\n",
       "│ 2249  │\n",
       "└───────┘"
      ]
     },
     "execution_count": 18,
     "metadata": {},
     "output_type": "execute_result"
    }
   ],
   "source": [
    "exc('select count(*) from \"orders.public.orders\"')"
   ]
  },
  {
   "cell_type": "code",
   "execution_count": 19,
   "id": "777c8337-28b0-484f-915c-28e84ba2a10a",
   "metadata": {},
   "outputs": [
    {
     "data": {
      "text/html": [
       "<div><style>\n",
       ".dataframe > thead > tr,\n",
       ".dataframe > tbody > tr {\n",
       "  text-align: right;\n",
       "  white-space: pre-wrap;\n",
       "}\n",
       "</style>\n",
       "<small>shape: (1, 1)</small><table border=\"1\" class=\"dataframe\"><thead><tr><th>_col0</th></tr><tr><td>i64</td></tr></thead><tbody><tr><td>2256</td></tr></tbody></table></div>"
      ],
      "text/plain": [
       "shape: (1, 1)\n",
       "┌───────┐\n",
       "│ _col0 │\n",
       "│ ---   │\n",
       "│ i64   │\n",
       "╞═══════╡\n",
       "│ 2256  │\n",
       "└───────┘"
      ]
     },
     "execution_count": 19,
     "metadata": {},
     "output_type": "execute_result"
    }
   ],
   "source": [
    "exc('select count(*) from \"orders.public.orders\"')"
   ]
  },
  {
   "cell_type": "code",
   "execution_count": 22,
   "id": "057a2633-7c64-4d68-8960-812bb4aa0493",
   "metadata": {},
   "outputs": [
    {
     "data": {
      "text/html": [
       "<div><style>\n",
       ".dataframe > thead > tr,\n",
       ".dataframe > tbody > tr {\n",
       "  text-align: right;\n",
       "  white-space: pre-wrap;\n",
       "}\n",
       "</style>\n",
       "<small>shape: (1, 1)</small><table border=\"1\" class=\"dataframe\"><thead><tr><th>_col0</th></tr><tr><td>i64</td></tr></thead><tbody><tr><td>2491</td></tr></tbody></table></div>"
      ],
      "text/plain": [
       "shape: (1, 1)\n",
       "┌───────┐\n",
       "│ _col0 │\n",
       "│ ---   │\n",
       "│ i64   │\n",
       "╞═══════╡\n",
       "│ 2491  │\n",
       "└───────┘"
      ]
     },
     "execution_count": 22,
     "metadata": {},
     "output_type": "execute_result"
    }
   ],
   "source": [
    "exc('select count(*) from \"orders.public.orders\"')"
   ]
  },
  {
   "cell_type": "code",
   "execution_count": 28,
   "id": "5d677178-d37d-431b-9cbb-836953a76f4b",
   "metadata": {},
   "outputs": [
    {
     "data": {
      "text/html": [
       "<div><style>\n",
       ".dataframe > thead > tr,\n",
       ".dataframe > tbody > tr {\n",
       "  text-align: right;\n",
       "  white-space: pre-wrap;\n",
       "}\n",
       "</style>\n",
       "<small>shape: (1, 1)</small><table border=\"1\" class=\"dataframe\"><thead><tr><th>_col0</th></tr><tr><td>i64</td></tr></thead><tbody><tr><td>4802</td></tr></tbody></table></div>"
      ],
      "text/plain": [
       "shape: (1, 1)\n",
       "┌───────┐\n",
       "│ _col0 │\n",
       "│ ---   │\n",
       "│ i64   │\n",
       "╞═══════╡\n",
       "│ 4802  │\n",
       "└───────┘"
      ]
     },
     "execution_count": 28,
     "metadata": {},
     "output_type": "execute_result"
    }
   ],
   "source": [
    "exc('select count(*) from \"orders.public.orders\"')"
   ]
  },
  {
   "cell_type": "code",
   "execution_count": null,
   "id": "2249c31d-2e71-4b93-a715-ca31bdf57227",
   "metadata": {},
   "outputs": [],
   "source": [
    "exc('select count(*) from \"orders.public.order_reviews\"')"
   ]
  }
 ],
 "metadata": {
  "kernelspec": {
   "display_name": "Python 3 (ipykernel)",
   "language": "python",
   "name": "python3"
  },
  "language_info": {
   "codemirror_mode": {
    "name": "ipython",
    "version": 3
   },
   "file_extension": ".py",
   "mimetype": "text/x-python",
   "name": "python",
   "nbconvert_exporter": "python",
   "pygments_lexer": "ipython3",
   "version": "3.11.9"
  }
 },
 "nbformat": 4,
 "nbformat_minor": 5
}
