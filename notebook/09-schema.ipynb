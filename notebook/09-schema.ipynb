{
 "cells": [
  {
   "cell_type": "code",
   "execution_count": 1,
   "id": "9ed71218-e7e2-4be2-923d-ccc308985ff5",
   "metadata": {},
   "outputs": [],
   "source": [
    "%run utils.ipynb"
   ]
  },
  {
   "cell_type": "code",
   "execution_count": 65,
   "id": "17def026-c5e8-4059-8b6b-9b9909eeb36a",
   "metadata": {},
   "outputs": [],
   "source": [
    "spark = get_spark(catalog=\"iceberg\", storage=\"lakehouse.io\")"
   ]
  },
  {
   "cell_type": "code",
   "execution_count": 63,
   "id": "e9562da1-82b9-4d9f-a3ca-2eac68584a88",
   "metadata": {},
   "outputs": [
    {
     "name": "stdout",
     "output_type": "stream",
     "text": [
      "root\n",
      " |-- order_id: string (nullable = true)\n",
      " |-- customer_id: string (nullable = true)\n",
      " |-- order_status: string (nullable = true)\n",
      " |-- order_purchase_timestamp: timestamp (nullable = true)\n",
      " |-- order_approved_at: timestamp (nullable = true)\n",
      " |-- order_delivered_carrier_date: timestamp (nullable = true)\n",
      " |-- order_delivered_customer_date: timestamp (nullable = true)\n",
      " |-- order_estimated_delivery_date: timestamp (nullable = true)\n",
      "\n",
      "+--------+-----------+------------+------------------------+-----------------+----------------------------+-----------------------------+-----------------------------+\n",
      "|order_id|customer_id|order_status|order_purchase_timestamp|order_approved_at|order_delivered_carrier_date|order_delivered_customer_date|order_estimated_delivery_date|\n",
      "+--------+-----------+------------+------------------------+-----------------+----------------------------+-----------------------------+-----------------------------+\n",
      "+--------+-----------+------------+------------------------+-----------------+----------------------------+-----------------------------+-----------------------------+\n",
      "\n"
     ]
    }
   ],
   "source": [
    "# orders\n",
    "\n",
    "schema = (\n",
    "    \"order_id string,\"\n",
    "    \"customer_id string,\"\n",
    "    \"order_status string,\"\n",
    "    \"order_purchase_timestamp timestamp,\"\n",
    "    \"order_approved_at timestamp,\"\n",
    "    \"order_delivered_carrier_date timestamp,\"\n",
    "    \"order_delivered_customer_date timestamp,\"\n",
    "    \"order_estimated_delivery_date timestamp\"\n",
    ")\n",
    "\n",
    "df = (\n",
    "    spark.read\n",
    "    .format(\"csv\")\n",
    "    .schema(schema)\n",
    "    .option(\"header\", \"true\")\n",
    "    .load(\"s3a://ecommerce/staging/orders/orders.2017-01-01.csv\")\n",
    ")\n",
    "\n",
    "df.printSchema()\n",
    "df.show(2)"
   ]
  },
  {
   "cell_type": "code",
   "execution_count": 59,
   "id": "0b70829d-afae-4c6f-999c-38931e4f2596",
   "metadata": {},
   "outputs": [
    {
     "name": "stdout",
     "output_type": "stream",
     "text": [
      "root\n",
      " |-- order_id: string (nullable = true)\n",
      " |-- customer_id: string (nullable = true)\n",
      " |-- order_status: string (nullable = true)\n",
      " |-- order_purchase_timestamp: timestamp (nullable = true)\n",
      " |-- order_approved_at: timestamp (nullable = true)\n",
      " |-- order_delivered_carrier_date: timestamp (nullable = true)\n",
      " |-- order_delivered_customer_date: timestamp (nullable = true)\n",
      " |-- order_estimated_delivery_date: timestamp (nullable = true)\n",
      " |-- year: integer (nullable = true)\n",
      " |-- month: integer (nullable = true)\n",
      " |-- day: integer (nullable = true)\n",
      "\n",
      "+--------------------+--------------------+------------+------------------------+-------------------+----------------------------+-----------------------------+-----------------------------+----+-----+---+\n",
      "|            order_id|         customer_id|order_status|order_purchase_timestamp|  order_approved_at|order_delivered_carrier_date|order_delivered_customer_date|order_estimated_delivery_date|year|month|day|\n",
      "+--------------------+--------------------+------------+------------------------+-------------------+----------------------------+-----------------------------+-----------------------------+----+-----+---+\n",
      "|3aa779fc4b813797c...|8d17a0679312b6c68...|   delivered|     2017-01-13 22:21:41|2017-01-13 22:30:11|         2017-01-16 14:22:07|          2017-01-26 12:24:38|          2017-03-01 00:00:00|2017|    1| 13|\n",
      "|4fe2e8b329e56a00a...|0c6e74d3848e59088...|   delivered|     2017-01-13 11:06:56|2017-01-15 11:05:13|         2017-01-18 04:58:17|          2017-01-20 11:33:43|          2017-02-24 00:00:00|2017|    1| 13|\n",
      "+--------------------+--------------------+------------+------------------------+-------------------+----------------------------+-----------------------------+-----------------------------+----+-----+---+\n",
      "only showing top 2 rows\n",
      "\n"
     ]
    }
   ],
   "source": [
    "# iceberg.ecommerce.orders\n",
    "\n",
    "idf = spark.sql(\"select * from iceberg.ecommerce.orders\")\n",
    "idf.printSchema()\n",
    "idf.show(2)"
   ]
  },
  {
   "cell_type": "code",
   "execution_count": 35,
   "id": "566e88a2-dd0a-4d09-8f17-1f914fd808e0",
   "metadata": {},
   "outputs": [
    {
     "name": "stdout",
     "output_type": "stream",
     "text": [
      "root\n",
      " |-- order_id: string (nullable = true)\n",
      " |-- order_item_id: integer (nullable = true)\n",
      " |-- product_id: string (nullable = true)\n",
      " |-- seller_id: string (nullable = true)\n",
      " |-- shipping_limit_date: timestamp (nullable = true)\n",
      " |-- price: float (nullable = true)\n",
      " |-- freight_value: float (nullable = true)\n",
      "\n",
      "+--------------------+-------------+--------------------+--------------------+-------------------+-----+-------------+\n",
      "|            order_id|order_item_id|          product_id|           seller_id|shipping_limit_date|price|freight_value|\n",
      "+--------------------+-------------+--------------------+--------------------+-------------------+-----+-------------+\n",
      "|4d9aeb0219e736ad9...|            1|9fa0c72476690fbc6...|e2aee0892199b1d92...|2017-01-16 00:06:12| 39.9|        10.96|\n",
      "|53cd36155a7bf5070...|            1|0ab80f38a21093b44...|440dd6ab244315c63...|2017-01-16 09:45:32| 19.9|        10.96|\n",
      "+--------------------+-------------+--------------------+--------------------+-------------------+-----+-------------+\n",
      "only showing top 2 rows\n",
      "\n"
     ]
    }
   ],
   "source": [
    "# order_items\n",
    "\n",
    "schema = (\n",
    "    \"order_id string,\"\n",
    "    \"order_item_id int,\"\n",
    "    \"product_id string,\"\n",
    "    \"seller_id string,\"\n",
    "    \"shipping_limit_date timestamp,\"\n",
    "    \"price float,\"\n",
    "    \"freight_value float\"\n",
    ")\n",
    "\n",
    "df = (\n",
    "    spark.read\n",
    "    .format(\"csv\")\n",
    "    .schema(schema)\n",
    "    .option(\"header\", \"true\")\n",
    "    .load(\"s3a://ecommerce/staging/order_items/order_items.2017-01-12.csv\")\n",
    ")\n",
    "\n",
    "df.printSchema()\n",
    "df.show(2)"
   ]
  },
  {
   "cell_type": "code",
   "execution_count": 43,
   "id": "ed9de1a0-b2f2-4f5e-b105-7499c099525b",
   "metadata": {},
   "outputs": [
    {
     "name": "stdout",
     "output_type": "stream",
     "text": [
      "root\n",
      " |-- order_id: string (nullable = true)\n",
      " |-- review_id: string (nullable = true)\n",
      " |-- review_answer_timestamp: timestamp (nullable = true)\n",
      " |-- review_comment_message: string (nullable = true)\n",
      " |-- review_comment_title: string (nullable = true)\n",
      " |-- review_creation_date: timestamp (nullable = true)\n",
      " |-- review_score: integer (nullable = true)\n",
      "\n",
      "+--------------------+--------------------+-----------------------+----------------------+--------------------+--------------------+------------+\n",
      "|            order_id|           review_id|review_answer_timestamp|review_comment_message|review_comment_title|review_creation_date|review_score|\n",
      "+--------------------+--------------------+-----------------------+----------------------+--------------------+--------------------+------------+\n",
      "|ec7a019261fce4418...|5f45d6aa32336fa26...|    2017-01-13 20:22:46|  I really loved th...|                NULL| 2017-01-12 00:00:00|           5|\n",
      "+--------------------+--------------------+-----------------------+----------------------+--------------------+--------------------+------------+\n",
      "\n"
     ]
    }
   ],
   "source": [
    "# order_reviews\n",
    "\n",
    "schema = (\n",
    "    \"order_id string,\"\n",
    "    \"review_id string,\"\n",
    "    \"review_answer_timestamp timestamp,\"\n",
    "    \"review_comment_message string,\"\n",
    "    \"review_comment_title string,\"\n",
    "    \"review_creation_date timestamp,\"\n",
    "    \"review_score int\"\n",
    ")\n",
    "\n",
    "df = (\n",
    "    spark.read\n",
    "    .format(\"csv\")\n",
    "    .schema(schema)\n",
    "    .option(\"header\", \"true\")\n",
    "    .load(\"s3a://ecommerce/staging/order_reviews/order_reviews.2017-01-12.csv\")\n",
    ")\n",
    "\n",
    "df.printSchema()\n",
    "df.show(2)"
   ]
  },
  {
   "cell_type": "code",
   "execution_count": 36,
   "id": "430c08b7-9947-4acf-b86d-e8ae7376c99f",
   "metadata": {},
   "outputs": [
    {
     "name": "stdout",
     "output_type": "stream",
     "text": [
      "root\n",
      " |-- order_id: string (nullable = true)\n",
      " |-- payment_sequential: integer (nullable = true)\n",
      " |-- payment_type: string (nullable = true)\n",
      " |-- payment_installments: integer (nullable = true)\n",
      " |-- payment_value: float (nullable = true)\n",
      "\n",
      "+--------------------+------------------+------------+--------------------+-------------+\n",
      "|            order_id|payment_sequential|payment_type|payment_installments|payment_value|\n",
      "+--------------------+------------------+------------+--------------------+-------------+\n",
      "|53cd36155a7bf5070...|                 1| credit_card|                   1|        30.86|\n",
      "|f313be47c42e07616...|                 1| credit_card|                   7|        74.49|\n",
      "+--------------------+------------------+------------+--------------------+-------------+\n",
      "only showing top 2 rows\n",
      "\n"
     ]
    }
   ],
   "source": [
    "# order_payments\n",
    "\n",
    "schema = (\n",
    "    \"order_id string,\"\n",
    "    \"payment_sequential int,\"\n",
    "    \"payment_type string,\"\n",
    "    \"payment_installments int,\"\n",
    "    \"payment_value float\"\n",
    ")\n",
    "\n",
    "df = (\n",
    "    spark.read\n",
    "    .format(\"csv\")\n",
    "    .schema(schema)\n",
    "    .option(\"header\", \"true\")\n",
    "    .load(\"s3a://ecommerce/staging/order_payments/order_payments.2017-01-12.csv\")\n",
    ")\n",
    "\n",
    "df.printSchema()\n",
    "df.show(2)"
   ]
  },
  {
   "cell_type": "code",
   "execution_count": 45,
   "id": "41d99194-5c2e-4e9e-afd7-a6553fc228ac",
   "metadata": {},
   "outputs": [
    {
     "name": "stdout",
     "output_type": "stream",
     "text": [
      "root\n",
      " |-- customer_id: string (nullable = true)\n",
      " |-- customer_unique_id: string (nullable = true)\n",
      " |-- customer_zip_code_prefix: integer (nullable = true)\n",
      " |-- customer_city: string (nullable = true)\n",
      " |-- customer_state: string (nullable = true)\n",
      "\n",
      "+--------------------+--------------------+------------------------+--------------------+--------------+\n",
      "|         customer_id|  customer_unique_id|customer_zip_code_prefix|       customer_city|customer_state|\n",
      "+--------------------+--------------------+------------------------+--------------------+--------------+\n",
      "|06b8999e2fba1a1fb...|861eff4711a542e4b...|                   14409|              franca|            SP|\n",
      "|18955e83d337fd6b2...|290c77bc529b7ac93...|                    9790|sao bernardo do c...|            SP|\n",
      "+--------------------+--------------------+------------------------+--------------------+--------------+\n",
      "only showing top 2 rows\n",
      "\n"
     ]
    }
   ],
   "source": [
    "# customers\n",
    "\n",
    "schema = (\n",
    "    \"customer_id string,\"\n",
    "    \"customer_unique_id string,\"\n",
    "    \"customer_zip_code_prefix int,\"\n",
    "    \"customer_city string,\"\n",
    "    \"customer_state string\"\n",
    ")\n",
    "\n",
    "df = (\n",
    "    spark.read\n",
    "    .format(\"csv\")\n",
    "    .schema(schema)\n",
    "    .option(\"header\", \"true\")\n",
    "    .load(\"s3a://ecommerce/staging/customers/customers.csv\")\n",
    ")\n",
    "\n",
    "df.printSchema()\n",
    "df.show(2)"
   ]
  },
  {
   "cell_type": "code",
   "execution_count": 51,
   "id": "ca53f455-de86-4ca1-a7b0-58bbbd30bd0d",
   "metadata": {},
   "outputs": [
    {
     "name": "stdout",
     "output_type": "stream",
     "text": [
      "root\n",
      " |-- geolocation_zip_code_prefix: integer (nullable = true)\n",
      " |-- geolocation_lat: double (nullable = true)\n",
      " |-- geolocation_lng: double (nullable = true)\n",
      " |-- geolocation_city: string (nullable = true)\n",
      " |-- geolocation_state: string (nullable = true)\n",
      "\n",
      "+---------------------------+-------------------+------------------+----------------+-----------------+\n",
      "|geolocation_zip_code_prefix|    geolocation_lat|   geolocation_lng|geolocation_city|geolocation_state|\n",
      "+---------------------------+-------------------+------------------+----------------+-----------------+\n",
      "|                       1037| -23.54562128115268|-46.63929204800168|       sao paulo|               SP|\n",
      "|                       1046|-23.546081127035535|-46.64482029837157|       sao paulo|               SP|\n",
      "+---------------------------+-------------------+------------------+----------------+-----------------+\n",
      "only showing top 2 rows\n",
      "\n"
     ]
    }
   ],
   "source": [
    "# geolocation\n",
    "\n",
    "schema = (\n",
    "    \"geolocation_zip_code_prefix int,\"\n",
    "    \"geolocation_lat double,\"\n",
    "    \"geolocation_lng double,\"\n",
    "    \"geolocation_city string,\"\n",
    "    \"geolocation_state string\"\n",
    ")\n",
    "\n",
    "df = (\n",
    "    spark.read\n",
    "    .format(\"csv\")\n",
    "    .schema(schema)\n",
    "    .option(\"header\", \"true\")\n",
    "    .load(\"s3a://ecommerce/staging/geolocation/geolocation.csv\")\n",
    ")\n",
    "\n",
    "df.printSchema()\n",
    "df.show(2)"
   ]
  },
  {
   "cell_type": "code",
   "execution_count": 54,
   "id": "c94faf1f-4235-46f6-8e9f-77090a741a01",
   "metadata": {},
   "outputs": [
    {
     "name": "stdout",
     "output_type": "stream",
     "text": [
      "root\n",
      " |-- product_id: string (nullable = true)\n",
      " |-- product_category_name: string (nullable = true)\n",
      " |-- product_name_lenght: integer (nullable = true)\n",
      " |-- product_description_lenght: integer (nullable = true)\n",
      " |-- product_photos_qty: integer (nullable = true)\n",
      " |-- product_weight_g: integer (nullable = true)\n",
      " |-- product_length_cm: integer (nullable = true)\n",
      " |-- product_height_cm: integer (nullable = true)\n",
      " |-- product_width_cm: integer (nullable = true)\n",
      "\n",
      "+--------------------+---------------------+-------------------+--------------------------+------------------+----------------+-----------------+-----------------+----------------+\n",
      "|          product_id|product_category_name|product_name_lenght|product_description_lenght|product_photos_qty|product_weight_g|product_length_cm|product_height_cm|product_width_cm|\n",
      "+--------------------+---------------------+-------------------+--------------------------+------------------+----------------+-----------------+-----------------+----------------+\n",
      "|1e9e8ef04dbcff454...|           perfumaria|                 40|                       287|                 1|             225|               16|               10|              14|\n",
      "|3aa071139cb16b67c...|                artes|                 44|                       276|                 1|            1000|               30|               18|              20|\n",
      "+--------------------+---------------------+-------------------+--------------------------+------------------+----------------+-----------------+-----------------+----------------+\n",
      "only showing top 2 rows\n",
      "\n"
     ]
    }
   ],
   "source": [
    "# products\n",
    "\n",
    "schema = (\n",
    "    \"product_id string,\"\n",
    "    \"product_category_name string,\"\n",
    "    \"product_name_lenght int,\"\n",
    "    \"product_description_lenght int,\"\n",
    "    \"product_photos_qty int,\"\n",
    "    \"product_weight_g int,\"\n",
    "    \"product_length_cm int,\"\n",
    "    \"product_height_cm int,\"\n",
    "    \"product_width_cm int\"\n",
    ")\n",
    "\n",
    "df = (\n",
    "    spark.read\n",
    "    .format(\"csv\")\n",
    "    .schema(schema)\n",
    "    .option(\"header\", \"true\")\n",
    "    .load(\"s3a://ecommerce/staging/products/products.csv\")\n",
    ")\n",
    "\n",
    "df.printSchema()\n",
    "df.show(2)"
   ]
  },
  {
   "cell_type": "code",
   "execution_count": 64,
   "id": "16700162-d399-45ea-9718-2cf23319069d",
   "metadata": {},
   "outputs": [
    {
     "name": "stdout",
     "output_type": "stream",
     "text": [
      "root\n",
      " |-- seller_id: string (nullable = true)\n",
      " |-- seller_zip_code_prefix: integer (nullable = true)\n",
      " |-- seller_city: string (nullable = true)\n",
      " |-- seller_state: string (nullable = true)\n",
      "\n",
      "+--------------------+----------------------+-----------+------------+\n",
      "|           seller_id|seller_zip_code_prefix|seller_city|seller_state|\n",
      "+--------------------+----------------------+-----------+------------+\n",
      "|3442f8959a84dea7e...|                 13023|   campinas|          SP|\n",
      "|d1b65fc7debc3361e...|                 13844| mogi guacu|          SP|\n",
      "+--------------------+----------------------+-----------+------------+\n",
      "only showing top 2 rows\n",
      "\n"
     ]
    }
   ],
   "source": [
    "# sellers\n",
    "\n",
    "schema = (\n",
    "    \"seller_id string,\"\n",
    "    \"seller_zip_code_prefix int,\"\n",
    "    \"seller_city string,\"\n",
    "    \"seller_state string\"\n",
    ")\n",
    "\n",
    "df = (\n",
    "    spark.read\n",
    "    .format(\"csv\")\n",
    "    .schema(schema)\n",
    "    .option(\"header\", \"true\")\n",
    "    .load(\"s3a://ecommerce/staging/sellers/sellers.csv\")\n",
    ")\n",
    "\n",
    "df.printSchema()\n",
    "df.show(2)"
   ]
  }
 ],
 "metadata": {
  "kernelspec": {
   "display_name": "Python 3 (ipykernel)",
   "language": "python",
   "name": "python3"
  },
  "language_info": {
   "codemirror_mode": {
    "name": "ipython",
    "version": 3
   },
   "file_extension": ".py",
   "mimetype": "text/x-python",
   "name": "python",
   "nbconvert_exporter": "python",
   "pygments_lexer": "ipython3",
   "version": "3.11.9"
  }
 },
 "nbformat": 4,
 "nbformat_minor": 5
}
