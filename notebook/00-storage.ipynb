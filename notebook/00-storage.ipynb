{
 "cells": [
  {
   "cell_type": "code",
   "execution_count": 1,
   "id": "bb6337e0-9dcc-42ed-9c55-904073ce95ba",
   "metadata": {},
   "outputs": [],
   "source": [
    "%run utils.ipynb"
   ]
  },
  {
   "cell_type": "code",
   "execution_count": 2,
   "id": "a8e1a760-6e8d-4f6e-8a15-0d50100af599",
   "metadata": {},
   "outputs": [],
   "source": [
    "client = get_storage(\"storage.io\")\n",
    "\n",
    "def read_table(table_name: str):\n",
    "    with NamedTemporaryFile() as tmpfile:\n",
    "        client.fget_object(\"ecommerce\", f\"raw/{table_name}.csv\", tmpfile.name)\n",
    "        df = pl.read_csv(tmpfile.name)\n",
    "        return df"
   ]
  },
  {
   "cell_type": "code",
   "execution_count": null,
   "id": "d0776a93-ba9c-44f6-b363-c53921169a5f",
   "metadata": {},
   "outputs": [],
   "source": [
    "read_table(\"order_payments\")"
   ]
  },
  {
   "cell_type": "code",
   "execution_count": 8,
   "id": "6ee64dbf-0341-411f-b693-4f3113855441",
   "metadata": {},
   "outputs": [
    {
     "data": {
      "text/html": [
       "<div><style>\n",
       ".dataframe > thead > tr,\n",
       ".dataframe > tbody > tr {\n",
       "  text-align: right;\n",
       "  white-space: pre-wrap;\n",
       "}\n",
       "</style>\n",
       "<small>shape: (103_886, 5)</small><table border=\"1\" class=\"dataframe\"><thead><tr><th>order_id</th><th>payment_sequential</th><th>payment_type</th><th>payment_installments</th><th>payment_value</th></tr><tr><td>str</td><td>i64</td><td>str</td><td>i64</td><td>f64</td></tr></thead><tbody><tr><td>&quot;b81ef226f3fe1789b1e8b2acac839d…</td><td>1</td><td>&quot;credit_card&quot;</td><td>8</td><td>99.33</td></tr><tr><td>&quot;a9810da82917af2d9aefd1278f1dcf…</td><td>1</td><td>&quot;credit_card&quot;</td><td>1</td><td>24.39</td></tr><tr><td>&quot;25e8ea4e93396b6fa0d3dd708e76c1…</td><td>1</td><td>&quot;credit_card&quot;</td><td>1</td><td>65.71</td></tr><tr><td>&quot;ba78997921bbcdc1373bb41e913ab9…</td><td>1</td><td>&quot;credit_card&quot;</td><td>8</td><td>107.78</td></tr><tr><td>&quot;42fdf880ba16b47b59251dd489d444…</td><td>1</td><td>&quot;credit_card&quot;</td><td>2</td><td>128.45</td></tr><tr><td>&hellip;</td><td>&hellip;</td><td>&hellip;</td><td>&hellip;</td><td>&hellip;</td></tr><tr><td>&quot;0406037ad97740d563a178ecc7a207…</td><td>1</td><td>&quot;boleto&quot;</td><td>1</td><td>363.31</td></tr><tr><td>&quot;7b905861d7c825891d6347454ea786…</td><td>1</td><td>&quot;credit_card&quot;</td><td>2</td><td>96.8</td></tr><tr><td>&quot;32609bbb3dd69b3c066a6860554a77…</td><td>1</td><td>&quot;credit_card&quot;</td><td>1</td><td>47.77</td></tr><tr><td>&quot;b8b61059626efa996a60be9bb9320e…</td><td>1</td><td>&quot;credit_card&quot;</td><td>5</td><td>369.54</td></tr><tr><td>&quot;28bbae6599b09d39ca406b747b6632…</td><td>1</td><td>&quot;boleto&quot;</td><td>1</td><td>191.58</td></tr></tbody></table></div>"
      ],
      "text/plain": [
       "shape: (103_886, 5)\n",
       "┌───────────────────────┬────────────────────┬──────────────┬──────────────────────┬───────────────┐\n",
       "│ order_id              ┆ payment_sequential ┆ payment_type ┆ payment_installments ┆ payment_value │\n",
       "│ ---                   ┆ ---                ┆ ---          ┆ ---                  ┆ ---           │\n",
       "│ str                   ┆ i64                ┆ str          ┆ i64                  ┆ f64           │\n",
       "╞═══════════════════════╪════════════════════╪══════════════╪══════════════════════╪═══════════════╡\n",
       "│ b81ef226f3fe1789b1e8b ┆ 1                  ┆ credit_card  ┆ 8                    ┆ 99.33         │\n",
       "│ 2acac839d…            ┆                    ┆              ┆                      ┆               │\n",
       "│ a9810da82917af2d9aefd ┆ 1                  ┆ credit_card  ┆ 1                    ┆ 24.39         │\n",
       "│ 1278f1dcf…            ┆                    ┆              ┆                      ┆               │\n",
       "│ 25e8ea4e93396b6fa0d3d ┆ 1                  ┆ credit_card  ┆ 1                    ┆ 65.71         │\n",
       "│ d708e76c1…            ┆                    ┆              ┆                      ┆               │\n",
       "│ ba78997921bbcdc1373bb ┆ 1                  ┆ credit_card  ┆ 8                    ┆ 107.78        │\n",
       "│ 41e913ab9…            ┆                    ┆              ┆                      ┆               │\n",
       "│ 42fdf880ba16b47b59251 ┆ 1                  ┆ credit_card  ┆ 2                    ┆ 128.45        │\n",
       "│ dd489d444…            ┆                    ┆              ┆                      ┆               │\n",
       "│ …                     ┆ …                  ┆ …            ┆ …                    ┆ …             │\n",
       "│ 0406037ad97740d563a17 ┆ 1                  ┆ boleto       ┆ 1                    ┆ 363.31        │\n",
       "│ 8ecc7a207…            ┆                    ┆              ┆                      ┆               │\n",
       "│ 7b905861d7c825891d634 ┆ 1                  ┆ credit_card  ┆ 2                    ┆ 96.8          │\n",
       "│ 7454ea786…            ┆                    ┆              ┆                      ┆               │\n",
       "│ 32609bbb3dd69b3c066a6 ┆ 1                  ┆ credit_card  ┆ 1                    ┆ 47.77         │\n",
       "│ 860554a77…            ┆                    ┆              ┆                      ┆               │\n",
       "│ b8b61059626efa996a60b ┆ 1                  ┆ credit_card  ┆ 5                    ┆ 369.54        │\n",
       "│ e9bb9320e…            ┆                    ┆              ┆                      ┆               │\n",
       "│ 28bbae6599b09d39ca406 ┆ 1                  ┆ boleto       ┆ 1                    ┆ 191.58        │\n",
       "│ b747b6632…            ┆                    ┆              ┆                      ┆               │\n",
       "└───────────────────────┴────────────────────┴──────────────┴──────────────────────┴───────────────┘"
      ]
     },
     "execution_count": 8,
     "metadata": {},
     "output_type": "execute_result"
    }
   ],
   "source": [
    "read_table(\"order_payments\")"
   ]
  },
  {
   "cell_type": "code",
   "execution_count": 9,
   "id": "eab002d9-d4a4-452b-909c-a76a59c0dd68",
   "metadata": {},
   "outputs": [
    {
     "data": {
      "text/html": [
       "<div><style>\n",
       ".dataframe > thead > tr,\n",
       ".dataframe > tbody > tr {\n",
       "  text-align: right;\n",
       "  white-space: pre-wrap;\n",
       "}\n",
       "</style>\n",
       "<small>shape: (99_441, 8)</small><table border=\"1\" class=\"dataframe\"><thead><tr><th>order_id</th><th>customer_id</th><th>order_status</th><th>order_purchase_timestamp</th><th>order_approved_at</th><th>order_delivered_carrier_date</th><th>order_delivered_customer_date</th><th>order_estimated_delivery_date</th></tr><tr><td>str</td><td>str</td><td>str</td><td>str</td><td>str</td><td>str</td><td>str</td><td>str</td></tr></thead><tbody><tr><td>&quot;e481f51cbdc54678b7cc49136f2d6a…</td><td>&quot;9ef432eb6251297304e76186b10a92…</td><td>&quot;delivered&quot;</td><td>&quot;2017-10-02 10:56:33&quot;</td><td>&quot;2017-10-02 11:07:15&quot;</td><td>&quot;2017-10-04 19:55:00&quot;</td><td>&quot;2017-10-10 21:25:13&quot;</td><td>&quot;2017-10-18 00:00:00&quot;</td></tr><tr><td>&quot;53cdb2fc8bc7dce0b6741e21502734…</td><td>&quot;b0830fb4747a6c6d20dea0b8c802d7…</td><td>&quot;delivered&quot;</td><td>&quot;2018-07-24 20:41:37&quot;</td><td>&quot;2018-07-26 03:24:27&quot;</td><td>&quot;2018-07-26 14:31:00&quot;</td><td>&quot;2018-08-07 15:27:45&quot;</td><td>&quot;2018-08-13 00:00:00&quot;</td></tr><tr><td>&quot;47770eb9100c2d0c44946d9cf07ec6…</td><td>&quot;41ce2a54c0b03bf3443c3d931a3670…</td><td>&quot;delivered&quot;</td><td>&quot;2018-08-08 08:38:49&quot;</td><td>&quot;2018-08-08 08:55:23&quot;</td><td>&quot;2018-08-08 13:50:00&quot;</td><td>&quot;2018-08-17 18:06:29&quot;</td><td>&quot;2018-09-04 00:00:00&quot;</td></tr><tr><td>&quot;949d5b44dbf5de918fe9c16f97b45f…</td><td>&quot;f88197465ea7920adcdbec7375364d…</td><td>&quot;delivered&quot;</td><td>&quot;2017-11-18 19:28:06&quot;</td><td>&quot;2017-11-18 19:45:59&quot;</td><td>&quot;2017-11-22 13:39:59&quot;</td><td>&quot;2017-12-02 00:28:42&quot;</td><td>&quot;2017-12-15 00:00:00&quot;</td></tr><tr><td>&quot;ad21c59c0840e6cb83a9ceb5573f81…</td><td>&quot;8ab97904e6daea8866dbdbc4fb7aad…</td><td>&quot;delivered&quot;</td><td>&quot;2018-02-13 21:18:39&quot;</td><td>&quot;2018-02-13 22:20:29&quot;</td><td>&quot;2018-02-14 19:46:34&quot;</td><td>&quot;2018-02-16 18:17:02&quot;</td><td>&quot;2018-02-26 00:00:00&quot;</td></tr><tr><td>&hellip;</td><td>&hellip;</td><td>&hellip;</td><td>&hellip;</td><td>&hellip;</td><td>&hellip;</td><td>&hellip;</td><td>&hellip;</td></tr><tr><td>&quot;9c5dedf39a927c1b2549525ed64a05…</td><td>&quot;39bd1228ee8140590ac3aca26f2dfe…</td><td>&quot;delivered&quot;</td><td>&quot;2017-03-09 09:54:05&quot;</td><td>&quot;2017-03-09 09:54:05&quot;</td><td>&quot;2017-03-10 11:18:03&quot;</td><td>&quot;2017-03-17 15:08:01&quot;</td><td>&quot;2017-03-28 00:00:00&quot;</td></tr><tr><td>&quot;63943bddc261676b46f01ca7ac2f7b…</td><td>&quot;1fca14ff2861355f6e5f14306ff977…</td><td>&quot;delivered&quot;</td><td>&quot;2018-02-06 12:58:58&quot;</td><td>&quot;2018-02-06 13:10:37&quot;</td><td>&quot;2018-02-07 23:22:42&quot;</td><td>&quot;2018-02-28 17:37:56&quot;</td><td>&quot;2018-03-02 00:00:00&quot;</td></tr><tr><td>&quot;83c1379a015df1e13d02aae0204711…</td><td>&quot;1aa71eb042121263aafbe80c1b562c…</td><td>&quot;delivered&quot;</td><td>&quot;2017-08-27 14:46:43&quot;</td><td>&quot;2017-08-27 15:04:16&quot;</td><td>&quot;2017-08-28 20:52:26&quot;</td><td>&quot;2017-09-21 11:24:17&quot;</td><td>&quot;2017-09-27 00:00:00&quot;</td></tr><tr><td>&quot;11c177c8e97725db2631073c19f07b…</td><td>&quot;b331b74b18dc79bcdf6532d51e1637…</td><td>&quot;delivered&quot;</td><td>&quot;2018-01-08 21:28:27&quot;</td><td>&quot;2018-01-08 21:36:21&quot;</td><td>&quot;2018-01-12 15:35:03&quot;</td><td>&quot;2018-01-25 23:32:54&quot;</td><td>&quot;2018-02-15 00:00:00&quot;</td></tr><tr><td>&quot;66dea50a8b16d9b4dee7af250b4be1…</td><td>&quot;edb027a75a1449115f6b43211ae02a…</td><td>&quot;delivered&quot;</td><td>&quot;2018-03-08 20:57:30&quot;</td><td>&quot;2018-03-09 11:20:28&quot;</td><td>&quot;2018-03-09 22:11:59&quot;</td><td>&quot;2018-03-16 13:08:30&quot;</td><td>&quot;2018-04-03 00:00:00&quot;</td></tr></tbody></table></div>"
      ],
      "text/plain": [
       "shape: (99_441, 8)\n",
       "┌────────────┬────────────┬────────────┬───────────┬───────────┬───────────┬───────────┬───────────┐\n",
       "│ order_id   ┆ customer_i ┆ order_stat ┆ order_pur ┆ order_app ┆ order_del ┆ order_del ┆ order_est │\n",
       "│ ---        ┆ d          ┆ us         ┆ chase_tim ┆ roved_at  ┆ ivered_ca ┆ ivered_cu ┆ imated_de │\n",
       "│ str        ┆ ---        ┆ ---        ┆ estamp    ┆ ---       ┆ rrier_dat ┆ stomer_da ┆ livery_da │\n",
       "│            ┆ str        ┆ str        ┆ ---       ┆ str       ┆ e         ┆ te        ┆ te        │\n",
       "│            ┆            ┆            ┆ str       ┆           ┆ ---       ┆ ---       ┆ ---       │\n",
       "│            ┆            ┆            ┆           ┆           ┆ str       ┆ str       ┆ str       │\n",
       "╞════════════╪════════════╪════════════╪═══════════╪═══════════╪═══════════╪═══════════╪═══════════╡\n",
       "│ e481f51cbd ┆ 9ef432eb62 ┆ delivered  ┆ 2017-10-0 ┆ 2017-10-0 ┆ 2017-10-0 ┆ 2017-10-1 ┆ 2017-10-1 │\n",
       "│ c54678b7cc ┆ 51297304e7 ┆            ┆ 2         ┆ 2         ┆ 4         ┆ 0         ┆ 8         │\n",
       "│ 49136f2d6a ┆ 6186b10a92 ┆            ┆ 10:56:33  ┆ 11:07:15  ┆ 19:55:00  ┆ 21:25:13  ┆ 00:00:00  │\n",
       "│ …          ┆ …          ┆            ┆           ┆           ┆           ┆           ┆           │\n",
       "│ 53cdb2fc8b ┆ b0830fb474 ┆ delivered  ┆ 2018-07-2 ┆ 2018-07-2 ┆ 2018-07-2 ┆ 2018-08-0 ┆ 2018-08-1 │\n",
       "│ c7dce0b674 ┆ 7a6c6d20de ┆            ┆ 4         ┆ 6         ┆ 6         ┆ 7         ┆ 3         │\n",
       "│ 1e21502734 ┆ a0b8c802d7 ┆            ┆ 20:41:37  ┆ 03:24:27  ┆ 14:31:00  ┆ 15:27:45  ┆ 00:00:00  │\n",
       "│ …          ┆ …          ┆            ┆           ┆           ┆           ┆           ┆           │\n",
       "│ 47770eb910 ┆ 41ce2a54c0 ┆ delivered  ┆ 2018-08-0 ┆ 2018-08-0 ┆ 2018-08-0 ┆ 2018-08-1 ┆ 2018-09-0 │\n",
       "│ 0c2d0c4494 ┆ b03bf3443c ┆            ┆ 8         ┆ 8         ┆ 8         ┆ 7         ┆ 4         │\n",
       "│ 6d9cf07ec6 ┆ 3d931a3670 ┆            ┆ 08:38:49  ┆ 08:55:23  ┆ 13:50:00  ┆ 18:06:29  ┆ 00:00:00  │\n",
       "│ …          ┆ …          ┆            ┆           ┆           ┆           ┆           ┆           │\n",
       "│ 949d5b44db ┆ f88197465e ┆ delivered  ┆ 2017-11-1 ┆ 2017-11-1 ┆ 2017-11-2 ┆ 2017-12-0 ┆ 2017-12-1 │\n",
       "│ f5de918fe9 ┆ a7920adcdb ┆            ┆ 8         ┆ 8         ┆ 2         ┆ 2         ┆ 5         │\n",
       "│ c16f97b45f ┆ ec7375364d ┆            ┆ 19:28:06  ┆ 19:45:59  ┆ 13:39:59  ┆ 00:28:42  ┆ 00:00:00  │\n",
       "│ …          ┆ …          ┆            ┆           ┆           ┆           ┆           ┆           │\n",
       "│ ad21c59c08 ┆ 8ab97904e6 ┆ delivered  ┆ 2018-02-1 ┆ 2018-02-1 ┆ 2018-02-1 ┆ 2018-02-1 ┆ 2018-02-2 │\n",
       "│ 40e6cb83a9 ┆ daea8866db ┆            ┆ 3         ┆ 3         ┆ 4         ┆ 6         ┆ 6         │\n",
       "│ ceb5573f81 ┆ dbc4fb7aad ┆            ┆ 21:18:39  ┆ 22:20:29  ┆ 19:46:34  ┆ 18:17:02  ┆ 00:00:00  │\n",
       "│ …          ┆ …          ┆            ┆           ┆           ┆           ┆           ┆           │\n",
       "│ …          ┆ …          ┆ …          ┆ …         ┆ …         ┆ …         ┆ …         ┆ …         │\n",
       "│ 9c5dedf39a ┆ 39bd1228ee ┆ delivered  ┆ 2017-03-0 ┆ 2017-03-0 ┆ 2017-03-1 ┆ 2017-03-1 ┆ 2017-03-2 │\n",
       "│ 927c1b2549 ┆ 8140590ac3 ┆            ┆ 9         ┆ 9         ┆ 0         ┆ 7         ┆ 8         │\n",
       "│ 525ed64a05 ┆ aca26f2dfe ┆            ┆ 09:54:05  ┆ 09:54:05  ┆ 11:18:03  ┆ 15:08:01  ┆ 00:00:00  │\n",
       "│ …          ┆ …          ┆            ┆           ┆           ┆           ┆           ┆           │\n",
       "│ 63943bddc2 ┆ 1fca14ff28 ┆ delivered  ┆ 2018-02-0 ┆ 2018-02-0 ┆ 2018-02-0 ┆ 2018-02-2 ┆ 2018-03-0 │\n",
       "│ 61676b46f0 ┆ 61355f6e5f ┆            ┆ 6         ┆ 6         ┆ 7         ┆ 8         ┆ 2         │\n",
       "│ 1ca7ac2f7b ┆ 14306ff977 ┆            ┆ 12:58:58  ┆ 13:10:37  ┆ 23:22:42  ┆ 17:37:56  ┆ 00:00:00  │\n",
       "│ …          ┆ …          ┆            ┆           ┆           ┆           ┆           ┆           │\n",
       "│ 83c1379a01 ┆ 1aa71eb042 ┆ delivered  ┆ 2017-08-2 ┆ 2017-08-2 ┆ 2017-08-2 ┆ 2017-09-2 ┆ 2017-09-2 │\n",
       "│ 5df1e13d02 ┆ 121263aafb ┆            ┆ 7         ┆ 7         ┆ 8         ┆ 1         ┆ 7         │\n",
       "│ aae0204711 ┆ e80c1b562c ┆            ┆ 14:46:43  ┆ 15:04:16  ┆ 20:52:26  ┆ 11:24:17  ┆ 00:00:00  │\n",
       "│ …          ┆ …          ┆            ┆           ┆           ┆           ┆           ┆           │\n",
       "│ 11c177c8e9 ┆ b331b74b18 ┆ delivered  ┆ 2018-01-0 ┆ 2018-01-0 ┆ 2018-01-1 ┆ 2018-01-2 ┆ 2018-02-1 │\n",
       "│ 7725db2631 ┆ dc79bcdf65 ┆            ┆ 8         ┆ 8         ┆ 2         ┆ 5         ┆ 5         │\n",
       "│ 073c19f07b ┆ 32d51e1637 ┆            ┆ 21:28:27  ┆ 21:36:21  ┆ 15:35:03  ┆ 23:32:54  ┆ 00:00:00  │\n",
       "│ …          ┆ …          ┆            ┆           ┆           ┆           ┆           ┆           │\n",
       "│ 66dea50a8b ┆ edb027a75a ┆ delivered  ┆ 2018-03-0 ┆ 2018-03-0 ┆ 2018-03-0 ┆ 2018-03-1 ┆ 2018-04-0 │\n",
       "│ 16d9b4dee7 ┆ 1449115f6b ┆            ┆ 8         ┆ 9         ┆ 9         ┆ 6         ┆ 3         │\n",
       "│ af250b4be1 ┆ 43211ae02a ┆            ┆ 20:57:30  ┆ 11:20:28  ┆ 22:11:59  ┆ 13:08:30  ┆ 00:00:00  │\n",
       "│ …          ┆ …          ┆            ┆           ┆           ┆           ┆           ┆           │\n",
       "└────────────┴────────────┴────────────┴───────────┴───────────┴───────────┴───────────┴───────────┘"
      ]
     },
     "execution_count": 9,
     "metadata": {},
     "output_type": "execute_result"
    }
   ],
   "source": [
    "orders = read_table(\"orders\")\n",
    "orders"
   ]
  },
  {
   "cell_type": "code",
   "execution_count": 10,
   "id": "3964b2c8-03d5-4550-a859-5aea890d56e3",
   "metadata": {},
   "outputs": [
    {
     "data": {
      "text/html": [
       "<div><style>\n",
       ".dataframe > thead > tr,\n",
       ".dataframe > tbody > tr {\n",
       "  text-align: right;\n",
       "  white-space: pre-wrap;\n",
       "}\n",
       "</style>\n",
       "<small>shape: (1, 1)</small><table border=\"1\" class=\"dataframe\"><thead><tr><th>order_purchase_timestamp</th></tr><tr><td>str</td></tr></thead><tbody><tr><td>&quot;2016-09-04 21:15:19&quot;</td></tr></tbody></table></div>"
      ],
      "text/plain": [
       "shape: (1, 1)\n",
       "┌──────────────────────────┐\n",
       "│ order_purchase_timestamp │\n",
       "│ ---                      │\n",
       "│ str                      │\n",
       "╞══════════════════════════╡\n",
       "│ 2016-09-04 21:15:19      │\n",
       "└──────────────────────────┘"
      ]
     },
     "execution_count": 10,
     "metadata": {},
     "output_type": "execute_result"
    }
   ],
   "source": [
    "orders.select(pl.min(\"order_purchase_timestamp\"))"
   ]
  },
  {
   "cell_type": "code",
   "execution_count": 11,
   "id": "1d138e50-9964-4313-a938-7bbec133c998",
   "metadata": {},
   "outputs": [
    {
     "data": {
      "text/html": [
       "<div><style>\n",
       ".dataframe > thead > tr,\n",
       ".dataframe > tbody > tr {\n",
       "  text-align: right;\n",
       "  white-space: pre-wrap;\n",
       "}\n",
       "</style>\n",
       "<small>shape: (8, 8)</small><table border=\"1\" class=\"dataframe\"><thead><tr><th>order_id</th><th>customer_id</th><th>order_status</th><th>order_purchase_timestamp</th><th>order_approved_at</th><th>order_delivered_carrier_date</th><th>order_delivered_customer_date</th><th>order_estimated_delivery_date</th></tr><tr><td>str</td><td>str</td><td>str</td><td>str</td><td>str</td><td>str</td><td>str</td><td>str</td></tr></thead><tbody><tr><td>&quot;b5359909123fa03c50bdb0cfed07f0…</td><td>&quot;438449d4af8980d107bf04571413a8…</td><td>&quot;created&quot;</td><td>&quot;2017-12-05 01:07:52&quot;</td><td>null</td><td>null</td><td>null</td><td>&quot;2018-01-11 00:00:00&quot;</td></tr><tr><td>&quot;15bed8e2fec7fdbadb186b57c46c92…</td><td>&quot;f3f0e613e0bdb9c7cee75504f0f906…</td><td>&quot;processing&quot;</td><td>&quot;2017-09-03 14:22:03&quot;</td><td>&quot;2017-09-03 14:30:09&quot;</td><td>null</td><td>null</td><td>&quot;2017-10-03 00:00:00&quot;</td></tr><tr><td>&quot;1b9ecfe83cdc259250e1a8aca174f0…</td><td>&quot;6d6b50b66d79f80827b6d96751528d…</td><td>&quot;canceled&quot;</td><td>&quot;2018-08-04 14:29:27&quot;</td><td>&quot;2018-08-07 04:10:26&quot;</td><td>null</td><td>null</td><td>&quot;2018-08-14 00:00:00&quot;</td></tr><tr><td>&quot;a2e4c44360b4a57bdff22f3a4630c1…</td><td>&quot;8886130db0ea6e9e70ba0b03d7c0d2…</td><td>&quot;approved&quot;</td><td>&quot;2017-02-06 20:18:17&quot;</td><td>&quot;2017-02-06 20:30:19&quot;</td><td>null</td><td>null</td><td>&quot;2017-03-01 00:00:00&quot;</td></tr><tr><td>&quot;e481f51cbdc54678b7cc49136f2d6a…</td><td>&quot;9ef432eb6251297304e76186b10a92…</td><td>&quot;delivered&quot;</td><td>&quot;2017-10-02 10:56:33&quot;</td><td>&quot;2017-10-02 11:07:15&quot;</td><td>&quot;2017-10-04 19:55:00&quot;</td><td>&quot;2017-10-10 21:25:13&quot;</td><td>&quot;2017-10-18 00:00:00&quot;</td></tr><tr><td>&quot;8e24261a7e58791d10cb1bf9da94df…</td><td>&quot;64a254d30eed42cd0e6c36dddb88ad…</td><td>&quot;unavailable&quot;</td><td>&quot;2017-11-16 15:09:28&quot;</td><td>&quot;2017-11-16 15:26:57&quot;</td><td>null</td><td>null</td><td>&quot;2017-12-05 00:00:00&quot;</td></tr><tr><td>&quot;ee64d42b8cf066f35eac1cf57de1aa…</td><td>&quot;caded193e8e47b8362864762a83db3…</td><td>&quot;shipped&quot;</td><td>&quot;2018-06-04 16:44:48&quot;</td><td>&quot;2018-06-05 04:31:18&quot;</td><td>&quot;2018-06-05 14:32:00&quot;</td><td>null</td><td>&quot;2018-06-28 00:00:00&quot;</td></tr><tr><td>&quot;136cce7faa42fdb2cefd53fdc79a60…</td><td>&quot;ed0271e0b7da060a393796590e7b73…</td><td>&quot;invoiced&quot;</td><td>&quot;2017-04-11 12:22:08&quot;</td><td>&quot;2017-04-13 13:25:17&quot;</td><td>null</td><td>null</td><td>&quot;2017-05-09 00:00:00&quot;</td></tr></tbody></table></div>"
      ],
      "text/plain": [
       "shape: (8, 8)\n",
       "┌────────────┬────────────┬────────────┬───────────┬───────────┬───────────┬───────────┬───────────┐\n",
       "│ order_id   ┆ customer_i ┆ order_stat ┆ order_pur ┆ order_app ┆ order_del ┆ order_del ┆ order_est │\n",
       "│ ---        ┆ d          ┆ us         ┆ chase_tim ┆ roved_at  ┆ ivered_ca ┆ ivered_cu ┆ imated_de │\n",
       "│ str        ┆ ---        ┆ ---        ┆ estamp    ┆ ---       ┆ rrier_dat ┆ stomer_da ┆ livery_da │\n",
       "│            ┆ str        ┆ str        ┆ ---       ┆ str       ┆ e         ┆ te        ┆ te        │\n",
       "│            ┆            ┆            ┆ str       ┆           ┆ ---       ┆ ---       ┆ ---       │\n",
       "│            ┆            ┆            ┆           ┆           ┆ str       ┆ str       ┆ str       │\n",
       "╞════════════╪════════════╪════════════╪═══════════╪═══════════╪═══════════╪═══════════╪═══════════╡\n",
       "│ b535990912 ┆ 438449d4af ┆ created    ┆ 2017-12-0 ┆ null      ┆ null      ┆ null      ┆ 2018-01-1 │\n",
       "│ 3fa03c50bd ┆ 8980d107bf ┆            ┆ 5         ┆           ┆           ┆           ┆ 1         │\n",
       "│ b0cfed07f0 ┆ 04571413a8 ┆            ┆ 01:07:52  ┆           ┆           ┆           ┆ 00:00:00  │\n",
       "│ …          ┆ …          ┆            ┆           ┆           ┆           ┆           ┆           │\n",
       "│ 15bed8e2fe ┆ f3f0e613e0 ┆ processing ┆ 2017-09-0 ┆ 2017-09-0 ┆ null      ┆ null      ┆ 2017-10-0 │\n",
       "│ c7fdbadb18 ┆ bdb9c7cee7 ┆            ┆ 3         ┆ 3         ┆           ┆           ┆ 3         │\n",
       "│ 6b57c46c92 ┆ 5504f0f906 ┆            ┆ 14:22:03  ┆ 14:30:09  ┆           ┆           ┆ 00:00:00  │\n",
       "│ …          ┆ …          ┆            ┆           ┆           ┆           ┆           ┆           │\n",
       "│ 1b9ecfe83c ┆ 6d6b50b66d ┆ canceled   ┆ 2018-08-0 ┆ 2018-08-0 ┆ null      ┆ null      ┆ 2018-08-1 │\n",
       "│ dc259250e1 ┆ 79f80827b6 ┆            ┆ 4         ┆ 7         ┆           ┆           ┆ 4         │\n",
       "│ a8aca174f0 ┆ d96751528d ┆            ┆ 14:29:27  ┆ 04:10:26  ┆           ┆           ┆ 00:00:00  │\n",
       "│ …          ┆ …          ┆            ┆           ┆           ┆           ┆           ┆           │\n",
       "│ a2e4c44360 ┆ 8886130db0 ┆ approved   ┆ 2017-02-0 ┆ 2017-02-0 ┆ null      ┆ null      ┆ 2017-03-0 │\n",
       "│ b4a57bdff2 ┆ ea6e9e70ba ┆            ┆ 6         ┆ 6         ┆           ┆           ┆ 1         │\n",
       "│ 2f3a4630c1 ┆ 0b03d7c0d2 ┆            ┆ 20:18:17  ┆ 20:30:19  ┆           ┆           ┆ 00:00:00  │\n",
       "│ …          ┆ …          ┆            ┆           ┆           ┆           ┆           ┆           │\n",
       "│ e481f51cbd ┆ 9ef432eb62 ┆ delivered  ┆ 2017-10-0 ┆ 2017-10-0 ┆ 2017-10-0 ┆ 2017-10-1 ┆ 2017-10-1 │\n",
       "│ c54678b7cc ┆ 51297304e7 ┆            ┆ 2         ┆ 2         ┆ 4         ┆ 0         ┆ 8         │\n",
       "│ 49136f2d6a ┆ 6186b10a92 ┆            ┆ 10:56:33  ┆ 11:07:15  ┆ 19:55:00  ┆ 21:25:13  ┆ 00:00:00  │\n",
       "│ …          ┆ …          ┆            ┆           ┆           ┆           ┆           ┆           │\n",
       "│ 8e24261a7e ┆ 64a254d30e ┆ unavailabl ┆ 2017-11-1 ┆ 2017-11-1 ┆ null      ┆ null      ┆ 2017-12-0 │\n",
       "│ 58791d10cb ┆ ed42cd0e6c ┆ e          ┆ 6         ┆ 6         ┆           ┆           ┆ 5         │\n",
       "│ 1bf9da94df ┆ 36dddb88ad ┆            ┆ 15:09:28  ┆ 15:26:57  ┆           ┆           ┆ 00:00:00  │\n",
       "│ …          ┆ …          ┆            ┆           ┆           ┆           ┆           ┆           │\n",
       "│ ee64d42b8c ┆ caded193e8 ┆ shipped    ┆ 2018-06-0 ┆ 2018-06-0 ┆ 2018-06-0 ┆ null      ┆ 2018-06-2 │\n",
       "│ f066f35eac ┆ e47b836286 ┆            ┆ 4         ┆ 5         ┆ 5         ┆           ┆ 8         │\n",
       "│ 1cf57de1aa ┆ 4762a83db3 ┆            ┆ 16:44:48  ┆ 04:31:18  ┆ 14:32:00  ┆           ┆ 00:00:00  │\n",
       "│ …          ┆ …          ┆            ┆           ┆           ┆           ┆           ┆           │\n",
       "│ 136cce7faa ┆ ed0271e0b7 ┆ invoiced   ┆ 2017-04-1 ┆ 2017-04-1 ┆ null      ┆ null      ┆ 2017-05-0 │\n",
       "│ 42fdb2cefd ┆ da060a3937 ┆            ┆ 1         ┆ 3         ┆           ┆           ┆ 9         │\n",
       "│ 53fdc79a60 ┆ 96590e7b73 ┆            ┆ 12:22:08  ┆ 13:25:17  ┆           ┆           ┆ 00:00:00  │\n",
       "│ …          ┆ …          ┆            ┆           ┆           ┆           ┆           ┆           │\n",
       "└────────────┴────────────┴────────────┴───────────┴───────────┴───────────┴───────────┴───────────┘"
      ]
     },
     "execution_count": 11,
     "metadata": {},
     "output_type": "execute_result"
    }
   ],
   "source": [
    "orders.unique(\"order_status\")"
   ]
  },
  {
   "cell_type": "code",
   "execution_count": 12,
   "id": "e1e610ad-66ea-490b-bd4e-97bdee2b25f0",
   "metadata": {},
   "outputs": [
    {
     "name": "stdout",
     "output_type": "stream",
     "text": [
      "(3,)\n",
      "(6,)\n",
      "(12,)\n",
      "(9,)\n",
      "(7,)\n",
      "(4,)\n",
      "(1,)\n",
      "(10,)\n",
      "(2,)\n",
      "(8,)\n",
      "(5,)\n",
      "(11,)\n"
     ]
    }
   ],
   "source": [
    "for month, group in orders.group_by(pl.col(\"order_purchase_timestamp\").str.to_datetime().dt.month()):\n",
    "    print(month)"
   ]
  },
  {
   "cell_type": "code",
   "execution_count": 13,
   "id": "a520493a-07dd-4640-9b8d-6ec2c41e6f52",
   "metadata": {},
   "outputs": [
    {
     "data": {
      "text/html": [
       "<div><style>\n",
       ".dataframe > thead > tr,\n",
       ".dataframe > tbody > tr {\n",
       "  text-align: right;\n",
       "  white-space: pre-wrap;\n",
       "}\n",
       "</style>\n",
       "<small>shape: (1, 1)</small><table border=\"1\" class=\"dataframe\"><thead><tr><th>order_purchase_timestamp</th></tr><tr><td>str</td></tr></thead><tbody><tr><td>&quot;2016-09-04 21:15:19&quot;</td></tr></tbody></table></div>"
      ],
      "text/plain": [
       "shape: (1, 1)\n",
       "┌──────────────────────────┐\n",
       "│ order_purchase_timestamp │\n",
       "│ ---                      │\n",
       "│ str                      │\n",
       "╞══════════════════════════╡\n",
       "│ 2016-09-04 21:15:19      │\n",
       "└──────────────────────────┘"
      ]
     },
     "execution_count": 13,
     "metadata": {},
     "output_type": "execute_result"
    }
   ],
   "source": [
    "orders.select(pl.min(\"order_purchase_timestamp\"))"
   ]
  },
  {
   "cell_type": "code",
   "execution_count": 14,
   "id": "6f7e2bb3-94a4-4ed0-9fde-0bdaa900bac5",
   "metadata": {},
   "outputs": [
    {
     "data": {
      "text/plain": [
       "['2016-09',\n",
       " '2016-10',\n",
       " '2016-11',\n",
       " '2016-12',\n",
       " '2017-01',\n",
       " '2017-02',\n",
       " '2017-03',\n",
       " '2017-04',\n",
       " '2017-05',\n",
       " '2017-06',\n",
       " '2017-07',\n",
       " '2017-08',\n",
       " '2017-09',\n",
       " '2017-10',\n",
       " '2017-11',\n",
       " '2017-12',\n",
       " '2018-01',\n",
       " '2018-02',\n",
       " '2018-03',\n",
       " '2018-04',\n",
       " '2018-05',\n",
       " '2018-06',\n",
       " '2018-07',\n",
       " '2018-08',\n",
       " '2018-09',\n",
       " '2018-10']"
      ]
     },
     "execution_count": 14,
     "metadata": {},
     "output_type": "execute_result"
    }
   ],
   "source": [
    "temp = (\n",
    "    orders\n",
    "    .select(timestamp=\"order_purchase_timestamp\")\n",
    "    .with_columns(pl.col(\"timestamp\").str.to_datetime())\n",
    "    .select(pl.date_range(pl.min(\"timestamp\"), pl.max(\"timestamp\"), interval=\"1mo\"))\n",
    "    .with_columns(pl.col(\"timestamp\").dt.strftime('%Y-%m').unique())\n",
    "    .sort(\"timestamp\")\n",
    " )\n",
    "temp[\"timestamp\"].to_list()"
   ]
  },
  {
   "cell_type": "code",
   "execution_count": 15,
   "id": "d834f429-184e-49e3-86b5-13b48fcb553f",
   "metadata": {},
   "outputs": [
    {
     "name": "stdout",
     "output_type": "stream",
     "text": [
      "(2016, 12)\n",
      "(2016, 10)\n",
      "(2016, 9)\n",
      "(2017, 9)\n",
      "(2017, 3)\n",
      "(2017, 12)\n",
      "(2017, 6)\n",
      "(2017, 10)\n",
      "(2017, 7)\n",
      "(2017, 1)\n",
      "(2017, 4)\n",
      "(2017, 5)\n",
      "(2017, 8)\n",
      "(2017, 2)\n",
      "(2017, 11)\n",
      "(2018, 9)\n",
      "(2018, 6)\n",
      "(2018, 3)\n",
      "(2018, 10)\n",
      "(2018, 1)\n",
      "(2018, 4)\n",
      "(2018, 7)\n",
      "(2018, 2)\n",
      "(2018, 8)\n",
      "(2018, 5)\n"
     ]
    }
   ],
   "source": [
    "temp = (\n",
    "    orders\n",
    "    .select(timestamp=\"order_purchase_timestamp\")\n",
    "    .with_columns(pl.col(\"timestamp\").str.to_datetime())\n",
    "    .sort(\"timestamp\")\n",
    ")\n",
    "\n",
    "for year, group in temp.group_by(pl.col(\"timestamp\").dt.year()):\n",
    "    for month, _ in group.group_by(pl.col(\"timestamp\").dt.month()):\n",
    "        print((year[0], month[0]))"
   ]
  },
  {
   "cell_type": "code",
   "execution_count": 16,
   "id": "a7196534-402e-44a9-92e6-b941c9e47356",
   "metadata": {},
   "outputs": [
    {
     "data": {
      "text/html": [
       "<div><style>\n",
       ".dataframe > thead > tr,\n",
       ".dataframe > tbody > tr {\n",
       "  text-align: right;\n",
       "  white-space: pre-wrap;\n",
       "}\n",
       "</style>\n",
       "<small>shape: (103_886, 5)</small><table border=\"1\" class=\"dataframe\"><thead><tr><th>order_id</th><th>payment_sequential</th><th>payment_type</th><th>payment_installments</th><th>payment_value</th></tr><tr><td>str</td><td>i64</td><td>str</td><td>i64</td><td>f64</td></tr></thead><tbody><tr><td>&quot;b81ef226f3fe1789b1e8b2acac839d…</td><td>1</td><td>&quot;credit_card&quot;</td><td>8</td><td>99.33</td></tr><tr><td>&quot;a9810da82917af2d9aefd1278f1dcf…</td><td>1</td><td>&quot;credit_card&quot;</td><td>1</td><td>24.39</td></tr><tr><td>&quot;25e8ea4e93396b6fa0d3dd708e76c1…</td><td>1</td><td>&quot;credit_card&quot;</td><td>1</td><td>65.71</td></tr><tr><td>&quot;ba78997921bbcdc1373bb41e913ab9…</td><td>1</td><td>&quot;credit_card&quot;</td><td>8</td><td>107.78</td></tr><tr><td>&quot;42fdf880ba16b47b59251dd489d444…</td><td>1</td><td>&quot;credit_card&quot;</td><td>2</td><td>128.45</td></tr><tr><td>&hellip;</td><td>&hellip;</td><td>&hellip;</td><td>&hellip;</td><td>&hellip;</td></tr><tr><td>&quot;0406037ad97740d563a178ecc7a207…</td><td>1</td><td>&quot;boleto&quot;</td><td>1</td><td>363.31</td></tr><tr><td>&quot;7b905861d7c825891d6347454ea786…</td><td>1</td><td>&quot;credit_card&quot;</td><td>2</td><td>96.8</td></tr><tr><td>&quot;32609bbb3dd69b3c066a6860554a77…</td><td>1</td><td>&quot;credit_card&quot;</td><td>1</td><td>47.77</td></tr><tr><td>&quot;b8b61059626efa996a60be9bb9320e…</td><td>1</td><td>&quot;credit_card&quot;</td><td>5</td><td>369.54</td></tr><tr><td>&quot;28bbae6599b09d39ca406b747b6632…</td><td>1</td><td>&quot;boleto&quot;</td><td>1</td><td>191.58</td></tr></tbody></table></div>"
      ],
      "text/plain": [
       "shape: (103_886, 5)\n",
       "┌───────────────────────┬────────────────────┬──────────────┬──────────────────────┬───────────────┐\n",
       "│ order_id              ┆ payment_sequential ┆ payment_type ┆ payment_installments ┆ payment_value │\n",
       "│ ---                   ┆ ---                ┆ ---          ┆ ---                  ┆ ---           │\n",
       "│ str                   ┆ i64                ┆ str          ┆ i64                  ┆ f64           │\n",
       "╞═══════════════════════╪════════════════════╪══════════════╪══════════════════════╪═══════════════╡\n",
       "│ b81ef226f3fe1789b1e8b ┆ 1                  ┆ credit_card  ┆ 8                    ┆ 99.33         │\n",
       "│ 2acac839d…            ┆                    ┆              ┆                      ┆               │\n",
       "│ a9810da82917af2d9aefd ┆ 1                  ┆ credit_card  ┆ 1                    ┆ 24.39         │\n",
       "│ 1278f1dcf…            ┆                    ┆              ┆                      ┆               │\n",
       "│ 25e8ea4e93396b6fa0d3d ┆ 1                  ┆ credit_card  ┆ 1                    ┆ 65.71         │\n",
       "│ d708e76c1…            ┆                    ┆              ┆                      ┆               │\n",
       "│ ba78997921bbcdc1373bb ┆ 1                  ┆ credit_card  ┆ 8                    ┆ 107.78        │\n",
       "│ 41e913ab9…            ┆                    ┆              ┆                      ┆               │\n",
       "│ 42fdf880ba16b47b59251 ┆ 1                  ┆ credit_card  ┆ 2                    ┆ 128.45        │\n",
       "│ dd489d444…            ┆                    ┆              ┆                      ┆               │\n",
       "│ …                     ┆ …                  ┆ …            ┆ …                    ┆ …             │\n",
       "│ 0406037ad97740d563a17 ┆ 1                  ┆ boleto       ┆ 1                    ┆ 363.31        │\n",
       "│ 8ecc7a207…            ┆                    ┆              ┆                      ┆               │\n",
       "│ 7b905861d7c825891d634 ┆ 1                  ┆ credit_card  ┆ 2                    ┆ 96.8          │\n",
       "│ 7454ea786…            ┆                    ┆              ┆                      ┆               │\n",
       "│ 32609bbb3dd69b3c066a6 ┆ 1                  ┆ credit_card  ┆ 1                    ┆ 47.77         │\n",
       "│ 860554a77…            ┆                    ┆              ┆                      ┆               │\n",
       "│ b8b61059626efa996a60b ┆ 1                  ┆ credit_card  ┆ 5                    ┆ 369.54        │\n",
       "│ e9bb9320e…            ┆                    ┆              ┆                      ┆               │\n",
       "│ 28bbae6599b09d39ca406 ┆ 1                  ┆ boleto       ┆ 1                    ┆ 191.58        │\n",
       "│ b747b6632…            ┆                    ┆              ┆                      ┆               │\n",
       "└───────────────────────┴────────────────────┴──────────────┴──────────────────────┴───────────────┘"
      ]
     },
     "execution_count": 16,
     "metadata": {},
     "output_type": "execute_result"
    }
   ],
   "source": [
    "order_payments = read_table(\"order_payments\")\n",
    "order_payments"
   ]
  },
  {
   "cell_type": "code",
   "execution_count": 12,
   "id": "6baa5ca1-9216-4124-9bfd-4b4b81d3e499",
   "metadata": {},
   "outputs": [
    {
     "data": {
      "text/html": [
       "<div><style>\n",
       ".dataframe > thead > tr,\n",
       ".dataframe > tbody > tr {\n",
       "  text-align: right;\n",
       "  white-space: pre-wrap;\n",
       "}\n",
       "</style>\n",
       "<small>shape: (112_650, 7)</small><table border=\"1\" class=\"dataframe\"><thead><tr><th>order_id</th><th>order_item_id</th><th>product_id</th><th>seller_id</th><th>shipping_limit_date</th><th>price</th><th>freight_value</th></tr><tr><td>str</td><td>i64</td><td>str</td><td>str</td><td>str</td><td>f64</td><td>f64</td></tr></thead><tbody><tr><td>&quot;00010242fe8c5a6d1ba2dd792cb16214&quot;</td><td>1</td><td>&quot;4244733e06e7ecb4970a6e2683c13e61&quot;</td><td>&quot;48436dade18ac8b2bce089ec2a041202&quot;</td><td>&quot;2017-09-19 09:45:35&quot;</td><td>58.9</td><td>13.29</td></tr><tr><td>&quot;00018f77f2f0320c557190d7a144bdd3&quot;</td><td>1</td><td>&quot;e5f2d52b802189ee658865ca93d83a8f&quot;</td><td>&quot;dd7ddc04e1b6c2c614352b383efe2d36&quot;</td><td>&quot;2017-05-03 11:05:13&quot;</td><td>239.9</td><td>19.93</td></tr><tr><td>&quot;000229ec398224ef6ca0657da4fc703e&quot;</td><td>1</td><td>&quot;c777355d18b72b67abbeef9df44fd0fd&quot;</td><td>&quot;5b51032eddd242adc84c38acab88f23d&quot;</td><td>&quot;2018-01-18 14:48:30&quot;</td><td>199.0</td><td>17.87</td></tr><tr><td>&quot;00024acbcdf0a6daa1e931b038114c75&quot;</td><td>1</td><td>&quot;7634da152a4610f1595efa32f14722fc&quot;</td><td>&quot;9d7a1d34a5052409006425275ba1c2b4&quot;</td><td>&quot;2018-08-15 10:10:18&quot;</td><td>12.99</td><td>12.79</td></tr><tr><td>&quot;00042b26cf59d7ce69dfabb4e55b4fd9&quot;</td><td>1</td><td>&quot;ac6c3623068f30de03045865e4e10089&quot;</td><td>&quot;df560393f3a51e74553ab94004ba5c87&quot;</td><td>&quot;2017-02-13 13:57:51&quot;</td><td>199.9</td><td>18.14</td></tr><tr><td>&hellip;</td><td>&hellip;</td><td>&hellip;</td><td>&hellip;</td><td>&hellip;</td><td>&hellip;</td><td>&hellip;</td></tr><tr><td>&quot;fffc94f6ce00a00581880bf54a75a037&quot;</td><td>1</td><td>&quot;4aa6014eceb682077f9dc4bffebc05b0&quot;</td><td>&quot;b8bc237ba3788b23da09c0f1f3a3288c&quot;</td><td>&quot;2018-05-02 04:11:01&quot;</td><td>299.99</td><td>43.41</td></tr><tr><td>&quot;fffcd46ef2263f404302a634eb57f7eb&quot;</td><td>1</td><td>&quot;32e07fd915822b0765e448c4dd74c828&quot;</td><td>&quot;f3c38ab652836d21de61fb8314b69182&quot;</td><td>&quot;2018-07-20 04:31:48&quot;</td><td>350.0</td><td>36.53</td></tr><tr><td>&quot;fffce4705a9662cd70adb13d4a31832d&quot;</td><td>1</td><td>&quot;72a30483855e2eafc67aee5dc2560482&quot;</td><td>&quot;c3cfdc648177fdbbbb35635a37472c53&quot;</td><td>&quot;2017-10-30 17:14:25&quot;</td><td>99.9</td><td>16.95</td></tr><tr><td>&quot;fffe18544ffabc95dfada21779c9644f&quot;</td><td>1</td><td>&quot;9c422a519119dcad7575db5af1ba540e&quot;</td><td>&quot;2b3e4a2a3ea8e01938cabda2a3e5cc79&quot;</td><td>&quot;2017-08-21 00:04:32&quot;</td><td>55.99</td><td>8.72</td></tr><tr><td>&quot;fffe41c64501cc87c801fd61db3f6244&quot;</td><td>1</td><td>&quot;350688d9dc1e75ff97be326363655e01&quot;</td><td>&quot;f7ccf836d21b2fb1de37564105216cc1&quot;</td><td>&quot;2018-06-12 17:10:13&quot;</td><td>43.0</td><td>12.79</td></tr></tbody></table></div>"
      ],
      "text/plain": [
       "shape: (112_650, 7)\n",
       "┌──────────────┬──────────────┬──────────────┬──────────────┬──────────────┬────────┬──────────────┐\n",
       "│ order_id     ┆ order_item_i ┆ product_id   ┆ seller_id    ┆ shipping_lim ┆ price  ┆ freight_valu │\n",
       "│ ---          ┆ d            ┆ ---          ┆ ---          ┆ it_date      ┆ ---    ┆ e            │\n",
       "│ str          ┆ ---          ┆ str          ┆ str          ┆ ---          ┆ f64    ┆ ---          │\n",
       "│              ┆ i64          ┆              ┆              ┆ str          ┆        ┆ f64          │\n",
       "╞══════════════╪══════════════╪══════════════╪══════════════╪══════════════╪════════╪══════════════╡\n",
       "│ 00010242fe8c ┆ 1            ┆ 4244733e06e7 ┆ 48436dade18a ┆ 2017-09-19   ┆ 58.9   ┆ 13.29        │\n",
       "│ 5a6d1ba2dd79 ┆              ┆ ecb4970a6e26 ┆ c8b2bce089ec ┆ 09:45:35     ┆        ┆              │\n",
       "│ 2cb16214     ┆              ┆ 83c13e61     ┆ 2a041202     ┆              ┆        ┆              │\n",
       "│ 00018f77f2f0 ┆ 1            ┆ e5f2d52b8021 ┆ dd7ddc04e1b6 ┆ 2017-05-03   ┆ 239.9  ┆ 19.93        │\n",
       "│ 320c557190d7 ┆              ┆ 89ee658865ca ┆ c2c614352b38 ┆ 11:05:13     ┆        ┆              │\n",
       "│ a144bdd3     ┆              ┆ 93d83a8f     ┆ 3efe2d36     ┆              ┆        ┆              │\n",
       "│ 000229ec3982 ┆ 1            ┆ c777355d18b7 ┆ 5b51032eddd2 ┆ 2018-01-18   ┆ 199.0  ┆ 17.87        │\n",
       "│ 24ef6ca0657d ┆              ┆ 2b67abbeef9d ┆ 42adc84c38ac ┆ 14:48:30     ┆        ┆              │\n",
       "│ a4fc703e     ┆              ┆ f44fd0fd     ┆ ab88f23d     ┆              ┆        ┆              │\n",
       "│ 00024acbcdf0 ┆ 1            ┆ 7634da152a46 ┆ 9d7a1d34a505 ┆ 2018-08-15   ┆ 12.99  ┆ 12.79        │\n",
       "│ a6daa1e931b0 ┆              ┆ 10f1595efa32 ┆ 240900642527 ┆ 10:10:18     ┆        ┆              │\n",
       "│ 38114c75     ┆              ┆ f14722fc     ┆ 5ba1c2b4     ┆              ┆        ┆              │\n",
       "│ 00042b26cf59 ┆ 1            ┆ ac6c3623068f ┆ df560393f3a5 ┆ 2017-02-13   ┆ 199.9  ┆ 18.14        │\n",
       "│ d7ce69dfabb4 ┆              ┆ 30de03045865 ┆ 1e74553ab940 ┆ 13:57:51     ┆        ┆              │\n",
       "│ e55b4fd9     ┆              ┆ e4e10089     ┆ 04ba5c87     ┆              ┆        ┆              │\n",
       "│ …            ┆ …            ┆ …            ┆ …            ┆ …            ┆ …      ┆ …            │\n",
       "│ fffc94f6ce00 ┆ 1            ┆ 4aa6014eceb6 ┆ b8bc237ba378 ┆ 2018-05-02   ┆ 299.99 ┆ 43.41        │\n",
       "│ a00581880bf5 ┆              ┆ 82077f9dc4bf ┆ 8b23da09c0f1 ┆ 04:11:01     ┆        ┆              │\n",
       "│ 4a75a037     ┆              ┆ febc05b0     ┆ f3a3288c     ┆              ┆        ┆              │\n",
       "│ fffcd46ef226 ┆ 1            ┆ 32e07fd91582 ┆ f3c38ab65283 ┆ 2018-07-20   ┆ 350.0  ┆ 36.53        │\n",
       "│ 3f404302a634 ┆              ┆ 2b0765e448c4 ┆ 6d21de61fb83 ┆ 04:31:48     ┆        ┆              │\n",
       "│ eb57f7eb     ┆              ┆ dd74c828     ┆ 14b69182     ┆              ┆        ┆              │\n",
       "│ fffce4705a96 ┆ 1            ┆ 72a30483855e ┆ c3cfdc648177 ┆ 2017-10-30   ┆ 99.9   ┆ 16.95        │\n",
       "│ 62cd70adb13d ┆              ┆ 2eafc67aee5d ┆ fdbbbb35635a ┆ 17:14:25     ┆        ┆              │\n",
       "│ 4a31832d     ┆              ┆ c2560482     ┆ 37472c53     ┆              ┆        ┆              │\n",
       "│ fffe18544ffa ┆ 1            ┆ 9c422a519119 ┆ 2b3e4a2a3ea8 ┆ 2017-08-21   ┆ 55.99  ┆ 8.72         │\n",
       "│ bc95dfada217 ┆              ┆ dcad7575db5a ┆ e01938cabda2 ┆ 00:04:32     ┆        ┆              │\n",
       "│ 79c9644f     ┆              ┆ f1ba540e     ┆ a3e5cc79     ┆              ┆        ┆              │\n",
       "│ fffe41c64501 ┆ 1            ┆ 350688d9dc1e ┆ f7ccf836d21b ┆ 2018-06-12   ┆ 43.0   ┆ 12.79        │\n",
       "│ cc87c801fd61 ┆              ┆ 75ff97be3263 ┆ 2fb1de375641 ┆ 17:10:13     ┆        ┆              │\n",
       "│ db3f6244     ┆              ┆ 63655e01     ┆ 05216cc1     ┆              ┆        ┆              │\n",
       "└──────────────┴──────────────┴──────────────┴──────────────┴──────────────┴────────┴──────────────┘"
      ]
     },
     "execution_count": 12,
     "metadata": {},
     "output_type": "execute_result"
    }
   ],
   "source": [
    "order_items = read_table(\"order_items\")\n",
    "order_items"
   ]
  },
  {
   "cell_type": "code",
   "execution_count": 14,
   "id": "3190d679-aabf-4652-8c7e-f58053ee87c4",
   "metadata": {},
   "outputs": [
    {
     "data": {
      "text/html": [
       "<div><style>\n",
       ".dataframe > thead > tr,\n",
       ".dataframe > tbody > tr {\n",
       "  text-align: right;\n",
       "  white-space: pre-wrap;\n",
       "}\n",
       "</style>\n",
       "<small>shape: (118_434, 18)</small><table border=\"1\" class=\"dataframe\"><thead><tr><th>order_id</th><th>customer_id</th><th>order_status</th><th>order_purchase_timestamp</th><th>order_approved_at</th><th>order_delivered_carrier_date</th><th>order_delivered_customer_date</th><th>order_estimated_delivery_date</th><th>order_item_id</th><th>product_id</th><th>seller_id</th><th>shipping_limit_date</th><th>price</th><th>freight_value</th><th>payment_sequential</th><th>payment_type</th><th>payment_installments</th><th>payment_value</th></tr><tr><td>str</td><td>str</td><td>str</td><td>datetime[μs]</td><td>datetime[μs]</td><td>datetime[μs]</td><td>datetime[μs]</td><td>datetime[μs]</td><td>i64</td><td>str</td><td>str</td><td>datetime[μs]</td><td>f64</td><td>f64</td><td>i64</td><td>str</td><td>i64</td><td>f64</td></tr></thead><tbody><tr><td>&quot;e481f51cbdc54678b7cc49136f2d6af7&quot;</td><td>&quot;9ef432eb6251297304e76186b10a928d&quot;</td><td>&quot;delivered&quot;</td><td>2017-10-02 10:56:33</td><td>2017-10-02 11:07:15</td><td>2017-10-04 19:55:00</td><td>2017-10-10 21:25:13</td><td>2017-10-18 00:00:00</td><td>1</td><td>&quot;87285b34884572647811a353c7ac498a&quot;</td><td>&quot;3504c0cb71d7fa48d967e0e4c94d59d9&quot;</td><td>2017-10-06 11:07:15</td><td>29.99</td><td>8.72</td><td>1</td><td>&quot;credit_card&quot;</td><td>1</td><td>18.12</td></tr><tr><td>&quot;e481f51cbdc54678b7cc49136f2d6af7&quot;</td><td>&quot;9ef432eb6251297304e76186b10a928d&quot;</td><td>&quot;delivered&quot;</td><td>2017-10-02 10:56:33</td><td>2017-10-02 11:07:15</td><td>2017-10-04 19:55:00</td><td>2017-10-10 21:25:13</td><td>2017-10-18 00:00:00</td><td>1</td><td>&quot;87285b34884572647811a353c7ac498a&quot;</td><td>&quot;3504c0cb71d7fa48d967e0e4c94d59d9&quot;</td><td>2017-10-06 11:07:15</td><td>29.99</td><td>8.72</td><td>3</td><td>&quot;voucher&quot;</td><td>1</td><td>2.0</td></tr><tr><td>&quot;e481f51cbdc54678b7cc49136f2d6af7&quot;</td><td>&quot;9ef432eb6251297304e76186b10a928d&quot;</td><td>&quot;delivered&quot;</td><td>2017-10-02 10:56:33</td><td>2017-10-02 11:07:15</td><td>2017-10-04 19:55:00</td><td>2017-10-10 21:25:13</td><td>2017-10-18 00:00:00</td><td>1</td><td>&quot;87285b34884572647811a353c7ac498a&quot;</td><td>&quot;3504c0cb71d7fa48d967e0e4c94d59d9&quot;</td><td>2017-10-06 11:07:15</td><td>29.99</td><td>8.72</td><td>2</td><td>&quot;voucher&quot;</td><td>1</td><td>18.59</td></tr><tr><td>&quot;53cdb2fc8bc7dce0b6741e2150273451&quot;</td><td>&quot;b0830fb4747a6c6d20dea0b8c802d7ef&quot;</td><td>&quot;delivered&quot;</td><td>2018-07-24 20:41:37</td><td>2018-07-26 03:24:27</td><td>2018-07-26 14:31:00</td><td>2018-08-07 15:27:45</td><td>2018-08-13 00:00:00</td><td>1</td><td>&quot;595fac2a385ac33a80bd5114aec74eb8&quot;</td><td>&quot;289cdb325fb7e7f891c38608bf9e0962&quot;</td><td>2018-07-30 03:24:27</td><td>118.7</td><td>22.76</td><td>1</td><td>&quot;boleto&quot;</td><td>1</td><td>141.46</td></tr><tr><td>&quot;47770eb9100c2d0c44946d9cf07ec65d&quot;</td><td>&quot;41ce2a54c0b03bf3443c3d931a367089&quot;</td><td>&quot;delivered&quot;</td><td>2018-08-08 08:38:49</td><td>2018-08-08 08:55:23</td><td>2018-08-08 13:50:00</td><td>2018-08-17 18:06:29</td><td>2018-09-04 00:00:00</td><td>1</td><td>&quot;aa4383b373c6aca5d8797843e5594415&quot;</td><td>&quot;4869f7a5dfa277a7dca6462dcf3b52b2&quot;</td><td>2018-08-13 08:55:23</td><td>159.9</td><td>19.22</td><td>1</td><td>&quot;credit_card&quot;</td><td>3</td><td>179.12</td></tr><tr><td>&hellip;</td><td>&hellip;</td><td>&hellip;</td><td>&hellip;</td><td>&hellip;</td><td>&hellip;</td><td>&hellip;</td><td>&hellip;</td><td>&hellip;</td><td>&hellip;</td><td>&hellip;</td><td>&hellip;</td><td>&hellip;</td><td>&hellip;</td><td>&hellip;</td><td>&hellip;</td><td>&hellip;</td><td>&hellip;</td></tr><tr><td>&quot;63943bddc261676b46f01ca7ac2f7bd8&quot;</td><td>&quot;1fca14ff2861355f6e5f14306ff977a7&quot;</td><td>&quot;delivered&quot;</td><td>2018-02-06 12:58:58</td><td>2018-02-06 13:10:37</td><td>2018-02-07 23:22:42</td><td>2018-02-28 17:37:56</td><td>2018-03-02 00:00:00</td><td>1</td><td>&quot;f1d4ce8c6dd66c47bbaa8c6781c2a923&quot;</td><td>&quot;1f9ab4708f3056ede07124aad39a2554&quot;</td><td>2018-02-12 13:10:37</td><td>174.9</td><td>20.1</td><td>1</td><td>&quot;credit_card&quot;</td><td>3</td><td>195.0</td></tr><tr><td>&quot;83c1379a015df1e13d02aae0204711ab&quot;</td><td>&quot;1aa71eb042121263aafbe80c1b562c9c&quot;</td><td>&quot;delivered&quot;</td><td>2017-08-27 14:46:43</td><td>2017-08-27 15:04:16</td><td>2017-08-28 20:52:26</td><td>2017-09-21 11:24:17</td><td>2017-09-27 00:00:00</td><td>1</td><td>&quot;b80910977a37536adeddd63663f916ad&quot;</td><td>&quot;d50d79cb34e38265a8649c383dcffd48&quot;</td><td>2017-09-05 15:04:16</td><td>205.99</td><td>65.02</td><td>1</td><td>&quot;credit_card&quot;</td><td>5</td><td>271.01</td></tr><tr><td>&quot;11c177c8e97725db2631073c19f07b62&quot;</td><td>&quot;b331b74b18dc79bcdf6532d51e1637c1&quot;</td><td>&quot;delivered&quot;</td><td>2018-01-08 21:28:27</td><td>2018-01-08 21:36:21</td><td>2018-01-12 15:35:03</td><td>2018-01-25 23:32:54</td><td>2018-02-15 00:00:00</td><td>1</td><td>&quot;d1c427060a0f73f6b889a5c7c61f2ac4&quot;</td><td>&quot;a1043bafd471dff536d0c462352beb48&quot;</td><td>2018-01-12 21:36:21</td><td>179.99</td><td>40.59</td><td>1</td><td>&quot;credit_card&quot;</td><td>4</td><td>441.16</td></tr><tr><td>&quot;11c177c8e97725db2631073c19f07b62&quot;</td><td>&quot;b331b74b18dc79bcdf6532d51e1637c1&quot;</td><td>&quot;delivered&quot;</td><td>2018-01-08 21:28:27</td><td>2018-01-08 21:36:21</td><td>2018-01-12 15:35:03</td><td>2018-01-25 23:32:54</td><td>2018-02-15 00:00:00</td><td>2</td><td>&quot;d1c427060a0f73f6b889a5c7c61f2ac4&quot;</td><td>&quot;a1043bafd471dff536d0c462352beb48&quot;</td><td>2018-01-12 21:36:21</td><td>179.99</td><td>40.59</td><td>1</td><td>&quot;credit_card&quot;</td><td>4</td><td>441.16</td></tr><tr><td>&quot;66dea50a8b16d9b4dee7af250b4be1a5&quot;</td><td>&quot;edb027a75a1449115f6b43211ae02a24&quot;</td><td>&quot;delivered&quot;</td><td>2018-03-08 20:57:30</td><td>2018-03-09 11:20:28</td><td>2018-03-09 22:11:59</td><td>2018-03-16 13:08:30</td><td>2018-04-03 00:00:00</td><td>1</td><td>&quot;006619bbed68b000c8ba3f8725d5409e&quot;</td><td>&quot;ececbfcff9804a2d6b40f589df8eef2b&quot;</td><td>2018-03-15 10:55:42</td><td>68.5</td><td>18.36</td><td>1</td><td>&quot;debit_card&quot;</td><td>1</td><td>86.86</td></tr></tbody></table></div>"
      ],
      "text/plain": [
       "shape: (118_434, 18)\n",
       "┌───────────┬───────────┬───────────┬───────────┬───┬───────────┬───────────┬───────────┬──────────┐\n",
       "│ order_id  ┆ customer_ ┆ order_sta ┆ order_pur ┆ … ┆ payment_s ┆ payment_t ┆ payment_i ┆ payment_ │\n",
       "│ ---       ┆ id        ┆ tus       ┆ chase_tim ┆   ┆ equential ┆ ype       ┆ nstallmen ┆ value    │\n",
       "│ str       ┆ ---       ┆ ---       ┆ estamp    ┆   ┆ ---       ┆ ---       ┆ ts        ┆ ---      │\n",
       "│           ┆ str       ┆ str       ┆ ---       ┆   ┆ i64       ┆ str       ┆ ---       ┆ f64      │\n",
       "│           ┆           ┆           ┆ datetime[ ┆   ┆           ┆           ┆ i64       ┆          │\n",
       "│           ┆           ┆           ┆ μs]       ┆   ┆           ┆           ┆           ┆          │\n",
       "╞═══════════╪═══════════╪═══════════╪═══════════╪═══╪═══════════╪═══════════╪═══════════╪══════════╡\n",
       "│ e481f51cb ┆ 9ef432eb6 ┆ delivered ┆ 2017-10-0 ┆ … ┆ 1         ┆ credit_ca ┆ 1         ┆ 18.12    │\n",
       "│ dc54678b7 ┆ 251297304 ┆           ┆ 2         ┆   ┆           ┆ rd        ┆           ┆          │\n",
       "│ cc49136f2 ┆ e76186b10 ┆           ┆ 10:56:33  ┆   ┆           ┆           ┆           ┆          │\n",
       "│ d6af7     ┆ a928d     ┆           ┆           ┆   ┆           ┆           ┆           ┆          │\n",
       "│ e481f51cb ┆ 9ef432eb6 ┆ delivered ┆ 2017-10-0 ┆ … ┆ 3         ┆ voucher   ┆ 1         ┆ 2.0      │\n",
       "│ dc54678b7 ┆ 251297304 ┆           ┆ 2         ┆   ┆           ┆           ┆           ┆          │\n",
       "│ cc49136f2 ┆ e76186b10 ┆           ┆ 10:56:33  ┆   ┆           ┆           ┆           ┆          │\n",
       "│ d6af7     ┆ a928d     ┆           ┆           ┆   ┆           ┆           ┆           ┆          │\n",
       "│ e481f51cb ┆ 9ef432eb6 ┆ delivered ┆ 2017-10-0 ┆ … ┆ 2         ┆ voucher   ┆ 1         ┆ 18.59    │\n",
       "│ dc54678b7 ┆ 251297304 ┆           ┆ 2         ┆   ┆           ┆           ┆           ┆          │\n",
       "│ cc49136f2 ┆ e76186b10 ┆           ┆ 10:56:33  ┆   ┆           ┆           ┆           ┆          │\n",
       "│ d6af7     ┆ a928d     ┆           ┆           ┆   ┆           ┆           ┆           ┆          │\n",
       "│ 53cdb2fc8 ┆ b0830fb47 ┆ delivered ┆ 2018-07-2 ┆ … ┆ 1         ┆ boleto    ┆ 1         ┆ 141.46   │\n",
       "│ bc7dce0b6 ┆ 47a6c6d20 ┆           ┆ 4         ┆   ┆           ┆           ┆           ┆          │\n",
       "│ 741e21502 ┆ dea0b8c80 ┆           ┆ 20:41:37  ┆   ┆           ┆           ┆           ┆          │\n",
       "│ 73451     ┆ 2d7ef     ┆           ┆           ┆   ┆           ┆           ┆           ┆          │\n",
       "│ 47770eb91 ┆ 41ce2a54c ┆ delivered ┆ 2018-08-0 ┆ … ┆ 1         ┆ credit_ca ┆ 3         ┆ 179.12   │\n",
       "│ 00c2d0c44 ┆ 0b03bf344 ┆           ┆ 8         ┆   ┆           ┆ rd        ┆           ┆          │\n",
       "│ 946d9cf07 ┆ 3c3d931a3 ┆           ┆ 08:38:49  ┆   ┆           ┆           ┆           ┆          │\n",
       "│ ec65d     ┆ 67089     ┆           ┆           ┆   ┆           ┆           ┆           ┆          │\n",
       "│ …         ┆ …         ┆ …         ┆ …         ┆ … ┆ …         ┆ …         ┆ …         ┆ …        │\n",
       "│ 63943bddc ┆ 1fca14ff2 ┆ delivered ┆ 2018-02-0 ┆ … ┆ 1         ┆ credit_ca ┆ 3         ┆ 195.0    │\n",
       "│ 261676b46 ┆ 861355f6e ┆           ┆ 6         ┆   ┆           ┆ rd        ┆           ┆          │\n",
       "│ f01ca7ac2 ┆ 5f14306ff ┆           ┆ 12:58:58  ┆   ┆           ┆           ┆           ┆          │\n",
       "│ f7bd8     ┆ 977a7     ┆           ┆           ┆   ┆           ┆           ┆           ┆          │\n",
       "│ 83c1379a0 ┆ 1aa71eb04 ┆ delivered ┆ 2017-08-2 ┆ … ┆ 1         ┆ credit_ca ┆ 5         ┆ 271.01   │\n",
       "│ 15df1e13d ┆ 2121263aa ┆           ┆ 7         ┆   ┆           ┆ rd        ┆           ┆          │\n",
       "│ 02aae0204 ┆ fbe80c1b5 ┆           ┆ 14:46:43  ┆   ┆           ┆           ┆           ┆          │\n",
       "│ 711ab     ┆ 62c9c     ┆           ┆           ┆   ┆           ┆           ┆           ┆          │\n",
       "│ 11c177c8e ┆ b331b74b1 ┆ delivered ┆ 2018-01-0 ┆ … ┆ 1         ┆ credit_ca ┆ 4         ┆ 441.16   │\n",
       "│ 97725db26 ┆ 8dc79bcdf ┆           ┆ 8         ┆   ┆           ┆ rd        ┆           ┆          │\n",
       "│ 31073c19f ┆ 6532d51e1 ┆           ┆ 21:28:27  ┆   ┆           ┆           ┆           ┆          │\n",
       "│ 07b62     ┆ 637c1     ┆           ┆           ┆   ┆           ┆           ┆           ┆          │\n",
       "│ 11c177c8e ┆ b331b74b1 ┆ delivered ┆ 2018-01-0 ┆ … ┆ 1         ┆ credit_ca ┆ 4         ┆ 441.16   │\n",
       "│ 97725db26 ┆ 8dc79bcdf ┆           ┆ 8         ┆   ┆           ┆ rd        ┆           ┆          │\n",
       "│ 31073c19f ┆ 6532d51e1 ┆           ┆ 21:28:27  ┆   ┆           ┆           ┆           ┆          │\n",
       "│ 07b62     ┆ 637c1     ┆           ┆           ┆   ┆           ┆           ┆           ┆          │\n",
       "│ 66dea50a8 ┆ edb027a75 ┆ delivered ┆ 2018-03-0 ┆ … ┆ 1         ┆ debit_car ┆ 1         ┆ 86.86    │\n",
       "│ b16d9b4de ┆ a1449115f ┆           ┆ 8         ┆   ┆           ┆ d         ┆           ┆          │\n",
       "│ e7af250b4 ┆ 6b43211ae ┆           ┆ 20:57:30  ┆   ┆           ┆           ┆           ┆          │\n",
       "│ be1a5     ┆ 02a24     ┆           ┆           ┆   ┆           ┆           ┆           ┆          │\n",
       "└───────────┴───────────┴───────────┴───────────┴───┴───────────┴───────────┴───────────┴──────────┘"
      ]
     },
     "execution_count": 14,
     "metadata": {},
     "output_type": "execute_result"
    }
   ],
   "source": [
    "order_events = (\n",
    "    orders\n",
    "    .join(order_items, on=\"order_id\", how=\"left\")\n",
    "    .join(order_payments, on=\"order_id\", how=\"left\")\n",
    "    .with_columns(\n",
    "        pl.col(\"order_purchase_timestamp\").str.to_datetime(),\n",
    "        pl.col(\"order_approved_at\").str.to_datetime(),\n",
    "        pl.col(\"order_delivered_carrier_date\").str.to_datetime(),\n",
    "        pl.col(\"order_delivered_customer_date\").str.to_datetime(),\n",
    "        pl.col(\"order_estimated_delivery_date\").str.to_datetime(),\n",
    "        pl.col(\"shipping_limit_date\").str.to_datetime(),\n",
    "    )\n",
    ")\n",
    "\n",
    "order_events"
   ]
  },
  {
   "cell_type": "code",
   "execution_count": 23,
   "id": "1cd17262-ebe4-4108-9159-8ee35ffbf0c1",
   "metadata": {},
   "outputs": [
    {
     "data": {
      "text/html": [
       "<div><style>\n",
       ".dataframe > thead > tr,\n",
       ".dataframe > tbody > tr {\n",
       "  text-align: right;\n",
       "  white-space: pre-wrap;\n",
       "}\n",
       "</style>\n",
       "<small>shape: (1_017, 18)</small><table border=\"1\" class=\"dataframe\"><thead><tr><th>order_id</th><th>customer_id</th><th>order_status</th><th>order_purchase_timestamp</th><th>order_approved_at</th><th>order_delivered_carrier_date</th><th>order_delivered_customer_date</th><th>order_estimated_delivery_date</th><th>order_item_id</th><th>product_id</th><th>seller_id</th><th>shipping_limit_date</th><th>price</th><th>freight_value</th><th>payment_sequential</th><th>payment_type</th><th>payment_installments</th><th>payment_value</th></tr><tr><td>str</td><td>str</td><td>str</td><td>datetime[μs]</td><td>datetime[μs]</td><td>datetime[μs]</td><td>datetime[μs]</td><td>datetime[μs]</td><td>i64</td><td>str</td><td>str</td><td>datetime[μs]</td><td>f64</td><td>f64</td><td>i64</td><td>str</td><td>i64</td><td>f64</td></tr></thead><tbody><tr><td>&quot;ec7a019261fce44180373d45b442d78f&quot;</td><td>&quot;c24fc5f9a446b4d8262041b9c64de772&quot;</td><td>&quot;delivered&quot;</td><td>2017-01-05 11:56:06</td><td>2017-01-05 12:10:17</td><td>2017-01-06 12:43:41</td><td>2017-01-11 13:14:05</td><td>2017-02-01 00:00:00</td><td>1</td><td>&quot;f5d8f4fbc70ca2a0038b9a0010ed5cb0&quot;</td><td>&quot;48efc9d94a9834137efd9ea76b065a38&quot;</td><td>2017-01-09 11:56:06</td><td>10.9</td><td>8.72</td><td>1</td><td>&quot;credit_card&quot;</td><td>1</td><td>19.62</td></tr><tr><td>&quot;b95a0a8bd30aece4e94e81f0591249d8&quot;</td><td>&quot;ff3c6d35b4927c9b965aa6a68dcf56e4&quot;</td><td>&quot;delivered&quot;</td><td>2017-01-05 12:01:20</td><td>2017-01-07 03:35:37</td><td>2017-01-11 16:22:53</td><td>2017-01-17 15:38:58</td><td>2017-02-13 00:00:00</td><td>1</td><td>&quot;6c04a068e5ab37749c980c42a036b9e3&quot;</td><td>&quot;48efc9d94a9834137efd9ea76b065a38&quot;</td><td>2017-01-09 12:01:20</td><td>10.9</td><td>8.72</td><td>1</td><td>&quot;boleto&quot;</td><td>1</td><td>19.62</td></tr><tr><td>&quot;38bcb524e1c38c2c1b60600a80fc8999&quot;</td><td>&quot;d2c63ad286e3ca9dd69218008d61ff81&quot;</td><td>&quot;delivered&quot;</td><td>2017-01-05 12:06:36</td><td>2017-01-07 03:45:22</td><td>2017-01-11 15:35:54</td><td>2017-01-16 16:05:22</td><td>2017-02-13 00:00:00</td><td>1</td><td>&quot;680cc8535be7cc69544238c1d6a83fe8&quot;</td><td>&quot;48efc9d94a9834137efd9ea76b065a38&quot;</td><td>2017-01-09 12:06:36</td><td>2.9</td><td>8.72</td><td>1</td><td>&quot;boleto&quot;</td><td>1</td><td>11.62</td></tr><tr><td>&quot;7a18a504c1a4b32d883e68de2e1a7db0&quot;</td><td>&quot;e6bee29442c761ff0dfb9a4414922a5c&quot;</td><td>&quot;delivered&quot;</td><td>2017-01-05 12:09:08</td><td>2017-01-07 03:44:08</td><td>2017-01-11 15:35:53</td><td>2017-01-16 15:43:29</td><td>2017-02-13 00:00:00</td><td>1</td><td>&quot;c0d4027067afcf9c1697cce981b8fed6&quot;</td><td>&quot;48efc9d94a9834137efd9ea76b065a38&quot;</td><td>2017-01-09 12:09:08</td><td>7.9</td><td>8.72</td><td>1</td><td>&quot;boleto&quot;</td><td>1</td><td>16.62</td></tr><tr><td>&quot;6acecf438369055d9243e121045cca74&quot;</td><td>&quot;42d857e22f61f10476f0cda1aacc018a&quot;</td><td>&quot;delivered&quot;</td><td>2017-01-05 12:11:23</td><td>2017-01-07 03:44:07</td><td>2017-01-11 16:22:53</td><td>2017-01-17 16:06:30</td><td>2017-02-13 00:00:00</td><td>1</td><td>&quot;1514ddb0f4a5afc8d24104e89c714403&quot;</td><td>&quot;48efc9d94a9834137efd9ea76b065a38&quot;</td><td>2017-01-09 12:11:23</td><td>9.9</td><td>8.72</td><td>1</td><td>&quot;boleto&quot;</td><td>1</td><td>18.62</td></tr><tr><td>&hellip;</td><td>&hellip;</td><td>&hellip;</td><td>&hellip;</td><td>&hellip;</td><td>&hellip;</td><td>&hellip;</td><td>&hellip;</td><td>&hellip;</td><td>&hellip;</td><td>&hellip;</td><td>&hellip;</td><td>&hellip;</td><td>&hellip;</td><td>&hellip;</td><td>&hellip;</td><td>&hellip;</td><td>&hellip;</td></tr><tr><td>&quot;41f25580214be3f00eb80620ca971032&quot;</td><td>&quot;c15ad00cbb1c74bb39f6995151f8e883&quot;</td><td>&quot;delivered&quot;</td><td>2017-01-31 21:57:33</td><td>2017-01-31 22:15:08</td><td>2017-02-03 14:21:30</td><td>2017-02-08 14:47:42</td><td>2017-03-09 00:00:00</td><td>2</td><td>&quot;c94d19d021d4a8fbae5a45f904aeea90&quot;</td><td>&quot;701938c450705b8ae65fc923b70f35c7&quot;</td><td>2017-02-04 21:57:33</td><td>103.99</td><td>37.24</td><td>1</td><td>&quot;credit_card&quot;</td><td>5</td><td>282.46</td></tr><tr><td>&quot;0afbc110b84719faaef4887a5cff5a2c&quot;</td><td>&quot;dba001f78ebcbf63aec0095cc03ad969&quot;</td><td>&quot;delivered&quot;</td><td>2017-01-31 22:31:13</td><td>2017-01-31 22:45:17</td><td>2017-02-01 15:59:53</td><td>2017-02-15 13:55:49</td><td>2017-03-07 00:00:00</td><td>1</td><td>&quot;7340a3839a1de1e99d149b8cf052a2ec&quot;</td><td>&quot;4a3ca9315b744ce9f8e9374361493884&quot;</td><td>2017-02-04 22:31:13</td><td>69.9</td><td>11.88</td><td>1</td><td>&quot;credit_card&quot;</td><td>8</td><td>81.78</td></tr><tr><td>&quot;adf684f287283640cb375a2e8ada8c82&quot;</td><td>&quot;738ebe48e12040500665dd143aa28cdc&quot;</td><td>&quot;delivered&quot;</td><td>2017-01-31 23:18:22</td><td>2017-01-31 23:30:12</td><td>2017-02-03 16:04:04</td><td>2017-02-16 11:49:01</td><td>2017-03-09 00:00:00</td><td>1</td><td>&quot;8ce0b48cdcc4b753ae4de64497998338&quot;</td><td>&quot;75d34ebb1bd0bd7dde40dd507b8169c3&quot;</td><td>2017-02-08 23:18:22</td><td>131.99</td><td>15.22</td><td>1</td><td>&quot;credit_card&quot;</td><td>4</td><td>294.42</td></tr><tr><td>&quot;adf684f287283640cb375a2e8ada8c82&quot;</td><td>&quot;738ebe48e12040500665dd143aa28cdc&quot;</td><td>&quot;delivered&quot;</td><td>2017-01-31 23:18:22</td><td>2017-01-31 23:30:12</td><td>2017-02-03 16:04:04</td><td>2017-02-16 11:49:01</td><td>2017-03-09 00:00:00</td><td>2</td><td>&quot;8ce0b48cdcc4b753ae4de64497998338&quot;</td><td>&quot;75d34ebb1bd0bd7dde40dd507b8169c3&quot;</td><td>2017-02-08 23:18:22</td><td>131.99</td><td>15.22</td><td>1</td><td>&quot;credit_card&quot;</td><td>4</td><td>294.42</td></tr><tr><td>&quot;6225dae3fcc1416785f294cc07f2e4db&quot;</td><td>&quot;06c09be49b69107bf8c75d10af6b2233&quot;</td><td>&quot;delivered&quot;</td><td>2017-01-31 23:37:58</td><td>2017-02-01 23:45:14</td><td>2017-02-03 17:51:38</td><td>2017-02-13 13:23:46</td><td>2017-03-13 00:00:00</td><td>1</td><td>&quot;0fa8853b873ba06e7d27385fbb1411ca&quot;</td><td>&quot;7c67e1448b00f6e969d365cea6b010ab&quot;</td><td>2017-02-09 23:37:58</td><td>239.99</td><td>38.08</td><td>1</td><td>&quot;credit_card&quot;</td><td>8</td><td>278.07</td></tr></tbody></table></div>"
      ],
      "text/plain": [
       "shape: (1_017, 18)\n",
       "┌───────────┬───────────┬───────────┬───────────┬───┬───────────┬───────────┬───────────┬──────────┐\n",
       "│ order_id  ┆ customer_ ┆ order_sta ┆ order_pur ┆ … ┆ payment_s ┆ payment_t ┆ payment_i ┆ payment_ │\n",
       "│ ---       ┆ id        ┆ tus       ┆ chase_tim ┆   ┆ equential ┆ ype       ┆ nstallmen ┆ value    │\n",
       "│ str       ┆ ---       ┆ ---       ┆ estamp    ┆   ┆ ---       ┆ ---       ┆ ts        ┆ ---      │\n",
       "│           ┆ str       ┆ str       ┆ ---       ┆   ┆ i64       ┆ str       ┆ ---       ┆ f64      │\n",
       "│           ┆           ┆           ┆ datetime[ ┆   ┆           ┆           ┆ i64       ┆          │\n",
       "│           ┆           ┆           ┆ μs]       ┆   ┆           ┆           ┆           ┆          │\n",
       "╞═══════════╪═══════════╪═══════════╪═══════════╪═══╪═══════════╪═══════════╪═══════════╪══════════╡\n",
       "│ ec7a01926 ┆ c24fc5f9a ┆ delivered ┆ 2017-01-0 ┆ … ┆ 1         ┆ credit_ca ┆ 1         ┆ 19.62    │\n",
       "│ 1fce44180 ┆ 446b4d826 ┆           ┆ 5         ┆   ┆           ┆ rd        ┆           ┆          │\n",
       "│ 373d45b44 ┆ 2041b9c64 ┆           ┆ 11:56:06  ┆   ┆           ┆           ┆           ┆          │\n",
       "│ 2d78f     ┆ de772     ┆           ┆           ┆   ┆           ┆           ┆           ┆          │\n",
       "│ b95a0a8bd ┆ ff3c6d35b ┆ delivered ┆ 2017-01-0 ┆ … ┆ 1         ┆ boleto    ┆ 1         ┆ 19.62    │\n",
       "│ 30aece4e9 ┆ 4927c9b96 ┆           ┆ 5         ┆   ┆           ┆           ┆           ┆          │\n",
       "│ 4e81f0591 ┆ 5aa6a68dc ┆           ┆ 12:01:20  ┆   ┆           ┆           ┆           ┆          │\n",
       "│ 249d8     ┆ f56e4     ┆           ┆           ┆   ┆           ┆           ┆           ┆          │\n",
       "│ 38bcb524e ┆ d2c63ad28 ┆ delivered ┆ 2017-01-0 ┆ … ┆ 1         ┆ boleto    ┆ 1         ┆ 11.62    │\n",
       "│ 1c38c2c1b ┆ 6e3ca9dd6 ┆           ┆ 5         ┆   ┆           ┆           ┆           ┆          │\n",
       "│ 60600a80f ┆ 9218008d6 ┆           ┆ 12:06:36  ┆   ┆           ┆           ┆           ┆          │\n",
       "│ c8999     ┆ 1ff81     ┆           ┆           ┆   ┆           ┆           ┆           ┆          │\n",
       "│ 7a18a504c ┆ e6bee2944 ┆ delivered ┆ 2017-01-0 ┆ … ┆ 1         ┆ boleto    ┆ 1         ┆ 16.62    │\n",
       "│ 1a4b32d88 ┆ 2c761ff0d ┆           ┆ 5         ┆   ┆           ┆           ┆           ┆          │\n",
       "│ 3e68de2e1 ┆ fb9a44149 ┆           ┆ 12:09:08  ┆   ┆           ┆           ┆           ┆          │\n",
       "│ a7db0     ┆ 22a5c     ┆           ┆           ┆   ┆           ┆           ┆           ┆          │\n",
       "│ 6acecf438 ┆ 42d857e22 ┆ delivered ┆ 2017-01-0 ┆ … ┆ 1         ┆ boleto    ┆ 1         ┆ 18.62    │\n",
       "│ 369055d92 ┆ f61f10476 ┆           ┆ 5         ┆   ┆           ┆           ┆           ┆          │\n",
       "│ 43e121045 ┆ f0cda1aac ┆           ┆ 12:11:23  ┆   ┆           ┆           ┆           ┆          │\n",
       "│ cca74     ┆ c018a     ┆           ┆           ┆   ┆           ┆           ┆           ┆          │\n",
       "│ …         ┆ …         ┆ …         ┆ …         ┆ … ┆ …         ┆ …         ┆ …         ┆ …        │\n",
       "│ 41f255802 ┆ c15ad00cb ┆ delivered ┆ 2017-01-3 ┆ … ┆ 1         ┆ credit_ca ┆ 5         ┆ 282.46   │\n",
       "│ 14be3f00e ┆ b1c74bb39 ┆           ┆ 1         ┆   ┆           ┆ rd        ┆           ┆          │\n",
       "│ b80620ca9 ┆ f6995151f ┆           ┆ 21:57:33  ┆   ┆           ┆           ┆           ┆          │\n",
       "│ 71032     ┆ 8e883     ┆           ┆           ┆   ┆           ┆           ┆           ┆          │\n",
       "│ 0afbc110b ┆ dba001f78 ┆ delivered ┆ 2017-01-3 ┆ … ┆ 1         ┆ credit_ca ┆ 8         ┆ 81.78    │\n",
       "│ 84719faae ┆ ebcbf63ae ┆           ┆ 1         ┆   ┆           ┆ rd        ┆           ┆          │\n",
       "│ f4887a5cf ┆ c0095cc03 ┆           ┆ 22:31:13  ┆   ┆           ┆           ┆           ┆          │\n",
       "│ f5a2c     ┆ ad969     ┆           ┆           ┆   ┆           ┆           ┆           ┆          │\n",
       "│ adf684f28 ┆ 738ebe48e ┆ delivered ┆ 2017-01-3 ┆ … ┆ 1         ┆ credit_ca ┆ 4         ┆ 294.42   │\n",
       "│ 7283640cb ┆ 120405006 ┆           ┆ 1         ┆   ┆           ┆ rd        ┆           ┆          │\n",
       "│ 375a2e8ad ┆ 65dd143aa ┆           ┆ 23:18:22  ┆   ┆           ┆           ┆           ┆          │\n",
       "│ a8c82     ┆ 28cdc     ┆           ┆           ┆   ┆           ┆           ┆           ┆          │\n",
       "│ adf684f28 ┆ 738ebe48e ┆ delivered ┆ 2017-01-3 ┆ … ┆ 1         ┆ credit_ca ┆ 4         ┆ 294.42   │\n",
       "│ 7283640cb ┆ 120405006 ┆           ┆ 1         ┆   ┆           ┆ rd        ┆           ┆          │\n",
       "│ 375a2e8ad ┆ 65dd143aa ┆           ┆ 23:18:22  ┆   ┆           ┆           ┆           ┆          │\n",
       "│ a8c82     ┆ 28cdc     ┆           ┆           ┆   ┆           ┆           ┆           ┆          │\n",
       "│ 6225dae3f ┆ 06c09be49 ┆ delivered ┆ 2017-01-3 ┆ … ┆ 1         ┆ credit_ca ┆ 8         ┆ 278.07   │\n",
       "│ cc1416785 ┆ b69107bf8 ┆           ┆ 1         ┆   ┆           ┆ rd        ┆           ┆          │\n",
       "│ f294cc07f ┆ c75d10af6 ┆           ┆ 23:37:58  ┆   ┆           ┆           ┆           ┆          │\n",
       "│ 2e4db     ┆ b2233     ┆           ┆           ┆   ┆           ┆           ┆           ┆          │\n",
       "└───────────┴───────────┴───────────┴───────────┴───┴───────────┴───────────┴───────────┴──────────┘"
      ]
     },
     "execution_count": 23,
     "metadata": {},
     "output_type": "execute_result"
    }
   ],
   "source": [
    "order_events.filter(\n",
    "    pl.col(\"order_purchase_timestamp\").dt.year() == 2017,\n",
    "    pl.col(\"order_purchase_timestamp\").dt.month() == 1,\n",
    ").sort(\"order_purchase_timestamp\")\n",
    "# 1_017"
   ]
  },
  {
   "cell_type": "code",
   "execution_count": 15,
   "id": "3ff974a2-e62c-40a7-8a65-a897a2e7d3ef",
   "metadata": {},
   "outputs": [
    {
     "data": {
      "text/html": [
       "<div><style>\n",
       ".dataframe > thead > tr,\n",
       ".dataframe > tbody > tr {\n",
       "  text-align: right;\n",
       "  white-space: pre-wrap;\n",
       "}\n",
       "</style>\n",
       "<small>shape: (118_434, 8)</small><table border=\"1\" class=\"dataframe\"><thead><tr><th>order_id</th><th>product_id</th><th>seller_id</th><th>customer_id</th><th>freight_value</th><th>price</th><th>timestamp</th><th>purchased_timestamp</th></tr><tr><td>str</td><td>str</td><td>str</td><td>str</td><td>f64</td><td>f64</td><td>datetime[μs]</td><td>datetime[μs]</td></tr></thead><tbody><tr><td>&quot;e481f51cbdc54678b7cc49136f2d6af7&quot;</td><td>&quot;87285b34884572647811a353c7ac498a&quot;</td><td>&quot;3504c0cb71d7fa48d967e0e4c94d59d9&quot;</td><td>&quot;9ef432eb6251297304e76186b10a928d&quot;</td><td>8.72</td><td>29.99</td><td>2017-10-02 10:56:33</td><td>2017-10-02 10:56:33</td></tr><tr><td>&quot;e481f51cbdc54678b7cc49136f2d6af7&quot;</td><td>&quot;87285b34884572647811a353c7ac498a&quot;</td><td>&quot;3504c0cb71d7fa48d967e0e4c94d59d9&quot;</td><td>&quot;9ef432eb6251297304e76186b10a928d&quot;</td><td>8.72</td><td>29.99</td><td>2017-10-02 10:56:33</td><td>2017-10-02 10:56:33</td></tr><tr><td>&quot;e481f51cbdc54678b7cc49136f2d6af7&quot;</td><td>&quot;87285b34884572647811a353c7ac498a&quot;</td><td>&quot;3504c0cb71d7fa48d967e0e4c94d59d9&quot;</td><td>&quot;9ef432eb6251297304e76186b10a928d&quot;</td><td>8.72</td><td>29.99</td><td>2017-10-02 10:56:33</td><td>2017-10-02 10:56:33</td></tr><tr><td>&quot;53cdb2fc8bc7dce0b6741e2150273451&quot;</td><td>&quot;595fac2a385ac33a80bd5114aec74eb8&quot;</td><td>&quot;289cdb325fb7e7f891c38608bf9e0962&quot;</td><td>&quot;b0830fb4747a6c6d20dea0b8c802d7ef&quot;</td><td>22.76</td><td>118.7</td><td>2018-07-24 20:41:37</td><td>2018-07-24 20:41:37</td></tr><tr><td>&quot;47770eb9100c2d0c44946d9cf07ec65d&quot;</td><td>&quot;aa4383b373c6aca5d8797843e5594415&quot;</td><td>&quot;4869f7a5dfa277a7dca6462dcf3b52b2&quot;</td><td>&quot;41ce2a54c0b03bf3443c3d931a367089&quot;</td><td>19.22</td><td>159.9</td><td>2018-08-08 08:38:49</td><td>2018-08-08 08:38:49</td></tr><tr><td>&hellip;</td><td>&hellip;</td><td>&hellip;</td><td>&hellip;</td><td>&hellip;</td><td>&hellip;</td><td>&hellip;</td><td>&hellip;</td></tr><tr><td>&quot;63943bddc261676b46f01ca7ac2f7bd8&quot;</td><td>&quot;f1d4ce8c6dd66c47bbaa8c6781c2a923&quot;</td><td>&quot;1f9ab4708f3056ede07124aad39a2554&quot;</td><td>&quot;1fca14ff2861355f6e5f14306ff977a7&quot;</td><td>20.1</td><td>174.9</td><td>2018-02-06 12:58:58</td><td>2018-02-06 12:58:58</td></tr><tr><td>&quot;83c1379a015df1e13d02aae0204711ab&quot;</td><td>&quot;b80910977a37536adeddd63663f916ad&quot;</td><td>&quot;d50d79cb34e38265a8649c383dcffd48&quot;</td><td>&quot;1aa71eb042121263aafbe80c1b562c9c&quot;</td><td>65.02</td><td>205.99</td><td>2017-08-27 14:46:43</td><td>2017-08-27 14:46:43</td></tr><tr><td>&quot;11c177c8e97725db2631073c19f07b62&quot;</td><td>&quot;d1c427060a0f73f6b889a5c7c61f2ac4&quot;</td><td>&quot;a1043bafd471dff536d0c462352beb48&quot;</td><td>&quot;b331b74b18dc79bcdf6532d51e1637c1&quot;</td><td>40.59</td><td>179.99</td><td>2018-01-08 21:28:27</td><td>2018-01-08 21:28:27</td></tr><tr><td>&quot;11c177c8e97725db2631073c19f07b62&quot;</td><td>&quot;d1c427060a0f73f6b889a5c7c61f2ac4&quot;</td><td>&quot;a1043bafd471dff536d0c462352beb48&quot;</td><td>&quot;b331b74b18dc79bcdf6532d51e1637c1&quot;</td><td>40.59</td><td>179.99</td><td>2018-01-08 21:28:27</td><td>2018-01-08 21:28:27</td></tr><tr><td>&quot;66dea50a8b16d9b4dee7af250b4be1a5&quot;</td><td>&quot;006619bbed68b000c8ba3f8725d5409e&quot;</td><td>&quot;ececbfcff9804a2d6b40f589df8eef2b&quot;</td><td>&quot;edb027a75a1449115f6b43211ae02a24&quot;</td><td>18.36</td><td>68.5</td><td>2018-03-08 20:57:30</td><td>2018-03-08 20:57:30</td></tr></tbody></table></div>"
      ],
      "text/plain": [
       "shape: (118_434, 8)\n",
       "┌────────────┬────────────┬────────────┬────────────┬────────────┬────────┬────────────┬───────────┐\n",
       "│ order_id   ┆ product_id ┆ seller_id  ┆ customer_i ┆ freight_va ┆ price  ┆ timestamp  ┆ purchased │\n",
       "│ ---        ┆ ---        ┆ ---        ┆ d          ┆ lue        ┆ ---    ┆ ---        ┆ _timestam │\n",
       "│ str        ┆ str        ┆ str        ┆ ---        ┆ ---        ┆ f64    ┆ datetime[μ ┆ p         │\n",
       "│            ┆            ┆            ┆ str        ┆ f64        ┆        ┆ s]         ┆ ---       │\n",
       "│            ┆            ┆            ┆            ┆            ┆        ┆            ┆ datetime[ │\n",
       "│            ┆            ┆            ┆            ┆            ┆        ┆            ┆ μs]       │\n",
       "╞════════════╪════════════╪════════════╪════════════╪════════════╪════════╪════════════╪═══════════╡\n",
       "│ e481f51cbd ┆ 87285b3488 ┆ 3504c0cb71 ┆ 9ef432eb62 ┆ 8.72       ┆ 29.99  ┆ 2017-10-02 ┆ 2017-10-0 │\n",
       "│ c54678b7cc ┆ 4572647811 ┆ d7fa48d967 ┆ 51297304e7 ┆            ┆        ┆ 10:56:33   ┆ 2         │\n",
       "│ 49136f2d6a ┆ a353c7ac49 ┆ e0e4c94d59 ┆ 6186b10a92 ┆            ┆        ┆            ┆ 10:56:33  │\n",
       "│ f7         ┆ 8a         ┆ d9         ┆ 8d         ┆            ┆        ┆            ┆           │\n",
       "│ e481f51cbd ┆ 87285b3488 ┆ 3504c0cb71 ┆ 9ef432eb62 ┆ 8.72       ┆ 29.99  ┆ 2017-10-02 ┆ 2017-10-0 │\n",
       "│ c54678b7cc ┆ 4572647811 ┆ d7fa48d967 ┆ 51297304e7 ┆            ┆        ┆ 10:56:33   ┆ 2         │\n",
       "│ 49136f2d6a ┆ a353c7ac49 ┆ e0e4c94d59 ┆ 6186b10a92 ┆            ┆        ┆            ┆ 10:56:33  │\n",
       "│ f7         ┆ 8a         ┆ d9         ┆ 8d         ┆            ┆        ┆            ┆           │\n",
       "│ e481f51cbd ┆ 87285b3488 ┆ 3504c0cb71 ┆ 9ef432eb62 ┆ 8.72       ┆ 29.99  ┆ 2017-10-02 ┆ 2017-10-0 │\n",
       "│ c54678b7cc ┆ 4572647811 ┆ d7fa48d967 ┆ 51297304e7 ┆            ┆        ┆ 10:56:33   ┆ 2         │\n",
       "│ 49136f2d6a ┆ a353c7ac49 ┆ e0e4c94d59 ┆ 6186b10a92 ┆            ┆        ┆            ┆ 10:56:33  │\n",
       "│ f7         ┆ 8a         ┆ d9         ┆ 8d         ┆            ┆        ┆            ┆           │\n",
       "│ 53cdb2fc8b ┆ 595fac2a38 ┆ 289cdb325f ┆ b0830fb474 ┆ 22.76      ┆ 118.7  ┆ 2018-07-24 ┆ 2018-07-2 │\n",
       "│ c7dce0b674 ┆ 5ac33a80bd ┆ b7e7f891c3 ┆ 7a6c6d20de ┆            ┆        ┆ 20:41:37   ┆ 4         │\n",
       "│ 1e21502734 ┆ 5114aec74e ┆ 8608bf9e09 ┆ a0b8c802d7 ┆            ┆        ┆            ┆ 20:41:37  │\n",
       "│ 51         ┆ b8         ┆ 62         ┆ ef         ┆            ┆        ┆            ┆           │\n",
       "│ 47770eb910 ┆ aa4383b373 ┆ 4869f7a5df ┆ 41ce2a54c0 ┆ 19.22      ┆ 159.9  ┆ 2018-08-08 ┆ 2018-08-0 │\n",
       "│ 0c2d0c4494 ┆ c6aca5d879 ┆ a277a7dca6 ┆ b03bf3443c ┆            ┆        ┆ 08:38:49   ┆ 8         │\n",
       "│ 6d9cf07ec6 ┆ 7843e55944 ┆ 462dcf3b52 ┆ 3d931a3670 ┆            ┆        ┆            ┆ 08:38:49  │\n",
       "│ 5d         ┆ 15         ┆ b2         ┆ 89         ┆            ┆        ┆            ┆           │\n",
       "│ …          ┆ …          ┆ …          ┆ …          ┆ …          ┆ …      ┆ …          ┆ …         │\n",
       "│ 63943bddc2 ┆ f1d4ce8c6d ┆ 1f9ab4708f ┆ 1fca14ff28 ┆ 20.1       ┆ 174.9  ┆ 2018-02-06 ┆ 2018-02-0 │\n",
       "│ 61676b46f0 ┆ d66c47bbaa ┆ 3056ede071 ┆ 61355f6e5f ┆            ┆        ┆ 12:58:58   ┆ 6         │\n",
       "│ 1ca7ac2f7b ┆ 8c6781c2a9 ┆ 24aad39a25 ┆ 14306ff977 ┆            ┆        ┆            ┆ 12:58:58  │\n",
       "│ d8         ┆ 23         ┆ 54         ┆ a7         ┆            ┆        ┆            ┆           │\n",
       "│ 83c1379a01 ┆ b80910977a ┆ d50d79cb34 ┆ 1aa71eb042 ┆ 65.02      ┆ 205.99 ┆ 2017-08-27 ┆ 2017-08-2 │\n",
       "│ 5df1e13d02 ┆ 37536adedd ┆ e38265a864 ┆ 121263aafb ┆            ┆        ┆ 14:46:43   ┆ 7         │\n",
       "│ aae0204711 ┆ d63663f916 ┆ 9c383dcffd ┆ e80c1b562c ┆            ┆        ┆            ┆ 14:46:43  │\n",
       "│ ab         ┆ ad         ┆ 48         ┆ 9c         ┆            ┆        ┆            ┆           │\n",
       "│ 11c177c8e9 ┆ d1c427060a ┆ a1043bafd4 ┆ b331b74b18 ┆ 40.59      ┆ 179.99 ┆ 2018-01-08 ┆ 2018-01-0 │\n",
       "│ 7725db2631 ┆ 0f73f6b889 ┆ 71dff536d0 ┆ dc79bcdf65 ┆            ┆        ┆ 21:28:27   ┆ 8         │\n",
       "│ 073c19f07b ┆ a5c7c61f2a ┆ c462352beb ┆ 32d51e1637 ┆            ┆        ┆            ┆ 21:28:27  │\n",
       "│ 62         ┆ c4         ┆ 48         ┆ c1         ┆            ┆        ┆            ┆           │\n",
       "│ 11c177c8e9 ┆ d1c427060a ┆ a1043bafd4 ┆ b331b74b18 ┆ 40.59      ┆ 179.99 ┆ 2018-01-08 ┆ 2018-01-0 │\n",
       "│ 7725db2631 ┆ 0f73f6b889 ┆ 71dff536d0 ┆ dc79bcdf65 ┆            ┆        ┆ 21:28:27   ┆ 8         │\n",
       "│ 073c19f07b ┆ a5c7c61f2a ┆ c462352beb ┆ 32d51e1637 ┆            ┆        ┆            ┆ 21:28:27  │\n",
       "│ 62         ┆ c4         ┆ 48         ┆ c1         ┆            ┆        ┆            ┆           │\n",
       "│ 66dea50a8b ┆ 006619bbed ┆ ececbfcff9 ┆ edb027a75a ┆ 18.36      ┆ 68.5   ┆ 2018-03-08 ┆ 2018-03-0 │\n",
       "│ 16d9b4dee7 ┆ 68b000c8ba ┆ 804a2d6b40 ┆ 1449115f6b ┆            ┆        ┆ 20:57:30   ┆ 8         │\n",
       "│ af250b4be1 ┆ 3f8725d540 ┆ f589df8eef ┆ 43211ae02a ┆            ┆        ┆            ┆ 20:57:30  │\n",
       "│ a5         ┆ 9e         ┆ 2b         ┆ 24         ┆            ┆        ┆            ┆           │\n",
       "└────────────┴────────────┴────────────┴────────────┴────────────┴────────┴────────────┴───────────┘"
      ]
     },
     "execution_count": 15,
     "metadata": {},
     "output_type": "execute_result"
    }
   ],
   "source": [
    "purchased_events = order_events.select(\n",
    "    \"order_id\",\n",
    "    \"product_id\",\n",
    "    \"seller_id\",\n",
    "    \"customer_id\",\n",
    "    \"freight_value\",\n",
    "    \"price\",\n",
    "    timestamp=\"order_purchase_timestamp\",\n",
    "    purchased_timestamp=\"order_purchase_timestamp\",\n",
    ")\n",
    "\n",
    "purchased_events"
   ]
  },
  {
   "cell_type": "code",
   "execution_count": 36,
   "id": "6ca13c2e-8f51-483c-96af-c387a0069227",
   "metadata": {},
   "outputs": [
    {
     "data": {
      "text/html": [
       "<div><style>\n",
       ".dataframe > thead > tr,\n",
       ".dataframe > tbody > tr {\n",
       "  text-align: right;\n",
       "  white-space: pre-wrap;\n",
       "}\n",
       "</style>\n",
       "<small>shape: (118_434, 7)</small><table border=\"1\" class=\"dataframe\"><thead><tr><th>order_id</th><th>payment_type</th><th>payment_value</th><th>payment_sequential</th><th>payment_installments</th><th>timestamp</th><th>purchased_timestamp</th></tr><tr><td>str</td><td>str</td><td>f64</td><td>i64</td><td>i64</td><td>datetime[μs]</td><td>datetime[μs]</td></tr></thead><tbody><tr><td>&quot;e481f51cbdc54678b7cc49136f2d6a…</td><td>&quot;credit_card&quot;</td><td>18.12</td><td>1</td><td>1</td><td>2017-10-02 11:07:15</td><td>2017-10-02 10:56:33</td></tr><tr><td>&quot;e481f51cbdc54678b7cc49136f2d6a…</td><td>&quot;voucher&quot;</td><td>2.0</td><td>3</td><td>1</td><td>2017-10-02 11:07:15</td><td>2017-10-02 10:56:33</td></tr><tr><td>&quot;e481f51cbdc54678b7cc49136f2d6a…</td><td>&quot;voucher&quot;</td><td>18.59</td><td>2</td><td>1</td><td>2017-10-02 11:07:15</td><td>2017-10-02 10:56:33</td></tr><tr><td>&quot;53cdb2fc8bc7dce0b6741e21502734…</td><td>&quot;boleto&quot;</td><td>141.46</td><td>1</td><td>1</td><td>2018-07-26 03:24:27</td><td>2018-07-24 20:41:37</td></tr><tr><td>&quot;47770eb9100c2d0c44946d9cf07ec6…</td><td>&quot;credit_card&quot;</td><td>179.12</td><td>1</td><td>3</td><td>2018-08-08 08:55:23</td><td>2018-08-08 08:38:49</td></tr><tr><td>&hellip;</td><td>&hellip;</td><td>&hellip;</td><td>&hellip;</td><td>&hellip;</td><td>&hellip;</td><td>&hellip;</td></tr><tr><td>&quot;63943bddc261676b46f01ca7ac2f7b…</td><td>&quot;credit_card&quot;</td><td>195.0</td><td>1</td><td>3</td><td>2018-02-06 13:10:37</td><td>2018-02-06 12:58:58</td></tr><tr><td>&quot;83c1379a015df1e13d02aae0204711…</td><td>&quot;credit_card&quot;</td><td>271.01</td><td>1</td><td>5</td><td>2017-08-27 15:04:16</td><td>2017-08-27 14:46:43</td></tr><tr><td>&quot;11c177c8e97725db2631073c19f07b…</td><td>&quot;credit_card&quot;</td><td>441.16</td><td>1</td><td>4</td><td>2018-01-08 21:36:21</td><td>2018-01-08 21:28:27</td></tr><tr><td>&quot;11c177c8e97725db2631073c19f07b…</td><td>&quot;credit_card&quot;</td><td>441.16</td><td>1</td><td>4</td><td>2018-01-08 21:36:21</td><td>2018-01-08 21:28:27</td></tr><tr><td>&quot;66dea50a8b16d9b4dee7af250b4be1…</td><td>&quot;debit_card&quot;</td><td>86.86</td><td>1</td><td>1</td><td>2018-03-09 11:20:28</td><td>2018-03-08 20:57:30</td></tr></tbody></table></div>"
      ],
      "text/plain": [
       "shape: (118_434, 7)\n",
       "┌──────────────┬─────────────┬─────────────┬─────────────┬─────────────┬─────────────┬─────────────┐\n",
       "│ order_id     ┆ payment_typ ┆ payment_val ┆ payment_seq ┆ payment_ins ┆ timestamp   ┆ purchased_t │\n",
       "│ ---          ┆ e           ┆ ue          ┆ uential     ┆ tallments   ┆ ---         ┆ imestamp    │\n",
       "│ str          ┆ ---         ┆ ---         ┆ ---         ┆ ---         ┆ datetime[μs ┆ ---         │\n",
       "│              ┆ str         ┆ f64         ┆ i64         ┆ i64         ┆ ]           ┆ datetime[μs │\n",
       "│              ┆             ┆             ┆             ┆             ┆             ┆ ]           │\n",
       "╞══════════════╪═════════════╪═════════════╪═════════════╪═════════════╪═════════════╪═════════════╡\n",
       "│ e481f51cbdc5 ┆ credit_card ┆ 18.12       ┆ 1           ┆ 1           ┆ 2017-10-02  ┆ 2017-10-02  │\n",
       "│ 4678b7cc4913 ┆             ┆             ┆             ┆             ┆ 11:07:15    ┆ 10:56:33    │\n",
       "│ 6f2d6a…      ┆             ┆             ┆             ┆             ┆             ┆             │\n",
       "│ e481f51cbdc5 ┆ voucher     ┆ 2.0         ┆ 3           ┆ 1           ┆ 2017-10-02  ┆ 2017-10-02  │\n",
       "│ 4678b7cc4913 ┆             ┆             ┆             ┆             ┆ 11:07:15    ┆ 10:56:33    │\n",
       "│ 6f2d6a…      ┆             ┆             ┆             ┆             ┆             ┆             │\n",
       "│ e481f51cbdc5 ┆ voucher     ┆ 18.59       ┆ 2           ┆ 1           ┆ 2017-10-02  ┆ 2017-10-02  │\n",
       "│ 4678b7cc4913 ┆             ┆             ┆             ┆             ┆ 11:07:15    ┆ 10:56:33    │\n",
       "│ 6f2d6a…      ┆             ┆             ┆             ┆             ┆             ┆             │\n",
       "│ 53cdb2fc8bc7 ┆ boleto      ┆ 141.46      ┆ 1           ┆ 1           ┆ 2018-07-26  ┆ 2018-07-24  │\n",
       "│ dce0b6741e21 ┆             ┆             ┆             ┆             ┆ 03:24:27    ┆ 20:41:37    │\n",
       "│ 502734…      ┆             ┆             ┆             ┆             ┆             ┆             │\n",
       "│ 47770eb9100c ┆ credit_card ┆ 179.12      ┆ 1           ┆ 3           ┆ 2018-08-08  ┆ 2018-08-08  │\n",
       "│ 2d0c44946d9c ┆             ┆             ┆             ┆             ┆ 08:55:23    ┆ 08:38:49    │\n",
       "│ f07ec6…      ┆             ┆             ┆             ┆             ┆             ┆             │\n",
       "│ …            ┆ …           ┆ …           ┆ …           ┆ …           ┆ …           ┆ …           │\n",
       "│ 63943bddc261 ┆ credit_card ┆ 195.0       ┆ 1           ┆ 3           ┆ 2018-02-06  ┆ 2018-02-06  │\n",
       "│ 676b46f01ca7 ┆             ┆             ┆             ┆             ┆ 13:10:37    ┆ 12:58:58    │\n",
       "│ ac2f7b…      ┆             ┆             ┆             ┆             ┆             ┆             │\n",
       "│ 83c1379a015d ┆ credit_card ┆ 271.01      ┆ 1           ┆ 5           ┆ 2017-08-27  ┆ 2017-08-27  │\n",
       "│ f1e13d02aae0 ┆             ┆             ┆             ┆             ┆ 15:04:16    ┆ 14:46:43    │\n",
       "│ 204711…      ┆             ┆             ┆             ┆             ┆             ┆             │\n",
       "│ 11c177c8e977 ┆ credit_card ┆ 441.16      ┆ 1           ┆ 4           ┆ 2018-01-08  ┆ 2018-01-08  │\n",
       "│ 25db2631073c ┆             ┆             ┆             ┆             ┆ 21:36:21    ┆ 21:28:27    │\n",
       "│ 19f07b…      ┆             ┆             ┆             ┆             ┆             ┆             │\n",
       "│ 11c177c8e977 ┆ credit_card ┆ 441.16      ┆ 1           ┆ 4           ┆ 2018-01-08  ┆ 2018-01-08  │\n",
       "│ 25db2631073c ┆             ┆             ┆             ┆             ┆ 21:36:21    ┆ 21:28:27    │\n",
       "│ 19f07b…      ┆             ┆             ┆             ┆             ┆             ┆             │\n",
       "│ 66dea50a8b16 ┆ debit_card  ┆ 86.86       ┆ 1           ┆ 1           ┆ 2018-03-09  ┆ 2018-03-08  │\n",
       "│ d9b4dee7af25 ┆             ┆             ┆             ┆             ┆ 11:20:28    ┆ 20:57:30    │\n",
       "│ 0b4be1…      ┆             ┆             ┆             ┆             ┆             ┆             │\n",
       "└──────────────┴─────────────┴─────────────┴─────────────┴─────────────┴─────────────┴─────────────┘"
      ]
     },
     "execution_count": 36,
     "metadata": {},
     "output_type": "execute_result"
    }
   ],
   "source": [
    "approved_events = order_events.select(\n",
    "    \"order_id\",\n",
    "    \"payment_type\",\n",
    "    \"payment_value\",\n",
    "    \"payment_sequential\",\n",
    "    \"payment_installments\",\n",
    "    timestamp=\"order_approved_at\",\n",
    "    purchased_timestamp=\"order_purchase_timestamp\",\n",
    ")\n",
    "approved_events"
   ]
  },
  {
   "cell_type": "code",
   "execution_count": 37,
   "id": "5e6fa435-6be1-41fa-a313-36894c8da6f2",
   "metadata": {},
   "outputs": [
    {
     "data": {
      "text/html": [
       "<div><style>\n",
       ".dataframe > thead > tr,\n",
       ".dataframe > tbody > tr {\n",
       "  text-align: right;\n",
       "  white-space: pre-wrap;\n",
       "}\n",
       "</style>\n",
       "<small>shape: (118_434, 3)</small><table border=\"1\" class=\"dataframe\"><thead><tr><th>order_id</th><th>timestamp</th><th>purchased_timestamp</th></tr><tr><td>str</td><td>datetime[μs]</td><td>datetime[μs]</td></tr></thead><tbody><tr><td>&quot;e481f51cbdc54678b7cc49136f2d6a…</td><td>2017-10-04 19:55:00</td><td>2017-10-02 10:56:33</td></tr><tr><td>&quot;e481f51cbdc54678b7cc49136f2d6a…</td><td>2017-10-04 19:55:00</td><td>2017-10-02 10:56:33</td></tr><tr><td>&quot;e481f51cbdc54678b7cc49136f2d6a…</td><td>2017-10-04 19:55:00</td><td>2017-10-02 10:56:33</td></tr><tr><td>&quot;53cdb2fc8bc7dce0b6741e21502734…</td><td>2018-07-26 14:31:00</td><td>2018-07-24 20:41:37</td></tr><tr><td>&quot;47770eb9100c2d0c44946d9cf07ec6…</td><td>2018-08-08 13:50:00</td><td>2018-08-08 08:38:49</td></tr><tr><td>&hellip;</td><td>&hellip;</td><td>&hellip;</td></tr><tr><td>&quot;63943bddc261676b46f01ca7ac2f7b…</td><td>2018-02-07 23:22:42</td><td>2018-02-06 12:58:58</td></tr><tr><td>&quot;83c1379a015df1e13d02aae0204711…</td><td>2017-08-28 20:52:26</td><td>2017-08-27 14:46:43</td></tr><tr><td>&quot;11c177c8e97725db2631073c19f07b…</td><td>2018-01-12 15:35:03</td><td>2018-01-08 21:28:27</td></tr><tr><td>&quot;11c177c8e97725db2631073c19f07b…</td><td>2018-01-12 15:35:03</td><td>2018-01-08 21:28:27</td></tr><tr><td>&quot;66dea50a8b16d9b4dee7af250b4be1…</td><td>2018-03-09 22:11:59</td><td>2018-03-08 20:57:30</td></tr></tbody></table></div>"
      ],
      "text/plain": [
       "shape: (118_434, 3)\n",
       "┌─────────────────────────────────┬─────────────────────┬─────────────────────┐\n",
       "│ order_id                        ┆ timestamp           ┆ purchased_timestamp │\n",
       "│ ---                             ┆ ---                 ┆ ---                 │\n",
       "│ str                             ┆ datetime[μs]        ┆ datetime[μs]        │\n",
       "╞═════════════════════════════════╪═════════════════════╪═════════════════════╡\n",
       "│ e481f51cbdc54678b7cc49136f2d6a… ┆ 2017-10-04 19:55:00 ┆ 2017-10-02 10:56:33 │\n",
       "│ e481f51cbdc54678b7cc49136f2d6a… ┆ 2017-10-04 19:55:00 ┆ 2017-10-02 10:56:33 │\n",
       "│ e481f51cbdc54678b7cc49136f2d6a… ┆ 2017-10-04 19:55:00 ┆ 2017-10-02 10:56:33 │\n",
       "│ 53cdb2fc8bc7dce0b6741e21502734… ┆ 2018-07-26 14:31:00 ┆ 2018-07-24 20:41:37 │\n",
       "│ 47770eb9100c2d0c44946d9cf07ec6… ┆ 2018-08-08 13:50:00 ┆ 2018-08-08 08:38:49 │\n",
       "│ …                               ┆ …                   ┆ …                   │\n",
       "│ 63943bddc261676b46f01ca7ac2f7b… ┆ 2018-02-07 23:22:42 ┆ 2018-02-06 12:58:58 │\n",
       "│ 83c1379a015df1e13d02aae0204711… ┆ 2017-08-28 20:52:26 ┆ 2017-08-27 14:46:43 │\n",
       "│ 11c177c8e97725db2631073c19f07b… ┆ 2018-01-12 15:35:03 ┆ 2018-01-08 21:28:27 │\n",
       "│ 11c177c8e97725db2631073c19f07b… ┆ 2018-01-12 15:35:03 ┆ 2018-01-08 21:28:27 │\n",
       "│ 66dea50a8b16d9b4dee7af250b4be1… ┆ 2018-03-09 22:11:59 ┆ 2018-03-08 20:57:30 │\n",
       "└─────────────────────────────────┴─────────────────────┴─────────────────────┘"
      ]
     },
     "execution_count": 37,
     "metadata": {},
     "output_type": "execute_result"
    }
   ],
   "source": [
    "delivered_carrier_events = order_events.select(\n",
    "    \"order_id\",\n",
    "    timestamp=\"order_delivered_carrier_date\",\n",
    "    purchased_timestamp=\"order_purchase_timestamp\",\n",
    ")\n",
    "delivered_carrier_events"
   ]
  },
  {
   "cell_type": "code",
   "execution_count": 38,
   "id": "d76779e2-38d0-4108-9f67-9945f99620a5",
   "metadata": {},
   "outputs": [
    {
     "data": {
      "text/html": [
       "<div><style>\n",
       ".dataframe > thead > tr,\n",
       ".dataframe > tbody > tr {\n",
       "  text-align: right;\n",
       "  white-space: pre-wrap;\n",
       "}\n",
       "</style>\n",
       "<small>shape: (118_434, 3)</small><table border=\"1\" class=\"dataframe\"><thead><tr><th>order_id</th><th>timestamp</th><th>purchased_timestamp</th></tr><tr><td>str</td><td>datetime[μs]</td><td>datetime[μs]</td></tr></thead><tbody><tr><td>&quot;e481f51cbdc54678b7cc49136f2d6a…</td><td>2017-10-10 21:25:13</td><td>2017-10-02 10:56:33</td></tr><tr><td>&quot;e481f51cbdc54678b7cc49136f2d6a…</td><td>2017-10-10 21:25:13</td><td>2017-10-02 10:56:33</td></tr><tr><td>&quot;e481f51cbdc54678b7cc49136f2d6a…</td><td>2017-10-10 21:25:13</td><td>2017-10-02 10:56:33</td></tr><tr><td>&quot;53cdb2fc8bc7dce0b6741e21502734…</td><td>2018-08-07 15:27:45</td><td>2018-07-24 20:41:37</td></tr><tr><td>&quot;47770eb9100c2d0c44946d9cf07ec6…</td><td>2018-08-17 18:06:29</td><td>2018-08-08 08:38:49</td></tr><tr><td>&hellip;</td><td>&hellip;</td><td>&hellip;</td></tr><tr><td>&quot;63943bddc261676b46f01ca7ac2f7b…</td><td>2018-02-28 17:37:56</td><td>2018-02-06 12:58:58</td></tr><tr><td>&quot;83c1379a015df1e13d02aae0204711…</td><td>2017-09-21 11:24:17</td><td>2017-08-27 14:46:43</td></tr><tr><td>&quot;11c177c8e97725db2631073c19f07b…</td><td>2018-01-25 23:32:54</td><td>2018-01-08 21:28:27</td></tr><tr><td>&quot;11c177c8e97725db2631073c19f07b…</td><td>2018-01-25 23:32:54</td><td>2018-01-08 21:28:27</td></tr><tr><td>&quot;66dea50a8b16d9b4dee7af250b4be1…</td><td>2018-03-16 13:08:30</td><td>2018-03-08 20:57:30</td></tr></tbody></table></div>"
      ],
      "text/plain": [
       "shape: (118_434, 3)\n",
       "┌─────────────────────────────────┬─────────────────────┬─────────────────────┐\n",
       "│ order_id                        ┆ timestamp           ┆ purchased_timestamp │\n",
       "│ ---                             ┆ ---                 ┆ ---                 │\n",
       "│ str                             ┆ datetime[μs]        ┆ datetime[μs]        │\n",
       "╞═════════════════════════════════╪═════════════════════╪═════════════════════╡\n",
       "│ e481f51cbdc54678b7cc49136f2d6a… ┆ 2017-10-10 21:25:13 ┆ 2017-10-02 10:56:33 │\n",
       "│ e481f51cbdc54678b7cc49136f2d6a… ┆ 2017-10-10 21:25:13 ┆ 2017-10-02 10:56:33 │\n",
       "│ e481f51cbdc54678b7cc49136f2d6a… ┆ 2017-10-10 21:25:13 ┆ 2017-10-02 10:56:33 │\n",
       "│ 53cdb2fc8bc7dce0b6741e21502734… ┆ 2018-08-07 15:27:45 ┆ 2018-07-24 20:41:37 │\n",
       "│ 47770eb9100c2d0c44946d9cf07ec6… ┆ 2018-08-17 18:06:29 ┆ 2018-08-08 08:38:49 │\n",
       "│ …                               ┆ …                   ┆ …                   │\n",
       "│ 63943bddc261676b46f01ca7ac2f7b… ┆ 2018-02-28 17:37:56 ┆ 2018-02-06 12:58:58 │\n",
       "│ 83c1379a015df1e13d02aae0204711… ┆ 2017-09-21 11:24:17 ┆ 2017-08-27 14:46:43 │\n",
       "│ 11c177c8e97725db2631073c19f07b… ┆ 2018-01-25 23:32:54 ┆ 2018-01-08 21:28:27 │\n",
       "│ 11c177c8e97725db2631073c19f07b… ┆ 2018-01-25 23:32:54 ┆ 2018-01-08 21:28:27 │\n",
       "│ 66dea50a8b16d9b4dee7af250b4be1… ┆ 2018-03-16 13:08:30 ┆ 2018-03-08 20:57:30 │\n",
       "└─────────────────────────────────┴─────────────────────┴─────────────────────┘"
      ]
     },
     "execution_count": 38,
     "metadata": {},
     "output_type": "execute_result"
    }
   ],
   "source": [
    "delivered_customer_events = order_events.select(\n",
    "    \"order_id\",\n",
    "    timestamp=\"order_delivered_customer_date\",\n",
    "    purchased_timestamp=\"order_purchase_timestamp\",\n",
    ")\n",
    "delivered_customer_events"
   ]
  },
  {
   "cell_type": "code",
   "execution_count": 16,
   "id": "c3a6171e-1d21-4b24-b9e4-dae19077acec",
   "metadata": {},
   "outputs": [
    {
     "data": {
      "text/html": [
       "<div><style>\n",
       ".dataframe > thead > tr,\n",
       ".dataframe > tbody > tr {\n",
       "  text-align: right;\n",
       "  white-space: pre-wrap;\n",
       "}\n",
       "</style>\n",
       "<small>shape: (1_017, 8)</small><table border=\"1\" class=\"dataframe\"><thead><tr><th>order_id</th><th>product_id</th><th>seller_id</th><th>customer_id</th><th>freight_value</th><th>price</th><th>timestamp</th><th>purchased_timestamp</th></tr><tr><td>str</td><td>str</td><td>str</td><td>str</td><td>f64</td><td>f64</td><td>datetime[μs]</td><td>datetime[μs]</td></tr></thead><tbody><tr><td>&quot;76c6e866289321a7c93b82b54852dc33&quot;</td><td>&quot;ac1789e492dcd698c5c10b97a671243a&quot;</td><td>&quot;63b9ae557efed31d1f7687917d248a8d&quot;</td><td>&quot;f54a9f0e6b351c431402b8461ea51999&quot;</td><td>16.05</td><td>19.9</td><td>2017-01-23 18:29:09</td><td>2017-01-23 18:29:09</td></tr><tr><td>&quot;a6cd683d4bd3b9b1f0aa37b27f8116d3&quot;</td><td>&quot;721b56b7d205d6750e97716593bcb370&quot;</td><td>&quot;5c243662ce92d84573bfaff24c3e3700&quot;</td><td>&quot;48f239e15744ed5e7ffbafc6bb6e882b&quot;</td><td>20.0</td><td>589.9</td><td>2017-01-28 23:45:53</td><td>2017-01-28 23:45:53</td></tr><tr><td>&quot;f175d67589e059cbbda956f10f0702e6&quot;</td><td>&quot;d8c365a069853295a82caf595c2c8c8d&quot;</td><td>&quot;48efc9d94a9834137efd9ea76b065a38&quot;</td><td>&quot;a4555d257db29ef5f838cec4101c5208&quot;</td><td>8.72</td><td>9.9</td><td>2017-01-05 13:34:35</td><td>2017-01-05 13:34:35</td></tr><tr><td>&quot;bd2623f3663c5daa3f89e6b527fd49da&quot;</td><td>&quot;6d59a3fe3140425fb175cdd1e688dc2e&quot;</td><td>&quot;cca3071e3e9bb7d12640c9fbe2301306&quot;</td><td>&quot;b7b15ab12fa50616eee696a22f098e07&quot;</td><td>10.96</td><td>29.9</td><td>2017-01-21 17:08:01</td><td>2017-01-21 17:08:01</td></tr><tr><td>&quot;3440f090efa1949bc4e9ebd0b89b2b6c&quot;</td><td>&quot;0c3256090b6cc52703b152c874827cd7&quot;</td><td>&quot;3985a3c45be355a4c57fde108bfabd1c&quot;</td><td>&quot;2acac3dfe4fa0e75b07461873a67e7e6&quot;</td><td>29.55</td><td>39.9</td><td>2017-01-27 00:34:10</td><td>2017-01-27 00:34:10</td></tr><tr><td>&hellip;</td><td>&hellip;</td><td>&hellip;</td><td>&hellip;</td><td>&hellip;</td><td>&hellip;</td><td>&hellip;</td><td>&hellip;</td></tr><tr><td>&quot;469f0b908881368c45917f1bed8240ce&quot;</td><td>&quot;f422d0d9f8b5f7c27289382b14b61248&quot;</td><td>&quot;1554a68530182680ad5c8b042c3ab563&quot;</td><td>&quot;59e4d7310198da197337571749b47ff2&quot;</td><td>17.21</td><td>66.99</td><td>2017-01-24 21:35:25</td><td>2017-01-24 21:35:25</td></tr><tr><td>&quot;fd930246eb1c751ee75add493e49ea34&quot;</td><td>&quot;a2a90c1a0501c5148928da33b033dee8&quot;</td><td>&quot;3d39fbf22a665714baf62fae36029e23&quot;</td><td>&quot;3422a239d7c7bf95b72216d779a28de6&quot;</td><td>17.26</td><td>59.9</td><td>2017-01-14 21:28:46</td><td>2017-01-14 21:28:46</td></tr><tr><td>&quot;9058bc799c3791077efb3aaa8e0d5e02&quot;</td><td>&quot;a6f74de3ddfbdc9b33885b92656f992b&quot;</td><td>&quot;0ea22c1cfbdc755f86b9b54b39c16043&quot;</td><td>&quot;3fb83e207757e8f15ff70d937c86929b&quot;</td><td>11.17</td><td>79.9</td><td>2017-01-24 09:24:11</td><td>2017-01-24 09:24:11</td></tr><tr><td>&quot;aa04ef5214580b06b10e2a378300db44&quot;</td><td>&quot;9fc063fd34fed29ccc57b7f8e8d03388&quot;</td><td>&quot;ccc4bbb5f32a6ab2b7066a4130f114e3&quot;</td><td>&quot;f01a6bfcc730456317e4081fe0c9940e&quot;</td><td>19.43</td><td>370.0</td><td>2017-01-27 00:30:03</td><td>2017-01-27 00:30:03</td></tr><tr><td>&quot;aa04ef5214580b06b10e2a378300db44&quot;</td><td>&quot;9fc063fd34fed29ccc57b7f8e8d03388&quot;</td><td>&quot;ccc4bbb5f32a6ab2b7066a4130f114e3&quot;</td><td>&quot;f01a6bfcc730456317e4081fe0c9940e&quot;</td><td>19.43</td><td>370.0</td><td>2017-01-27 00:30:03</td><td>2017-01-27 00:30:03</td></tr></tbody></table></div>"
      ],
      "text/plain": [
       "shape: (1_017, 8)\n",
       "┌────────────┬────────────┬────────────┬────────────┬────────────┬───────┬────────────┬────────────┐\n",
       "│ order_id   ┆ product_id ┆ seller_id  ┆ customer_i ┆ freight_va ┆ price ┆ timestamp  ┆ purchased_ │\n",
       "│ ---        ┆ ---        ┆ ---        ┆ d          ┆ lue        ┆ ---   ┆ ---        ┆ timestamp  │\n",
       "│ str        ┆ str        ┆ str        ┆ ---        ┆ ---        ┆ f64   ┆ datetime[μ ┆ ---        │\n",
       "│            ┆            ┆            ┆ str        ┆ f64        ┆       ┆ s]         ┆ datetime[μ │\n",
       "│            ┆            ┆            ┆            ┆            ┆       ┆            ┆ s]         │\n",
       "╞════════════╪════════════╪════════════╪════════════╪════════════╪═══════╪════════════╪════════════╡\n",
       "│ 76c6e86628 ┆ ac1789e492 ┆ 63b9ae557e ┆ f54a9f0e6b ┆ 16.05      ┆ 19.9  ┆ 2017-01-23 ┆ 2017-01-23 │\n",
       "│ 9321a7c93b ┆ dcd698c5c1 ┆ fed31d1f76 ┆ 351c431402 ┆            ┆       ┆ 18:29:09   ┆ 18:29:09   │\n",
       "│ 82b54852dc ┆ 0b97a67124 ┆ 87917d248a ┆ b8461ea519 ┆            ┆       ┆            ┆            │\n",
       "│ 33         ┆ 3a         ┆ 8d         ┆ 99         ┆            ┆       ┆            ┆            │\n",
       "│ a6cd683d4b ┆ 721b56b7d2 ┆ 5c243662ce ┆ 48f239e157 ┆ 20.0       ┆ 589.9 ┆ 2017-01-28 ┆ 2017-01-28 │\n",
       "│ d3b9b1f0aa ┆ 05d6750e97 ┆ 92d84573bf ┆ 44ed5e7ffb ┆            ┆       ┆ 23:45:53   ┆ 23:45:53   │\n",
       "│ 37b27f8116 ┆ 716593bcb3 ┆ aff24c3e37 ┆ afc6bb6e88 ┆            ┆       ┆            ┆            │\n",
       "│ d3         ┆ 70         ┆ 00         ┆ 2b         ┆            ┆       ┆            ┆            │\n",
       "│ f175d67589 ┆ d8c365a069 ┆ 48efc9d94a ┆ a4555d257d ┆ 8.72       ┆ 9.9   ┆ 2017-01-05 ┆ 2017-01-05 │\n",
       "│ e059cbbda9 ┆ 853295a82c ┆ 9834137efd ┆ b29ef5f838 ┆            ┆       ┆ 13:34:35   ┆ 13:34:35   │\n",
       "│ 56f10f0702 ┆ af595c2c8c ┆ 9ea76b065a ┆ cec4101c52 ┆            ┆       ┆            ┆            │\n",
       "│ e6         ┆ 8d         ┆ 38         ┆ 08         ┆            ┆       ┆            ┆            │\n",
       "│ bd2623f366 ┆ 6d59a3fe31 ┆ cca3071e3e ┆ b7b15ab12f ┆ 10.96      ┆ 29.9  ┆ 2017-01-21 ┆ 2017-01-21 │\n",
       "│ 3c5daa3f89 ┆ 40425fb175 ┆ 9bb7d12640 ┆ a50616eee6 ┆            ┆       ┆ 17:08:01   ┆ 17:08:01   │\n",
       "│ e6b527fd49 ┆ cdd1e688dc ┆ c9fbe23013 ┆ 96a22f098e ┆            ┆       ┆            ┆            │\n",
       "│ da         ┆ 2e         ┆ 06         ┆ 07         ┆            ┆       ┆            ┆            │\n",
       "│ 3440f090ef ┆ 0c3256090b ┆ 3985a3c45b ┆ 2acac3dfe4 ┆ 29.55      ┆ 39.9  ┆ 2017-01-27 ┆ 2017-01-27 │\n",
       "│ a1949bc4e9 ┆ 6cc52703b1 ┆ e355a4c57f ┆ fa0e75b074 ┆            ┆       ┆ 00:34:10   ┆ 00:34:10   │\n",
       "│ ebd0b89b2b ┆ 52c874827c ┆ de108bfabd ┆ 61873a67e7 ┆            ┆       ┆            ┆            │\n",
       "│ 6c         ┆ d7         ┆ 1c         ┆ e6         ┆            ┆       ┆            ┆            │\n",
       "│ …          ┆ …          ┆ …          ┆ …          ┆ …          ┆ …     ┆ …          ┆ …          │\n",
       "│ 469f0b9088 ┆ f422d0d9f8 ┆ 1554a68530 ┆ 59e4d73101 ┆ 17.21      ┆ 66.99 ┆ 2017-01-24 ┆ 2017-01-24 │\n",
       "│ 81368c4591 ┆ b5f7c27289 ┆ 182680ad5c ┆ 98da197337 ┆            ┆       ┆ 21:35:25   ┆ 21:35:25   │\n",
       "│ 7f1bed8240 ┆ 382b14b612 ┆ 8b042c3ab5 ┆ 571749b47f ┆            ┆       ┆            ┆            │\n",
       "│ ce         ┆ 48         ┆ 63         ┆ f2         ┆            ┆       ┆            ┆            │\n",
       "│ fd930246eb ┆ a2a90c1a05 ┆ 3d39fbf22a ┆ 3422a239d7 ┆ 17.26      ┆ 59.9  ┆ 2017-01-14 ┆ 2017-01-14 │\n",
       "│ 1c751ee75a ┆ 01c5148928 ┆ 665714baf6 ┆ c7bf95b722 ┆            ┆       ┆ 21:28:46   ┆ 21:28:46   │\n",
       "│ dd493e49ea ┆ da33b033de ┆ 2fae36029e ┆ 16d779a28d ┆            ┆       ┆            ┆            │\n",
       "│ 34         ┆ e8         ┆ 23         ┆ e6         ┆            ┆       ┆            ┆            │\n",
       "│ 9058bc799c ┆ a6f74de3dd ┆ 0ea22c1cfb ┆ 3fb83e2077 ┆ 11.17      ┆ 79.9  ┆ 2017-01-24 ┆ 2017-01-24 │\n",
       "│ 3791077efb ┆ fbdc9b3388 ┆ dc755f86b9 ┆ 57e8f15ff7 ┆            ┆       ┆ 09:24:11   ┆ 09:24:11   │\n",
       "│ 3aaa8e0d5e ┆ 5b92656f99 ┆ b54b39c160 ┆ 0d937c8692 ┆            ┆       ┆            ┆            │\n",
       "│ 02         ┆ 2b         ┆ 43         ┆ 9b         ┆            ┆       ┆            ┆            │\n",
       "│ aa04ef5214 ┆ 9fc063fd34 ┆ ccc4bbb5f3 ┆ f01a6bfcc7 ┆ 19.43      ┆ 370.0 ┆ 2017-01-27 ┆ 2017-01-27 │\n",
       "│ 580b06b10e ┆ fed29ccc57 ┆ 2a6ab2b706 ┆ 30456317e4 ┆            ┆       ┆ 00:30:03   ┆ 00:30:03   │\n",
       "│ 2a378300db ┆ b7f8e8d033 ┆ 6a4130f114 ┆ 081fe0c994 ┆            ┆       ┆            ┆            │\n",
       "│ 44         ┆ 88         ┆ e3         ┆ 0e         ┆            ┆       ┆            ┆            │\n",
       "│ aa04ef5214 ┆ 9fc063fd34 ┆ ccc4bbb5f3 ┆ f01a6bfcc7 ┆ 19.43      ┆ 370.0 ┆ 2017-01-27 ┆ 2017-01-27 │\n",
       "│ 580b06b10e ┆ fed29ccc57 ┆ 2a6ab2b706 ┆ 30456317e4 ┆            ┆       ┆ 00:30:03   ┆ 00:30:03   │\n",
       "│ 2a378300db ┆ b7f8e8d033 ┆ 6a4130f114 ┆ 081fe0c994 ┆            ┆       ┆            ┆            │\n",
       "│ 44         ┆ 88         ┆ e3         ┆ 0e         ┆            ┆       ┆            ┆            │\n",
       "└────────────┴────────────┴────────────┴────────────┴────────────┴───────┴────────────┴────────────┘"
      ]
     },
     "execution_count": 16,
     "metadata": {},
     "output_type": "execute_result"
    }
   ],
   "source": [
    "purchased_events_jan = purchased_events.filter(\n",
    "    pl.col(\"timestamp\").dt.year() == 2017,\n",
    "    pl.col(\"timestamp\").dt.month() == 1,\n",
    ")\n",
    "\n",
    "purchased_events_jan"
   ]
  },
  {
   "cell_type": "code",
   "execution_count": 147,
   "id": "4bb0a6d3-95ff-45bc-99a2-3e475aeaa3eb",
   "metadata": {},
   "outputs": [
    {
     "data": {
      "text/html": [
       "<div><style>\n",
       ".dataframe > thead > tr,\n",
       ".dataframe > tbody > tr {\n",
       "  text-align: right;\n",
       "  white-space: pre-wrap;\n",
       "}\n",
       "</style>\n",
       "<small>shape: (9, 6)</small><table border=\"1\" class=\"dataframe\"><thead><tr><th>statistic</th><th>timestamp</th><th>purchased_timestamp</th><th>min_timestamp</th><th>duration</th><th>ttl</th></tr><tr><td>str</td><td>str</td><td>str</td><td>str</td><td>str</td><td>f64</td></tr></thead><tbody><tr><td>&quot;count&quot;</td><td>&quot;1017&quot;</td><td>&quot;1017&quot;</td><td>&quot;1017&quot;</td><td>&quot;1017&quot;</td><td>1017.0</td></tr><tr><td>&quot;null_count&quot;</td><td>&quot;0&quot;</td><td>&quot;0&quot;</td><td>&quot;0&quot;</td><td>&quot;0&quot;</td><td>0.0</td></tr><tr><td>&quot;mean&quot;</td><td>&quot;2017-01-23 09:55:02.811209&quot;</td><td>&quot;2017-01-23 09:55:02.811209&quot;</td><td>&quot;2017-01-05 11:56:06&quot;</td><td>&quot;17 days, 21:58:56.811209&quot;</td><td>1074.956119</td></tr><tr><td>&quot;std&quot;</td><td>null</td><td>null</td><td>null</td><td>null</td><td>399.262681</td></tr><tr><td>&quot;min&quot;</td><td>&quot;2017-01-05 11:56:06&quot;</td><td>&quot;2017-01-05 11:56:06&quot;</td><td>&quot;2017-01-05 11:56:06&quot;</td><td>&quot;0:00:00&quot;</td><td>0.0</td></tr><tr><td>&quot;25%&quot;</td><td>&quot;2017-01-19 08:57:04&quot;</td><td>&quot;2017-01-19 08:57:04&quot;</td><td>&quot;2017-01-05 11:56:06&quot;</td><td>&quot;13 days, 21:00:58&quot;</td><td>832.540278</td></tr><tr><td>&quot;50%&quot;</td><td>&quot;2017-01-25 01:26:40&quot;</td><td>&quot;2017-01-25 01:26:40&quot;</td><td>&quot;2017-01-05 11:56:06&quot;</td><td>&quot;19 days, 13:30:34&quot;</td><td>1173.773611</td></tr><tr><td>&quot;75%&quot;</td><td>&quot;2017-01-28 13:17:57&quot;</td><td>&quot;2017-01-28 13:17:57&quot;</td><td>&quot;2017-01-05 11:56:06&quot;</td><td>&quot;23 days, 1:21:51&quot;</td><td>1383.410417</td></tr><tr><td>&quot;max&quot;</td><td>&quot;2017-01-31 23:37:58&quot;</td><td>&quot;2017-01-31 23:37:58&quot;</td><td>&quot;2017-01-05 11:56:06&quot;</td><td>&quot;26 days, 11:41:52&quot;</td><td>1589.244444</td></tr></tbody></table></div>"
      ],
      "text/plain": [
       "shape: (9, 6)\n",
       "┌────────────┬─────────────────┬─────────────────┬─────────────────┬─────────────────┬─────────────┐\n",
       "│ statistic  ┆ timestamp       ┆ purchased_times ┆ min_timestamp   ┆ duration        ┆ ttl         │\n",
       "│ ---        ┆ ---             ┆ tamp            ┆ ---             ┆ ---             ┆ ---         │\n",
       "│ str        ┆ str             ┆ ---             ┆ str             ┆ str             ┆ f64         │\n",
       "│            ┆                 ┆ str             ┆                 ┆                 ┆             │\n",
       "╞════════════╪═════════════════╪═════════════════╪═════════════════╪═════════════════╪═════════════╡\n",
       "│ count      ┆ 1017            ┆ 1017            ┆ 1017            ┆ 1017            ┆ 1017.0      │\n",
       "│ null_count ┆ 0               ┆ 0               ┆ 0               ┆ 0               ┆ 0.0         │\n",
       "│ mean       ┆ 2017-01-23      ┆ 2017-01-23      ┆ 2017-01-05      ┆ 17 days,        ┆ 1074.956119 │\n",
       "│            ┆ 09:55:02.811209 ┆ 09:55:02.811209 ┆ 11:56:06        ┆ 21:58:56.811209 ┆             │\n",
       "│ std        ┆ null            ┆ null            ┆ null            ┆ null            ┆ 399.262681  │\n",
       "│ min        ┆ 2017-01-05      ┆ 2017-01-05      ┆ 2017-01-05      ┆ 0:00:00         ┆ 0.0         │\n",
       "│            ┆ 11:56:06        ┆ 11:56:06        ┆ 11:56:06        ┆                 ┆             │\n",
       "│ 25%        ┆ 2017-01-19      ┆ 2017-01-19      ┆ 2017-01-05      ┆ 13 days,        ┆ 832.540278  │\n",
       "│            ┆ 08:57:04        ┆ 08:57:04        ┆ 11:56:06        ┆ 21:00:58        ┆             │\n",
       "│ 50%        ┆ 2017-01-25      ┆ 2017-01-25      ┆ 2017-01-05      ┆ 19 days,        ┆ 1173.773611 │\n",
       "│            ┆ 01:26:40        ┆ 01:26:40        ┆ 11:56:06        ┆ 13:30:34        ┆             │\n",
       "│ 75%        ┆ 2017-01-28      ┆ 2017-01-28      ┆ 2017-01-05      ┆ 23 days,        ┆ 1383.410417 │\n",
       "│            ┆ 13:17:57        ┆ 13:17:57        ┆ 11:56:06        ┆ 1:21:51         ┆             │\n",
       "│ max        ┆ 2017-01-31      ┆ 2017-01-31      ┆ 2017-01-05      ┆ 26 days,        ┆ 1589.244444 │\n",
       "│            ┆ 23:37:58        ┆ 23:37:58        ┆ 11:56:06        ┆ 11:41:52        ┆             │\n",
       "└────────────┴─────────────────┴─────────────────┴─────────────────┴─────────────────┴─────────────┘"
      ]
     },
     "execution_count": 147,
     "metadata": {},
     "output_type": "execute_result"
    }
   ],
   "source": [
    "purchased_events_jan = purchased_events.filter(\n",
    "    pl.col(\"timestamp\").dt.year() == 2017,\n",
    "    pl.col(\"timestamp\").dt.month() == 1,\n",
    ")\n",
    "\n",
    "purchased_events_jan = (\n",
    "    purchased_events_jan\n",
    "    .select(\"timestamp\", \"purchased_timestamp\")\n",
    "    .with_columns(min_timestamp=pl.min(\"purchased_timestamp\"))\n",
    "    .with_columns(duration=pl.col(\"timestamp\") - pl.min(\"purchased_timestamp\"))\n",
    "    .with_columns(ttl=pl.col(\"duration\").dt.total_nanoseconds() / 1e9 * 60 / 86400)\n",
    "    .sort(\"ttl\")\n",
    ")\n",
    "\n",
    "purchased_events_jan.describe()"
   ]
  },
  {
   "cell_type": "code",
   "execution_count": 76,
   "id": "17e84a02-ce8c-426e-958d-f2ed74dec0e5",
   "metadata": {},
   "outputs": [
    {
     "name": "stdout",
     "output_type": "stream",
     "text": [
      "0.0\n",
      "0.21805555555555556\n",
      "0.4375\n",
      "0.5430555555555555\n",
      "0.6368055555555556\n",
      "0.7861111111111111\n",
      "2.7375000000000003\n",
      "3.8729166666666663\n",
      "3.969444444444444\n",
      "4.06875\n"
     ]
    }
   ],
   "source": [
    "for event in purchased_events_jan.head(10).to_dicts():\n",
    "    print(event[\"ttl\"])"
   ]
  },
  {
   "cell_type": "code",
   "execution_count": 137,
   "id": "ddca1a99-1e10-4d5e-adae-34e2a33922bb",
   "metadata": {},
   "outputs": [
    {
     "data": {
      "text/html": [
       "<div><style>\n",
       ".dataframe > thead > tr,\n",
       ".dataframe > tbody > tr {\n",
       "  text-align: right;\n",
       "  white-space: pre-wrap;\n",
       "}\n",
       "</style>\n",
       "<small>shape: (1,)</small><table border=\"1\" class=\"dataframe\"><thead><tr><th>ttl</th></tr><tr><td>f64</td></tr></thead><tbody><tr><td>0.0</td></tr></tbody></table></div>"
      ],
      "text/plain": [
       "shape: (1,)\n",
       "Series: 'ttl' [f64]\n",
       "[\n",
       "\t0.0\n",
       "]"
      ]
     },
     "execution_count": 137,
     "metadata": {},
     "output_type": "execute_result"
    }
   ],
   "source": [
    "purchased_events_jan[0][\"ttl\"]"
   ]
  },
  {
   "cell_type": "code",
   "execution_count": 24,
   "id": "e98513f0-11a2-45c2-9305-29938f0f94f5",
   "metadata": {},
   "outputs": [
    {
     "data": {
      "text/html": [
       "<div><style>\n",
       ".dataframe > thead > tr,\n",
       ".dataframe > tbody > tr {\n",
       "  text-align: right;\n",
       "  white-space: pre-wrap;\n",
       "}\n",
       "</style>\n",
       "<small>shape: (99_224, 7)</small><table border=\"1\" class=\"dataframe\"><thead><tr><th>review_id</th><th>order_id</th><th>review_score</th><th>review_comment_title</th><th>review_comment_message</th><th>review_creation_date</th><th>review_answer_timestamp</th></tr><tr><td>str</td><td>str</td><td>i64</td><td>str</td><td>str</td><td>str</td><td>str</td></tr></thead><tbody><tr><td>&quot;7bc2406110b926393aa56f80a40eba40&quot;</td><td>&quot;73fc7af87114b39712e6da79b0a377eb&quot;</td><td>4</td><td>null</td><td>null</td><td>&quot;2018-01-18 00:00:00&quot;</td><td>&quot;2018-01-18 21:46:59&quot;</td></tr><tr><td>&quot;80e641a11e56f04c1ad469d5645fdfde&quot;</td><td>&quot;a548910a1c6147796b98fdf73dbeba33&quot;</td><td>5</td><td>null</td><td>null</td><td>&quot;2018-03-10 00:00:00&quot;</td><td>&quot;2018-03-11 03:05:13&quot;</td></tr><tr><td>&quot;228ce5500dc1d8e020d8d1322874b6f0&quot;</td><td>&quot;f9e4b658b201a9f2ecdecbb34bed034b&quot;</td><td>5</td><td>null</td><td>null</td><td>&quot;2018-02-17 00:00:00&quot;</td><td>&quot;2018-02-18 14:36:24&quot;</td></tr><tr><td>&quot;e64fb393e7b32834bb789ff8bb30750e&quot;</td><td>&quot;658677c97b385a9be170737859d3511b&quot;</td><td>5</td><td>null</td><td>&quot;Recebi bem antes do prazo estipulado.&quot;</td><td>&quot;2017-04-21 00:00:00&quot;</td><td>&quot;2017-04-21 22:02:06&quot;</td></tr><tr><td>&quot;f7c4243c7fe1938f181bec41a392bdeb&quot;</td><td>&quot;8e6bfb81e283fa7e4f11123a3fb894f1&quot;</td><td>5</td><td>null</td><td>&quot;Parabéns lojas lannister adorei comprar pela Internet seguro e prático Parabéns a todos feliz Páscoa&quot;</td><td>&quot;2018-03-01 00:00:00&quot;</td><td>&quot;2018-03-02 10:26:53&quot;</td></tr><tr><td>&hellip;</td><td>&hellip;</td><td>&hellip;</td><td>&hellip;</td><td>&hellip;</td><td>&hellip;</td><td>&hellip;</td></tr><tr><td>&quot;574ed12dd733e5fa530cfd4bbf39d7c9&quot;</td><td>&quot;2a8c23fee101d4d5662fa670396eb8da&quot;</td><td>5</td><td>null</td><td>null</td><td>&quot;2018-07-07 00:00:00&quot;</td><td>&quot;2018-07-14 17:18:30&quot;</td></tr><tr><td>&quot;f3897127253a9592a73be9bdfdf4ed7a&quot;</td><td>&quot;22ec9f0669f784db00fa86d035cf8602&quot;</td><td>5</td><td>null</td><td>null</td><td>&quot;2017-12-09 00:00:00&quot;</td><td>&quot;2017-12-11 20:06:42&quot;</td></tr><tr><td>&quot;b3de70c89b1510c4cd3d0649fd302472&quot;</td><td>&quot;55d4004744368f5571d1f590031933e4&quot;</td><td>5</td><td>null</td><td>&quot;Excelente mochila, entrega super rápida. Super recomendo essa loja!&quot;</td><td>&quot;2018-03-22 00:00:00&quot;</td><td>&quot;2018-03-23 09:10:43&quot;</td></tr><tr><td>&quot;1adeb9d84d72fe4e337617733eb85149&quot;</td><td>&quot;7725825d039fc1f0ceb7635e3f7d9206&quot;</td><td>4</td><td>null</td><td>null</td><td>&quot;2018-07-01 00:00:00&quot;</td><td>&quot;2018-07-02 12:59:13&quot;</td></tr><tr><td>&quot;efe49f1d6f951dd88b51e6ccd4cc548f&quot;</td><td>&quot;90531360ecb1eec2a1fbb265a0db0508&quot;</td><td>1</td><td>null</td><td>&quot;meu produto chegou e ja tenho que devolver, pois está com defeito , não segurar carga&quot;</td><td>&quot;2017-07-03 00:00:00&quot;</td><td>&quot;2017-07-03 21:01:49&quot;</td></tr></tbody></table></div>"
      ],
      "text/plain": [
       "shape: (99_224, 7)\n",
       "┌──────────────┬─────────────┬─────────────┬─────────────┬─────────────┬─────────────┬─────────────┐\n",
       "│ review_id    ┆ order_id    ┆ review_scor ┆ review_comm ┆ review_comm ┆ review_crea ┆ review_answ │\n",
       "│ ---          ┆ ---         ┆ e           ┆ ent_title   ┆ ent_message ┆ tion_date   ┆ er_timestam │\n",
       "│ str          ┆ str         ┆ ---         ┆ ---         ┆ ---         ┆ ---         ┆ p           │\n",
       "│              ┆             ┆ i64         ┆ str         ┆ str         ┆ str         ┆ ---         │\n",
       "│              ┆             ┆             ┆             ┆             ┆             ┆ str         │\n",
       "╞══════════════╪═════════════╪═════════════╪═════════════╪═════════════╪═════════════╪═════════════╡\n",
       "│ 7bc2406110b9 ┆ 73fc7af8711 ┆ 4           ┆ null        ┆ null        ┆ 2018-01-18  ┆ 2018-01-18  │\n",
       "│ 26393aa56f80 ┆ 4b39712e6da ┆             ┆             ┆             ┆ 00:00:00    ┆ 21:46:59    │\n",
       "│ a40eba40     ┆ 79b0a377eb  ┆             ┆             ┆             ┆             ┆             │\n",
       "│ 80e641a11e56 ┆ a548910a1c6 ┆ 5           ┆ null        ┆ null        ┆ 2018-03-10  ┆ 2018-03-11  │\n",
       "│ f04c1ad469d5 ┆ 147796b98fd ┆             ┆             ┆             ┆ 00:00:00    ┆ 03:05:13    │\n",
       "│ 645fdfde     ┆ f73dbeba33  ┆             ┆             ┆             ┆             ┆             │\n",
       "│ 228ce5500dc1 ┆ f9e4b658b20 ┆ 5           ┆ null        ┆ null        ┆ 2018-02-17  ┆ 2018-02-18  │\n",
       "│ d8e020d8d132 ┆ 1a9f2ecdecb ┆             ┆             ┆             ┆ 00:00:00    ┆ 14:36:24    │\n",
       "│ 2874b6f0     ┆ b34bed034b  ┆             ┆             ┆             ┆             ┆             │\n",
       "│ e64fb393e7b3 ┆ 658677c97b3 ┆ 5           ┆ null        ┆ Recebi bem  ┆ 2017-04-21  ┆ 2017-04-21  │\n",
       "│ 2834bb789ff8 ┆ 85a9be17073 ┆             ┆             ┆ antes do    ┆ 00:00:00    ┆ 22:02:06    │\n",
       "│ bb30750e     ┆ 7859d3511b  ┆             ┆             ┆ prazo       ┆             ┆             │\n",
       "│              ┆             ┆             ┆             ┆ estipulado. ┆             ┆             │\n",
       "│ f7c4243c7fe1 ┆ 8e6bfb81e28 ┆ 5           ┆ null        ┆ Parabéns    ┆ 2018-03-01  ┆ 2018-03-02  │\n",
       "│ 938f181bec41 ┆ 3fa7e4f1112 ┆             ┆             ┆ lojas       ┆ 00:00:00    ┆ 10:26:53    │\n",
       "│ a392bdeb     ┆ 3a3fb894f1  ┆             ┆             ┆ lannister   ┆             ┆             │\n",
       "│              ┆             ┆             ┆             ┆ adorei      ┆             ┆             │\n",
       "│              ┆             ┆             ┆             ┆ comprar     ┆             ┆             │\n",
       "│              ┆             ┆             ┆             ┆ pela        ┆             ┆             │\n",
       "│              ┆             ┆             ┆             ┆ Internet    ┆             ┆             │\n",
       "│              ┆             ┆             ┆             ┆ seguro e    ┆             ┆             │\n",
       "│              ┆             ┆             ┆             ┆ prático     ┆             ┆             │\n",
       "│              ┆             ┆             ┆             ┆ Parabéns a  ┆             ┆             │\n",
       "│              ┆             ┆             ┆             ┆ todos feliz ┆             ┆             │\n",
       "│              ┆             ┆             ┆             ┆ Páscoa      ┆             ┆             │\n",
       "│ …            ┆ …           ┆ …           ┆ …           ┆ …           ┆ …           ┆ …           │\n",
       "│ 574ed12dd733 ┆ 2a8c23fee10 ┆ 5           ┆ null        ┆ null        ┆ 2018-07-07  ┆ 2018-07-14  │\n",
       "│ e5fa530cfd4b ┆ 1d4d5662fa6 ┆             ┆             ┆             ┆ 00:00:00    ┆ 17:18:30    │\n",
       "│ bf39d7c9     ┆ 70396eb8da  ┆             ┆             ┆             ┆             ┆             │\n",
       "│ f3897127253a ┆ 22ec9f0669f ┆ 5           ┆ null        ┆ null        ┆ 2017-12-09  ┆ 2017-12-11  │\n",
       "│ 9592a73be9bd ┆ 784db00fa86 ┆             ┆             ┆             ┆ 00:00:00    ┆ 20:06:42    │\n",
       "│ fdf4ed7a     ┆ d035cf8602  ┆             ┆             ┆             ┆             ┆             │\n",
       "│ b3de70c89b15 ┆ 55d40047443 ┆ 5           ┆ null        ┆ Excelente   ┆ 2018-03-22  ┆ 2018-03-23  │\n",
       "│ 10c4cd3d0649 ┆ 68f5571d1f5 ┆             ┆             ┆ mochila,    ┆ 00:00:00    ┆ 09:10:43    │\n",
       "│ fd302472     ┆ 90031933e4  ┆             ┆             ┆ entrega     ┆             ┆             │\n",
       "│              ┆             ┆             ┆             ┆ super       ┆             ┆             │\n",
       "│              ┆             ┆             ┆             ┆ rápida.     ┆             ┆             │\n",
       "│              ┆             ┆             ┆             ┆ Super       ┆             ┆             │\n",
       "│              ┆             ┆             ┆             ┆ recomendo   ┆             ┆             │\n",
       "│              ┆             ┆             ┆             ┆ essa loja!  ┆             ┆             │\n",
       "│ 1adeb9d84d72 ┆ 7725825d039 ┆ 4           ┆ null        ┆ null        ┆ 2018-07-01  ┆ 2018-07-02  │\n",
       "│ fe4e33761773 ┆ fc1f0ceb763 ┆             ┆             ┆             ┆ 00:00:00    ┆ 12:59:13    │\n",
       "│ 3eb85149     ┆ 5e3f7d9206  ┆             ┆             ┆             ┆             ┆             │\n",
       "│ efe49f1d6f95 ┆ 90531360ecb ┆ 1           ┆ null        ┆ meu produto ┆ 2017-07-03  ┆ 2017-07-03  │\n",
       "│ 1dd88b51e6cc ┆ 1eec2a1fbb2 ┆             ┆             ┆ chegou e ja ┆ 00:00:00    ┆ 21:01:49    │\n",
       "│ d4cc548f     ┆ 65a0db0508  ┆             ┆             ┆ tenho que   ┆             ┆             │\n",
       "│              ┆             ┆             ┆             ┆ devolver,   ┆             ┆             │\n",
       "│              ┆             ┆             ┆             ┆ pois está   ┆             ┆             │\n",
       "│              ┆             ┆             ┆             ┆ com defeito ┆             ┆             │\n",
       "│              ┆             ┆             ┆             ┆ , não       ┆             ┆             │\n",
       "│              ┆             ┆             ┆             ┆ segurar     ┆             ┆             │\n",
       "│              ┆             ┆             ┆             ┆ carga       ┆             ┆             │\n",
       "└──────────────┴─────────────┴─────────────┴─────────────┴─────────────┴─────────────┴─────────────┘"
      ]
     },
     "execution_count": 24,
     "metadata": {},
     "output_type": "execute_result"
    }
   ],
   "source": [
    "read_table(\"order_reviews\")"
   ]
  },
  {
   "cell_type": "code",
   "execution_count": null,
   "id": "3df8e581-f200-4847-a941-5bbdfd16fd1c",
   "metadata": {},
   "outputs": [],
   "source": [
    "import asyncio\n",
    "\n",
    "async def process_event(event):\n",
    "    await asyncio.sleep(event[\"ttl\"])\n",
    "    print(event[\"ttl\"])\n",
    "\n",
    "async def main():\n",
    "    tasks = [process_event(event) for event in purchased_events_jan.to_dicts()]\n",
    "    await asyncio.gather(*tasks)\n",
    "\n",
    "await main()"
   ]
  },
  {
   "cell_type": "code",
   "execution_count": 5,
   "id": "279d1d85-02b7-43f4-b92c-11418542f0e8",
   "metadata": {},
   "outputs": [],
   "source": [
    "client = get_document()\n",
    "collection = client[\"ecommerce\"][\"order_reviews\"]\n",
    "reviews = collection.find({})"
   ]
  },
  {
   "cell_type": "code",
   "execution_count": 7,
   "id": "1aa3efdc-d0e6-47fa-b85b-2e4880a04c7b",
   "metadata": {},
   "outputs": [
    {
     "data": {
      "text/plain": [
       "149"
      ]
     },
     "execution_count": 7,
     "metadata": {},
     "output_type": "execute_result"
    }
   ],
   "source": [
    "len(list(reviews))"
   ]
  }
 ],
 "metadata": {
  "kernelspec": {
   "display_name": "Python 3 (ipykernel)",
   "language": "python",
   "name": "python3"
  },
  "language_info": {
   "codemirror_mode": {
    "name": "ipython",
    "version": 3
   },
   "file_extension": ".py",
   "mimetype": "text/x-python",
   "name": "python",
   "nbconvert_exporter": "python",
   "pygments_lexer": "ipython3",
   "version": "3.11.9"
  }
 },
 "nbformat": 4,
 "nbformat_minor": 5
}
