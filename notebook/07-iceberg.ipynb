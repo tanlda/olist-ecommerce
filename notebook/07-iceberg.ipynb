{
 "cells": [
  {
   "cell_type": "code",
   "execution_count": 1,
   "id": "4ed8e90b-2485-4160-9d6c-15a5153a2f04",
   "metadata": {},
   "outputs": [],
   "source": [
    "%run utils.ipynb\n",
    "\n",
    "import requests"
   ]
  },
  {
   "cell_type": "code",
   "execution_count": 3,
   "id": "0bdba69a-8693-4308-961e-93d476bec861",
   "metadata": {},
   "outputs": [
    {
     "data": {
      "text/plain": [
       "{'namespaces': [['ecommerce']]}"
      ]
     },
     "execution_count": 3,
     "metadata": {},
     "output_type": "execute_result"
    }
   ],
   "source": [
    "response = requests.get(\"http://iceberg.io/v1/namespaces\")\n",
    "response.json()"
   ]
  },
  {
   "cell_type": "code",
   "execution_count": 11,
   "id": "4bc1eff0-5ab9-4f93-8617-8151ac33ba11",
   "metadata": {},
   "outputs": [
    {
     "name": "stdout",
     "output_type": "stream",
     "text": [
      "+--------------------+--------------------+--------------------+--------------------+--------------+\n",
      "|                 _c0|                 _c1|                 _c2|                 _c3|           _c4|\n",
      "+--------------------+--------------------+--------------------+--------------------+--------------+\n",
      "|         customer_id|  customer_unique_id|customer_zip_code...|       customer_city|customer_state|\n",
      "|06b8999e2fba1a1fb...|861eff4711a542e4b...|               14409|              franca|            SP|\n",
      "|18955e83d337fd6b2...|290c77bc529b7ac93...|               09790|sao bernardo do c...|            SP|\n",
      "|4e7b3e00288586ebd...|060e732b5b29e8181...|               01151|           sao paulo|            SP|\n",
      "|b2b6027bc5c5109e5...|259dac757896d24d7...|               08775|     mogi das cruzes|            SP|\n",
      "+--------------------+--------------------+--------------------+--------------------+--------------+\n",
      "only showing top 5 rows\n",
      "\n"
     ]
    }
   ],
   "source": [
    "spark = get_spark(catalog=\"iceberg\", storage=\"storage.io\")\n",
    "object_name = f\"s3a://ecommerce/raw/customers.csv\"\n",
    "df = spark.read.csv(object_name)\n",
    "df.show(5)"
   ]
  },
  {
   "cell_type": "code",
   "execution_count": 12,
   "id": "370761ed-79ff-459d-93a7-96632b299f64",
   "metadata": {},
   "outputs": [],
   "source": [
    "df.writeTo(\"iceberg.ecommerce.customers\") \\\n",
    "    .option(\"write.parquet.compression-codec\", \"snappy\") \\\n",
    "    .createOrReplace()"
   ]
  },
  {
   "cell_type": "code",
   "execution_count": 13,
   "id": "e1567558-2ac6-43a0-a4ba-44823941a899",
   "metadata": {},
   "outputs": [
    {
     "data": {
      "text/plain": [
       "{'namespaces': [['ecommerce']]}"
      ]
     },
     "execution_count": 13,
     "metadata": {},
     "output_type": "execute_result"
    }
   ],
   "source": [
    "response = requests.get(\"http://iceberg.io/v1/namespaces\")\n",
    "response.json()"
   ]
  },
  {
   "cell_type": "code",
   "execution_count": 7,
   "id": "b0597625-2cac-4d0f-9d71-85b5ea3bda9a",
   "metadata": {},
   "outputs": [
    {
     "data": {
      "text/plain": [
       "{'identifiers': [{'namespace': ['ecommerce'], 'name': 'customers'}]}"
      ]
     },
     "execution_count": 7,
     "metadata": {},
     "output_type": "execute_result"
    }
   ],
   "source": [
    "response = requests.get(\"http://iceberg.io/v1/namespaces/ecommerce/tables\")\n",
    "response.json()"
   ]
  },
  {
   "cell_type": "code",
   "execution_count": 14,
   "id": "6625a2c4-fb79-4a54-b59b-993755ccee38",
   "metadata": {},
   "outputs": [
    {
     "name": "stdout",
     "output_type": "stream",
     "text": [
      "+---------+---------+-----------+\n",
      "|namespace|tableName|isTemporary|\n",
      "+---------+---------+-----------+\n",
      "|ecommerce|customers|      false|\n",
      "+---------+---------+-----------+\n",
      "\n"
     ]
    }
   ],
   "source": [
    "spark.sql(\"show tables from iceberg.ecommerce\").show()"
   ]
  },
  {
   "cell_type": "code",
   "execution_count": 16,
   "id": "48eb521d-c522-4b2d-91d6-5cc9d14cfb8c",
   "metadata": {},
   "outputs": [
    {
     "data": {
      "text/plain": [
       "<Response [200]>"
      ]
     },
     "execution_count": 16,
     "metadata": {},
     "output_type": "execute_result"
    }
   ],
   "source": [
    "response = requests.delete(\"http://iceberg.io/v1/namespaces/ecommerce/tables/customers\")\n",
    "response"
   ]
  },
  {
   "cell_type": "code",
   "execution_count": 20,
   "id": "b3b0afb4-5cbd-48c7-9702-ffab9363b10a",
   "metadata": {},
   "outputs": [
    {
     "data": {
      "text/plain": [
       "b''"
      ]
     },
     "execution_count": 20,
     "metadata": {},
     "output_type": "execute_result"
    }
   ],
   "source": [
    "response.content"
   ]
  },
  {
   "cell_type": "code",
   "execution_count": 22,
   "id": "02f08f5d-45cd-4a85-a045-8895df6029f0",
   "metadata": {},
   "outputs": [
    {
     "data": {
      "text/plain": [
       "{'namespaces': []}"
      ]
     },
     "execution_count": 22,
     "metadata": {},
     "output_type": "execute_result"
    }
   ],
   "source": [
    "response = requests.get(\"http://iceberg.io/v1/namespaces\")\n",
    "response.json()"
   ]
  },
  {
   "cell_type": "code",
   "execution_count": 23,
   "id": "8fe0858b-c1e3-4910-96f3-ae845046ac30",
   "metadata": {},
   "outputs": [
    {
     "data": {
      "text/plain": [
       "<Response [404]>"
      ]
     },
     "execution_count": 23,
     "metadata": {},
     "output_type": "execute_result"
    }
   ],
   "source": [
    "response = requests.delete(\"http://iceberg.io/v1/namespaces/ecommerce/tables/customers\")\n",
    "response"
   ]
  },
  {
   "cell_type": "code",
   "execution_count": 31,
   "id": "98fd3562-4854-48a7-b573-00a5b46a2044",
   "metadata": {},
   "outputs": [
    {
     "data": {
      "text/plain": [
       "404"
      ]
     },
     "execution_count": 31,
     "metadata": {},
     "output_type": "execute_result"
    }
   ],
   "source": [
    "response.status_code"
   ]
  },
  {
   "cell_type": "code",
   "execution_count": 33,
   "id": "5630162b-fbd1-4feb-b023-dc6a931e573d",
   "metadata": {},
   "outputs": [
    {
     "data": {
      "text/plain": [
       "{'message': 'Table does not exist: ecommerce.customers',\n",
       " 'type': 'NoSuchTableException',\n",
       " 'code': 404,\n",
       " 'stack': ['org.apache.iceberg.exceptions.NoSuchTableException: Table does not exist: ecommerce.customers',\n",
       "  '\\tat org.apache.iceberg.rest.CatalogHandlers.dropTable(CatalogHandlers.java:257)',\n",
       "  '\\tat org.apache.iceberg.rest.RESTCatalogAdapter.handleRequest(RESTCatalogAdapter.java:364)',\n",
       "  '\\tat org.apache.iceberg.rest.RESTServerCatalogAdapter.handleRequest(RESTServerCatalogAdapter.java:42)',\n",
       "  '\\tat org.apache.iceberg.rest.RESTCatalogAdapter.execute(RESTCatalogAdapter.java:527)',\n",
       "  '\\tat org.apache.iceberg.rest.RESTCatalogServlet.execute(RESTCatalogServlet.java:100)',\n",
       "  '\\tat org.apache.iceberg.rest.RESTCatalogServlet.doDelete(RESTCatalogServlet.java:84)',\n",
       "  '\\tat javax.servlet.http.HttpServlet.service(HttpServlet.java:713)',\n",
       "  '\\tat javax.servlet.http.HttpServlet.service(HttpServlet.java:790)',\n",
       "  '\\tat org.eclipse.jetty.servlet.ServletHolder.handle(ServletHolder.java:799)',\n",
       "  '\\tat org.eclipse.jetty.servlet.ServletHandler.doHandle(ServletHandler.java:554)',\n",
       "  '\\tat org.eclipse.jetty.server.handler.ScopedHandler.handle(ScopedHandler.java:143)',\n",
       "  '\\tat org.eclipse.jetty.server.handler.gzip.GzipHandler.handle(GzipHandler.java:722)',\n",
       "  '\\tat org.eclipse.jetty.server.handler.HandlerWrapper.handle(HandlerWrapper.java:127)',\n",
       "  '\\tat org.eclipse.jetty.server.handler.ScopedHandler.nextHandle(ScopedHandler.java:235)',\n",
       "  '\\tat org.eclipse.jetty.server.handler.ContextHandler.doHandle(ContextHandler.java:1440)',\n",
       "  '\\tat org.eclipse.jetty.server.handler.ScopedHandler.nextScope(ScopedHandler.java:188)',\n",
       "  '\\tat org.eclipse.jetty.servlet.ServletHandler.doScope(ServletHandler.java:505)',\n",
       "  '\\tat org.eclipse.jetty.server.handler.ScopedHandler.nextScope(ScopedHandler.java:186)',\n",
       "  '\\tat org.eclipse.jetty.server.handler.ContextHandler.doScope(ContextHandler.java:1355)',\n",
       "  '\\tat org.eclipse.jetty.server.handler.ScopedHandler.handle(ScopedHandler.java:141)',\n",
       "  '\\tat org.eclipse.jetty.server.handler.HandlerWrapper.handle(HandlerWrapper.java:127)',\n",
       "  '\\tat org.eclipse.jetty.server.Server.handle(Server.java:516)',\n",
       "  '\\tat org.eclipse.jetty.server.HttpChannel.lambda$handle$1(HttpChannel.java:487)',\n",
       "  '\\tat org.eclipse.jetty.server.HttpChannel.dispatch(HttpChannel.java:732)',\n",
       "  '\\tat org.eclipse.jetty.server.HttpChannel.handle(HttpChannel.java:479)',\n",
       "  '\\tat org.eclipse.jetty.server.HttpConnection.onFillable(HttpConnection.java:277)',\n",
       "  '\\tat org.eclipse.jetty.io.AbstractConnection$ReadCallback.succeeded(AbstractConnection.java:311)',\n",
       "  '\\tat org.eclipse.jetty.io.FillInterest.fillable(FillInterest.java:105)',\n",
       "  '\\tat org.eclipse.jetty.io.ChannelEndPoint$1.run(ChannelEndPoint.java:104)',\n",
       "  '\\tat org.eclipse.jetty.util.thread.strategy.EatWhatYouKill.runTask(EatWhatYouKill.java:338)',\n",
       "  '\\tat org.eclipse.jetty.util.thread.strategy.EatWhatYouKill.doProduce(EatWhatYouKill.java:315)',\n",
       "  '\\tat org.eclipse.jetty.util.thread.strategy.EatWhatYouKill.tryProduce(EatWhatYouKill.java:173)',\n",
       "  '\\tat org.eclipse.jetty.util.thread.strategy.EatWhatYouKill.run(EatWhatYouKill.java:131)',\n",
       "  '\\tat org.eclipse.jetty.util.thread.ReservedThreadExecutor$ReservedThread.run(ReservedThreadExecutor.java:409)',\n",
       "  '\\tat org.eclipse.jetty.util.thread.QueuedThreadPool.runJob(QueuedThreadPool.java:883)',\n",
       "  '\\tat org.eclipse.jetty.util.thread.QueuedThreadPool$Runner.run(QueuedThreadPool.java:1034)',\n",
       "  '\\tat java.base/java.lang.Thread.run(Thread.java:840)']}"
      ]
     },
     "execution_count": 33,
     "metadata": {},
     "output_type": "execute_result"
    }
   ],
   "source": [
    "response.json()[\"error\"]"
   ]
  }
 ],
 "metadata": {
  "kernelspec": {
   "display_name": "Python 3 (ipykernel)",
   "language": "python",
   "name": "python3"
  },
  "language_info": {
   "codemirror_mode": {
    "name": "ipython",
    "version": 3
   },
   "file_extension": ".py",
   "mimetype": "text/x-python",
   "name": "python",
   "nbconvert_exporter": "python",
   "pygments_lexer": "ipython3",
   "version": "3.11.9"
  }
 },
 "nbformat": 4,
 "nbformat_minor": 5
}
