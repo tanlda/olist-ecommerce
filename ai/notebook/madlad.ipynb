{
 "cells": [
  {
   "cell_type": "code",
   "execution_count": 2,
   "id": "26eaa20d-5e0a-4ed6-b054-f9fa42c57706",
   "metadata": {},
   "outputs": [
    {
     "data": {
      "text/plain": [
       "True"
      ]
     },
     "execution_count": 2,
     "metadata": {},
     "output_type": "execute_result"
    }
   ],
   "source": [
    "import torch\n",
    "\n",
    "torch.cuda.is_available()"
   ]
  },
  {
   "cell_type": "code",
   "execution_count": 2,
   "id": "9041fa1e-fa2a-43f0-8aee-6b41f5a96c5c",
   "metadata": {},
   "outputs": [],
   "source": [
    "import polars as pl\n",
    "from minio import Minio\n",
    "from datasets import load_dataset\n",
    "from transformers import pipeline, AutoModelForSeq2SeqLM, AutoTokenizer"
   ]
  },
  {
   "cell_type": "code",
   "execution_count": 5,
   "id": "8f3ff90a-c1d2-4778-a4d7-16be8c646dd0",
   "metadata": {},
   "outputs": [
    {
     "data": {
      "text/plain": [
       "T5ForConditionalGeneration(\n",
       "  (shared): Embedding(256000, 1024)\n",
       "  (encoder): T5Stack(\n",
       "    (embed_tokens): Embedding(256000, 1024)\n",
       "    (block): ModuleList(\n",
       "      (0): T5Block(\n",
       "        (layer): ModuleList(\n",
       "          (0): T5LayerSelfAttention(\n",
       "            (SelfAttention): T5Attention(\n",
       "              (q): Linear(in_features=1024, out_features=2048, bias=False)\n",
       "              (k): Linear(in_features=1024, out_features=2048, bias=False)\n",
       "              (v): Linear(in_features=1024, out_features=2048, bias=False)\n",
       "              (o): Linear(in_features=2048, out_features=1024, bias=False)\n",
       "              (relative_attention_bias): Embedding(32, 16)\n",
       "            )\n",
       "            (layer_norm): T5LayerNorm()\n",
       "            (dropout): Dropout(p=0.1, inplace=False)\n",
       "          )\n",
       "          (1): T5LayerFF(\n",
       "            (DenseReluDense): T5DenseGatedActDense(\n",
       "              (wi_0): Linear(in_features=1024, out_features=8192, bias=False)\n",
       "              (wi_1): Linear(in_features=1024, out_features=8192, bias=False)\n",
       "              (wo): Linear(in_features=8192, out_features=1024, bias=False)\n",
       "              (dropout): Dropout(p=0.1, inplace=False)\n",
       "              (act): NewGELUActivation()\n",
       "            )\n",
       "            (layer_norm): T5LayerNorm()\n",
       "            (dropout): Dropout(p=0.1, inplace=False)\n",
       "          )\n",
       "        )\n",
       "      )\n",
       "      (1-31): 31 x T5Block(\n",
       "        (layer): ModuleList(\n",
       "          (0): T5LayerSelfAttention(\n",
       "            (SelfAttention): T5Attention(\n",
       "              (q): Linear(in_features=1024, out_features=2048, bias=False)\n",
       "              (k): Linear(in_features=1024, out_features=2048, bias=False)\n",
       "              (v): Linear(in_features=1024, out_features=2048, bias=False)\n",
       "              (o): Linear(in_features=2048, out_features=1024, bias=False)\n",
       "            )\n",
       "            (layer_norm): T5LayerNorm()\n",
       "            (dropout): Dropout(p=0.1, inplace=False)\n",
       "          )\n",
       "          (1): T5LayerFF(\n",
       "            (DenseReluDense): T5DenseGatedActDense(\n",
       "              (wi_0): Linear(in_features=1024, out_features=8192, bias=False)\n",
       "              (wi_1): Linear(in_features=1024, out_features=8192, bias=False)\n",
       "              (wo): Linear(in_features=8192, out_features=1024, bias=False)\n",
       "              (dropout): Dropout(p=0.1, inplace=False)\n",
       "              (act): NewGELUActivation()\n",
       "            )\n",
       "            (layer_norm): T5LayerNorm()\n",
       "            (dropout): Dropout(p=0.1, inplace=False)\n",
       "          )\n",
       "        )\n",
       "      )\n",
       "    )\n",
       "    (final_layer_norm): T5LayerNorm()\n",
       "    (dropout): Dropout(p=0.1, inplace=False)\n",
       "  )\n",
       "  (decoder): T5Stack(\n",
       "    (embed_tokens): Embedding(256000, 1024)\n",
       "    (block): ModuleList(\n",
       "      (0): T5Block(\n",
       "        (layer): ModuleList(\n",
       "          (0): T5LayerSelfAttention(\n",
       "            (SelfAttention): T5Attention(\n",
       "              (q): Linear(in_features=1024, out_features=2048, bias=False)\n",
       "              (k): Linear(in_features=1024, out_features=2048, bias=False)\n",
       "              (v): Linear(in_features=1024, out_features=2048, bias=False)\n",
       "              (o): Linear(in_features=2048, out_features=1024, bias=False)\n",
       "              (relative_attention_bias): Embedding(32, 16)\n",
       "            )\n",
       "            (layer_norm): T5LayerNorm()\n",
       "            (dropout): Dropout(p=0.1, inplace=False)\n",
       "          )\n",
       "          (1): T5LayerCrossAttention(\n",
       "            (EncDecAttention): T5Attention(\n",
       "              (q): Linear(in_features=1024, out_features=2048, bias=False)\n",
       "              (k): Linear(in_features=1024, out_features=2048, bias=False)\n",
       "              (v): Linear(in_features=1024, out_features=2048, bias=False)\n",
       "              (o): Linear(in_features=2048, out_features=1024, bias=False)\n",
       "            )\n",
       "            (layer_norm): T5LayerNorm()\n",
       "            (dropout): Dropout(p=0.1, inplace=False)\n",
       "          )\n",
       "          (2): T5LayerFF(\n",
       "            (DenseReluDense): T5DenseGatedActDense(\n",
       "              (wi_0): Linear(in_features=1024, out_features=8192, bias=False)\n",
       "              (wi_1): Linear(in_features=1024, out_features=8192, bias=False)\n",
       "              (wo): Linear(in_features=8192, out_features=1024, bias=False)\n",
       "              (dropout): Dropout(p=0.1, inplace=False)\n",
       "              (act): NewGELUActivation()\n",
       "            )\n",
       "            (layer_norm): T5LayerNorm()\n",
       "            (dropout): Dropout(p=0.1, inplace=False)\n",
       "          )\n",
       "        )\n",
       "      )\n",
       "      (1-31): 31 x T5Block(\n",
       "        (layer): ModuleList(\n",
       "          (0): T5LayerSelfAttention(\n",
       "            (SelfAttention): T5Attention(\n",
       "              (q): Linear(in_features=1024, out_features=2048, bias=False)\n",
       "              (k): Linear(in_features=1024, out_features=2048, bias=False)\n",
       "              (v): Linear(in_features=1024, out_features=2048, bias=False)\n",
       "              (o): Linear(in_features=2048, out_features=1024, bias=False)\n",
       "            )\n",
       "            (layer_norm): T5LayerNorm()\n",
       "            (dropout): Dropout(p=0.1, inplace=False)\n",
       "          )\n",
       "          (1): T5LayerCrossAttention(\n",
       "            (EncDecAttention): T5Attention(\n",
       "              (q): Linear(in_features=1024, out_features=2048, bias=False)\n",
       "              (k): Linear(in_features=1024, out_features=2048, bias=False)\n",
       "              (v): Linear(in_features=1024, out_features=2048, bias=False)\n",
       "              (o): Linear(in_features=2048, out_features=1024, bias=False)\n",
       "            )\n",
       "            (layer_norm): T5LayerNorm()\n",
       "            (dropout): Dropout(p=0.1, inplace=False)\n",
       "          )\n",
       "          (2): T5LayerFF(\n",
       "            (DenseReluDense): T5DenseGatedActDense(\n",
       "              (wi_0): Linear(in_features=1024, out_features=8192, bias=False)\n",
       "              (wi_1): Linear(in_features=1024, out_features=8192, bias=False)\n",
       "              (wo): Linear(in_features=8192, out_features=1024, bias=False)\n",
       "              (dropout): Dropout(p=0.1, inplace=False)\n",
       "              (act): NewGELUActivation()\n",
       "            )\n",
       "            (layer_norm): T5LayerNorm()\n",
       "            (dropout): Dropout(p=0.1, inplace=False)\n",
       "          )\n",
       "        )\n",
       "      )\n",
       "    )\n",
       "    (final_layer_norm): T5LayerNorm()\n",
       "    (dropout): Dropout(p=0.1, inplace=False)\n",
       "  )\n",
       "  (lm_head): Linear(in_features=1024, out_features=256000, bias=False)\n",
       ")"
      ]
     },
     "execution_count": 5,
     "metadata": {},
     "output_type": "execute_result"
    }
   ],
   "source": [
    "model_name = \"google/madlad400-3b-mt\"\n",
    "\n",
    "tokenizer = AutoTokenizer.from_pretrained(model_name)\n",
    "\n",
    "model = AutoModelForSeq2SeqLM.from_pretrained(model_name).to(\"cuda\")\n",
    "\n",
    "model"
   ]
  },
  {
   "cell_type": "code",
   "execution_count": 1,
   "id": "928db11f-0b08-4f9e-a5cc-401be4fccace",
   "metadata": {},
   "outputs": [],
   "source": [
    "import polars as pl\n",
    "from minio import Minio\n",
    "from datasets import load_dataset\n",
    "from transformers import pipeline, AutoModelForSeq2SeqLM, AutoTokenizer"
   ]
  },
  {
   "cell_type": "code",
   "execution_count": 2,
   "id": "480bad34-ebe6-49b4-a092-60dbd323007f",
   "metadata": {},
   "outputs": [
    {
     "data": {
      "text/plain": [
       "<transformers.pipelines.text2text_generation.TranslationPipeline at 0x7229b31627f0>"
      ]
     },
     "execution_count": 2,
     "metadata": {},
     "output_type": "execute_result"
    }
   ],
   "source": [
    "from transformers import pipeline\n",
    "\n",
    "task = \"translation\"\n",
    "\n",
    "model_name = \"google/madlad400-3b-mt\"\n",
    "\n",
    "translator = pipeline(task, model=model_name, max_length=1024, device=\"cuda\")\n",
    "\n",
    "translator"
   ]
  },
  {
   "cell_type": "code",
   "execution_count": 3,
   "id": "43f4416e-4516-4b1a-9c7c-a12ce2247bc1",
   "metadata": {},
   "outputs": [
    {
     "data": {
      "text/plain": [
       "[{'translation_text': 'The purchase was made easily. The delivery was made well before the deadline given.The product has already begun to be used and to the present, without problems.'}]"
      ]
     },
     "execution_count": 3,
     "metadata": {},
     "output_type": "execute_result"
    }
   ],
   "source": [
    "translator(\"<2en> A compra foi realizada facilmente. A entrega foi efetuada muito antes do prazo dado. O produto já começou a ser usado e até o presente, sem problemas.\")"
   ]
  },
  {
   "cell_type": "code",
   "execution_count": 5,
   "id": "970c2e5d-a3f7-4e27-815f-8828c142535a",
   "metadata": {},
   "outputs": [
    {
     "data": {
      "text/plain": [
       "IterableDatasetDict({\n",
       "    train: IterableDataset({\n",
       "        features: Unknown,\n",
       "        n_shards: 1\n",
       "    })\n",
       "})"
      ]
     },
     "execution_count": 5,
     "metadata": {},
     "output_type": "execute_result"
    }
   ],
   "source": [
    "client = Minio(endpoint=\"storage.io\", access_key=\"admin\", secret_key=\"password\", secure=False)\n",
    "\n",
    "response = client.get_object(\"ecommerce\", \"raw/order_reviews.csv\")\n",
    "\n",
    "df = pl.read_csv(response.read())\n",
    "\n",
    "df.head(200).write_csv(\"/tmp/order_reviews.head.csv\")\n",
    "\n",
    "dataset = load_dataset(\"csv\", data_files=\"/tmp/order_reviews.head.csv\", streaming=True)\n",
    "\n",
    "dataset"
   ]
  },
  {
   "cell_type": "code",
   "execution_count": 6,
   "id": "faed7365-857f-4de5-aeff-f3f54333cb13",
   "metadata": {},
   "outputs": [],
   "source": [
    "def translate(row):\n",
    "    title = row[\"review_comment_title\"]\n",
    "    message = row[\"review_comment_message\"]\n",
    "\n",
    "    prompt = \"<2en> {text}\"\n",
    "    translated_title = title and translator(prompt.format(text=title))[0][\"translation_text\"]\n",
    "    translated_message = message and translator(prompt.format(text=message))[0][\"translation_text\"]\n",
    "\n",
    "    row[\"translated_review_comment_title\"] = translated_title\n",
    "    row[\"translated_review_comment_message\"] = translated_message\n",
    "\n",
    "    return row"
   ]
  },
  {
   "cell_type": "code",
   "execution_count": 7,
   "id": "01e3f87a-6a3f-4916-b5e6-2ed1e0efd70c",
   "metadata": {},
   "outputs": [
    {
     "data": {
      "text/plain": [
       "IterableDataset({\n",
       "    features: Unknown,\n",
       "    n_shards: 1\n",
       "})"
      ]
     },
     "execution_count": 7,
     "metadata": {},
     "output_type": "execute_result"
    }
   ],
   "source": [
    "translated_dataset = dataset[\"train\"].map(translate)\n",
    "\n",
    "translated_dataset"
   ]
  }
 ],
 "metadata": {
  "kernelspec": {
   "display_name": "Python 3 (ipykernel)",
   "language": "python",
   "name": "python3"
  },
  "language_info": {
   "codemirror_mode": {
    "name": "ipython",
    "version": 3
   },
   "file_extension": ".py",
   "mimetype": "text/x-python",
   "name": "python",
   "nbconvert_exporter": "python",
   "pygments_lexer": "ipython3",
   "version": "3.8.10"
  }
 },
 "nbformat": 4,
 "nbformat_minor": 5
}
