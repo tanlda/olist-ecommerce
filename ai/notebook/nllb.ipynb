{
 "cells": [
  {
   "cell_type": "code",
   "execution_count": 1,
   "id": "680211ec-086a-46f9-b8a4-f948c959c89f",
   "metadata": {},
   "outputs": [],
   "source": [
    "import polars as pl\n",
    "from minio import Minio\n",
    "from datasets import load_dataset\n",
    "from transformers import pipeline, AutoModelForSeq2SeqLM, AutoTokenizer"
   ]
  },
  {
   "cell_type": "code",
   "execution_count": 2,
   "id": "195397c2-533c-4883-960d-d925439ba1aa",
   "metadata": {},
   "outputs": [
    {
     "data": {
      "text/plain": [
       "M2M100ForConditionalGeneration(\n",
       "  (model): M2M100Model(\n",
       "    (shared): M2M100ScaledWordEmbedding(256206, 1024, padding_idx=1)\n",
       "    (encoder): M2M100Encoder(\n",
       "      (embed_tokens): M2M100ScaledWordEmbedding(256206, 1024, padding_idx=1)\n",
       "      (embed_positions): M2M100SinusoidalPositionalEmbedding()\n",
       "      (layers): ModuleList(\n",
       "        (0-11): 12 x M2M100EncoderLayer(\n",
       "          (self_attn): M2M100Attention(\n",
       "            (k_proj): Linear(in_features=1024, out_features=1024, bias=True)\n",
       "            (v_proj): Linear(in_features=1024, out_features=1024, bias=True)\n",
       "            (q_proj): Linear(in_features=1024, out_features=1024, bias=True)\n",
       "            (out_proj): Linear(in_features=1024, out_features=1024, bias=True)\n",
       "          )\n",
       "          (self_attn_layer_norm): LayerNorm((1024,), eps=1e-05, elementwise_affine=True)\n",
       "          (activation_fn): ReLU()\n",
       "          (fc1): Linear(in_features=1024, out_features=4096, bias=True)\n",
       "          (fc2): Linear(in_features=4096, out_features=1024, bias=True)\n",
       "          (final_layer_norm): LayerNorm((1024,), eps=1e-05, elementwise_affine=True)\n",
       "        )\n",
       "      )\n",
       "      (layer_norm): LayerNorm((1024,), eps=1e-05, elementwise_affine=True)\n",
       "    )\n",
       "    (decoder): M2M100Decoder(\n",
       "      (embed_tokens): M2M100ScaledWordEmbedding(256206, 1024, padding_idx=1)\n",
       "      (embed_positions): M2M100SinusoidalPositionalEmbedding()\n",
       "      (layers): ModuleList(\n",
       "        (0-11): 12 x M2M100DecoderLayer(\n",
       "          (self_attn): M2M100Attention(\n",
       "            (k_proj): Linear(in_features=1024, out_features=1024, bias=True)\n",
       "            (v_proj): Linear(in_features=1024, out_features=1024, bias=True)\n",
       "            (q_proj): Linear(in_features=1024, out_features=1024, bias=True)\n",
       "            (out_proj): Linear(in_features=1024, out_features=1024, bias=True)\n",
       "          )\n",
       "          (activation_fn): ReLU()\n",
       "          (self_attn_layer_norm): LayerNorm((1024,), eps=1e-05, elementwise_affine=True)\n",
       "          (encoder_attn): M2M100Attention(\n",
       "            (k_proj): Linear(in_features=1024, out_features=1024, bias=True)\n",
       "            (v_proj): Linear(in_features=1024, out_features=1024, bias=True)\n",
       "            (q_proj): Linear(in_features=1024, out_features=1024, bias=True)\n",
       "            (out_proj): Linear(in_features=1024, out_features=1024, bias=True)\n",
       "          )\n",
       "          (encoder_attn_layer_norm): LayerNorm((1024,), eps=1e-05, elementwise_affine=True)\n",
       "          (fc1): Linear(in_features=1024, out_features=4096, bias=True)\n",
       "          (fc2): Linear(in_features=4096, out_features=1024, bias=True)\n",
       "          (final_layer_norm): LayerNorm((1024,), eps=1e-05, elementwise_affine=True)\n",
       "        )\n",
       "      )\n",
       "      (layer_norm): LayerNorm((1024,), eps=1e-05, elementwise_affine=True)\n",
       "    )\n",
       "  )\n",
       "  (lm_head): Linear(in_features=1024, out_features=256206, bias=False)\n",
       ")"
      ]
     },
     "execution_count": 2,
     "metadata": {},
     "output_type": "execute_result"
    }
   ],
   "source": [
    "model_name = \"facebook/nllb-200-distilled-600M\"\n",
    "\n",
    "tokenizer = AutoTokenizer.from_pretrained(model_name)\n",
    "\n",
    "model = AutoModelForSeq2SeqLM.from_pretrained(model_name).to(\"cuda\")\n",
    "\n",
    "model"
   ]
  },
  {
   "cell_type": "code",
   "execution_count": 8,
   "id": "a40dc27d-f53d-446d-b838-eff8181bb9a8",
   "metadata": {},
   "outputs": [
    {
     "data": {
      "application/vnd.jupyter.widget-view+json": {
       "model_id": "fbc17b87b100465b83a1d5d60e927f64",
       "version_major": 2,
       "version_minor": 0
      },
      "text/plain": [
       "Generating train split: 0 examples [00:00, ? examples/s]"
      ]
     },
     "metadata": {},
     "output_type": "display_data"
    },
    {
     "data": {
      "text/plain": [
       "DatasetDict({\n",
       "    train: Dataset({\n",
       "        features: ['review_id', 'order_id', 'review_score', 'review_comment_title', 'review_comment_message', 'review_creation_date', 'review_answer_timestamp'],\n",
       "        num_rows: 200\n",
       "    })\n",
       "})"
      ]
     },
     "execution_count": 8,
     "metadata": {},
     "output_type": "execute_result"
    }
   ],
   "source": [
    "client = Minio(endpoint=\"storage.io\", access_key=\"admin\", secret_key=\"password\", secure=False)\n",
    "\n",
    "response = client.get_object(\"ecommerce\", \"raw/order_reviews.csv\")\n",
    "\n",
    "df = pl.read_csv(response.read())\n",
    "\n",
    "df.head(200).write_csv(\"/tmp/order_reviews.head.csv\")\n",
    "\n",
    "dataset = load_dataset(\"csv\", data_files=\"/tmp/order_reviews.head.csv\")\n",
    "\n",
    "dataset"
   ]
  },
  {
   "cell_type": "code",
   "execution_count": 3,
   "id": "d9f8f730-6973-4fa8-b6ca-6c912a2cd770",
   "metadata": {},
   "outputs": [
    {
     "data": {
      "text/plain": [
       "<transformers.pipelines.text2text_generation.TranslationPipeline at 0x71c07549ad00>"
      ]
     },
     "execution_count": 3,
     "metadata": {},
     "output_type": "execute_result"
    }
   ],
   "source": [
    "task = \"translation_pt_to_en\"\n",
    "\n",
    "translator = pipeline(task, model=model, tokenizer=tokenizer, max_new_tokens=2048, device=\"cuda\")\n",
    "\n",
    "translator"
   ]
  },
  {
   "cell_type": "code",
   "execution_count": 4,
   "id": "b485a30f-9d83-44c8-b1ab-74b9933a5a1f",
   "metadata": {},
   "outputs": [
    {
     "data": {
      "text/plain": [
       "[{'translation_text': 'en, a purchase was made easily, a delivery was made long before the deadline, the product was already in use, and up to now, without any problems.'}]"
      ]
     },
     "execution_count": 4,
     "metadata": {},
     "output_type": "execute_result"
    }
   ],
   "source": [
    "translator(\"A compra foi realizada facilmente. A entrega foi efetuada muito antes do prazo dado. O produto já começou a ser usado e até o presente, sem problemas.\")"
   ]
  },
  {
   "cell_type": "code",
   "execution_count": 6,
   "id": "03355a38-d720-4308-ba7a-e49bac25d657",
   "metadata": {},
   "outputs": [],
   "source": [
    "def translate(row):\n",
    "    title = row[\"review_comment_title\"]\n",
    "    message = row[\"review_comment_message\"]\n",
    "\n",
    "    translated_title = title and translator(title)[0][\"translation_text\"]\n",
    "    translated_message = message and translator(message)[0][\"translation_text\"]\n",
    "\n",
    "    row[\"translated_review_comment_title\"] = translated_title\n",
    "    row[\"translated_review_comment_message\"] = translated_message\n",
    "\n",
    "    return row"
   ]
  },
  {
   "cell_type": "code",
   "execution_count": 9,
   "id": "bce3a8e5-5bf0-4c26-b7ad-40ca50f2ef27",
   "metadata": {},
   "outputs": [
    {
     "data": {
      "application/vnd.jupyter.widget-view+json": {
       "model_id": "fa6e33285bb74ff7a8df781c5fdebf4c",
       "version_major": 2,
       "version_minor": 0
      },
      "text/plain": [
       "Map:   0%|          | 0/200 [00:00<?, ? examples/s]"
      ]
     },
     "metadata": {},
     "output_type": "display_data"
    },
    {
     "name": "stderr",
     "output_type": "stream",
     "text": [
      "You seem to be using the pipelines sequentially on GPU. In order to maximize efficiency please use a dataset\n",
      "This is a friendly reminder - the current text generation call will exceed the model's predefined maximum length (1024). Depending on the model, you may observe exceptions, performance degradation, or nothing at all.\n"
     ]
    },
    {
     "data": {
      "text/plain": [
       "Dataset({\n",
       "    features: ['review_id', 'order_id', 'review_score', 'review_comment_title', 'review_comment_message', 'review_creation_date', 'review_answer_timestamp', 'translated_review_comment_title', 'translated_review_comment_message'],\n",
       "    num_rows: 200\n",
       "})"
      ]
     },
     "execution_count": 9,
     "metadata": {},
     "output_type": "execute_result"
    }
   ],
   "source": [
    "translated_dataset = dataset[\"train\"].map(translate)\n",
    "\n",
    "translated_dataset"
   ]
  },
  {
   "cell_type": "code",
   "execution_count": 10,
   "id": "0e03f661-f2eb-46c8-975e-067010a1e0a5",
   "metadata": {},
   "outputs": [
    {
     "data": {
      "text/html": [
       "<div><style>\n",
       ".dataframe > thead > tr,\n",
       ".dataframe > tbody > tr {\n",
       "  text-align: right;\n",
       "  white-space: pre-wrap;\n",
       "}\n",
       "</style>\n",
       "<small>shape: (82, 2)</small><table border=\"1\" class=\"dataframe\"><thead><tr><th>review_comment_message</th><th>translated_review_comment_message</th></tr><tr><td>str</td><td>str</td></tr></thead><tbody><tr><td>&quot;Recebi bem antes do prazo estipulado.&quot;</td><td>&quot;ened before the deadline.&quot;</td></tr><tr><td>&quot;Parabéns lojas lannister adorei comprar pela Internet seguro e prático Parabéns a todos feliz Páscoa&quot;</td><td>&quot;enkenkenkenkenkenkenkenkenkenkenkenkenkenkenkenkenkenkenkenkenkenkenkenkenkenkenkenkenkenkenkenkenkenkenkenkenkenkenkenkenkenkenkenkenkenkenkenkenkenkenkenkenkenkenkenkenkenkenkenkenkenkenkenkenkenkenkenkenkenkenkenkenkenkenkenkenkenkenkenkenkenkenkenkenkenkenkenkenkenkenkenkenkenkenkenkenkenkenkenkenkenkenkenkenkenkenkenkenkenkenkenkenkenkenkenkenkenkenkenkenkenkenkenkenkenkenkenkenkenkenkenkenkenkenkenkenkenkenkenkenkenkenkenkenkenkenkenkenkenkenkenkenkenkenkenkenkenkenkenkenkenkenkenkenkenkenkenkenkenkenkenkenkenkenkenkenkenkenkenkenkenkenkenkenkenkenkenkenkenkenkenkenkenkenkenkenkenkenkenkenkenkenkenkenkenkenkenkenkenkenkenkenkenkenkenkenkenkenkenkenkenkenkenkenkenkenkenkenkenkenkenkenkenkenkenkenkenkenkenkenkenkenkenkenkenkenkenkenkenkenkenkenkenkenkenkenkenkenkenkenkenkenkenkenkenkenkenkenkenkenkenkenkenkenkenkenkenkenkenkenkenkenkenkenkenkenkenkenkenkenkenkenkenkenkenkenkenkenkenkenkenkenkenkenkenkenkenkenkenkenkenkenkenkenkenkenkenkenkenkenkenkenkenkenkenkenkenkenkenkenkenkenkenkenkenkenkenkenkenkenkenkenkenkenkenkenkenkenkenkenkenkenkenkenkenkenkenkenkenkenkenkenkenkenkenkenkenkenkenkenkenkenkenkenkenkenkenkenkenkenkenkenkenkenkenkenkenkenkenkenkenkenkenkenkenkenkenkenkenkenkenkenkenkenkenkenkenkenkenkenkenkenkenkenkenkenkenkenkenkenkenkenkenkenkenkenkenkenkenkenkenkenkenkenkenkenkenkenkenkenkenkenkenkenkenkenkenkenkenkenkenkenkenkenkenkenkenkenkenkenkenkenkenkenkenkenkenkenkenkenkenkenkenkenkenkenkenkenkenkenkenkenkenkenkenkenkenkenkenkenkenkenkenkenkenkenkenkenkenkenkenkenkenkenkenkenkenkenkenkenkenkenkenkenkenkenkenkenkenkenkenkenkenkenkenkenkenkenkenen&quot;</td></tr><tr><td>&quot;aparelho eficiente. no site a marca do aparelho esta impresso como 3desinfector e ao chegar esta com outro nome...atualizar com a marca correta uma vez que é o mesmo aparelho&quot;</td><td>&quot;enregistrement.no site a marque de l&#x27;appareil est imprimé comme 3desinfector et à la fin est avec un autre nom...atualizer comme une marque correcte étant donné qu&#x27;il est le même appareil.&quot;</td></tr><tr><td>&quot;Mas um pouco ,travando...pelo valor ta Boa.\r\n",
       "&quot;</td><td>&quot;en, travando, pelo valor de Boa. &quot;</td></tr><tr><td>&quot;Vendedor confiável, produto ok e entrega antes do prazo.&quot;</td><td>&quot;en, product ok and delivery before deadline.&quot;</td></tr><tr><td>&hellip;</td><td>&hellip;</td></tr><tr><td>&quot;Faltou 1 produto e os que recebi 1 veio quebrado&quot;</td><td>&quot;en 1 product e os que reciben 1 veio quebrado&quot;</td></tr><tr><td>&quot;chegou dentro do prazo e o produto é de excelente qualidade! Acabou as dores nas costas, estou dormindo muito bem!&quot;</td><td>&quot;en a la fecha y el producto es de excelente calidad! acabo como me duele las costas, estoy durmiendo muy bien!&quot;</td></tr><tr><td>&quot;aqui está descrevendo como entregue só que ate agora não recebi&quot;</td><td>&quot;en: here is describing how to deliver only what eats now don&#x27;t get&quot;</td></tr><tr><td>&quot;Acho que rastreando o produto devia ser melhor e mais preciso, mas no geral foi uma ótima experiência &quot;</td><td>&quot;en, creo que rastrear un producto debería ser mejor y más preciso, pero en general fue una gran experiencia.&quot;</td></tr><tr><td>&quot;Ainda não tive a oportunidade de testar&quot;</td><td>&quot;en, yo no he tenido oportunidad de probar&quot;</td></tr></tbody></table></div>"
      ],
      "text/plain": [
       "shape: (82, 2)\n",
       "┌─────────────────────────────────────────────────┬────────────────────────────────────────────────┐\n",
       "│ review_comment_message                          ┆ translated_review_comment_message              │\n",
       "│ ---                                             ┆ ---                                            │\n",
       "│ str                                             ┆ str                                            │\n",
       "╞═════════════════════════════════════════════════╪════════════════════════════════════════════════╡\n",
       "│ Recebi bem antes do prazo estipulado.           ┆ ened before the deadline.                      │\n",
       "│ Parabéns lojas lannister adorei comprar pela    ┆ enkenkenkenkenkenkenkenkenkenkenkenkenkenkenke │\n",
       "│ Internet seguro e prático Parabéns a todos      ┆ nkenkenkenkenkenkenkenkenkenkenkenkenkenkenken │\n",
       "│ feliz Páscoa                                    ┆ kenkenkenkenkenkenkenkenkenkenkenkenkenkenkenk │\n",
       "│                                                 ┆ enkenkenkenkenkenkenkenkenkenkenkenkenkenkenke │\n",
       "│                                                 ┆ nkenkenkenkenkenkenkenkenkenkenkenkenkenkenken │\n",
       "│                                                 ┆ kenkenkenkenkenkenkenkenkenkenkenkenkenkenkenk │\n",
       "│                                                 ┆ enkenkenkenkenkenkenkenkenkenkenkenkenkenkenke │\n",
       "│                                                 ┆ nkenkenkenkenkenkenkenkenkenkenkenkenkenkenken │\n",
       "│                                                 ┆ kenkenkenkenkenkenkenkenkenkenkenkenkenkenkenk │\n",
       "│                                                 ┆ enkenkenkenkenkenkenkenkenkenkenkenkenkenkenke │\n",
       "│                                                 ┆ nkenkenkenkenkenkenkenkenkenkenkenkenkenkenken │\n",
       "│                                                 ┆ kenkenkenkenkenkenkenkenkenkenkenkenkenkenkenk │\n",
       "│                                                 ┆ enkenkenkenkenkenkenkenkenkenkenkenkenkenkenke │\n",
       "│                                                 ┆ nkenkenkenkenkenkenkenkenkenkenkenkenkenkenken │\n",
       "│                                                 ┆ kenkenkenkenkenkenkenkenkenkenkenkenkenkenkenk │\n",
       "│                                                 ┆ enkenkenkenkenkenkenkenkenkenkenkenkenkenkenke │\n",
       "│                                                 ┆ nkenkenkenkenkenkenkenkenkenkenkenkenkenkenken │\n",
       "│                                                 ┆ kenkenkenkenkenkenkenkenkenkenkenkenkenkenkenk │\n",
       "│                                                 ┆ enkenkenkenkenkenkenkenkenkenkenkenkenkenkenke │\n",
       "│                                                 ┆ nkenkenkenkenkenkenkenkenkenkenkenkenkenkenken │\n",
       "│                                                 ┆ kenkenkenkenkenkenkenkenkenkenkenkenkenkenkenk │\n",
       "│                                                 ┆ enkenkenkenkenkenkenkenkenkenkenkenkenkenkenke │\n",
       "│                                                 ┆ nkenkenkenkenkenkenkenkenkenkenkenkenkenkenken │\n",
       "│                                                 ┆ kenkenkenkenkenkenkenkenkenkenkenkenkenkenkenk │\n",
       "│                                                 ┆ enkenkenkenkenkenkenkenkenkenkenkenkenkenkenke │\n",
       "│                                                 ┆ nkenkenkenkenkenkenkenkenkenkenkenkenkenkenken │\n",
       "│                                                 ┆ kenkenkenkenkenkenkenkenkenkenkenkenkenkenkenk │\n",
       "│                                                 ┆ enkenkenkenkenkenkenkenkenkenkenkenkenkenkenke │\n",
       "│                                                 ┆ nkenkenkenkenkenkenkenkenkenkenkenkenkenkenken │\n",
       "│                                                 ┆ kenkenkenkenkenkenkenkenkenkenkenkenkenkenkenk │\n",
       "│                                                 ┆ enkenkenkenkenkenkenkenkenkenkenkenkenkenkenke │\n",
       "│                                                 ┆ nkenkenkenkenkenkenkenkenkenkenkenkenkenkenken │\n",
       "│                                                 ┆ kenkenkenkenkenkenkenkenkenkenkenkenkenkenkenk │\n",
       "│                                                 ┆ enkenkenkenkenkenkenkenkenkenkenkenkenkenkenke │\n",
       "│                                                 ┆ nkenkenkenkenkenkenkenkenen                    │\n",
       "│ aparelho eficiente. no site a marca do aparelho ┆ enregistrement.no site a marque de l'appareil  │\n",
       "│ esta impresso como 3desinfector e ao chegar     ┆ est imprimé comme 3desinfector et à la fin est │\n",
       "│ esta com outro nome...atualizar com a marca     ┆ avec un autre nom...atualizer comme une marque │\n",
       "│ correta uma vez que é o mesmo aparelho          ┆ correcte étant donné qu'il est le même         │\n",
       "│                                                 ┆ appareil.                                      │\n",
       "│ Mas um pouco ,travando...pelo valor ta Boa.\n",
       "    ┆ en, travando, pelo valor de Boa.               │\n",
       "│                                                 ┆                                                │\n",
       "│ Vendedor confiável, produto ok e entrega antes  ┆ en, product ok and delivery before deadline.   │\n",
       "│ do prazo.                                       ┆                                                │\n",
       "│ …                                               ┆ …                                              │\n",
       "│ Faltou 1 produto e os que recebi 1 veio         ┆ en 1 product e os que reciben 1 veio quebrado  │\n",
       "│ quebrado                                        ┆                                                │\n",
       "│ chegou dentro do prazo e o produto é de         ┆ en a la fecha y el producto es de excelente    │\n",
       "│ excelente qualidade! Acabou as dores nas        ┆ calidad! acabo como me duele las costas, estoy │\n",
       "│ costas, estou dormindo muito bem!               ┆ durmiendo muy bien!                            │\n",
       "│ aqui está descrevendo como entregue só que ate  ┆ en: here is describing how to deliver only     │\n",
       "│ agora não recebi                                ┆ what eats now don't get                        │\n",
       "│ Acho que rastreando o produto devia ser melhor  ┆ en, creo que rastrear un producto debería ser  │\n",
       "│ e mais preciso, mas no geral foi uma ótima      ┆ mejor y más preciso, pero en general fue una   │\n",
       "│ experiência                                     ┆ gran experiencia.                              │\n",
       "│ Ainda não tive a oportunidade de testar         ┆ en, yo no he tenido oportunidad de probar      │\n",
       "└─────────────────────────────────────────────────┴────────────────────────────────────────────────┘"
      ]
     },
     "execution_count": 10,
     "metadata": {},
     "output_type": "execute_result"
    }
   ],
   "source": [
    "pl.Config.set_fmt_str_lengths(2000)\n",
    "\n",
    "tdf = pl.DataFrame(translated_dataset.to_pandas())\n",
    "\n",
    "tdf[[\"review_comment_message\", \"translated_review_comment_message\"]].drop_nulls()"
   ]
  },
  {
   "cell_type": "markdown",
   "id": "baa014f7-0fc9-4c38-9c83-a0878536ae01",
   "metadata": {},
   "source": [
    "### Not production ready"
   ]
  }
 ],
 "metadata": {
  "kernelspec": {
   "display_name": "Python 3 (ipykernel)",
   "language": "python",
   "name": "python3"
  },
  "language_info": {
   "codemirror_mode": {
    "name": "ipython",
    "version": 3
   },
   "file_extension": ".py",
   "mimetype": "text/x-python",
   "name": "python",
   "nbconvert_exporter": "python",
   "pygments_lexer": "ipython3",
   "version": "3.8.10"
  }
 },
 "nbformat": 4,
 "nbformat_minor": 5
}
