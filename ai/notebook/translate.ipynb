{
 "cells": [
  {
   "cell_type": "code",
   "execution_count": 11,
   "id": "8f2bbcc2-31eb-48ca-97d5-da2183c17ecb",
   "metadata": {},
   "outputs": [],
   "source": [
    "from huggingface_hub import InferenceClient\n",
    "\n",
    "client = InferenceClient(model=\"http://translate.ai\")"
   ]
  },
  {
   "cell_type": "code",
   "execution_count": 12,
   "id": "0b39b4fa-1921-419a-86af-a4a97b6ba91d",
   "metadata": {},
   "outputs": [
    {
     "data": {
      "text/plain": [
       "'The purchase was made easily. The delivery was made well before the deadline given.The product has already begun to be used and to the present, without problems.'"
      ]
     },
     "execution_count": 12,
     "metadata": {},
     "output_type": "execute_result"
    }
   ],
   "source": [
    "client.text_generation(prompt=\"<2en> A compra foi realizada facilmente. A entrega foi efetuada muito antes do prazo dado. O produto já começou a ser usado e até o presente, sem problemas.\")"
   ]
  },
  {
   "cell_type": "code",
   "execution_count": 25,
   "id": "7c327d66-24eb-427b-abfc-5fc703845f4c",
   "metadata": {},
   "outputs": [],
   "source": [
    "import polars as pl\n",
    "from minio import Minio"
   ]
  },
  {
   "cell_type": "code",
   "execution_count": 27,
   "id": "7967bc14-93d8-4b69-a011-aaec093d0210",
   "metadata": {},
   "outputs": [
    {
     "data": {
      "text/html": [
       "<div><style>\n",
       ".dataframe > thead > tr,\n",
       ".dataframe > tbody > tr {\n",
       "  text-align: right;\n",
       "  white-space: pre-wrap;\n",
       "}\n",
       "</style>\n",
       "<small>shape: (200, 7)</small><table border=\"1\" class=\"dataframe\"><thead><tr><th>review_id</th><th>order_id</th><th>review_score</th><th>review_comment_title</th><th>review_comment_message</th><th>review_creation_date</th><th>review_answer_timestamp</th></tr><tr><td>str</td><td>str</td><td>i64</td><td>str</td><td>str</td><td>str</td><td>str</td></tr></thead><tbody><tr><td>&quot;7bc2406110b926393aa56f80a40eba…</td><td>&quot;73fc7af87114b39712e6da79b0a377…</td><td>4</td><td>null</td><td>null</td><td>&quot;2018-01-18 00:00:00&quot;</td><td>&quot;2018-01-18 21:46:59&quot;</td></tr><tr><td>&quot;80e641a11e56f04c1ad469d5645fdf…</td><td>&quot;a548910a1c6147796b98fdf73dbeba…</td><td>5</td><td>null</td><td>null</td><td>&quot;2018-03-10 00:00:00&quot;</td><td>&quot;2018-03-11 03:05:13&quot;</td></tr><tr><td>&quot;228ce5500dc1d8e020d8d1322874b6…</td><td>&quot;f9e4b658b201a9f2ecdecbb34bed03…</td><td>5</td><td>null</td><td>null</td><td>&quot;2018-02-17 00:00:00&quot;</td><td>&quot;2018-02-18 14:36:24&quot;</td></tr><tr><td>&quot;e64fb393e7b32834bb789ff8bb3075…</td><td>&quot;658677c97b385a9be170737859d351…</td><td>5</td><td>null</td><td>&quot;Recebi bem antes do prazo esti…</td><td>&quot;2017-04-21 00:00:00&quot;</td><td>&quot;2017-04-21 22:02:06&quot;</td></tr><tr><td>&quot;f7c4243c7fe1938f181bec41a392bd…</td><td>&quot;8e6bfb81e283fa7e4f11123a3fb894…</td><td>5</td><td>null</td><td>&quot;Parabéns lojas lannister adore…</td><td>&quot;2018-03-01 00:00:00&quot;</td><td>&quot;2018-03-02 10:26:53&quot;</td></tr><tr><td>&hellip;</td><td>&hellip;</td><td>&hellip;</td><td>&hellip;</td><td>&hellip;</td><td>&hellip;</td><td>&hellip;</td></tr><tr><td>&quot;2613eaca6e203ad90206bd06e3dc56…</td><td>&quot;75ad3bc2c20ac416220546b2268066…</td><td>5</td><td>null</td><td>null</td><td>&quot;2018-02-23 00:00:00&quot;</td><td>&quot;2018-03-26 18:13:48&quot;</td></tr><tr><td>&quot;5f56971f3f82d508077fc035b7b734…</td><td>&quot;bba3165de0a4f708a3fd065a5365e5…</td><td>3</td><td>null</td><td>null</td><td>&quot;2017-09-06 00:00:00&quot;</td><td>&quot;2017-09-07 11:58:02&quot;</td></tr><tr><td>&quot;06f47dacd0575e592bf6a17e922ce6…</td><td>&quot;82348f1b5f24ac795fa9320e02c495…</td><td>1</td><td>&quot;não recebi ainda&quot;</td><td>&quot;aqui está descrevendo como ent…</td><td>&quot;2018-06-28 00:00:00&quot;</td><td>&quot;2018-06-29 16:34:46&quot;</td></tr><tr><td>&quot;d36219dfadc3a5b07ab66670d23915…</td><td>&quot;22613579f7d11cc59c4347526fc3c7…</td><td>5</td><td>null</td><td>&quot;Acho que rastreando o produto …</td><td>&quot;2016-10-19 00:00:00&quot;</td><td>&quot;2016-10-20 12:40:59&quot;</td></tr><tr><td>&quot;5230dc021b8ce3fe53ed728af873a6…</td><td>&quot;fc850201b579f014488f1cca40aaa0…</td><td>5</td><td>null</td><td>&quot;Ainda não tive a oportunidade …</td><td>&quot;2017-11-23 00:00:00&quot;</td><td>&quot;2017-11-25 16:59:50&quot;</td></tr></tbody></table></div>"
      ],
      "text/plain": [
       "shape: (200, 7)\n",
       "┌──────────────┬─────────────┬─────────────┬─────────────┬─────────────┬─────────────┬─────────────┐\n",
       "│ review_id    ┆ order_id    ┆ review_scor ┆ review_comm ┆ review_comm ┆ review_crea ┆ review_answ │\n",
       "│ ---          ┆ ---         ┆ e           ┆ ent_title   ┆ ent_message ┆ tion_date   ┆ er_timestam │\n",
       "│ str          ┆ str         ┆ ---         ┆ ---         ┆ ---         ┆ ---         ┆ p           │\n",
       "│              ┆             ┆ i64         ┆ str         ┆ str         ┆ str         ┆ ---         │\n",
       "│              ┆             ┆             ┆             ┆             ┆             ┆ str         │\n",
       "╞══════════════╪═════════════╪═════════════╪═════════════╪═════════════╪═════════════╪═════════════╡\n",
       "│ 7bc2406110b9 ┆ 73fc7af8711 ┆ 4           ┆ null        ┆ null        ┆ 2018-01-18  ┆ 2018-01-18  │\n",
       "│ 26393aa56f80 ┆ 4b39712e6da ┆             ┆             ┆             ┆ 00:00:00    ┆ 21:46:59    │\n",
       "│ a40eba…      ┆ 79b0a377…   ┆             ┆             ┆             ┆             ┆             │\n",
       "│ 80e641a11e56 ┆ a548910a1c6 ┆ 5           ┆ null        ┆ null        ┆ 2018-03-10  ┆ 2018-03-11  │\n",
       "│ f04c1ad469d5 ┆ 147796b98fd ┆             ┆             ┆             ┆ 00:00:00    ┆ 03:05:13    │\n",
       "│ 645fdf…      ┆ f73dbeba…   ┆             ┆             ┆             ┆             ┆             │\n",
       "│ 228ce5500dc1 ┆ f9e4b658b20 ┆ 5           ┆ null        ┆ null        ┆ 2018-02-17  ┆ 2018-02-18  │\n",
       "│ d8e020d8d132 ┆ 1a9f2ecdecb ┆             ┆             ┆             ┆ 00:00:00    ┆ 14:36:24    │\n",
       "│ 2874b6…      ┆ b34bed03…   ┆             ┆             ┆             ┆             ┆             │\n",
       "│ e64fb393e7b3 ┆ 658677c97b3 ┆ 5           ┆ null        ┆ Recebi bem  ┆ 2017-04-21  ┆ 2017-04-21  │\n",
       "│ 2834bb789ff8 ┆ 85a9be17073 ┆             ┆             ┆ antes do    ┆ 00:00:00    ┆ 22:02:06    │\n",
       "│ bb3075…      ┆ 7859d351…   ┆             ┆             ┆ prazo esti… ┆             ┆             │\n",
       "│ f7c4243c7fe1 ┆ 8e6bfb81e28 ┆ 5           ┆ null        ┆ Parabéns    ┆ 2018-03-01  ┆ 2018-03-02  │\n",
       "│ 938f181bec41 ┆ 3fa7e4f1112 ┆             ┆             ┆ lojas       ┆ 00:00:00    ┆ 10:26:53    │\n",
       "│ a392bd…      ┆ 3a3fb894…   ┆             ┆             ┆ lannister   ┆             ┆             │\n",
       "│              ┆             ┆             ┆             ┆ adore…      ┆             ┆             │\n",
       "│ …            ┆ …           ┆ …           ┆ …           ┆ …           ┆ …           ┆ …           │\n",
       "│ 2613eaca6e20 ┆ 75ad3bc2c20 ┆ 5           ┆ null        ┆ null        ┆ 2018-02-23  ┆ 2018-03-26  │\n",
       "│ 3ad90206bd06 ┆ ac416220546 ┆             ┆             ┆             ┆ 00:00:00    ┆ 18:13:48    │\n",
       "│ e3dc56…      ┆ b2268066…   ┆             ┆             ┆             ┆             ┆             │\n",
       "│ 5f56971f3f82 ┆ bba3165de0a ┆ 3           ┆ null        ┆ null        ┆ 2017-09-06  ┆ 2017-09-07  │\n",
       "│ d508077fc035 ┆ 4f708a3fd06 ┆             ┆             ┆             ┆ 00:00:00    ┆ 11:58:02    │\n",
       "│ b7b734…      ┆ 5a5365e5…   ┆             ┆             ┆             ┆             ┆             │\n",
       "│ 06f47dacd057 ┆ 82348f1b5f2 ┆ 1           ┆ não recebi  ┆ aqui está   ┆ 2018-06-28  ┆ 2018-06-29  │\n",
       "│ 5e592bf6a17e ┆ 4ac795fa932 ┆             ┆ ainda       ┆ descrevendo ┆ 00:00:00    ┆ 16:34:46    │\n",
       "│ 922ce6…      ┆ 0e02c495…   ┆             ┆             ┆ como ent…   ┆             ┆             │\n",
       "│ d36219dfadc3 ┆ 22613579f7d ┆ 5           ┆ null        ┆ Acho que    ┆ 2016-10-19  ┆ 2016-10-20  │\n",
       "│ a5b07ab66670 ┆ 11cc59c4347 ┆             ┆             ┆ rastreando  ┆ 00:00:00    ┆ 12:40:59    │\n",
       "│ d23915…      ┆ 526fc3c7…   ┆             ┆             ┆ o produto … ┆             ┆             │\n",
       "│ 5230dc021b8c ┆ fc850201b57 ┆ 5           ┆ null        ┆ Ainda não   ┆ 2017-11-23  ┆ 2017-11-25  │\n",
       "│ e3fe53ed728a ┆ 9f014488f1c ┆             ┆             ┆ tive a opor ┆ 00:00:00    ┆ 16:59:50    │\n",
       "│ f873a6…      ┆ ca40aaa0…   ┆             ┆             ┆ tunidade …  ┆             ┆             │\n",
       "└──────────────┴─────────────┴─────────────┴─────────────┴─────────────┴─────────────┴─────────────┘"
      ]
     },
     "execution_count": 27,
     "metadata": {},
     "output_type": "execute_result"
    }
   ],
   "source": [
    "client = Minio(endpoint=\"storage.io\", access_key=\"admin\", secret_key=\"password\", secure=False)\n",
    "\n",
    "response = client.get_object(\"ecommerce\", \"raw/order_reviews.csv\")\n",
    "\n",
    "df = pl.read_csv(response.read())\n",
    "\n",
    "df = df.head(200)\n",
    "\n",
    "df"
   ]
  },
  {
   "cell_type": "code",
   "execution_count": 29,
   "id": "983815f3-0539-4d13-82e4-f5186fe360ae",
   "metadata": {},
   "outputs": [
    {
     "data": {
      "text/html": [
       "<div><style>\n",
       ".dataframe > thead > tr,\n",
       ".dataframe > tbody > tr {\n",
       "  text-align: right;\n",
       "  white-space: pre-wrap;\n",
       "}\n",
       "</style>\n",
       "<small>shape: (200, 9)</small><table border=\"1\" class=\"dataframe\"><thead><tr><th>review_id</th><th>order_id</th><th>review_score</th><th>review_comment_title</th><th>review_comment_message</th><th>review_creation_date</th><th>review_answer_timestamp</th><th>translated_review_comment_title</th><th>translated_review_comment_message</th></tr><tr><td>str</td><td>str</td><td>i64</td><td>str</td><td>str</td><td>str</td><td>str</td><td>str</td><td>str</td></tr></thead><tbody><tr><td>&quot;7bc2406110b926393aa56f80a40eba…</td><td>&quot;73fc7af87114b39712e6da79b0a377…</td><td>4</td><td>null</td><td>null</td><td>&quot;2018-01-18 00:00:00&quot;</td><td>&quot;2018-01-18 21:46:59&quot;</td><td>null</td><td>null</td></tr><tr><td>&quot;80e641a11e56f04c1ad469d5645fdf…</td><td>&quot;a548910a1c6147796b98fdf73dbeba…</td><td>5</td><td>null</td><td>null</td><td>&quot;2018-03-10 00:00:00&quot;</td><td>&quot;2018-03-11 03:05:13&quot;</td><td>null</td><td>null</td></tr><tr><td>&quot;228ce5500dc1d8e020d8d1322874b6…</td><td>&quot;f9e4b658b201a9f2ecdecbb34bed03…</td><td>5</td><td>null</td><td>null</td><td>&quot;2018-02-17 00:00:00&quot;</td><td>&quot;2018-02-18 14:36:24&quot;</td><td>null</td><td>null</td></tr><tr><td>&quot;e64fb393e7b32834bb789ff8bb3075…</td><td>&quot;658677c97b385a9be170737859d351…</td><td>5</td><td>null</td><td>&quot;Recebi bem antes do prazo esti…</td><td>&quot;2017-04-21 00:00:00&quot;</td><td>&quot;2017-04-21 22:02:06&quot;</td><td>null</td><td>&quot;I received well before the dea…</td></tr><tr><td>&quot;f7c4243c7fe1938f181bec41a392bd…</td><td>&quot;8e6bfb81e283fa7e4f11123a3fb894…</td><td>5</td><td>null</td><td>&quot;Parabéns lojas lannister adore…</td><td>&quot;2018-03-01 00:00:00&quot;</td><td>&quot;2018-03-02 10:26:53&quot;</td><td>null</td><td>&quot;Congratulations shops lanniste…</td></tr><tr><td>&hellip;</td><td>&hellip;</td><td>&hellip;</td><td>&hellip;</td><td>&hellip;</td><td>&hellip;</td><td>&hellip;</td><td>&hellip;</td><td>&hellip;</td></tr><tr><td>&quot;2613eaca6e203ad90206bd06e3dc56…</td><td>&quot;75ad3bc2c20ac416220546b2268066…</td><td>5</td><td>null</td><td>null</td><td>&quot;2018-02-23 00:00:00&quot;</td><td>&quot;2018-03-26 18:13:48&quot;</td><td>null</td><td>null</td></tr><tr><td>&quot;5f56971f3f82d508077fc035b7b734…</td><td>&quot;bba3165de0a4f708a3fd065a5365e5…</td><td>3</td><td>null</td><td>null</td><td>&quot;2017-09-06 00:00:00&quot;</td><td>&quot;2017-09-07 11:58:02&quot;</td><td>null</td><td>null</td></tr><tr><td>&quot;06f47dacd0575e592bf6a17e922ce6…</td><td>&quot;82348f1b5f24ac795fa9320e02c495…</td><td>1</td><td>&quot;não recebi ainda&quot;</td><td>&quot;aqui está descrevendo como ent…</td><td>&quot;2018-06-28 00:00:00&quot;</td><td>&quot;2018-06-29 16:34:46&quot;</td><td>&quot;I have not received yet&quot;</td><td>&quot;here is describing as delivere…</td></tr><tr><td>&quot;d36219dfadc3a5b07ab66670d23915…</td><td>&quot;22613579f7d11cc59c4347526fc3c7…</td><td>5</td><td>null</td><td>&quot;Acho que rastreando o produto …</td><td>&quot;2016-10-19 00:00:00&quot;</td><td>&quot;2016-10-20 12:40:59&quot;</td><td>null</td><td>&quot;I think tracking the product s…</td></tr><tr><td>&quot;5230dc021b8ce3fe53ed728af873a6…</td><td>&quot;fc850201b579f014488f1cca40aaa0…</td><td>5</td><td>null</td><td>&quot;Ainda não tive a oportunidade …</td><td>&quot;2017-11-23 00:00:00&quot;</td><td>&quot;2017-11-25 16:59:50&quot;</td><td>null</td><td>&quot;I have not yet had the opportu…</td></tr></tbody></table></div>"
      ],
      "text/plain": [
       "shape: (200, 9)\n",
       "┌───────────┬───────────┬───────────┬───────────┬───┬───────────┬───────────┬───────────┬──────────┐\n",
       "│ review_id ┆ order_id  ┆ review_sc ┆ review_co ┆ … ┆ review_cr ┆ review_an ┆ translate ┆ translat │\n",
       "│ ---       ┆ ---       ┆ ore       ┆ mment_tit ┆   ┆ eation_da ┆ swer_time ┆ d_review_ ┆ ed_revie │\n",
       "│ str       ┆ str       ┆ ---       ┆ le        ┆   ┆ te        ┆ stamp     ┆ comment_t ┆ w_commen │\n",
       "│           ┆           ┆ i64       ┆ ---       ┆   ┆ ---       ┆ ---       ┆ itl…      ┆ t_mess…  │\n",
       "│           ┆           ┆           ┆ str       ┆   ┆ str       ┆ str       ┆ ---       ┆ ---      │\n",
       "│           ┆           ┆           ┆           ┆   ┆           ┆           ┆ str       ┆ str      │\n",
       "╞═══════════╪═══════════╪═══════════╪═══════════╪═══╪═══════════╪═══════════╪═══════════╪══════════╡\n",
       "│ 7bc240611 ┆ 73fc7af87 ┆ 4         ┆ null      ┆ … ┆ 2018-01-1 ┆ 2018-01-1 ┆ null      ┆ null     │\n",
       "│ 0b926393a ┆ 114b39712 ┆           ┆           ┆   ┆ 8         ┆ 8         ┆           ┆          │\n",
       "│ a56f80a40 ┆ e6da79b0a ┆           ┆           ┆   ┆ 00:00:00  ┆ 21:46:59  ┆           ┆          │\n",
       "│ eba…      ┆ 377…      ┆           ┆           ┆   ┆           ┆           ┆           ┆          │\n",
       "│ 80e641a11 ┆ a548910a1 ┆ 5         ┆ null      ┆ … ┆ 2018-03-1 ┆ 2018-03-1 ┆ null      ┆ null     │\n",
       "│ e56f04c1a ┆ c6147796b ┆           ┆           ┆   ┆ 0         ┆ 1         ┆           ┆          │\n",
       "│ d469d5645 ┆ 98fdf73db ┆           ┆           ┆   ┆ 00:00:00  ┆ 03:05:13  ┆           ┆          │\n",
       "│ fdf…      ┆ eba…      ┆           ┆           ┆   ┆           ┆           ┆           ┆          │\n",
       "│ 228ce5500 ┆ f9e4b658b ┆ 5         ┆ null      ┆ … ┆ 2018-02-1 ┆ 2018-02-1 ┆ null      ┆ null     │\n",
       "│ dc1d8e020 ┆ 201a9f2ec ┆           ┆           ┆   ┆ 7         ┆ 8         ┆           ┆          │\n",
       "│ d8d132287 ┆ decbb34be ┆           ┆           ┆   ┆ 00:00:00  ┆ 14:36:24  ┆           ┆          │\n",
       "│ 4b6…      ┆ d03…      ┆           ┆           ┆   ┆           ┆           ┆           ┆          │\n",
       "│ e64fb393e ┆ 658677c97 ┆ 5         ┆ null      ┆ … ┆ 2017-04-2 ┆ 2017-04-2 ┆ null      ┆ I        │\n",
       "│ 7b32834bb ┆ b385a9be1 ┆           ┆           ┆   ┆ 1         ┆ 1         ┆           ┆ received │\n",
       "│ 789ff8bb3 ┆ 70737859d ┆           ┆           ┆   ┆ 00:00:00  ┆ 22:02:06  ┆           ┆ well     │\n",
       "│ 075…      ┆ 351…      ┆           ┆           ┆   ┆           ┆           ┆           ┆ before   │\n",
       "│           ┆           ┆           ┆           ┆   ┆           ┆           ┆           ┆ the dea… │\n",
       "│ f7c4243c7 ┆ 8e6bfb81e ┆ 5         ┆ null      ┆ … ┆ 2018-03-0 ┆ 2018-03-0 ┆ null      ┆ Congratu │\n",
       "│ fe1938f18 ┆ 283fa7e4f ┆           ┆           ┆   ┆ 1         ┆ 2         ┆           ┆ lations  │\n",
       "│ 1bec41a39 ┆ 11123a3fb ┆           ┆           ┆   ┆ 00:00:00  ┆ 10:26:53  ┆           ┆ shops    │\n",
       "│ 2bd…      ┆ 894…      ┆           ┆           ┆   ┆           ┆           ┆           ┆ lanniste │\n",
       "│           ┆           ┆           ┆           ┆   ┆           ┆           ┆           ┆ …        │\n",
       "│ …         ┆ …         ┆ …         ┆ …         ┆ … ┆ …         ┆ …         ┆ …         ┆ …        │\n",
       "│ 2613eaca6 ┆ 75ad3bc2c ┆ 5         ┆ null      ┆ … ┆ 2018-02-2 ┆ 2018-03-2 ┆ null      ┆ null     │\n",
       "│ e203ad902 ┆ 20ac41622 ┆           ┆           ┆   ┆ 3         ┆ 6         ┆           ┆          │\n",
       "│ 06bd06e3d ┆ 0546b2268 ┆           ┆           ┆   ┆ 00:00:00  ┆ 18:13:48  ┆           ┆          │\n",
       "│ c56…      ┆ 066…      ┆           ┆           ┆   ┆           ┆           ┆           ┆          │\n",
       "│ 5f56971f3 ┆ bba3165de ┆ 3         ┆ null      ┆ … ┆ 2017-09-0 ┆ 2017-09-0 ┆ null      ┆ null     │\n",
       "│ f82d50807 ┆ 0a4f708a3 ┆           ┆           ┆   ┆ 6         ┆ 7         ┆           ┆          │\n",
       "│ 7fc035b7b ┆ fd065a536 ┆           ┆           ┆   ┆ 00:00:00  ┆ 11:58:02  ┆           ┆          │\n",
       "│ 734…      ┆ 5e5…      ┆           ┆           ┆   ┆           ┆           ┆           ┆          │\n",
       "│ 06f47dacd ┆ 82348f1b5 ┆ 1         ┆ não       ┆ … ┆ 2018-06-2 ┆ 2018-06-2 ┆ I have    ┆ here is  │\n",
       "│ 0575e592b ┆ f24ac795f ┆           ┆ recebi    ┆   ┆ 8         ┆ 9         ┆ not       ┆ describi │\n",
       "│ f6a17e922 ┆ a9320e02c ┆           ┆ ainda     ┆   ┆ 00:00:00  ┆ 16:34:46  ┆ received  ┆ ng as    │\n",
       "│ ce6…      ┆ 495…      ┆           ┆           ┆   ┆           ┆           ┆ yet       ┆ delivere │\n",
       "│           ┆           ┆           ┆           ┆   ┆           ┆           ┆           ┆ …        │\n",
       "│ d36219dfa ┆ 22613579f ┆ 5         ┆ null      ┆ … ┆ 2016-10-1 ┆ 2016-10-2 ┆ null      ┆ I think  │\n",
       "│ dc3a5b07a ┆ 7d11cc59c ┆           ┆           ┆   ┆ 9         ┆ 0         ┆           ┆ tracking │\n",
       "│ b66670d23 ┆ 4347526fc ┆           ┆           ┆   ┆ 00:00:00  ┆ 12:40:59  ┆           ┆ the      │\n",
       "│ 915…      ┆ 3c7…      ┆           ┆           ┆   ┆           ┆           ┆           ┆ product  │\n",
       "│           ┆           ┆           ┆           ┆   ┆           ┆           ┆           ┆ s…       │\n",
       "│ 5230dc021 ┆ fc850201b ┆ 5         ┆ null      ┆ … ┆ 2017-11-2 ┆ 2017-11-2 ┆ null      ┆ I have   │\n",
       "│ b8ce3fe53 ┆ 579f01448 ┆           ┆           ┆   ┆ 3         ┆ 5         ┆           ┆ not yet  │\n",
       "│ ed728af87 ┆ 8f1cca40a ┆           ┆           ┆   ┆ 00:00:00  ┆ 16:59:50  ┆           ┆ had the  │\n",
       "│ 3a6…      ┆ aa0…      ┆           ┆           ┆   ┆           ┆           ┆           ┆ opportu… │\n",
       "└───────────┴───────────┴───────────┴───────────┴───┴───────────┴───────────┴───────────┴──────────┘"
      ]
     },
     "execution_count": 29,
     "metadata": {},
     "output_type": "execute_result"
    }
   ],
   "source": [
    "from huggingface_hub import InferenceClient\n",
    "\n",
    "inference = InferenceClient(model=\"http://translate.ai\")\n",
    "\n",
    "def translate(text: str):\n",
    "    if text:\n",
    "        prompt = \"<2en> {text}\"\n",
    "        return inference.text_generation(prompt=prompt.format(text=text))\n",
    "    return text\n",
    "\n",
    "tdf = df.with_columns(\n",
    "    translated_review_comment_title=pl.col(\"review_comment_title\").map_elements(translate, return_dtype=str),\n",
    "    translated_review_comment_message=pl.col(\"review_comment_message\").map_elements(translate, return_dtype=str),\n",
    ")\n",
    "\n",
    "tdf"
   ]
  },
  {
   "cell_type": "code",
   "execution_count": 34,
   "id": "b289426b-5057-4616-ae0e-18c2ec3ec8d1",
   "metadata": {},
   "outputs": [
    {
     "data": {
      "text/html": [
       "<div><style>\n",
       ".dataframe > thead > tr,\n",
       ".dataframe > tbody > tr {\n",
       "  text-align: right;\n",
       "  white-space: pre-wrap;\n",
       "}\n",
       "</style>\n",
       "<small>shape: (24, 2)</small><table border=\"1\" class=\"dataframe\"><thead><tr><th>review_comment_title</th><th>translated_review_comment_title</th></tr><tr><td>str</td><td>str</td></tr></thead><tbody><tr><td>&quot;recomendo&quot;</td><td>&quot;I recommend&quot;</td></tr><tr><td>&quot;Super recomendo&quot;</td><td>&quot;Super I recommend&quot;</td></tr><tr><td>&quot;Não chegou meu produto &quot;</td><td>&quot;My product has not arrived&quot;</td></tr><tr><td>&quot;Ótimo&quot;</td><td>&quot;Excellent&quot;</td></tr><tr><td>&quot;Muito bom.&quot;</td><td>&quot;Very good.&quot;</td></tr><tr><td>&hellip;</td><td>&hellip;</td></tr><tr><td>&quot;prazo entrega&quot;</td><td>&quot;delivery time&quot;</td></tr><tr><td>&quot;Super produto &quot;</td><td>&quot;Super Product &quot;</td></tr><tr><td>&quot;falta de produto e quebra&quot;</td><td>&quot;lack of product and break&quot;</td></tr><tr><td>&quot;super recomendo&quot;</td><td>&quot;super I recommend&quot;</td></tr><tr><td>&quot;não recebi ainda&quot;</td><td>&quot;I have not received yet&quot;</td></tr></tbody></table></div>"
      ],
      "text/plain": [
       "shape: (24, 2)\n",
       "┌───────────────────────────┬─────────────────────────────────┐\n",
       "│ review_comment_title      ┆ translated_review_comment_title │\n",
       "│ ---                       ┆ ---                             │\n",
       "│ str                       ┆ str                             │\n",
       "╞═══════════════════════════╪═════════════════════════════════╡\n",
       "│ recomendo                 ┆ I recommend                     │\n",
       "│ Super recomendo           ┆ Super I recommend               │\n",
       "│ Não chegou meu produto    ┆ My product has not arrived      │\n",
       "│ Ótimo                     ┆ Excellent                       │\n",
       "│ Muito bom.                ┆ Very good.                      │\n",
       "│ …                         ┆ …                               │\n",
       "│ prazo entrega             ┆ delivery time                   │\n",
       "│ Super produto             ┆ Super Product                   │\n",
       "│ falta de produto e quebra ┆ lack of product and break       │\n",
       "│ super recomendo           ┆ super I recommend               │\n",
       "│ não recebi ainda          ┆ I have not received yet         │\n",
       "└───────────────────────────┴─────────────────────────────────┘"
      ]
     },
     "execution_count": 34,
     "metadata": {},
     "output_type": "execute_result"
    }
   ],
   "source": [
    "pl.Config.set_fmt_str_lengths(2000)\n",
    "tdf[[\"review_comment_title\", \"translated_review_comment_title\"]].drop_nulls()"
   ]
  },
  {
   "cell_type": "code",
   "execution_count": 36,
   "id": "659540c3-0882-41db-a522-f05d3179e44c",
   "metadata": {},
   "outputs": [
    {
     "data": {
      "text/html": [
       "<div><style>\n",
       ".dataframe > thead > tr,\n",
       ".dataframe > tbody > tr {\n",
       "  text-align: right;\n",
       "  white-space: pre-wrap;\n",
       "}\n",
       "</style>\n",
       "<small>shape: (82, 2)</small><table border=\"1\" class=\"dataframe\"><thead><tr><th>review_comment_message</th><th>translated_review_comment_message</th></tr><tr><td>str</td><td>str</td></tr></thead><tbody><tr><td>&quot;Recebi bem antes do prazo estipulado.&quot;</td><td>&quot;I received well before the deadline.&quot;</td></tr><tr><td>&quot;Parabéns lojas lannister adorei comprar pela Internet seguro e prático Parabéns a todos feliz Páscoa&quot;</td><td>&quot;Congratulations shops lannister loved buying on the Internet safe and practical Congratulations to all happy Easter&quot;</td></tr><tr><td>&quot;aparelho eficiente. no site a marca do aparelho esta impresso como 3desinfector e ao chegar esta com outro nome...atualizar com a marca correta uma vez que é o mesmo aparelho&quot;</td><td>&quot;on the website the brand of the device is printed as 3desinfector and when it arrives it is with another name... update with the correct brand since it is the same device&quot;</td></tr><tr><td>&quot;Mas um pouco ,travando...pelo valor ta Boa.\r\n",
       "&quot;</td><td>&quot;..e o preço ta bom..e o serviço ta bom..rs&quot;</td></tr><tr><td>&quot;Vendedor confiável, produto ok e entrega antes do prazo.&quot;</td><td>&quot;Reliable seller, ok product and delivery before the deadline.&quot;</td></tr><tr><td>&hellip;</td><td>&hellip;</td></tr><tr><td>&quot;Faltou 1 produto e os que recebi 1 veio quebrado&quot;</td><td>&quot;Missing 1 product and those I received 1 came broken&quot;</td></tr><tr><td>&quot;chegou dentro do prazo e o produto é de excelente qualidade! Acabou as dores nas costas, estou dormindo muito bem!&quot;</td><td>&quot;arrived on time and the product is of excellent quality! ended back pain, I am sleeping very well!&quot;</td></tr><tr><td>&quot;aqui está descrevendo como entregue só que ate agora não recebi&quot;</td><td>&quot;here is describing as delivered only that until now I have not received&quot;</td></tr><tr><td>&quot;Acho que rastreando o produto devia ser melhor e mais preciso, mas no geral foi uma ótima experiência &quot;</td><td>&quot;I think tracking the product should be better and more accurate but overall it was a great experience &quot;</td></tr><tr><td>&quot;Ainda não tive a oportunidade de testar&quot;</td><td>&quot;I have not yet had the opportunity to test&quot;</td></tr></tbody></table></div>"
      ],
      "text/plain": [
       "shape: (82, 2)\n",
       "┌─────────────────────────────────────────────────┬────────────────────────────────────────────────┐\n",
       "│ review_comment_message                          ┆ translated_review_comment_message              │\n",
       "│ ---                                             ┆ ---                                            │\n",
       "│ str                                             ┆ str                                            │\n",
       "╞═════════════════════════════════════════════════╪════════════════════════════════════════════════╡\n",
       "│ Recebi bem antes do prazo estipulado.           ┆ I received well before the deadline.           │\n",
       "│ Parabéns lojas lannister adorei comprar pela    ┆ Congratulations shops lannister loved buying   │\n",
       "│ Internet seguro e prático Parabéns a todos      ┆ on the Internet safe and practical             │\n",
       "│ feliz Páscoa                                    ┆ Congratulations to all happy Easter            │\n",
       "│ aparelho eficiente. no site a marca do aparelho ┆ on the website the brand of the device is      │\n",
       "│ esta impresso como 3desinfector e ao chegar     ┆ printed as 3desinfector and when it arrives it │\n",
       "│ esta com outro nome...atualizar com a marca     ┆ is with another name... update with the        │\n",
       "│ correta uma vez que é o mesmo aparelho          ┆ correct brand since it is the same device      │\n",
       "│ Mas um pouco ,travando...pelo valor ta Boa.\n",
       "    ┆ ..e o preço ta bom..e o serviço ta bom..rs     │\n",
       "│                                                 ┆                                                │\n",
       "│ Vendedor confiável, produto ok e entrega antes  ┆ Reliable seller, ok product and delivery       │\n",
       "│ do prazo.                                       ┆ before the deadline.                           │\n",
       "│ …                                               ┆ …                                              │\n",
       "│ Faltou 1 produto e os que recebi 1 veio         ┆ Missing 1 product and those I received 1 came  │\n",
       "│ quebrado                                        ┆ broken                                         │\n",
       "│ chegou dentro do prazo e o produto é de         ┆ arrived on time and the product is of          │\n",
       "│ excelente qualidade! Acabou as dores nas        ┆ excellent quality! ended back pain, I am       │\n",
       "│ costas, estou dormindo muito bem!               ┆ sleeping very well!                            │\n",
       "│ aqui está descrevendo como entregue só que ate  ┆ here is describing as delivered only that      │\n",
       "│ agora não recebi                                ┆ until now I have not received                  │\n",
       "│ Acho que rastreando o produto devia ser melhor  ┆ I think tracking the product should be better  │\n",
       "│ e mais preciso, mas no geral foi uma ótima      ┆ and more accurate but overall it was a great   │\n",
       "│ experiência                                     ┆ experience                                     │\n",
       "│ Ainda não tive a oportunidade de testar         ┆ I have not yet had the opportunity to test     │\n",
       "└─────────────────────────────────────────────────┴────────────────────────────────────────────────┘"
      ]
     },
     "execution_count": 36,
     "metadata": {},
     "output_type": "execute_result"
    }
   ],
   "source": [
    "pl.Config.set_fmt_str_lengths(2000)\n",
    "tdf[[\"review_comment_message\", \"translated_review_comment_title\"]].drop_nulls()"
   ]
  },
  {
   "cell_type": "code",
   "execution_count": 37,
   "id": "a41ad029-b142-433f-b6c3-303d0271414c",
   "metadata": {},
   "outputs": [
    {
     "data": {
      "text/html": [
       "<div><style>\n",
       ".dataframe > thead > tr,\n",
       ".dataframe > tbody > tr {\n",
       "  text-align: right;\n",
       "  white-space: pre-wrap;\n",
       "}\n",
       "</style>\n",
       "<small>shape: (99_224, 7)</small><table border=\"1\" class=\"dataframe\"><thead><tr><th>review_id</th><th>order_id</th><th>review_score</th><th>review_comment_title</th><th>review_comment_message</th><th>review_creation_date</th><th>review_answer_timestamp</th></tr><tr><td>str</td><td>str</td><td>i64</td><td>str</td><td>str</td><td>str</td><td>str</td></tr></thead><tbody><tr><td>&quot;7bc2406110b926393aa56f80a40eba40&quot;</td><td>&quot;73fc7af87114b39712e6da79b0a377eb&quot;</td><td>4</td><td>null</td><td>null</td><td>&quot;2018-01-18 00:00:00&quot;</td><td>&quot;2018-01-18 21:46:59&quot;</td></tr><tr><td>&quot;80e641a11e56f04c1ad469d5645fdfde&quot;</td><td>&quot;a548910a1c6147796b98fdf73dbeba33&quot;</td><td>5</td><td>null</td><td>null</td><td>&quot;2018-03-10 00:00:00&quot;</td><td>&quot;2018-03-11 03:05:13&quot;</td></tr><tr><td>&quot;228ce5500dc1d8e020d8d1322874b6f0&quot;</td><td>&quot;f9e4b658b201a9f2ecdecbb34bed034b&quot;</td><td>5</td><td>null</td><td>null</td><td>&quot;2018-02-17 00:00:00&quot;</td><td>&quot;2018-02-18 14:36:24&quot;</td></tr><tr><td>&quot;e64fb393e7b32834bb789ff8bb30750e&quot;</td><td>&quot;658677c97b385a9be170737859d3511b&quot;</td><td>5</td><td>null</td><td>&quot;Recebi bem antes do prazo estipulado.&quot;</td><td>&quot;2017-04-21 00:00:00&quot;</td><td>&quot;2017-04-21 22:02:06&quot;</td></tr><tr><td>&quot;f7c4243c7fe1938f181bec41a392bdeb&quot;</td><td>&quot;8e6bfb81e283fa7e4f11123a3fb894f1&quot;</td><td>5</td><td>null</td><td>&quot;Parabéns lojas lannister adorei comprar pela Internet seguro e prático Parabéns a todos feliz Páscoa&quot;</td><td>&quot;2018-03-01 00:00:00&quot;</td><td>&quot;2018-03-02 10:26:53&quot;</td></tr><tr><td>&hellip;</td><td>&hellip;</td><td>&hellip;</td><td>&hellip;</td><td>&hellip;</td><td>&hellip;</td><td>&hellip;</td></tr><tr><td>&quot;574ed12dd733e5fa530cfd4bbf39d7c9&quot;</td><td>&quot;2a8c23fee101d4d5662fa670396eb8da&quot;</td><td>5</td><td>null</td><td>null</td><td>&quot;2018-07-07 00:00:00&quot;</td><td>&quot;2018-07-14 17:18:30&quot;</td></tr><tr><td>&quot;f3897127253a9592a73be9bdfdf4ed7a&quot;</td><td>&quot;22ec9f0669f784db00fa86d035cf8602&quot;</td><td>5</td><td>null</td><td>null</td><td>&quot;2017-12-09 00:00:00&quot;</td><td>&quot;2017-12-11 20:06:42&quot;</td></tr><tr><td>&quot;b3de70c89b1510c4cd3d0649fd302472&quot;</td><td>&quot;55d4004744368f5571d1f590031933e4&quot;</td><td>5</td><td>null</td><td>&quot;Excelente mochila, entrega super rápida. Super recomendo essa loja!&quot;</td><td>&quot;2018-03-22 00:00:00&quot;</td><td>&quot;2018-03-23 09:10:43&quot;</td></tr><tr><td>&quot;1adeb9d84d72fe4e337617733eb85149&quot;</td><td>&quot;7725825d039fc1f0ceb7635e3f7d9206&quot;</td><td>4</td><td>null</td><td>null</td><td>&quot;2018-07-01 00:00:00&quot;</td><td>&quot;2018-07-02 12:59:13&quot;</td></tr><tr><td>&quot;efe49f1d6f951dd88b51e6ccd4cc548f&quot;</td><td>&quot;90531360ecb1eec2a1fbb265a0db0508&quot;</td><td>1</td><td>null</td><td>&quot;meu produto chegou e ja tenho que devolver, pois está com defeito , não segurar carga&quot;</td><td>&quot;2017-07-03 00:00:00&quot;</td><td>&quot;2017-07-03 21:01:49&quot;</td></tr></tbody></table></div>"
      ],
      "text/plain": [
       "shape: (99_224, 7)\n",
       "┌──────────────┬─────────────┬─────────────┬─────────────┬─────────────┬─────────────┬─────────────┐\n",
       "│ review_id    ┆ order_id    ┆ review_scor ┆ review_comm ┆ review_comm ┆ review_crea ┆ review_answ │\n",
       "│ ---          ┆ ---         ┆ e           ┆ ent_title   ┆ ent_message ┆ tion_date   ┆ er_timestam │\n",
       "│ str          ┆ str         ┆ ---         ┆ ---         ┆ ---         ┆ ---         ┆ p           │\n",
       "│              ┆             ┆ i64         ┆ str         ┆ str         ┆ str         ┆ ---         │\n",
       "│              ┆             ┆             ┆             ┆             ┆             ┆ str         │\n",
       "╞══════════════╪═════════════╪═════════════╪═════════════╪═════════════╪═════════════╪═════════════╡\n",
       "│ 7bc2406110b9 ┆ 73fc7af8711 ┆ 4           ┆ null        ┆ null        ┆ 2018-01-18  ┆ 2018-01-18  │\n",
       "│ 26393aa56f80 ┆ 4b39712e6da ┆             ┆             ┆             ┆ 00:00:00    ┆ 21:46:59    │\n",
       "│ a40eba40     ┆ 79b0a377eb  ┆             ┆             ┆             ┆             ┆             │\n",
       "│ 80e641a11e56 ┆ a548910a1c6 ┆ 5           ┆ null        ┆ null        ┆ 2018-03-10  ┆ 2018-03-11  │\n",
       "│ f04c1ad469d5 ┆ 147796b98fd ┆             ┆             ┆             ┆ 00:00:00    ┆ 03:05:13    │\n",
       "│ 645fdfde     ┆ f73dbeba33  ┆             ┆             ┆             ┆             ┆             │\n",
       "│ 228ce5500dc1 ┆ f9e4b658b20 ┆ 5           ┆ null        ┆ null        ┆ 2018-02-17  ┆ 2018-02-18  │\n",
       "│ d8e020d8d132 ┆ 1a9f2ecdecb ┆             ┆             ┆             ┆ 00:00:00    ┆ 14:36:24    │\n",
       "│ 2874b6f0     ┆ b34bed034b  ┆             ┆             ┆             ┆             ┆             │\n",
       "│ e64fb393e7b3 ┆ 658677c97b3 ┆ 5           ┆ null        ┆ Recebi bem  ┆ 2017-04-21  ┆ 2017-04-21  │\n",
       "│ 2834bb789ff8 ┆ 85a9be17073 ┆             ┆             ┆ antes do    ┆ 00:00:00    ┆ 22:02:06    │\n",
       "│ bb30750e     ┆ 7859d3511b  ┆             ┆             ┆ prazo       ┆             ┆             │\n",
       "│              ┆             ┆             ┆             ┆ estipulado. ┆             ┆             │\n",
       "│ f7c4243c7fe1 ┆ 8e6bfb81e28 ┆ 5           ┆ null        ┆ Parabéns    ┆ 2018-03-01  ┆ 2018-03-02  │\n",
       "│ 938f181bec41 ┆ 3fa7e4f1112 ┆             ┆             ┆ lojas       ┆ 00:00:00    ┆ 10:26:53    │\n",
       "│ a392bdeb     ┆ 3a3fb894f1  ┆             ┆             ┆ lannister   ┆             ┆             │\n",
       "│              ┆             ┆             ┆             ┆ adorei      ┆             ┆             │\n",
       "│              ┆             ┆             ┆             ┆ comprar     ┆             ┆             │\n",
       "│              ┆             ┆             ┆             ┆ pela        ┆             ┆             │\n",
       "│              ┆             ┆             ┆             ┆ Internet    ┆             ┆             │\n",
       "│              ┆             ┆             ┆             ┆ seguro e    ┆             ┆             │\n",
       "│              ┆             ┆             ┆             ┆ prático     ┆             ┆             │\n",
       "│              ┆             ┆             ┆             ┆ Parabéns a  ┆             ┆             │\n",
       "│              ┆             ┆             ┆             ┆ todos feliz ┆             ┆             │\n",
       "│              ┆             ┆             ┆             ┆ Páscoa      ┆             ┆             │\n",
       "│ …            ┆ …           ┆ …           ┆ …           ┆ …           ┆ …           ┆ …           │\n",
       "│ 574ed12dd733 ┆ 2a8c23fee10 ┆ 5           ┆ null        ┆ null        ┆ 2018-07-07  ┆ 2018-07-14  │\n",
       "│ e5fa530cfd4b ┆ 1d4d5662fa6 ┆             ┆             ┆             ┆ 00:00:00    ┆ 17:18:30    │\n",
       "│ bf39d7c9     ┆ 70396eb8da  ┆             ┆             ┆             ┆             ┆             │\n",
       "│ f3897127253a ┆ 22ec9f0669f ┆ 5           ┆ null        ┆ null        ┆ 2017-12-09  ┆ 2017-12-11  │\n",
       "│ 9592a73be9bd ┆ 784db00fa86 ┆             ┆             ┆             ┆ 00:00:00    ┆ 20:06:42    │\n",
       "│ fdf4ed7a     ┆ d035cf8602  ┆             ┆             ┆             ┆             ┆             │\n",
       "│ b3de70c89b15 ┆ 55d40047443 ┆ 5           ┆ null        ┆ Excelente   ┆ 2018-03-22  ┆ 2018-03-23  │\n",
       "│ 10c4cd3d0649 ┆ 68f5571d1f5 ┆             ┆             ┆ mochila,    ┆ 00:00:00    ┆ 09:10:43    │\n",
       "│ fd302472     ┆ 90031933e4  ┆             ┆             ┆ entrega     ┆             ┆             │\n",
       "│              ┆             ┆             ┆             ┆ super       ┆             ┆             │\n",
       "│              ┆             ┆             ┆             ┆ rápida.     ┆             ┆             │\n",
       "│              ┆             ┆             ┆             ┆ Super       ┆             ┆             │\n",
       "│              ┆             ┆             ┆             ┆ recomendo   ┆             ┆             │\n",
       "│              ┆             ┆             ┆             ┆ essa loja!  ┆             ┆             │\n",
       "│ 1adeb9d84d72 ┆ 7725825d039 ┆ 4           ┆ null        ┆ null        ┆ 2018-07-01  ┆ 2018-07-02  │\n",
       "│ fe4e33761773 ┆ fc1f0ceb763 ┆             ┆             ┆             ┆ 00:00:00    ┆ 12:59:13    │\n",
       "│ 3eb85149     ┆ 5e3f7d9206  ┆             ┆             ┆             ┆             ┆             │\n",
       "│ efe49f1d6f95 ┆ 90531360ecb ┆ 1           ┆ null        ┆ meu produto ┆ 2017-07-03  ┆ 2017-07-03  │\n",
       "│ 1dd88b51e6cc ┆ 1eec2a1fbb2 ┆             ┆             ┆ chegou e ja ┆ 00:00:00    ┆ 21:01:49    │\n",
       "│ d4cc548f     ┆ 65a0db0508  ┆             ┆             ┆ tenho que   ┆             ┆             │\n",
       "│              ┆             ┆             ┆             ┆ devolver,   ┆             ┆             │\n",
       "│              ┆             ┆             ┆             ┆ pois está   ┆             ┆             │\n",
       "│              ┆             ┆             ┆             ┆ com defeito ┆             ┆             │\n",
       "│              ┆             ┆             ┆             ┆ , não       ┆             ┆             │\n",
       "│              ┆             ┆             ┆             ┆ segurar     ┆             ┆             │\n",
       "│              ┆             ┆             ┆             ┆ carga       ┆             ┆             │\n",
       "└──────────────┴─────────────┴─────────────┴─────────────┴─────────────┴─────────────┴─────────────┘"
      ]
     },
     "execution_count": 37,
     "metadata": {},
     "output_type": "execute_result"
    }
   ],
   "source": [
    "client = Minio(endpoint=\"storage.io\", access_key=\"admin\", secret_key=\"password\", secure=False)\n",
    "\n",
    "response = client.get_object(\"ecommerce\", \"raw/order_reviews.csv\")\n",
    "\n",
    "df = pl.read_csv(response.read())\n",
    "\n",
    "df"
   ]
  },
  {
   "cell_type": "code",
   "execution_count": 70,
   "id": "2d869dfb-3aed-4255-9509-a50fbba12f86",
   "metadata": {},
   "outputs": [
    {
     "data": {
      "text/html": [
       "<div><style>\n",
       ".dataframe > thead > tr,\n",
       ".dataframe > tbody > tr {\n",
       "  text-align: right;\n",
       "  white-space: pre-wrap;\n",
       "}\n",
       "</style>\n",
       "<small>shape: (1_413, 7)</small><table border=\"1\" class=\"dataframe\"><thead><tr><th>review_id</th><th>order_id</th><th>review_score</th><th>review_comment_title</th><th>review_comment_message</th><th>review_creation_date</th><th>review_answer_timestamp</th></tr><tr><td>str</td><td>str</td><td>i64</td><td>str</td><td>str</td><td>datetime[μs]</td><td>str</td></tr></thead><tbody><tr><td>&quot;a60dfbe4f5ccf7fb015fd9e3b33930d1&quot;</td><td>&quot;cd383d7a5f926abfe7b2ee1b80078b45&quot;</td><td>5</td><td>null</td><td>null</td><td>2017-02-24 00:00:00</td><td>&quot;2017-04-01 02:29:39&quot;</td></tr><tr><td>&quot;30aadf8886ca1e6aea4a06c0609a62c8&quot;</td><td>&quot;ec0fa4ef7da067eb3a57abd8fc504352&quot;</td><td>4</td><td>null</td><td>&quot;Note 10 store&quot;</td><td>2017-02-17 00:00:00</td><td>&quot;2017-02-20 10:20:25&quot;</td></tr><tr><td>&quot;2d0d80576ee9bbab49cc108d9ec7a0fb&quot;</td><td>&quot;475f773f6c0d909e49b758adb2401e3a&quot;</td><td>1</td><td>null</td><td>&quot;my product came defective, I returned as informado.postado in the mail as indicado.e until today I did not receive any notification from the company as to the return and analysis to have meuressarcimento&quot;</td><td>2017-02-21 00:00:00</td><td>&quot;2017-03-13 22:20:04&quot;</td></tr><tr><td>&quot;dbd06e3177ccd26a3c617b5155a1d5c8&quot;</td><td>&quot;aaefff6521e66b3e5c88bb2c93b9bc72&quot;</td><td>5</td><td>null</td><td>null</td><td>2017-02-25 00:00:00</td><td>&quot;2017-02-27 12:14:17&quot;</td></tr><tr><td>&quot;11c3e9036551ef3649c3c781f9d24e1d&quot;</td><td>&quot;fdc45e6c7555e6cb3cc0daca2557dbe1&quot;</td><td>5</td><td>null</td><td>null</td><td>2017-02-23 00:00:00</td><td>&quot;2017-02-25 15:03:21&quot;</td></tr><tr><td>&hellip;</td><td>&hellip;</td><td>&hellip;</td><td>&hellip;</td><td>&hellip;</td><td>&hellip;</td><td>&hellip;</td></tr><tr><td>&quot;1d9e8c03a67a1ce420ba69600964a51c&quot;</td><td>&quot;8c98ea8f168f55d7c590b90e0e3ae53a&quot;</td><td>5</td><td>null</td><td>null</td><td>2017-02-14 00:00:00</td><td>&quot;2017-02-16 03:09:18&quot;</td></tr><tr><td>&quot;ecda151fca6c4703cfe66d0c96b3e6d0&quot;</td><td>&quot;c5d58ec8e7e7184d9a9d42b75ffa002d&quot;</td><td>5</td><td>null</td><td>&quot;Shop better only in Irineu, you do not know even me&quot;</td><td>2017-02-21 00:00:00</td><td>&quot;2017-02-22 01:43:41&quot;</td></tr><tr><td>&quot;b40ae02f2a4cb64ba171841971c3e0dc&quot;</td><td>&quot;74e641936ca794c33828b911b8907257&quot;</td><td>5</td><td>null</td><td>null</td><td>2017-02-22 00:00:00</td><td>&quot;2017-02-23 03:55:45&quot;</td></tr><tr><td>&quot;4543c0d73bad742d9a0a7392b90f6924&quot;</td><td>&quot;6f7626222f2b324b580e36eb22d8bb8e&quot;</td><td>5</td><td>null</td><td>null</td><td>2017-02-07 00:00:00</td><td>&quot;2017-02-07 18:17:25&quot;</td></tr><tr><td>&quot;2d63075ea39da3d2772ac263935cbcea&quot;</td><td>&quot;ec95bda03fcd25491f6e0142ef318ee8&quot;</td><td>4</td><td>null</td><td>&quot;Very good quality product!&quot;</td><td>2017-02-23 00:00:00</td><td>&quot;2017-02-24 13:55:07&quot;</td></tr></tbody></table></div>"
      ],
      "text/plain": [
       "shape: (1_413, 7)\n",
       "┌──────────────┬─────────────┬─────────────┬─────────────┬─────────────┬─────────────┬─────────────┐\n",
       "│ review_id    ┆ order_id    ┆ review_scor ┆ review_comm ┆ review_comm ┆ review_crea ┆ review_answ │\n",
       "│ ---          ┆ ---         ┆ e           ┆ ent_title   ┆ ent_message ┆ tion_date   ┆ er_timestam │\n",
       "│ str          ┆ str         ┆ ---         ┆ ---         ┆ ---         ┆ ---         ┆ p           │\n",
       "│              ┆             ┆ i64         ┆ str         ┆ str         ┆ datetime[μs ┆ ---         │\n",
       "│              ┆             ┆             ┆             ┆             ┆ ]           ┆ str         │\n",
       "╞══════════════╪═════════════╪═════════════╪═════════════╪═════════════╪═════════════╪═════════════╡\n",
       "│ a60dfbe4f5cc ┆ cd383d7a5f9 ┆ 5           ┆ null        ┆ null        ┆ 2017-02-24  ┆ 2017-04-01  │\n",
       "│ f7fb015fd9e3 ┆ 26abfe7b2ee ┆             ┆             ┆             ┆ 00:00:00    ┆ 02:29:39    │\n",
       "│ b33930d1     ┆ 1b80078b45  ┆             ┆             ┆             ┆             ┆             │\n",
       "│ 30aadf8886ca ┆ ec0fa4ef7da ┆ 4           ┆ null        ┆ Note 10     ┆ 2017-02-17  ┆ 2017-02-20  │\n",
       "│ 1e6aea4a06c0 ┆ 067eb3a57ab ┆             ┆             ┆ store       ┆ 00:00:00    ┆ 10:20:25    │\n",
       "│ 609a62c8     ┆ d8fc504352  ┆             ┆             ┆             ┆             ┆             │\n",
       "│ 2d0d80576ee9 ┆ 475f773f6c0 ┆ 1           ┆ null        ┆ my product  ┆ 2017-02-21  ┆ 2017-03-13  │\n",
       "│ bbab49cc108d ┆ d909e49b758 ┆             ┆             ┆ came        ┆ 00:00:00    ┆ 22:20:04    │\n",
       "│ 9ec7a0fb     ┆ adb2401e3a  ┆             ┆             ┆ defective,  ┆             ┆             │\n",
       "│              ┆             ┆             ┆             ┆ I returned  ┆             ┆             │\n",
       "│              ┆             ┆             ┆             ┆ as informad ┆             ┆             │\n",
       "│              ┆             ┆             ┆             ┆ o.postado   ┆             ┆             │\n",
       "│              ┆             ┆             ┆             ┆ in the mail ┆             ┆             │\n",
       "│              ┆             ┆             ┆             ┆ as          ┆             ┆             │\n",
       "│              ┆             ┆             ┆             ┆ indicado.e  ┆             ┆             │\n",
       "│              ┆             ┆             ┆             ┆ until today ┆             ┆             │\n",
       "│              ┆             ┆             ┆             ┆ I did not   ┆             ┆             │\n",
       "│              ┆             ┆             ┆             ┆ receive any ┆             ┆             │\n",
       "│              ┆             ┆             ┆             ┆ notificatio ┆             ┆             │\n",
       "│              ┆             ┆             ┆             ┆ n from the  ┆             ┆             │\n",
       "│              ┆             ┆             ┆             ┆ company as  ┆             ┆             │\n",
       "│              ┆             ┆             ┆             ┆ to the      ┆             ┆             │\n",
       "│              ┆             ┆             ┆             ┆ return and  ┆             ┆             │\n",
       "│              ┆             ┆             ┆             ┆ analysis to ┆             ┆             │\n",
       "│              ┆             ┆             ┆             ┆ have meures ┆             ┆             │\n",
       "│              ┆             ┆             ┆             ┆ sarcimento  ┆             ┆             │\n",
       "│ dbd06e3177cc ┆ aaefff6521e ┆ 5           ┆ null        ┆ null        ┆ 2017-02-25  ┆ 2017-02-27  │\n",
       "│ d26a3c617b51 ┆ 66b3e5c88bb ┆             ┆             ┆             ┆ 00:00:00    ┆ 12:14:17    │\n",
       "│ 55a1d5c8     ┆ 2c93b9bc72  ┆             ┆             ┆             ┆             ┆             │\n",
       "│ 11c3e9036551 ┆ fdc45e6c755 ┆ 5           ┆ null        ┆ null        ┆ 2017-02-23  ┆ 2017-02-25  │\n",
       "│ ef3649c3c781 ┆ 5e6cb3cc0da ┆             ┆             ┆             ┆ 00:00:00    ┆ 15:03:21    │\n",
       "│ f9d24e1d     ┆ ca2557dbe1  ┆             ┆             ┆             ┆             ┆             │\n",
       "│ …            ┆ …           ┆ …           ┆ …           ┆ …           ┆ …           ┆ …           │\n",
       "│ 1d9e8c03a67a ┆ 8c98ea8f168 ┆ 5           ┆ null        ┆ null        ┆ 2017-02-14  ┆ 2017-02-16  │\n",
       "│ 1ce420ba6960 ┆ f55d7c590b9 ┆             ┆             ┆             ┆ 00:00:00    ┆ 03:09:18    │\n",
       "│ 0964a51c     ┆ 0e0e3ae53a  ┆             ┆             ┆             ┆             ┆             │\n",
       "│ ecda151fca6c ┆ c5d58ec8e7e ┆ 5           ┆ null        ┆ Shop better ┆ 2017-02-21  ┆ 2017-02-22  │\n",
       "│ 4703cfe66d0c ┆ 7184d9a9d42 ┆             ┆             ┆ only in     ┆ 00:00:00    ┆ 01:43:41    │\n",
       "│ 96b3e6d0     ┆ b75ffa002d  ┆             ┆             ┆ Irineu, you ┆             ┆             │\n",
       "│              ┆             ┆             ┆             ┆ do not know ┆             ┆             │\n",
       "│              ┆             ┆             ┆             ┆ even me     ┆             ┆             │\n",
       "│ b40ae02f2a4c ┆ 74e641936ca ┆ 5           ┆ null        ┆ null        ┆ 2017-02-22  ┆ 2017-02-23  │\n",
       "│ b64ba1718419 ┆ 794c33828b9 ┆             ┆             ┆             ┆ 00:00:00    ┆ 03:55:45    │\n",
       "│ 71c3e0dc     ┆ 11b8907257  ┆             ┆             ┆             ┆             ┆             │\n",
       "│ 4543c0d73bad ┆ 6f7626222f2 ┆ 5           ┆ null        ┆ null        ┆ 2017-02-07  ┆ 2017-02-07  │\n",
       "│ 742d9a0a7392 ┆ b324b580e36 ┆             ┆             ┆             ┆ 00:00:00    ┆ 18:17:25    │\n",
       "│ b90f6924     ┆ eb22d8bb8e  ┆             ┆             ┆             ┆             ┆             │\n",
       "│ 2d63075ea39d ┆ ec95bda03fc ┆ 4           ┆ null        ┆ Very good   ┆ 2017-02-23  ┆ 2017-02-24  │\n",
       "│ a3d2772ac263 ┆ d25491f6e01 ┆             ┆             ┆ quality     ┆ 00:00:00    ┆ 13:55:07    │\n",
       "│ 935cbcea     ┆ 42ef318ee8  ┆             ┆             ┆ product!    ┆             ┆             │\n",
       "└──────────────┴─────────────┴─────────────┴─────────────┴─────────────┴─────────────┴─────────────┘"
      ]
     },
     "execution_count": 70,
     "metadata": {},
     "output_type": "execute_result"
    }
   ],
   "source": [
    "resp = client.get_object(\"ecommerce\", \"translated/order_reviews.2017-02.parquet\")\n",
    "df_ = pl.read_parquet(resp.read())\n",
    "df_"
   ]
  },
  {
   "cell_type": "code",
   "execution_count": 71,
   "id": "587134db-4b6a-443d-9acc-31b94f7e561a",
   "metadata": {},
   "outputs": [
    {
     "name": "stdout",
     "output_type": "stream",
     "text": [
      "shape: (592, 2)\n",
      "┌──────────────────────┬───────────────────────────────────────────────────────────────────────────┐\n",
      "│ review_comment_title ┆ review_comment_message                                                    │\n",
      "│ ---                  ┆ ---                                                                       │\n",
      "│ str                  ┆ str                                                                       │\n",
      "╞══════════════════════╪═══════════════════════════════════════════════════════════════════════════╡\n",
      "│ null                 ┆ Note 10 store                                                             │\n",
      "│ null                 ┆ my product came defective, I returned as informado.postado in the mail as │\n",
      "│                      ┆ indicado.e until today I did not receive any notification from the        │\n",
      "│                      ┆ company as to the return and analysis to have meuressarcimento            │\n",
      "│ null                 ┆ I highly recommend!                                                       │\n",
      "│ null                 ┆ Perfect delivery, even before the deadline. product in perfect condition  │\n",
      "│                      ┆ and great quality.                                                        │\n",
      "│ null                 ┆ I thought the deflector was a large plate, but are 3 small pieces, which  │\n",
      "│                      ┆ fit into each other. honestly did not like because in the market there is │\n",
      "│                      ┆ option of one piece, more beautiful and with better design.               │\n",
      "│ …                    ┆ …                                                                         │\n",
      "│ null                 ┆ I purchased two units, however, I received only one. I sent an email to   │\n",
      "│                      ┆ stark reporting the fact and until now I have not received any kind of    │\n",
      "│                      ┆ clarification.                                                            │\n",
      "│ null                 ┆ Very good product!                                                        │\n",
      "│ null                 ┆ ....................Obrigada!Obrigada!Obrigada!Obrigada!Obrigada!Obrigada │\n",
      "│                      ┆ !Obrigada!Obrigada!Obrigada!Obrigada!Obrigada!Obrigada!Obrigada!Obrigada! │\n",
      "│                      ┆ Obrigada!Obrigada!Obrigada!Obrigada                                       │\n",
      "│ null                 ┆ Shop better only in Irineu, you do not know even me                       │\n",
      "│ null                 ┆ Very good quality product!                                                │\n",
      "└──────────────────────┴───────────────────────────────────────────────────────────────────────────┘\n"
     ]
    }
   ],
   "source": [
    "print(df_.select(\"review_comment_title\", \"review_comment_message\").drop_nulls(\"review_comment_message\"))"
   ]
  }
 ],
 "metadata": {
  "kernelspec": {
   "display_name": "Python 3 (ipykernel)",
   "language": "python",
   "name": "python3"
  },
  "language_info": {
   "codemirror_mode": {
    "name": "ipython",
    "version": 3
   },
   "file_extension": ".py",
   "mimetype": "text/x-python",
   "name": "python",
   "nbconvert_exporter": "python",
   "pygments_lexer": "ipython3",
   "version": "3.8.10"
  }
 },
 "nbformat": 4,
 "nbformat_minor": 5
}
