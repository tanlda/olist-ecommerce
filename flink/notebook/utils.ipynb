{
 "cells": [
  {
   "cell_type": "code",
   "execution_count": 7,
   "id": "b204e792-f6e2-4599-ad3d-30ae36c1c908",
   "metadata": {},
   "outputs": [],
   "source": [
    "import polars as pl\n",
    "\n",
    "from trino.dbapi import connect\n",
    "\n",
    "def get_trino(catalog: str, schema: str = \"public\"):\n",
    "    connection = connect(host=\"trino.sql\", port=80, user=\"admin\", catalog=catalog, schema=schema)\n",
    "    return connection"
   ]
  }
 ],
 "metadata": {
  "kernelspec": {
   "display_name": "Python 3 (ipykernel)",
   "language": "python",
   "name": "python3"
  },
  "language_info": {
   "codemirror_mode": {
    "name": "ipython",
    "version": 3
   },
   "file_extension": ".py",
   "mimetype": "text/x-python",
   "name": "python",
   "nbconvert_exporter": "python",
   "pygments_lexer": "ipython3",
   "version": "3.10.12"
  }
 },
 "nbformat": 4,
 "nbformat_minor": 5
}
